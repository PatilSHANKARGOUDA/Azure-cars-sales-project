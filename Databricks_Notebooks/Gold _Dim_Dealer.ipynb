{
 "cells": [
  {
   "cell_type": "markdown",
   "metadata": {
    "application/vnd.databricks.v1+cell": {
     "cellMetadata": {
      "byteLimit": 2048000,
      "rowLimit": 10000
     },
     "inputWidgets": {},
     "nuid": "1e88c998-d0af-45d0-86a0-2a30b3621121",
     "showTitle": false,
     "tableResultSettingsMap": {},
     "title": ""
    }
   },
   "source": [
    "**Create a flag parameter**\n"
   ]
  },
  {
   "cell_type": "code",
   "execution_count": 0,
   "metadata": {
    "application/vnd.databricks.v1+cell": {
     "cellMetadata": {
      "byteLimit": 2048000,
      "rowLimit": 10000
     },
     "inputWidgets": {},
     "nuid": "dd4c46aa-d215-4dee-9536-b380e209c2be",
     "showTitle": false,
     "tableResultSettingsMap": {},
     "title": ""
    }
   },
   "outputs": [
    {
     "output_type": "stream",
     "name": "stdout",
     "output_type": "stream",
     "text": [
      "0\n"
     ]
    }
   ],
   "source": [
    "dbutils.widgets.text('Incremental_flag', '0')\n",
    "incremental_flag = dbutils.widgets.get('Incremental_flag')\n",
    "print(incremental_flag)"
   ]
  },
  {
   "cell_type": "markdown",
   "metadata": {
    "application/vnd.databricks.v1+cell": {
     "cellMetadata": {},
     "inputWidgets": {},
     "nuid": "cdb4565a-16b3-4b39-b266-12ccbb130470",
     "showTitle": false,
     "tableResultSettingsMap": {},
     "title": ""
    }
   },
   "source": [
    "## Dimension Model "
   ]
  },
  {
   "cell_type": "markdown",
   "metadata": {
    "application/vnd.databricks.v1+cell": {
     "cellMetadata": {},
     "inputWidgets": {},
     "nuid": "3f111dbe-03d3-4215-b4cd-cb69ea52fecb",
     "showTitle": false,
     "tableResultSettingsMap": {},
     "title": ""
    }
   },
   "source": [
    "**Import pyspark libs**"
   ]
  },
  {
   "cell_type": "code",
   "execution_count": 0,
   "metadata": {
    "application/vnd.databricks.v1+cell": {
     "cellMetadata": {
      "byteLimit": 2048000,
      "rowLimit": 10000
     },
     "inputWidgets": {},
     "nuid": "37f37ea1-9ad9-48b5-bea4-1133d2363516",
     "showTitle": false,
     "tableResultSettingsMap": {},
     "title": ""
    }
   },
   "outputs": [],
   "source": [
    "from pyspark.sql.functions import *\n",
    "from pyspark.sql.types import *"
   ]
  },
  {
   "cell_type": "markdown",
   "metadata": {
    "application/vnd.databricks.v1+cell": {
     "cellMetadata": {},
     "inputWidgets": {},
     "nuid": "b6fae5bb-b8dc-4ff0-a742-0aecd2d612af",
     "showTitle": false,
     "tableResultSettingsMap": {},
     "title": ""
    }
   },
   "source": [
    "**Dimension = dim_model**"
   ]
  },
  {
   "cell_type": "code",
   "execution_count": 0,
   "metadata": {
    "application/vnd.databricks.v1+cell": {
     "cellMetadata": {
      "byteLimit": 2048000,
      "implicitDf": true,
      "rowLimit": 10000
     },
     "inputWidgets": {},
     "nuid": "bd7d32da-c82d-496e-86f3-691fe2de9685",
     "showTitle": false,
     "tableResultSettingsMap": {},
     "title": ""
    }
   },
   "outputs": [],
   "source": [
    "df_dim_model_src = spark.sql('''\n",
    "                    SELECT DISTINCT(Dealer_ID) AS Dealer_ID, DealerName\n",
    "                    FROM PARQUET.`abfss://silver@carssalesprojectdl.dfs.core.windows.net/carssales`\n",
    "                     '''\n",
    "                     )"
   ]
  },
  {
   "cell_type": "code",
   "execution_count": 0,
   "metadata": {
    "application/vnd.databricks.v1+cell": {
     "cellMetadata": {
      "byteLimit": 2048000,
      "rowLimit": 10000
     },
     "inputWidgets": {},
     "nuid": "d1e71261-d397-4e0f-9e69-a598f84de6a7",
     "showTitle": false,
     "tableResultSettingsMap": {},
     "title": ""
    }
   },
   "outputs": [
    {
     "output_type": "display_data",
     "data": {
      "text/html": [
       "<style scoped>\n",
       "  .table-result-container {\n",
       "    max-height: 300px;\n",
       "    overflow: auto;\n",
       "  }\n",
       "  table, th, td {\n",
       "    border: 1px solid black;\n",
       "    border-collapse: collapse;\n",
       "  }\n",
       "  th, td {\n",
       "    padding: 5px;\n",
       "  }\n",
       "  th {\n",
       "    text-align: left;\n",
       "  }\n",
       "</style><div class='table-result-container'><table class='table-result'><thead style='background-color: white'><tr><th>Branch_ID</th><th>BranchName</th></tr></thead><tbody><tr><td>BR0131</td><td>Audi Motors</td></tr><tr><td>BR0760</td><td>Healey Motors</td></tr><tr><td>BR0789</td><td>Hillman Motors</td></tr><tr><td>BR0938</td><td>Isotta Fraschini Motors</td></tr><tr><td>BR1040</td><td>Lada Motors</td></tr><tr><td>BR1693</td><td>Saleen Motors</td></tr><tr><td>BR1792</td><td>Simca do Brasil Motors</td></tr><tr><td>BR1799</td><td>Simca do Brasil Motors</td></tr><tr><td>BR1955</td><td>Toyota Motors</td></tr><tr><td>BR1978</td><td>Turner Motors</td></tr><tr><td>BR2068</td><td>Westfield Motors</td></tr><tr><td>BR2332</td><td>Bohn Motor Company Automobile Dealership</td></tr><tr><td>BR0151</td><td>Auto-Union Motors</td></tr><tr><td>BR0409</td><td>DAF Motors</td></tr><tr><td>BR0434</td><td>Datsun Motors</td></tr><tr><td>BR0599</td><td>Fisker, Karma Motors</td></tr><tr><td>BR0753</td><td>Healey Motors</td></tr><tr><td>BR1143</td><td>Mahindra Motors</td></tr><tr><td>BR12246</td><td>Volkswagen South Africa Motors</td></tr><tr><td>BR1233</td><td>McLaren Motors</td></tr><tr><td>BR1558</td><td>Plymouth Motors</td></tr><tr><td>BR1795</td><td>Simca do Brasil Motors</td></tr><tr><td>BR1847</td><td>SsangYong Motors</td></tr><tr><td>BR1943</td><td>Tornado Motors</td></tr><tr><td>BR2054</td><td>Volvo Motors</td></tr><tr><td>BR2063</td><td>Westfield Motors</td></tr><tr><td>BR0019</td><td>Acura Motors</td></tr><tr><td>BR0145</td><td>Autobianchi Motors</td></tr><tr><td>BR0913</td><td>Isdera Motors</td></tr><tr><td>BR1340</td><td>Monteverdi Motors</td></tr><tr><td>BR1630</td><td>Ranger Motors</td></tr><tr><td>BR1865</td><td>Studebaker Motors</td></tr><tr><td>BR2139</td><td>Horch Motors</td></tr><tr><td>BR0274</td><td>Buick Motors</td></tr><tr><td>BR0308</td><td>Caterham Motors</td></tr><tr><td>BR0399</td><td>Daewoo, Saehan, Chevrolet Korea Motors</td></tr><tr><td>BR0471</td><td>De Tomaso Motors</td></tr><tr><td>BR0731</td><td>GTA Spano Motors</td></tr><tr><td>BR0759</td><td>Healey Motors</td></tr><tr><td>BR1383</td><td>Nissan Motors</td></tr><tr><td>BR1664</td><td>Rolls-Royce Motors</td></tr><tr><td>BR1769</td><td>Seat Motors</td></tr><tr><td>BR2262</td><td>Ramani Motors</td></tr><tr><td>BR2352</td><td>Cadillac Automobile Company Building</td></tr><tr><td>BR0114</td><td>Asia Motors Motors</td></tr><tr><td>BR0462</td><td>DeSoto Motors</td></tr><tr><td>BR0699</td><td>Gilbern Motors</td></tr><tr><td>BR0793</td><td>Hindustan Motors</td></tr><tr><td>BR1479</td><td>Panhard Motors</td></tr><tr><td>BR2275</td><td>Deccan Motors</td></tr><tr><td>BR0138</td><td>Audi Motors</td></tr><tr><td>BR0202</td><td>Bond Motors</td></tr><tr><td>BR0700</td><td>Gilbern Motors</td></tr><tr><td>BR0988</td><td>Jensen Motors</td></tr><tr><td>BR9246</td><td>Piaggio Motors</td></tr><tr><td>BR0095</td><td>ARO Motors</td></tr><tr><td>BR0351</td><td>Chrysler Europe Motors</td></tr><tr><td>BR0368</td><td>Citroën Motors</td></tr><tr><td>BR0614</td><td>Ford Australia Motors</td></tr><tr><td>BR1248</td><td>Mercedes-Benz (including Maybach) Motors</td></tr><tr><td>BR1884</td><td>Sunbeam Motors</td></tr><tr><td>BR2035</td><td>Volkswagen do Brasil Motors</td></tr><tr><td>BR0070</td><td>AMC, Eagle Motors</td></tr><tr><td>BR0251</td><td>Austin, Rover Motors</td></tr><tr><td>BR0262</td><td>Bugatti Motors</td></tr><tr><td>BR1243</td><td>Mercedes-Benz (including Maybach) Motors</td></tr><tr><td>BR1289</td><td>Mia Motors</td></tr><tr><td>BR1405</td><td>Noble Motors</td></tr><tr><td>BR2033</td><td>Volkswagen do Brasil Motors</td></tr><tr><td>BR2329</td><td>Blankinship Motor Company Building</td></tr><tr><td>BR2385</td><td>Claremore Auto Dealership</td></tr><tr><td>BR0130</td><td>Aston Martin Motors</td></tr><tr><td>BR0891</td><td>Innocenti Motors</td></tr><tr><td>BR1177</td><td>Maruti Motors</td></tr><tr><td>BR1321</td><td>Monica Motors</td></tr><tr><td>BR13626</td><td>Deccan Motors</td></tr><tr><td>BR0064</td><td>AMC, Eagle Motors</td></tr><tr><td>BR0673</td><td>GAZ Motors</td></tr><tr><td>BR0685</td><td>Geo Motors</td></tr><tr><td>BR0718</td><td>Glas Motors</td></tr><tr><td>BR1298</td><td>Micro Motors</td></tr><tr><td>BR1300</td><td>Micro Motors</td></tr><tr><td>BR1347</td><td>Morgan Motors</td></tr><tr><td>BR1373</td><td>Naza Motors</td></tr><tr><td>BR2337</td><td>Bohn Motor Company Automobile Dealership</td></tr><tr><td>BR0231</td><td>British Leyland Motors</td></tr><tr><td>BR0895</td><td>Innocenti Motors</td></tr><tr><td>BR1228</td><td>Mazzanti Motors</td></tr><tr><td>BR1617</td><td>Puma Motors</td></tr><tr><td>BR1637</td><td>Reliant Motors</td></tr><tr><td>BR1680</td><td>Saab Motors</td></tr><tr><td>BR1821</td><td>Smart Motors</td></tr><tr><td>BR1940</td><td>Tesla Motors</td></tr><tr><td>BR2391</td><td>Clemens Automobile Company Building</td></tr><tr><td>BR2467</td><td>Kindel Building</td></tr><tr><td>BR3186</td><td>Elva Motors</td></tr><tr><td>BR5466</td><td>Isdera Motors</td></tr><tr><td>BR9126</td><td>Peugeot Motors</td></tr><tr><td>BR0104</td><td>Artega Motors</td></tr><tr><td>BR0354</td><td>Chrysler Europe Motors</td></tr><tr><td>BR0494</td><td>Donkervoort Motors</td></tr><tr><td>BR0528</td><td>Eicher Polaris Motors</td></tr><tr><td>BR1074</td><td>Lexus Motors</td></tr><tr><td>BR1503</td><td>Peel Motors</td></tr><tr><td>BR1718</td><td>San Motors</td></tr><tr><td>BR1864</td><td>Studebaker Motors</td></tr><tr><td>BR1993</td><td>UAZ Motors</td></tr><tr><td>BR2217</td><td>Riley  Motors</td></tr><tr><td>BR0682</td><td>Geo Motors</td></tr><tr><td>BR0905</td><td>Invicta Motors</td></tr><tr><td>BR10686</td><td>Simca Motors</td></tr><tr><td>BR1325</td><td>Monica Motors</td></tr><tr><td>BR1568</td><td>Polestar Motors</td></tr><tr><td>BR1822</td><td>Smart Motors</td></tr><tr><td>BR2154</td><td>Maybach  Motors</td></tr><tr><td>BR0011</td><td>Acura Motors</td></tr><tr><td>BR0115</td><td>Asia Motors Motors</td></tr><tr><td>BR0223</td><td>Bristol Motors</td></tr><tr><td>BR0490</td><td>Dodge Motors</td></tr><tr><td>BR0625</td><td>Ford do Brasil Motors</td></tr><tr><td>BR1111</td><td>LTI Motors</td></tr><tr><td>BR1829</td><td>Smart Motors</td></tr><tr><td>BR2277</td><td>Deccan Motors</td></tr><tr><td>BR2369</td><td>Casa de cadillac</td></tr><tr><td>BR6066</td><td>Koenigsegg Motors</td></tr><tr><td>BR0512</td><td>e.GO Mobile Motors</td></tr><tr><td>BR0584</td><td>Fiat India Motors</td></tr><tr><td>BR1691</td><td>Saleen Motors</td></tr><tr><td>BR1845</td><td>SsangYong Motors</td></tr><tr><td>BR1932</td><td>Tesla Motors</td></tr><tr><td>BR0360</td><td>Chrysler Europe Motors</td></tr><tr><td>BR0388</td><td>Dacia Motors</td></tr><tr><td>BR0486</td><td>Ariel Motors</td></tr><tr><td>BR0811</td><td>Honda Motors</td></tr><tr><td>BR1105</td><td>Lotus Motors</td></tr><tr><td>BR1762</td><td>Seat Motors</td></tr><tr><td>BR1768</td><td>Seat Motors</td></tr><tr><td>BR1960</td><td>Toyota Motors</td></tr><tr><td>BR2322</td><td>Blankinship Motor Company Building</td></tr><tr><td>BR2412</td><td>H Street Playhouse</td></tr><tr><td>BR2440</td><td>Hupmobile Building</td></tr><tr><td>BR0058</td><td>Alvis Motors</td></tr><tr><td>BR0447</td><td>Delahaye Motors</td></tr><tr><td>BR0479</td><td>De Tomaso Motors</td></tr><tr><td>BR0501</td><td>Edsel Motors</td></tr><tr><td>BR0919</td><td>Isdera Motors</td></tr><tr><td>BR1152</td><td>Marcos Motors</td></tr><tr><td>BR2289</td><td>Herald Motors</td></tr><tr><td>BR9426</td><td>Pontiac, Asüna Motors</td></tr><tr><td>BR0027</td><td>Aixam-Mega (including Arola) Motors</td></tr><tr><td>BR0411</td><td>Daihatsu Motors</td></tr><tr><td>BR1140</td><td>Lynx Motors</td></tr><tr><td>BR2087</td><td>Zastava Motors</td></tr><tr><td>BR2155</td><td>Maybach  Motors</td></tr><tr><td>BR2233</td><td>Standard  Motors</td></tr><tr><td>BR5406</td><td>Invicta Motors</td></tr><tr><td>BR0463</td><td>DeSoto Motors</td></tr><tr><td>BR0606</td><td>Artega Motors</td></tr><tr><td>BR0662</td><td>FSO Motors</td></tr><tr><td>BR1180</td><td>Maruti Motors</td></tr><tr><td>BR1380</td><td>Naza Motors</td></tr><tr><td>BR13986</td><td>Bohn Motor Company Automobile Dealership</td></tr><tr><td>BR1553</td><td>Plymouth Motors</td></tr><tr><td>BR1789</td><td>Simca Motors</td></tr><tr><td>BR1957</td><td>Toyota Motors</td></tr><tr><td>BR2025</td><td>Volkswagen Motors</td></tr><tr><td>BR2100</td><td>ZAZ Motors</td></tr><tr><td>BR2378</td><td>Cass Motor Sales</td></tr><tr><td>BR0089</td><td>Ariel Motors</td></tr><tr><td>BR0608</td><td>Ford America Motors</td></tr><tr><td>BR0941</td><td>Isuzu Motors</td></tr><tr><td>BR1273</td><td>Messerschmitt Motors</td></tr><tr><td>BR1860</td><td>Standard-Triumph Motors</td></tr><tr><td>BR1888</td><td>Sunbeam Motors</td></tr><tr><td>BR2142</td><td>Wanderer Motors</td></tr><tr><td>BR2319</td><td>2008 NRHP-listed</td></tr><tr><td>BR0264</td><td>Bugatti Motors</td></tr><tr><td>BR0498</td><td>Donkervoort Motors</td></tr><tr><td>BR0829</td><td>Honda India Motors</td></tr><tr><td>BR0890</td><td>Infiniti Motors</td></tr><tr><td>BR1044</td><td>Lamborghini Motors</td></tr><tr><td>BR13746</td><td>Zion Automobils</td></tr><tr><td>BR1398</td><td>Nissan India Motors</td></tr><tr><td>BR1877</td><td>Subaru Motors</td></tr><tr><td>BR1927</td><td>Tazzari Motors</td></tr><tr><td>BR2410</td><td>Colman Automotive Building</td></tr><tr><td>BR0534</td><td>Elva Motors</td></tr><tr><td>BR1442</td><td>Opel Motors</td></tr><tr><td>BR1722</td><td>Santa Matilde Motors</td></tr><tr><td>BR1990</td><td>TVR Motors</td></tr><tr><td>BR2070</td><td>Westfield Motors</td></tr><tr><td>BR2204</td><td>Austin  Motors</td></tr><tr><td>BR0204</td><td>Bond Motors</td></tr><tr><td>BR0717</td><td>Glas Motors</td></tr><tr><td>BR0947</td><td>Isuzu Motors</td></tr><tr><td>BR0983</td><td>Jensen Motors</td></tr><tr><td>BR1003</td><td>Kia Motors</td></tr><tr><td>BR11706</td><td>Toyota Motors</td></tr><tr><td>BR1232</td><td>McLaren Motors</td></tr><tr><td>BR1688</td><td>SAIC Motor Motors</td></tr><tr><td>BR1809</td><td>Singer Motors</td></tr><tr><td>BR1968</td><td>Toyota India Motors</td></tr><tr><td>BR2018</td><td>Venturi Motors</td></tr><tr><td>BR2022</td><td>Volkswagen Motors</td></tr><tr><td>BR2226</td><td>Cizeta-Moroder Motors</td></tr><tr><td>BR0235</td><td>British Leyland Motors</td></tr><tr><td>BR0634</td><td>Ford Europe Motors</td></tr><tr><td>BR0889</td><td>Infiniti Motors</td></tr><tr><td>BR1318</td><td>Mitsubishi Motors</td></tr><tr><td>BR1626</td><td>Buick Motors</td></tr><tr><td>BR2267</td><td>Ramani Motors</td></tr><tr><td>BR0591</td><td>Fisker, Karma Motors</td></tr><tr><td>BR0642</td><td>Ford India Motors</td></tr><tr><td>BR0930</td><td>Iso Motors</td></tr><tr><td>BR1027</td><td>KTM Motors</td></tr><tr><td>BR1065</td><td>Land Rover Motors</td></tr><tr><td>BR1382</td><td>Nissan Motors</td></tr><tr><td>BR1749</td><td>Saturn Motors</td></tr><tr><td>BR2433</td><td>Hupmobile Building</td></tr><tr><td>BR8406</td><td>Noble Motors</td></tr><tr><td>BR0040</td><td>Alfa Romeo Motors</td></tr><tr><td>BR0218</td><td>Borgward (including Goliath and Lloyd) Motors</td></tr><tr><td>BR0337</td><td>Chevrolet India Motors</td></tr><tr><td>BR1162</td><td>Marlin Motors</td></tr><tr><td>BR0082</td><td>Ariel Motors</td></tr><tr><td>BR0164</td><td>Auverland Motors</td></tr><tr><td>BR0598</td><td>Fisker, Karma Motors</td></tr><tr><td>BR0735</td><td>GTA Spano Motors</td></tr><tr><td>BR1063</td><td>Land Rover Motors</td></tr><tr><td>BR1579</td><td>Pontiac, Asüna Motors</td></tr><tr><td>BR2149</td><td>Wanderer Motors</td></tr><tr><td>BR2168</td><td>Izh  Motors</td></tr><tr><td>BR0279</td><td>Buick Motors</td></tr><tr><td>BR0884</td><td>Infiniti Motors</td></tr><tr><td>BR1048</td><td>Lamborghini Motors</td></tr><tr><td>BR1094</td><td>Lincoln Motors</td></tr><tr><td>BR1292</td><td>Micro Motors</td></tr><tr><td>BR1323</td><td>Monica Motors</td></tr><tr><td>BR1395</td><td>Nissan India Motors</td></tr><tr><td>BR1424</td><td>Oldsmobile Motors</td></tr><tr><td>BR1477</td><td>Panhard Motors</td></tr><tr><td>BR1670</td><td>Rolls-Royce Motors</td></tr><tr><td>BR1708</td><td>Samsung Motors</td></tr><tr><td>BR2039</td><td>Volkswagen do Brasil Motors</td></tr><tr><td>BR2404</td><td>Colman Automotive Building</td></tr><tr><td>BR0270</td><td>Bugatti Motors</td></tr><tr><td>BR0275</td><td>Buick Motors</td></tr><tr><td>BR0378</td><td>Cizeta-Moroder Motors</td></tr><tr><td>BR0405</td><td>DAF Motors</td></tr><tr><td>BR0592</td><td>Fisker, Karma Motors</td></tr><tr><td>BR0881</td><td>Infiniti Motors</td></tr><tr><td>BR0963</td><td>Jaguar Motors</td></tr><tr><td>BR1320</td><td>Mitsubishi Motors</td></tr><tr><td>BR1531</td><td>PGO Motors</td></tr><tr><td>BR1612</td><td>Puma Motors</td></tr><tr><td>BR1873</td><td>Subaru Motors</td></tr><tr><td>BR2077</td><td>Wiesmann Motors</td></tr><tr><td>BR2143</td><td>Wanderer Motors</td></tr><tr><td>BR2223</td><td>Wolseley  Motors</td></tr><tr><td>BR0509</td><td>Edsel Motors</td></tr><tr><td>BR1267</td><td>Merkur Motors</td></tr><tr><td>BR2225</td><td>Wolseley  Motors</td></tr><tr><td>BR0168</td><td>Auverland Motors</td></tr><tr><td>BR0318</td><td>Checker Motors</td></tr><tr><td>BR0362</td><td>Citroën Motors</td></tr><tr><td>BR0562</td><td>Fiat Motors</td></tr><tr><td>BR0738</td><td>GTA Spano Motors</td></tr><tr><td>BR0805</td><td>Holden Motors</td></tr><tr><td>BR0934</td><td>Isotta Fraschini Motors</td></tr><tr><td>BR1051</td><td>Lancia Motors</td></tr><tr><td>BR11466</td><td>Tatra Motors</td></tr><tr><td>BR1192</td><td>Mastretta Motors</td></tr><tr><td>BR1746</td><td>Cadillac Motors</td></tr><tr><td>BR1830</td><td>Smart Motors</td></tr><tr><td>BR2297</td><td>Zion Automobils</td></tr><tr><td>BR8046</td><td>Morgan Motors</td></tr><tr><td>BR0037</td><td>Alfa Romeo Motors</td></tr><tr><td>BR0268</td><td>Bugatti Motors</td></tr><tr><td>BR0367</td><td>Citroën Motors</td></tr><tr><td>BR1212</td><td>Mazda Motors</td></tr><tr><td>BR13806</td><td>Atlantic Motor Company</td></tr><tr><td>BR1491</td><td>Panther Motors</td></tr><tr><td>BR1750</td><td>Saturn Motors</td></tr><tr><td>BR1820</td><td>Skoda Motors</td></tr><tr><td>BR2037</td><td>Volkswagen do Brasil Motors</td></tr><tr><td>BR2248</td><td>Talbot  Motors</td></tr><tr><td>BR2280</td><td>Deccan Motors</td></tr><tr><td>BR7926</td><td>Monica Motors</td></tr><tr><td>BR1149</td><td>Mahindra Motors</td></tr><tr><td>BR1449</td><td>Opel Motors</td></tr><tr><td>BR6786</td><td>Lynx Motors</td></tr><tr><td>BR0059</td><td>Alvis Motors</td></tr><tr><td>BR0497</td><td>Donkervoort Motors</td></tr><tr><td>BR0561</td><td>Fiat Motors</td></tr><tr><td>BR0933</td><td>Isotta Fraschini Motors</td></tr><tr><td>BR1164</td><td>Marlin Motors</td></tr><tr><td>BR11946</td><td>UAZ Motors</td></tr><tr><td>BR1399</td><td>Nissan India Motors</td></tr><tr><td>BR1414</td><td>NSU Motors</td></tr><tr><td>BR1935</td><td>Tesla Motors</td></tr><tr><td>BR2210</td><td>Austin  Motors</td></tr><tr><td>BR3306</td><td>Ferrari Motors</td></tr><tr><td>BR3546</td><td>Fisker, Karma Motors</td></tr><tr><td>BR0075</td><td>Anadol Motors</td></tr><tr><td>BR0135</td><td>Audi Motors</td></tr><tr><td>BR0163</td><td>Auverland Motors</td></tr><tr><td>BR0491</td><td>Donkervoort Motors</td></tr><tr><td>BR0647</td><td>Ford India Motors</td></tr><tr><td>BR0765</td><td>Heinkel Motors</td></tr><tr><td>BR10206</td><td>Samsung Motors</td></tr><tr><td>BR1353</td><td>Moskwitch Motors</td></tr><tr><td>BR1561</td><td>Polestar Motors</td></tr><tr><td>BR1828</td><td>Smart Motors</td></tr><tr><td>BR2062</td><td>Westfield Motors</td></tr><tr><td>BR2084</td><td>Zastava Motors</td></tr><tr><td>BR2383</td><td>Claremore Auto Dealership</td></tr><tr><td>BR0451</td><td>DeLorean Motors</td></tr><tr><td>BR0701</td><td>Ginetta Motors</td></tr><tr><td>BR0786</td><td>Audi Motors</td></tr><tr><td>BR1293</td><td>Micro Motors</td></tr><tr><td>BR2191</td><td>Morris  Motors</td></tr><tr><td>BR4146</td><td>Gilbern Motors</td></tr><tr><td>BR0285</td><td>Bytom Motors</td></tr><tr><td>BR0525</td><td>Eicher Polaris Motors</td></tr><tr><td>BR0714</td><td>Glas Motors</td></tr><tr><td>BR1452</td><td>Packard Motors</td></tr><tr><td>BR1660</td><td>Rivian Motors</td></tr><tr><td>BR2244</td><td>Talbot  Motors</td></tr><tr><td>BR5646</td><td>Isuzu Motors</td></tr><tr><td>BR0575</td><td>Fiat do Brasil Motors</td></tr><tr><td>BR0803</td><td>Holden Motors</td></tr><tr><td>BR1195</td><td>Mastretta Motors</td></tr><tr><td>BR1279</td><td>Messerschmitt Motors</td></tr><tr><td>BR1844</td><td>SsangYong Motors</td></tr><tr><td>BR2221</td><td>Wolseley  Motors</td></tr><tr><td>BR0553</td><td>Ferrari Motors</td></tr><tr><td>BR0579</td><td>Fiat do Brasil Motors</td></tr><tr><td>BR0841</td><td>Humber Motors</td></tr><tr><td>BR1045</td><td>Lamborghini Motors</td></tr><tr><td>BR1112</td><td>LTI Motors</td></tr><tr><td>BR12186</td><td>Volkswagen do Brasil Motors</td></tr><tr><td>BR12366</td><td>Westfield Motors</td></tr><tr><td>BR1460</td><td>Packard Motors</td></tr><tr><td>BR1597</td><td>Premier Motors</td></tr><tr><td>BR2192</td><td>Morris  Motors</td></tr><tr><td>BR0158</td><td>Auto-Union Motors</td></tr><tr><td>BR0243</td><td>Austin-Healey Motors</td></tr><tr><td>BR0298</td><td>Cadillac Motors</td></tr><tr><td>BR0771</td><td>Hennessey Motors</td></tr><tr><td>BR0857</td><td>Hummer Motors</td></tr><tr><td>BR1155</td><td>Marcos Motors</td></tr><tr><td>BR12786</td><td>Horch Motors</td></tr><tr><td>BR12966</td><td>Izh  Motors</td></tr><tr><td>BR2185</td><td>MG  Motors</td></tr><tr><td>BR7446</td><td>Mercedes-Benz (including Maybach) Motors</td></tr><tr><td>BR0172</td><td>Bentley Motors</td></tr><tr><td>BR0392</td><td>Daewoo, Saehan, Chevrolet Korea Motors</td></tr><tr><td>BR0943</td><td>Isuzu Motors</td></tr><tr><td>BR1047</td><td>Lamborghini Motors</td></tr><tr><td>BR14706</td><td>Jones Motor Company</td></tr><tr><td>BR1598</td><td>Premier Motors</td></tr><tr><td>BR1755</td><td>Scion Motors</td></tr><tr><td>BR2005</td><td>Vauxhall Motors</td></tr><tr><td>BR2188</td><td>MG  Motors</td></tr><tr><td>BR0017</td><td>Acura Motors</td></tr><tr><td>BR0651</td><td>Freightliner Motors</td></tr><tr><td>BR0900</td><td>Innocenti Motors</td></tr><tr><td>BR1288</td><td>Mia Motors</td></tr><tr><td>BR1330</td><td>Monica Motors</td></tr><tr><td>BR1390</td><td>Nissan Motors</td></tr><tr><td>BR1862</td><td>Studebaker Motors</td></tr><tr><td>BR1871</td><td>Subaru Motors</td></tr><tr><td>BR1939</td><td>Tesla Motors</td></tr><tr><td>BR1951</td><td>Toyota Motors</td></tr><tr><td>BR2083</td><td>Zastava Motors</td></tr><tr><td>BR2415</td><td>H Street Playhouse</td></tr><tr><td>BR4086</td><td>Geo Motors</td></tr><tr><td>BR0708</td><td>Ginetta Motors</td></tr><tr><td>BR0801</td><td>Holden Motors</td></tr><tr><td>BR1220</td><td>Mazda Motors</td></tr><tr><td>BR1369</td><td>Nash Motors</td></tr><tr><td>BR1384</td><td>Nissan Motors</td></tr><tr><td>BR1464</td><td>Pagani Motors</td></tr><tr><td>BR1778</td><td>Shelby SuperCars Motors</td></tr><tr><td>BR2097</td><td>ZAZ Motors</td></tr><tr><td>BR1438</td><td>Oltcit Motors</td></tr><tr><td>BR1461</td><td>Pagani Motors</td></tr><tr><td>BR1771</td><td>Shelby SuperCars Motors</td></tr><tr><td>BR2445</td><td>Jennings Ford Automobile Dealership</td></tr><tr><td>BR2449</td><td>Jennings Ford Automobile Dealership</td></tr><tr><td>BR2706</td><td>DeLorean Motors</td></tr><tr><td>BR0347</td><td>Chrysler Motors</td></tr><tr><td>BR0353</td><td>Chrysler Europe Motors</td></tr><tr><td>BR0604</td><td>Ford America Motors</td></tr><tr><td>BR0770</td><td>Heinkel Motors</td></tr><tr><td>BR1632</td><td>Reliant Motors</td></tr><tr><td>BR2420</td><td>H Street Playhouse</td></tr><tr><td>BR4986</td><td>Hudson Motors</td></tr><tr><td>BR0980</td><td>Jeep Motors</td></tr><tr><td>BR1861</td><td>Studebaker Motors</td></tr><tr><td>BR1991</td><td>UAZ Motors</td></tr><tr><td>BR2308</td><td>Atlantic Motor Company</td></tr><tr><td>BR2452</td><td>Jones Motor Company</td></tr><tr><td>BR6486</td><td>Ligier Motors</td></tr><tr><td>BR0225</td><td>Bristol Motors</td></tr><tr><td>BR0269</td><td>Bugatti Motors</td></tr><tr><td>BR0300</td><td>Cadillac Motors</td></tr><tr><td>BR0415</td><td>Daihatsu Motors</td></tr><tr><td>BR0732</td><td>GTA Spano Motors</td></tr><tr><td>BR0927</td><td>Iso Motors</td></tr><tr><td>BR1608</td><td>Proton Motors</td></tr><tr><td>BR1913</td><td>Tatra Motors</td></tr><tr><td>BR1917</td><td>Tatra Motors</td></tr><tr><td>BR2047</td><td>Volkswagen South Africa Motors</td></tr><tr><td>BR2179</td><td>Lagonda  Motors</td></tr><tr><td>BR2237</td><td>Standard  Motors</td></tr><tr><td>BR2946</td><td>Donkervoort Motors</td></tr><tr><td>BR0001</td><td>AC Cars Motors</td></tr><tr><td>BR0018</td><td>Acura Motors</td></tr><tr><td>BR0304</td><td>Caterham Motors</td></tr><tr><td>BR0407</td><td>DAF Motors</td></tr><tr><td>BR0960</td><td>Iveco Motors</td></tr><tr><td>BR0989</td><td>Jensen Motors</td></tr><tr><td>BR10326</td><td>Santa Matilde Motors</td></tr><tr><td>BR1418</td><td>NSU Motors</td></tr><tr><td>BR1600</td><td>Premier Motors</td></tr><tr><td>BR1757</td><td>Scion Motors</td></tr><tr><td>BR1931</td><td>Tesla Motors</td></tr><tr><td>BR2072</td><td>Wiesmann Motors</td></tr><tr><td>BR2117</td><td>Audi Motors</td></tr><tr><td>BR7746</td><td>Micro Motors</td></tr><tr><td>BR0013</td><td>Acura Motors</td></tr><tr><td>BR0182</td><td>Bitter Motors</td></tr><tr><td>BR0219</td><td>Borgward (including Goliath and Lloyd) Motors</td></tr><tr><td>BR0252</td><td>Austin, Rover Motors</td></tr><tr><td>BR0363</td><td>Citroën Motors</td></tr><tr><td>BR0792</td><td>Hindustan Motors</td></tr><tr><td>BR0877</td><td>IFA (including Trabant, Wartburg, Barkas) Motors</td></tr><tr><td>BR0888</td><td>Infiniti Motors</td></tr><tr><td>BR0972</td><td>Jeep Motors</td></tr><tr><td>BR12006</td><td>Vauxhall Motors</td></tr><tr><td>BR1547</td><td>Piaggio Motors</td></tr><tr><td>BR2061</td><td>Westfield Motors</td></tr><tr><td>BR2158</td><td>Maybach  Motors</td></tr><tr><td>BR2252</td><td>Das Motors</td></tr><tr><td>BR2377</td><td>Cass Motor Sales</td></tr><tr><td>BR0505</td><td>Edsel Motors</td></tr><tr><td>BR10986</td><td>Spyker Motors</td></tr><tr><td>BR1351</td><td>Moskwitch Motors</td></tr><tr><td>BR1549</td><td>Piaggio Motors</td></tr><tr><td>BR1604</td><td>Proton Motors</td></tr><tr><td>BR1677</td><td>Saab Motors</td></tr><tr><td>BR1840</td><td>Spyker Motors</td></tr><tr><td>BR1863</td><td>Studebaker Motors</td></tr><tr><td>BR1919</td><td>Tatra Motors</td></tr><tr><td>BR2147</td><td>Wanderer Motors</td></tr><tr><td>BR2160</td><td>Maybach  Motors</td></tr><tr><td>BR2293</td><td>Zion Automobils</td></tr><tr><td>BR2406</td><td>DAF Motors</td></tr><tr><td>BR8106</td><td>Moskwitch Motors</td></tr><tr><td>BR0531</td><td>Elva Motors</td></tr><tr><td>BR0691</td><td>Gilbern Motors</td></tr><tr><td>BR0828</td><td>Honda India Motors</td></tr><tr><td>BR10566</td><td>Seat Motors</td></tr><tr><td>BR1067</td><td>Land Rover Motors</td></tr><tr><td>BR1812</td><td>Skoda Motors</td></tr><tr><td>BR1910</td><td>Tata Motors</td></tr><tr><td>BR2291</td><td>Zion Automobils</td></tr><tr><td>BR7866</td><td>Mitsubishi Motors</td></tr><tr><td>BR1270</td><td>Merkur Motors</td></tr><tr><td>BR13926</td><td>Blankinship Motor Company Building</td></tr><tr><td>BR1984</td><td>TVR Motors</td></tr><tr><td>BR2050</td><td>Volkswagen South Africa Motors</td></tr><tr><td>BR2213</td><td>Riley  Motors</td></tr><tr><td>BR2360</td><td>Cadillac Automobile Company Building</td></tr><tr><td>BR2646</td><td>Delahaye Motors</td></tr><tr><td>BR5046</td><td>Humber Motors</td></tr><tr><td>BR0065</td><td>AMC, Eagle Motors</td></tr><tr><td>BR0313</td><td>Checker Motors</td></tr><tr><td>BR0393</td><td>Daewoo, Saehan, Chevrolet Korea Motors</td></tr><tr><td>BR0802</td><td>Holden Motors</td></tr><tr><td>BR1413</td><td>NSU Motors</td></tr><tr><td>BR1681</td><td>SAIC Motor Motors</td></tr><tr><td>BR1735</td><td>Santana Motors</td></tr><tr><td>BR1752</td><td>Scion Motors</td></tr><tr><td>BR2064</td><td>Westfield Motors</td></tr><tr><td>BR2125</td><td>DKW Motors</td></tr><tr><td>BR0189</td><td>Bitter Motors</td></tr><tr><td>BR0513</td><td>e.GO Mobile Motors</td></tr><tr><td>BR0544</td><td>Facel Vega Motors</td></tr><tr><td>BR0775</td><td>Hennessey Motors</td></tr><tr><td>BR1445</td><td>Opel Motors</td></tr><tr><td>BR1654</td><td>Rivian Motors</td></tr><tr><td>BR1743</td><td>Saturn Motors</td></tr><tr><td>BR2046</td><td>Chrysler Motors</td></tr><tr><td>BR2138</td><td>Horch Motors</td></tr><tr><td>BR0006</td><td>AC Cars Motors</td></tr><tr><td>BR0139</td><td>Audi Motors</td></tr><tr><td>BR0649</td><td>Ford India Motors</td></tr><tr><td>BR1050</td><td>Lamborghini Motors</td></tr><tr><td>BR1071</td><td>Lexus Motors</td></tr><tr><td>BR12486</td><td>Zastava Motors</td></tr><tr><td>BR1307</td><td>Mini Motors</td></tr><tr><td>BR1661</td><td>Rolls-Royce Motors</td></tr><tr><td>BR1832</td><td>Spyker Motors</td></tr><tr><td>BR1934</td><td>Tesla Motors</td></tr><tr><td>BR2065</td><td>Westfield Motors</td></tr><tr><td>BR2129</td><td>DKW Motors</td></tr><tr><td>BR2441</td><td>Jennings Ford Automobile Dealership</td></tr><tr><td>BR0153</td><td>Auto-Union Motors</td></tr><tr><td>BR0968</td><td>Jaguar Motors</td></tr><tr><td>BR11586</td><td>Tesla Motors</td></tr><tr><td>BR1255</td><td>Mercury Motors</td></tr><tr><td>BR1402</td><td>Noble Motors</td></tr><tr><td>BR1965</td><td>Toyota India Motors</td></tr><tr><td>BR1969</td><td>Toyota India Motors</td></tr><tr><td>BR2085</td><td>Zastava Motors</td></tr><tr><td>BR2288</td><td>Herald Motors</td></tr><tr><td>BR5706</td><td>Iveco Motors</td></tr><tr><td>BR0461</td><td>DeSoto Motors</td></tr><tr><td>BR0568</td><td>Fiat Motors</td></tr><tr><td>BR0666</td><td>Asia Motors Motors</td></tr><tr><td>BR0773</td><td>Hennessey Motors</td></tr><tr><td>BR0852</td><td>Hummer Motors</td></tr><tr><td>BR1322</td><td>Monica Motors</td></tr><tr><td>BR0032</td><td>Alfa Romeo Motors</td></tr><tr><td>BR0212</td><td>Borgward (including Goliath and Lloyd) Motors</td></tr><tr><td>BR0728</td><td>GMC Motors</td></tr><tr><td>BR0861</td><td>Hyundai Motors</td></tr><tr><td>BR0868</td><td>Hyundai Motors</td></tr><tr><td>BR0966</td><td>Auverland Motors</td></tr><tr><td>BR1182</td><td>Maserati Motors</td></tr><tr><td>BR0762</td><td>Heinkel Motors</td></tr><tr><td>BR13506</td><td>Das Motors</td></tr><tr><td>BR14586</td><td>Hupmobile Building</td></tr><tr><td>BR1628</td><td>Ranger Motors</td></tr><tr><td>BR1658</td><td>Rivian Motors</td></tr><tr><td>BR1711</td><td>San Motors</td></tr><tr><td>BR1763</td><td>Seat Motors</td></tr><tr><td>BR1989</td><td>TVR Motors</td></tr><tr><td>BR2468</td><td>Kindel Building</td></tr><tr><td>BR0031</td><td>Alfa Romeo Motors</td></tr><tr><td>BR0121</td><td>Aston Martin Motors</td></tr><tr><td>BR0171</td><td>Bentley Motors</td></tr><tr><td>BR0500</td><td>Donkervoort Motors</td></tr><tr><td>BR0638</td><td>Ford Europe Motors</td></tr><tr><td>BR0650</td><td>Ford India Motors</td></tr><tr><td>BR1017</td><td>Koenigsegg Motors</td></tr><tr><td>BR10746</td><td>Simca do Brasil Motors</td></tr><tr><td>BR1263</td><td>Merkur Motors</td></tr><tr><td>BR1403</td><td>Noble Motors</td></tr><tr><td>BR1947</td><td>Tornado Motors</td></tr><tr><td>BR2447</td><td>Jennings Ford Automobile Dealership</td></tr><tr><td>BR3246</td><td>Facel Vega Motors</td></tr><tr><td>BR0169</td><td>Auverland Motors</td></tr><tr><td>BR0517</td><td>e.GO Mobile Motors</td></tr><tr><td>BR0911</td><td>Isdera Motors</td></tr><tr><td>BR1197</td><td>Mastretta Motors</td></tr><tr><td>BR1525</td><td>Peugeot Motors</td></tr><tr><td>BR1529</td><td>Peugeot Motors</td></tr><tr><td>BR1564</td><td>Polestar Motors</td></tr><tr><td>BR1577</td><td>Pontiac, Asüna Motors</td></tr><tr><td>BR1592</td><td>Premier Motors</td></tr><tr><td>BR1855</td><td>Standard-Triumph Motors</td></tr><tr><td>BR2150</td><td>Wanderer Motors</td></tr><tr><td>BR0315</td><td>Checker Motors</td></tr><tr><td>BR0408</td><td>DAF Motors</td></tr><tr><td>BR0502</td><td>Edsel Motors</td></tr><tr><td>BR0504</td><td>Edsel Motors</td></tr><tr><td>BR0572</td><td>Fiat do Brasil Motors</td></tr><tr><td>BR0617</td><td>Ford Australia Motors</td></tr><tr><td>BR0794</td><td>Hindustan Motors</td></tr><tr><td>BR0849</td><td>Humber Motors</td></tr><tr><td>BR0958</td><td>Iveco Motors</td></tr><tr><td>BR0995</td><td>JPX Motors</td></tr><tr><td>BR13026</td><td>Lagonda  Motors</td></tr><tr><td>BR1574</td><td>Pontiac, Asüna Motors</td></tr><tr><td>BR1594</td><td>Premier Motors</td></tr><tr><td>BR1731</td><td>Santana Motors</td></tr><tr><td>BR1944</td><td>Tornado Motors</td></tr><tr><td>BR2115</td><td>Audi Motors</td></tr><tr><td>BR0125</td><td>Aston Martin Motors</td></tr><tr><td>BR0297</td><td>Cadillac Motors</td></tr><tr><td>BR0372</td><td>Cizeta-Moroder Motors</td></tr><tr><td>BR0798</td><td>Hindustan Motors</td></tr><tr><td>BR0939</td><td>Isotta Fraschini Motors</td></tr><tr><td>BR1302</td><td>Mini Motors</td></tr><tr><td>BR1377</td><td>Naza Motors</td></tr><tr><td>BR14226</td><td>Cass Motor Sales</td></tr><tr><td>BR14526</td><td>Howard Motor Company Building</td></tr><tr><td>BR1463</td><td>Pagani Motors</td></tr><tr><td>BR1473</td><td>Panhard Motors</td></tr><tr><td>BR1952</td><td>Toyota Motors</td></tr><tr><td>BR2021</td><td>Volkswagen Motors</td></tr><tr><td>BR5886</td><td>Jensen Motors</td></tr><tr><td>BR0053</td><td>Alvis Motors</td></tr><tr><td>BR0054</td><td>Alvis Motors</td></tr><tr><td>BR0514</td><td>e.GO Mobile Motors</td></tr><tr><td>BR0744</td><td>Gumpert Motors</td></tr><tr><td>BR1012</td><td>Koenigsegg Motors</td></tr><tr><td>BR1159</td><td>Marcos Motors</td></tr><tr><td>BR1444</td><td>Opel Motors</td></tr><tr><td>BR1721</td><td>Santa Matilde Motors</td></tr><tr><td>BR1753</td><td>Scion Motors</td></tr><tr><td>BR2090</td><td>Zastava Motors</td></tr><tr><td>BR2399</td><td>Clemens Automobile Company Building</td></tr><tr><td>BR0140</td><td>Audi Motors</td></tr><tr><td>BR0690</td><td>Geo Motors</td></tr><tr><td>BR0922</td><td>Iso Motors</td></tr><tr><td>BR1349</td><td>Morgan Motors</td></tr><tr><td>BR1737</td><td>Santana Motors</td></tr><tr><td>BR1949</td><td>Tornado Motors</td></tr><tr><td>BR4806</td><td>Holden Motors</td></tr><tr><td>BR5826</td><td>Jeep Motors</td></tr><tr><td>BR8646</td><td>Opel Motors</td></tr><tr><td>BR0352</td><td>Chrysler Europe Motors</td></tr><tr><td>BR0458</td><td>DeLorean Motors</td></tr><tr><td>BR0784</td><td>Hillman Motors</td></tr><tr><td>BR1230</td><td>Mazzanti Motors</td></tr><tr><td>BR1425</td><td>Oldsmobile Motors</td></tr><tr><td>BR1967</td><td>Toyota India Motors</td></tr><tr><td>BR2091</td><td>ZAZ Motors</td></tr><tr><td>BR2429</td><td>Howard Motor Company Building</td></tr><tr><td>BR5346</td><td>Innocenti Motors</td></tr><tr><td>BR0144</td><td>Autobianchi Motors</td></tr><tr><td>BR1098</td><td>Lincoln Motors</td></tr><tr><td>BR1239</td><td>McLaren Motors</td></tr><tr><td>BR1747</td><td>Saturn Motors</td></tr><tr><td>BR1849</td><td>SsangYong Motors</td></tr><tr><td>BR2464</td><td>Kindel Building</td></tr><tr><td>BR9186</td><td>PGO Motors</td></tr><tr><td>BR0068</td><td>AMC, Eagle Motors</td></tr><tr><td>BR0291</td><td>Cadillac Motors</td></tr><tr><td>BR0452</td><td>DeLorean Motors</td></tr><tr><td>BR0672</td><td>GAZ Motors</td></tr><tr><td>BR0688</td><td>Geo Motors</td></tr><tr><td>BR0778</td><td>Hennessey Motors</td></tr><tr><td>BR10506</td><td>Scion Motors</td></tr><tr><td>BR1208</td><td>Matra (including Deutsch-Bonnet, René Bonnet) Motors</td></tr><tr><td>BR1290</td><td>Mia Motors</td></tr><tr><td>BR1343</td><td>Morgan Motors</td></tr><tr><td>BR1541</td><td>Piaggio Motors</td></tr><tr><td>BR1915</td><td>Tatra Motors</td></tr><tr><td>BR2048</td><td>Volkswagen South Africa Motors</td></tr><tr><td>BR2455</td><td>Jones Motor Company</td></tr><tr><td>BR2470</td><td>Kindel Building</td></tr><tr><td>BR0092</td><td>ARO Motors</td></tr><tr><td>BR0111</td><td>Asia Motors Motors</td></tr><tr><td>BR0383</td><td>Dacia Motors</td></tr><tr><td>BR0423</td><td>Daimler Motors</td></tr><tr><td>BR0713</td><td>Glas Motors</td></tr><tr><td>BR0817</td><td>Honda Motors</td></tr><tr><td>BR0928</td><td>Iso Motors</td></tr><tr><td>BR0993</td><td>JPX Motors</td></tr><tr><td>BR1061</td><td>Land Rover Motors</td></tr><tr><td>BR1301</td><td>Mini Motors</td></tr><tr><td>BR1605</td><td>Proton Motors</td></tr><tr><td>BR2075</td><td>Wiesmann Motors</td></tr><tr><td>BR2161</td><td>Izh  Motors</td></tr><tr><td>BR2178</td><td>Lagonda  Motors</td></tr><tr><td>BR0014</td><td>Acura Motors</td></tr><tr><td>BR0232</td><td>British Leyland Motors</td></tr><tr><td>BR0271</td><td>Buick Motors</td></tr><tr><td>BR0559</td><td>Ferrari Motors</td></tr><tr><td>BR0707</td><td>Ginetta Motors</td></tr><tr><td>BR0722</td><td>GMC Motors</td></tr><tr><td>BR0918</td><td>Isdera Motors</td></tr><tr><td>BR1163</td><td>Marlin Motors</td></tr><tr><td>BR1615</td><td>Puma Motors</td></tr><tr><td>BR2123</td><td>DKW Motors</td></tr><tr><td>BR2437</td><td>Hupmobile Building</td></tr><tr><td>BR2443</td><td>Jennings Ford Automobile Dealership</td></tr><tr><td>BR0101</td><td>Artega Motors</td></tr><tr><td>BR0112</td><td>Asia Motors Motors</td></tr><tr><td>BR0222</td><td>Bristol Motors</td></tr><tr><td>BR0230</td><td>Bristol Motors</td></tr><tr><td>BR1015</td><td>Koenigsegg Motors</td></tr><tr><td>BR1141</td><td>Mahindra Motors</td></tr><tr><td>BR1358</td><td>Moskwitch Motors</td></tr><tr><td>BR1922</td><td>Tazzari Motors</td></tr><tr><td>BR2402</td><td>Colman Automotive Building</td></tr><tr><td>BR0552</td><td>Ferrari Motors</td></tr><tr><td>BR0658</td><td>Freightliner Motors</td></tr><tr><td>BR0859</td><td>Hummer Motors</td></tr><tr><td>BR1310</td><td>Mini Motors</td></tr><tr><td>BR1391</td><td>Nissan India Motors</td></tr><tr><td>BR1714</td><td>San Motors</td></tr><tr><td>BR1945</td><td>Tornado Motors</td></tr><tr><td>BR2263</td><td>Ramani Motors</td></tr><tr><td>BR0069</td><td>AMC, Eagle Motors</td></tr><tr><td>BR0198</td><td>BMW Motors</td></tr><tr><td>BR0621</td><td>Ford do Brasil Motors</td></tr><tr><td>BR0997</td><td>JPX Motors</td></tr><tr><td>BR1215</td><td>Mazda Motors</td></tr><tr><td>BR1407</td><td>Noble Motors</td></tr><tr><td>BR2024</td><td>Volkswagen Motors</td></tr><tr><td>BR0863</td><td>Hyundai Motors</td></tr><tr><td>BR0967</td><td>Jaguar Motors</td></tr><tr><td>BR1412</td><td>NSU Motors</td></tr><tr><td>BR1435</td><td>Oltcit Motors</td></tr><tr><td>BR1710</td><td>Samsung Motors</td></tr><tr><td>BR1929</td><td>Tazzari Motors</td></tr><tr><td>BR2134</td><td>Horch Motors</td></tr><tr><td>BR2230</td><td>Wolseley  Motors</td></tr><tr><td>BR2295</td><td>Zion Automobils</td></tr><tr><td>BR4446</td><td>Gumpert Motors</td></tr><tr><td>BR0519</td><td>e.GO Mobile Motors</td></tr><tr><td>BR0660</td><td>Freightliner Motors</td></tr><tr><td>BR11106</td><td>Standard-Triumph Motors</td></tr><tr><td>BR1404</td><td>Noble Motors</td></tr><tr><td>BR1869</td><td>Studebaker Motors</td></tr><tr><td>BR1880</td><td>Subaru Motors</td></tr><tr><td>BR2071</td><td>Wiesmann Motors</td></tr><tr><td>BR2232</td><td>Standard  Motors</td></tr><tr><td>BR2427</td><td>Howard Motor Company Building</td></tr><tr><td>BR4746</td><td>Hindustan Motors</td></tr><tr><td>BR0044</td><td>Alpine Motors</td></tr><tr><td>BR0539</td><td>Elva Motors</td></tr><tr><td>BR1093</td><td>Lincoln Motors</td></tr><tr><td>BR1241</td><td>Mercedes-Benz (including Maybach) Motors</td></tr><tr><td>BR1408</td><td>Noble Motors</td></tr><tr><td>BR14766</td><td>Kindel Building</td></tr><tr><td>BR1689</td><td>SAIC Motor Motors</td></tr><tr><td>BR1700</td><td>Saleen Motors</td></tr><tr><td>BR2372</td><td>Cass Motor Sales</td></tr><tr><td>BR0129</td><td>Aston Martin Motors</td></tr><tr><td>BR0211</td><td>Borgward (including Goliath and Lloyd) Motors</td></tr><tr><td>BR0321</td><td>Chevrolet Motors</td></tr><tr><td>BR0433</td><td>Datsun Motors</td></tr><tr><td>BR0607</td><td>Ford America Motors</td></tr><tr><td>BR0764</td><td>Heinkel Motors</td></tr><tr><td>BR0984</td><td>Jensen Motors</td></tr><tr><td>BR2159</td><td>Maybach  Motors</td></tr><tr><td>BR0009</td><td>AC Cars Motors</td></tr><tr><td>BR0783</td><td>Hillman Motors</td></tr><tr><td>BR0878</td><td>IFA (including Trabant, Wartburg, Barkas) Motors</td></tr><tr><td>BR1483</td><td>Panoz Motors</td></tr><tr><td>BR2171</td><td>Lagonda  Motors</td></tr><tr><td>BR2323</td><td>Blankinship Motor Company Building</td></tr><tr><td>BR2362</td><td>Casa de cadillac</td></tr><tr><td>BR0254</td><td>Austin, Rover Motors</td></tr><tr><td>BR0823</td><td>Honda India Motors</td></tr><tr><td>BR14166</td><td>Casa de cadillac</td></tr><tr><td>BR1540</td><td>PGO Motors</td></tr><tr><td>BR1613</td><td>Puma Motors</td></tr><tr><td>BR1892</td><td>Suzuki Motors</td></tr><tr><td>BR1948</td><td>Tornado Motors</td></tr><tr><td>BR1959</td><td>Toyota Motors</td></tr><tr><td>BR2106</td><td>Chrysler Europe Motors</td></tr><tr><td>BR7386</td><td>McLaren Motors</td></tr><tr><td>BR0021</td><td>Aixam-Mega (including Arola) Motors</td></tr><tr><td>BR0385</td><td>Dacia Motors</td></tr><tr><td>BR1083</td><td>Ligier Motors</td></tr><tr><td>BR1179</td><td>Maruti Motors</td></tr><tr><td>BR1240</td><td>McLaren Motors</td></tr><tr><td>BR14406</td><td>Colman Automotive Building</td></tr><tr><td>BR2017</td><td>Venturi Motors</td></tr><tr><td>BR2428</td><td>Howard Motor Company Building</td></tr><tr><td>BR0195</td><td>BMW Motors</td></tr><tr><td>BR0247</td><td>Austin-Healey Motors</td></tr><tr><td>BR0709</td><td>Ginetta Motors</td></tr><tr><td>BR0710</td><td>Ginetta Motors</td></tr><tr><td>BR1671</td><td>Saab Motors</td></tr><tr><td>BR2407</td><td>Colman Automotive Building</td></tr><tr><td>BR0328</td><td>Chevrolet Motors</td></tr><tr><td>BR0350</td><td>Chrysler Motors</td></tr><tr><td>BR0395</td><td>Daewoo, Saehan, Chevrolet Korea Motors</td></tr><tr><td>BR0581</td><td>Fiat India Motors</td></tr><tr><td>BR0627</td><td>Ford do Brasil Motors</td></tr><tr><td>BR0755</td><td>Healey Motors</td></tr><tr><td>BR1117</td><td>LTI Motors</td></tr><tr><td>BR1305</td><td>Mini Motors</td></tr><tr><td>BR1332</td><td>Monteverdi Motors</td></tr><tr><td>BR1378</td><td>Naza Motors</td></tr><tr><td>BR2285</td><td>Herald Motors</td></tr><tr><td>BR2353</td><td>Cadillac Automobile Company Building</td></tr><tr><td>BR7686</td><td>Mia Motors</td></tr><tr><td>BR0048</td><td>Alpine Motors</td></tr><tr><td>BR0293</td><td>Cadillac Motors</td></tr><tr><td>BR0301</td><td>Caterham Motors</td></tr><tr><td>BR0429</td><td>Daimler Motors</td></tr><tr><td>BR0585</td><td>Fiat India Motors</td></tr><tr><td>BR0720</td><td>Glas Motors</td></tr><tr><td>BR0787</td><td>Hillman Motors</td></tr><tr><td>BR0871</td><td>IFA (including Trabant, Wartburg, Barkas) Motors</td></tr><tr><td>BR1025</td><td>KTM Motors</td></tr><tr><td>BR2095</td><td>ZAZ Motors</td></tr><tr><td>BR2133</td><td>Horch Motors</td></tr><tr><td>BR0005</td><td>AC Cars Motors</td></tr><tr><td>BR0791</td><td>Hindustan Motors</td></tr><tr><td>BR0846</td><td>Autobianchi Motors</td></tr><tr><td>BR0883</td><td>Infiniti Motors</td></tr><tr><td>BR1088</td><td>Ligier Motors</td></tr><tr><td>BR1181</td><td>Maserati Motors</td></tr><tr><td>BR1565</td><td>Polestar Motors</td></tr><tr><td>BR2367</td><td>Casa de cadillac</td></tr><tr><td>BR2380</td><td>Cass Motor Sales</td></tr><tr><td>BR6546</td><td>Lincoln Motors</td></tr><tr><td>BR9066</td><td>Perodua Motors</td></tr><tr><td>BR0045</td><td>Alpine Motors</td></tr><tr><td>BR1223</td><td>Mazzanti Motors</td></tr><tr><td>BR12666</td><td>Audi Motors</td></tr><tr><td>BR1364</td><td>Nash Motors</td></tr><tr><td>BR1601</td><td>Proton Motors</td></tr><tr><td>BR1878</td><td>Subaru Motors</td></tr><tr><td>BR2042</td><td>Volkswagen South Africa Motors</td></tr><tr><td>BR0473</td><td>De Tomaso Motors</td></tr><tr><td>BR1053</td><td>Lancia Motors</td></tr><tr><td>BR1244</td><td>Mercedes-Benz (including Maybach) Motors</td></tr><tr><td>BR1785</td><td>Simca Motors</td></tr><tr><td>BR2101</td><td>ZIL Motors</td></tr><tr><td>BR2165</td><td>Izh  Motors</td></tr><tr><td>BR7146</td><td>Mastretta Motors</td></tr><tr><td>BR0126</td><td>Aixam-Mega (including Arola) Motors</td></tr><tr><td>BR0359</td><td>Chrysler Europe Motors</td></tr><tr><td>BR0611</td><td>Ford Australia Motors</td></tr><tr><td>BR1104</td><td>Lotus Motors</td></tr><tr><td>BR1174</td><td>Maruti Motors</td></tr><tr><td>BR1277</td><td>Messerschmitt Motors</td></tr><tr><td>BR1419</td><td>NSU Motors</td></tr><tr><td>BR1510</td><td>Peel Motors</td></tr><tr><td>BR1653</td><td>Rivian Motors</td></tr><tr><td>BR1780</td><td>Shelby SuperCars Motors</td></tr><tr><td>BR2135</td><td>Horch Motors</td></tr><tr><td>BR2167</td><td>Izh  Motors</td></tr><tr><td>BR2371</td><td>Cass Motor Sales</td></tr><tr><td>BR3606</td><td>Ford America Motors</td></tr><tr><td>BR0143</td><td>Autobianchi Motors</td></tr><tr><td>BR1283</td><td>Mia Motors</td></tr><tr><td>BR1328</td><td>Monica Motors</td></tr><tr><td>BR1783</td><td>Simca Motors</td></tr><tr><td>BR0727</td><td>GMC Motors</td></tr><tr><td>BR0892</td><td>Innocenti Motors</td></tr><tr><td>BR1123</td><td>LuAZ Motors</td></tr><tr><td>BR12906</td><td>Maybach  Motors</td></tr><tr><td>BR1690</td><td>SAIC Motor Motors</td></tr><tr><td>BR1843</td><td>SsangYong Motors</td></tr><tr><td>BR2067</td><td>Westfield Motors</td></tr><tr><td>BR2099</td><td>ZAZ Motors</td></tr><tr><td>BR0057</td><td>Alvis Motors</td></tr><tr><td>BR0929</td><td>Iso Motors</td></tr><tr><td>BR1842</td><td>SsangYong Motors</td></tr><tr><td>BR0073</td><td>Anadol Motors</td></tr><tr><td>BR0492</td><td>Donkervoort Motors</td></tr><tr><td>BR0565</td><td>Fiat Motors</td></tr><tr><td>BR0851</td><td>Hummer Motors</td></tr><tr><td>BR1032</td><td>Lada Motors</td></tr><tr><td>BR1190</td><td>Maserati Motors</td></tr><tr><td>BR1410</td><td>Noble Motors</td></tr><tr><td>BR1678</td><td>Saab Motors</td></tr><tr><td>BR2082</td><td>Zastava Motors</td></tr><tr><td>BR2124</td><td>DKW Motors</td></tr><tr><td>BR2131</td><td>Horch Motors</td></tr><tr><td>BR2247</td><td>Talbot  Motors</td></tr><tr><td>BR2460</td><td>Jones Motor Company</td></tr><tr><td>BR3786</td><td>Ford Europe Motors</td></tr><tr><td>BR0080</td><td>Anadol Motors</td></tr><tr><td>BR0085</td><td>Ariel Motors</td></tr><tr><td>BR0220</td><td>Borgward (including Goliath and Lloyd) Motors</td></tr><tr><td>BR0342</td><td>Chrysler Motors</td></tr><tr><td>BR0624</td><td>Ford do Brasil Motors</td></tr><tr><td>BR0730</td><td>GMC Motors</td></tr><tr><td>BR0845</td><td>Humber Motors</td></tr><tr><td>BR0935</td><td>Isotta Fraschini Motors</td></tr><tr><td>BR1055</td><td>Lancia Motors</td></tr><tr><td>BR1326</td><td>Bristol Motors</td></tr><tr><td>BR1867</td><td>Studebaker Motors</td></tr><tr><td>BR1895</td><td>Suzuki Motors</td></tr><tr><td>BR2153</td><td>Maybach  Motors</td></tr><tr><td>BR2184</td><td>MG  Motors</td></tr><tr><td>BR2250</td><td>Talbot  Motors</td></tr><tr><td>BR2282</td><td>Herald Motors</td></tr><tr><td>BR6606</td><td>Lotus Motors</td></tr><tr><td>BR0152</td><td>Auto-Union Motors</td></tr><tr><td>BR0842</td><td>Humber Motors</td></tr><tr><td>BR1291</td><td>Micro Motors</td></tr><tr><td>BR2199</td><td>Morris  Motors</td></tr><tr><td>BR2451</td><td>Jones Motor Company</td></tr><tr><td>BR0029</td><td>Aixam-Mega (including Arola) Motors</td></tr><tr><td>BR0033</td><td>Alfa Romeo Motors</td></tr><tr><td>BR0229</td><td>Bristol Motors</td></tr><tr><td>BR0457</td><td>DeLorean Motors</td></tr><tr><td>BR0605</td><td>Ford America Motors</td></tr><tr><td>BR0950</td><td>Isuzu Motors</td></tr><tr><td>BR0990</td><td>Jensen Motors</td></tr><tr><td>BR1585</td><td>Porsche Motors</td></tr><tr><td>BR1672</td><td>Saab Motors</td></tr><tr><td>BR4026</td><td>GAZ Motors</td></tr><tr><td>BR0424</td><td>Daimler Motors</td></tr><tr><td>BR0971</td><td>Jeep Motors</td></tr><tr><td>BR1114</td><td>LTI Motors</td></tr><tr><td>BR1258</td><td>Mercury Motors</td></tr><tr><td>BR1488</td><td>Panoz Motors</td></tr><tr><td>BR1679</td><td>Saab Motors</td></tr><tr><td>BR2172</td><td>Lagonda  Motors</td></tr><tr><td>BR2462</td><td>Kindel Building</td></tr><tr><td>BR0094</td><td>ARO Motors</td></tr><tr><td>BR0357</td><td>Chrysler Europe Motors</td></tr><tr><td>BR0417</td><td>Daihatsu Motors</td></tr><tr><td>BR0854</td><td>Hummer Motors</td></tr><tr><td>BR1014</td><td>Koenigsegg Motors</td></tr><tr><td>BR1245</td><td>Mercedes-Benz (including Maybach) Motors</td></tr><tr><td>BR1295</td><td>Micro Motors</td></tr><tr><td>BR1625</td><td>Ranger Motors</td></tr><tr><td>BR1683</td><td>SAIC Motor Motors</td></tr><tr><td>BR1742</td><td>Saturn Motors</td></tr><tr><td>BR1827</td><td>Smart Motors</td></tr><tr><td>BR1975</td><td>Turner Motors</td></tr><tr><td>BR0120</td><td>Asia Motors Motors</td></tr><tr><td>BR0382</td><td>Dacia Motors</td></tr><tr><td>BR0470</td><td>DeSoto Motors</td></tr><tr><td>BR1034</td><td>Lada Motors</td></tr><tr><td>BR10626</td><td>Shelby SuperCars Motors</td></tr><tr><td>BR1099</td><td>Lincoln Motors</td></tr><tr><td>BR2351</td><td>Cadillac Automobile Company Building</td></tr><tr><td>BR2394</td><td>Clemens Automobile Company Building</td></tr><tr><td>BR0310</td><td>Caterham Motors</td></tr><tr><td>BR0602</td><td>Ford America Motors</td></tr><tr><td>BR0694</td><td>Gilbern Motors</td></tr><tr><td>BR1668</td><td>Rolls-Royce Motors</td></tr><tr><td>BR2148</td><td>Wanderer Motors</td></tr><tr><td>BR2309</td><td>Atlantic Motor Company</td></tr><tr><td>BR0546</td><td>ARO Motors</td></tr><tr><td>BR0678</td><td>GAZ Motors</td></tr><tr><td>BR1569</td><td>Polestar Motors</td></tr><tr><td>BR1570</td><td>Polestar Motors</td></tr><tr><td>BR1811</td><td>Skoda Motors</td></tr><tr><td>BR1882</td><td>Sunbeam Motors</td></tr><tr><td>BR1901</td><td>Tata Motors</td></tr><tr><td>BR1937</td><td>Tesla Motors</td></tr><tr><td>BR1988</td><td>TVR Motors</td></tr><tr><td>BR2034</td><td>Volkswagen do Brasil Motors</td></tr><tr><td>BR2334</td><td>Bohn Motor Company Automobile Dealership</td></tr><tr><td>BR0074</td><td>Anadol Motors</td></tr><tr><td>BR0103</td><td>Artega Motors</td></tr><tr><td>BR0338</td><td>Chevrolet India Motors</td></tr><tr><td>BR0418</td><td>Daihatsu Motors</td></tr><tr><td>BR0435</td><td>Datsun Motors</td></tr><tr><td>BR0533</td><td>Elva Motors</td></tr><tr><td>BR0879</td><td>IFA (including Trabant, Wartburg, Barkas) Motors</td></tr><tr><td>BR1512</td><td>Perodua Motors</td></tr><tr><td>BR2234</td><td>Standard  Motors</td></tr><tr><td>BR2245</td><td>Talbot  Motors</td></tr><tr><td>BR2283</td><td>Herald Motors</td></tr><tr><td>BR2438</td><td>Hupmobile Building</td></tr><tr><td>BR8466</td><td>NSU Motors</td></tr><tr><td>BR8766</td><td>Pagani Motors</td></tr><tr><td>BR0961</td><td>Jaguar Motors</td></tr><tr><td>BR1471</td><td>Panhard Motors</td></tr><tr><td>BR1603</td><td>Proton Motors</td></tr><tr><td>BR1879</td><td>Subaru Motors</td></tr><tr><td>BR2211</td><td>Riley  Motors</td></tr><tr><td>BR2320</td><td>2008 NRHP-listed</td></tr><tr><td>BR0020</td><td>Acura Motors</td></tr><tr><td>BR0339</td><td>Chevrolet India Motors</td></tr><tr><td>BR0375</td><td>Cizeta-Moroder Motors</td></tr><tr><td>BR0404</td><td>DAF Motors</td></tr><tr><td>BR0752</td><td>Healey Motors</td></tr><tr><td>BR1315</td><td>Mitsubishi Motors</td></tr><tr><td>BR1392</td><td>Nissan India Motors</td></tr><tr><td>BR1542</td><td>Piaggio Motors</td></tr><tr><td>BR2302</td><td>Atlantic Motor Company</td></tr><tr><td>BR0397</td><td>Daewoo, Saehan, Chevrolet Korea Motors</td></tr><tr><td>BR0675</td><td>GAZ Motors</td></tr><tr><td>BR11526</td><td>Tazzari Motors</td></tr><tr><td>BR1619</td><td>Puma Motors</td></tr><tr><td>BR1798</td><td>Simca do Brasil Motors</td></tr><tr><td>BR1994</td><td>UAZ Motors</td></tr><tr><td>BR2342</td><td>Buick Automobile Company Building</td></tr><tr><td>BR7506</td><td>Mercury Motors</td></tr><tr><td>BR0049</td><td>Alpine Motors</td></tr><tr><td>BR0640</td><td>Ford Europe Motors</td></tr><tr><td>BR0653</td><td>Freightliner Motors</td></tr><tr><td>BR0897</td><td>Innocenti Motors</td></tr><tr><td>BR1520</td><td>Perodua Motors</td></tr><tr><td>BR1621</td><td>Ranger Motors</td></tr><tr><td>BR2008</td><td>Vauxhall Motors</td></tr><tr><td>BR2170</td><td>Izh  Motors</td></tr><tr><td>BR2526</td><td>Daimler Motors</td></tr><tr><td>BR3006</td><td>Edsel Motors</td></tr><tr><td>BR8226</td><td>Naza Motors</td></tr><tr><td>BR0170</td><td>Auverland Motors</td></tr><tr><td>BR0843</td><td>Humber Motors</td></tr><tr><td>BR1249</td><td>Mercedes-Benz (including Maybach) Motors</td></tr><tr><td>BR1552</td><td>Plymouth Motors</td></tr><tr><td>BR2258</td><td>Das Motors</td></tr><tr><td>BR0084</td><td>Ariel Motors</td></tr><tr><td>BR0610</td><td>Ford America Motors</td></tr><tr><td>BR1077</td><td>Lexus Motors</td></tr><tr><td>BR1101</td><td>Lotus Motors</td></tr><tr><td>BR1107</td><td>Lotus Motors</td></tr><tr><td>BR1209</td><td>Matra (including Deutsch-Bonnet, René Bonnet) Motors</td></tr><tr><td>BR1235</td><td>McLaren Motors</td></tr><tr><td>BR1417</td><td>NSU Motors</td></tr><tr><td>BR1519</td><td>Perodua Motors</td></tr><tr><td>BR1524</td><td>Peugeot Motors</td></tr><tr><td>BR1640</td><td>Reliant Motors</td></tr><tr><td>BR2110</td><td>ZIL Motors</td></tr><tr><td>BR2307</td><td>Atlantic Motor Company</td></tr><tr><td>BR2457</td><td>Jones Motor Company</td></tr><tr><td>BR5106</td><td>Hummer Motors</td></tr><tr><td>BR6306</td><td>Lancia Motors</td></tr><tr><td>BR0108</td><td>Artega Motors</td></tr><tr><td>BR0380</td><td>Cizeta-Moroder Motors</td></tr><tr><td>BR0577</td><td>Fiat do Brasil Motors</td></tr><tr><td>BR0812</td><td>Honda Motors</td></tr><tr><td>BR0865</td><td>Hyundai Motors</td></tr><tr><td>BR1202</td><td>Matra (including Deutsch-Bonnet, René Bonnet) Motors</td></tr><tr><td>BR1504</td><td>Peel Motors</td></tr><tr><td>BR1833</td><td>Spyker Motors</td></tr><tr><td>BR2041</td><td>Volkswagen South Africa Motors</td></tr><tr><td>BR2313</td><td>2008 NRHP-listed</td></tr><tr><td>BR3726</td><td>Ford do Brasil Motors</td></tr><tr><td>BR7326</td><td>Mazzanti Motors</td></tr><tr><td>BR0334</td><td>Chevrolet India Motors</td></tr><tr><td>BR0364</td><td>Citroën Motors</td></tr><tr><td>BR0371</td><td>Cizeta-Moroder Motors</td></tr><tr><td>BR0485</td><td>Dodge Motors</td></tr><tr><td>BR0909</td><td>Invicta Motors</td></tr><tr><td>BR0921</td><td>Iso Motors</td></tr><tr><td>BR0267</td><td>Bugatti Motors</td></tr><tr><td>BR0410</td><td>DAF Motors</td></tr><tr><td>BR0469</td><td>DeSoto Motors</td></tr><tr><td>BR0654</td><td>Freightliner Motors</td></tr><tr><td>BR1528</td><td>Peugeot Motors</td></tr><tr><td>BR2183</td><td>MG  Motors</td></tr><tr><td>BR2264</td><td>Ramani Motors</td></tr><tr><td>BR0041</td><td>Alpine Motors</td></tr><tr><td>BR0122</td><td>Aston Martin Motors</td></tr><tr><td>BR0349</td><td>Chrysler Motors</td></tr><tr><td>BR0906</td><td>Auto-Union Motors</td></tr><tr><td>BR0973</td><td>Jeep Motors</td></tr><tr><td>BR1168</td><td>Marlin Motors</td></tr><tr><td>BR1231</td><td>McLaren Motors</td></tr><tr><td>BR1518</td><td>Perodua Motors</td></tr><tr><td>BR1639</td><td>Reliant Motors</td></tr><tr><td>BR2290</td><td>Herald Motors</td></tr><tr><td>BR0302</td><td>Caterham Motors</td></tr><tr><td>BR0468</td><td>DeSoto Motors</td></tr><tr><td>BR0477</td><td>De Tomaso Motors</td></tr><tr><td>BR0768</td><td>Heinkel Motors</td></tr><tr><td>BR0824</td><td>Honda India Motors</td></tr><tr><td>BR1008</td><td>Kia Motors</td></tr><tr><td>BR1674</td><td>Saab Motors</td></tr><tr><td>BR1697</td><td>Saleen Motors</td></tr><tr><td>BR1715</td><td>San Motors</td></tr><tr><td>BR1782</td><td>Simca Motors</td></tr><tr><td>BR1797</td><td>Simca do Brasil Motors</td></tr><tr><td>BR1924</td><td>Tazzari Motors</td></tr><tr><td>BR4686</td><td>Hillman Motors</td></tr><tr><td>BR8826</td><td>Panhard Motors</td></tr><tr><td>BR0322</td><td>Chevrolet Motors</td></tr><tr><td>BR0724</td><td>GMC Motors</td></tr><tr><td>BR0994</td><td>JPX Motors</td></tr><tr><td>BR1173</td><td>Maruti Motors</td></tr><tr><td>BR1692</td><td>Saleen Motors</td></tr><tr><td>BR1875</td><td>Subaru Motors</td></tr><tr><td>BR0004</td><td>AC Cars Motors</td></tr><tr><td>BR0067</td><td>AMC, Eagle Motors</td></tr><tr><td>BR0459</td><td>DeLorean Motors</td></tr><tr><td>BR0488</td><td>Dodge Motors</td></tr><tr><td>BR0663</td><td>FSO Motors</td></tr><tr><td>BR0711</td><td>Glas Motors</td></tr><tr><td>BR0747</td><td>Gumpert Motors</td></tr><tr><td>BR0894</td><td>Innocenti Motors</td></tr><tr><td>BR1039</td><td>Lada Motors</td></tr><tr><td>BR14046</td><td>Buick Automobile Company Building</td></tr><tr><td>BR1440</td><td>Oltcit Motors</td></tr><tr><td>BR1492</td><td>Panther Motors</td></tr><tr><td>BR1557</td><td>Plymouth Motors</td></tr><tr><td>BR2388</td><td>Claremore Auto Dealership</td></tr><tr><td>BR0224</td><td>Bristol Motors</td></tr><tr><td>BR1303</td><td>Mini Motors</td></tr><tr><td>BR1304</td><td>Mini Motors</td></tr><tr><td>BR13086</td><td>MG  Motors</td></tr><tr><td>BR1567</td><td>Polestar Motors</td></tr><tr><td>BR1659</td><td>Rivian Motors</td></tr><tr><td>BR1725</td><td>Santa Matilde Motors</td></tr><tr><td>BR2104</td><td>ZIL Motors</td></tr><tr><td>BR6426</td><td>Lexus Motors</td></tr><tr><td>BR0697</td><td>Gilbern Motors</td></tr><tr><td>BR0781</td><td>Hillman Motors</td></tr><tr><td>BR0931</td><td>Isotta Fraschini Motors</td></tr><tr><td>BR1070</td><td>Land Rover Motors</td></tr><tr><td>BR1130</td><td>LuAZ Motors</td></tr><tr><td>BR1397</td><td>Nissan India Motors</td></tr><tr><td>BR1595</td><td>Premier Motors</td></tr><tr><td>BR1985</td><td>TVR Motors</td></tr><tr><td>BR2011</td><td>Venturi Motors</td></tr><tr><td>BR2089</td><td>Zastava Motors</td></tr><tr><td>BR0484</td><td>Dodge Motors</td></tr><tr><td>BR0899</td><td>Innocenti Motors</td></tr><tr><td>BR1379</td><td>Naza Motors</td></tr><tr><td>BR1903</td><td>Tata Motors</td></tr><tr><td>BR0303</td><td>Caterham Motors</td></tr><tr><td>BR0523</td><td>Eicher Polaris Motors</td></tr><tr><td>BR0538</td><td>Elva Motors</td></tr><tr><td>BR1363</td><td>Nash Motors</td></tr><tr><td>BR1459</td><td>Packard Motors</td></tr><tr><td>BR1837</td><td>Spyker Motors</td></tr><tr><td>BR1918</td><td>Tatra Motors</td></tr><tr><td>BR2281</td><td>Herald Motors</td></tr><tr><td>BR0025</td><td>Aixam-Mega (including Arola) Motors</td></tr><tr><td>BR1068</td><td>Land Rover Motors</td></tr><tr><td>BR1135</td><td>Lynx Motors</td></tr><tr><td>BR1560</td><td>Plymouth Motors</td></tr><tr><td>BR1717</td><td>San Motors</td></tr><tr><td>BR1923</td><td>Tazzari Motors</td></tr><tr><td>BR1964</td><td>Toyota India Motors</td></tr><tr><td>BR4266</td><td>Glas Motors</td></tr><tr><td>BR0159</td><td>Auto-Union Motors</td></tr><tr><td>BR0331</td><td>Chevrolet India Motors</td></tr><tr><td>BR0681</td><td>Geo Motors</td></tr><tr><td>BR0703</td><td>Ginetta Motors</td></tr><tr><td>BR0832</td><td>Hudson Motors</td></tr><tr><td>BR0880</td><td>IFA (including Trabant, Wartburg, Barkas) Motors</td></tr><tr><td>BR0999</td><td>JPX Motors</td></tr><tr><td>BR1974</td><td>Turner Motors</td></tr><tr><td>BR2180</td><td>Lagonda  Motors</td></tr><tr><td>BR0923</td><td>Iso Motors</td></tr><tr><td>BR0953</td><td>Iveco Motors</td></tr><tr><td>BR1498</td><td>Panther Motors</td></tr><tr><td>BR1583</td><td>Porsche Motors</td></tr><tr><td>BR1709</td><td>Samsung Motors</td></tr><tr><td>BR1723</td><td>Santa Matilde Motors</td></tr><tr><td>BR1920</td><td>Tatra Motors</td></tr><tr><td>BR2222</td><td>Wolseley  Motors</td></tr><tr><td>BR2231</td><td>Standard  Motors</td></tr><tr><td>BR2273</td><td>Deccan Motors</td></tr><tr><td>BR2327</td><td>Blankinship Motor Company Building</td></tr><tr><td>BR0077</td><td>Anadol Motors</td></tr><tr><td>BR0344</td><td>Chrysler Motors</td></tr><tr><td>BR0774</td><td>Hennessey Motors</td></tr><tr><td>BR0901</td><td>Invicta Motors</td></tr><tr><td>BR1193</td><td>Mastretta Motors</td></tr><tr><td>BR1199</td><td>Mastretta Motors</td></tr><tr><td>BR1227</td><td>Mazzanti Motors</td></tr><tr><td>BR1317</td><td>Mitsubishi Motors</td></tr><tr><td>BR1428</td><td>Oldsmobile Motors</td></tr><tr><td>BR1589</td><td>Porsche Motors</td></tr><tr><td>BR1634</td><td>Reliant Motors</td></tr><tr><td>BR1894</td><td>Suzuki Motors</td></tr><tr><td>BR0387</td><td>Dacia Motors</td></tr><tr><td>BR0426</td><td>Anadol Motors</td></tr><tr><td>BR0573</td><td>Fiat do Brasil Motors</td></tr><tr><td>BR1234</td><td>McLaren Motors</td></tr><tr><td>BR1401</td><td>Noble Motors</td></tr><tr><td>BR1578</td><td>Pontiac, Asüna Motors</td></tr><tr><td>BR1788</td><td>Simca Motors</td></tr><tr><td>BR1805</td><td>Singer Motors</td></tr><tr><td>BR2144</td><td>Wanderer Motors</td></tr><tr><td>BR2243</td><td>Talbot  Motors</td></tr><tr><td>BR0154</td><td>Auto-Union Motors</td></tr><tr><td>BR0193</td><td>BMW Motors</td></tr><tr><td>BR0439</td><td>Datsun Motors</td></tr><tr><td>BR0910</td><td>Invicta Motors</td></tr><tr><td>BR1360</td><td>Moskwitch Motors</td></tr><tr><td>BR1649</td><td>Renault Motors</td></tr><tr><td>BR1804</td><td>Singer Motors</td></tr><tr><td>BR1963</td><td>Toyota India Motors</td></tr><tr><td>BR2019</td><td>Venturi Motors</td></tr><tr><td>BR0098</td><td>ARO Motors</td></tr><tr><td>BR0141</td><td>Autobianchi Motors</td></tr><tr><td>BR0442</td><td>Delahaye Motors</td></tr><tr><td>BR0590</td><td>Fiat India Motors</td></tr><tr><td>BR10086</td><td>SAIC Motor Motors</td></tr><tr><td>BR1043</td><td>Lamborghini Motors</td></tr><tr><td>BR1222</td><td>Mazzanti Motors</td></tr><tr><td>BR1393</td><td>Nissan India Motors</td></tr><tr><td>BR2031</td><td>Volkswagen do Brasil Motors</td></tr><tr><td>BR2187</td><td>MG  Motors</td></tr><tr><td>BR2207</td><td>Austin  Motors</td></tr><tr><td>BR2240</td><td>Standard  Motors</td></tr><tr><td>BR2361</td><td>Casa de cadillac</td></tr><tr><td>BR2392</td><td>Clemens Automobile Company Building</td></tr><tr><td>BR5946</td><td>JPX Motors</td></tr><tr><td>BR0208</td><td>Bond Motors</td></tr><tr><td>BR0260</td><td>Austin, Rover Motors</td></tr><tr><td>BR0309</td><td>Caterham Motors</td></tr><tr><td>BR1128</td><td>LuAZ Motors</td></tr><tr><td>BR1348</td><td>Morgan Motors</td></tr><tr><td>BR1667</td><td>Rolls-Royce Motors</td></tr><tr><td>BR2312</td><td>2008 NRHP-listed</td></tr><tr><td>BR2423</td><td>Howard Motor Company Building</td></tr><tr><td>BR4926</td><td>Honda India Motors</td></tr><tr><td>BR0391</td><td>Daewoo, Saehan, Chevrolet Korea Motors</td></tr><tr><td>BR0751</td><td>Healey Motors</td></tr><tr><td>BR0769</td><td>Heinkel Motors</td></tr><tr><td>BR0998</td><td>JPX Motors</td></tr><tr><td>BR1183</td><td>Maserati Motors</td></tr><tr><td>BR1313</td><td>Mitsubishi Motors</td></tr><tr><td>BR1455</td><td>Packard Motors</td></tr><tr><td>BR2463</td><td>Kindel Building</td></tr><tr><td>BR4566</td><td>Heinkel Motors</td></tr><tr><td>BR1108</td><td>Lotus Motors</td></tr><tr><td>BR1204</td><td>Matra (including Deutsch-Bonnet, René Bonnet) Motors</td></tr><tr><td>BR13326</td><td>Wolseley  Motors</td></tr><tr><td>BR1372</td><td>Naza Motors</td></tr><tr><td>BR1758</td><td>Scion Motors</td></tr><tr><td>BR1887</td><td>Sunbeam Motors</td></tr><tr><td>BR2214</td><td>Riley  Motors</td></tr><tr><td>BR7986</td><td>Monteverdi Motors</td></tr><tr><td>BR0515</td><td>e.GO Mobile Motors</td></tr><tr><td>BR0661</td><td>FSO Motors</td></tr><tr><td>BR1021</td><td>KTM Motors</td></tr><tr><td>BR1268</td><td>Merkur Motors</td></tr><tr><td>BR13266</td><td>Riley  Motors</td></tr><tr><td>BR2151</td><td>Maybach  Motors</td></tr><tr><td>BR2300</td><td>Zion Automobils</td></tr><tr><td>BR2382</td><td>Claremore Auto Dealership</td></tr><tr><td>BR0010</td><td>AC Cars Motors</td></tr><tr><td>BR0051</td><td>Alvis Motors</td></tr><tr><td>BR0341</td><td>Chrysler Motors</td></tr><tr><td>BR0384</td><td>Dacia Motors</td></tr><tr><td>BR0569</td><td>Fiat Motors</td></tr><tr><td>BR14646</td><td>Jennings Ford Automobile Dealership</td></tr><tr><td>BR1562</td><td>Polestar Motors</td></tr><tr><td>BR1872</td><td>Subaru Motors</td></tr><tr><td>BR2128</td><td>DKW Motors</td></tr><tr><td>BR2197</td><td>Morris  Motors</td></tr><tr><td>BR2253</td><td>Das Motors</td></tr><tr><td>BR2315</td><td>2008 NRHP-listed</td></tr><tr><td>BR0443</td><td>Delahaye Motors</td></tr><tr><td>BR0925</td><td>Iso Motors</td></tr><tr><td>BR1019</td><td>Koenigsegg Motors</td></tr><tr><td>BR1411</td><td>NSU Motors</td></tr><tr><td>BR1733</td><td>Santana Motors</td></tr><tr><td>BR1745</td><td>Saturn Motors</td></tr><tr><td>BR1962</td><td>Toyota India Motors</td></tr><tr><td>BR2251</td><td>Das Motors</td></tr><tr><td>BR0102</td><td>Artega Motors</td></tr><tr><td>BR0745</td><td>Gumpert Motors</td></tr><tr><td>BR0858</td><td>Hummer Motors</td></tr><tr><td>BR0917</td><td>Isdera Motors</td></tr><tr><td>BR1171</td><td>Maruti Motors</td></tr><tr><td>BR1247</td><td>Mercedes-Benz (including Maybach) Motors</td></tr><tr><td>BR1831</td><td>Spyker Motors</td></tr><tr><td>BR2448</td><td>Jennings Ford Automobile Dealership</td></tr><tr><td>BR0173</td><td>Bentley Motors</td></tr><tr><td>BR0249</td><td>Austin-Healey Motors</td></tr><tr><td>BR0619</td><td>Ford Australia Motors</td></tr><tr><td>BR1118</td><td>LTI Motors</td></tr><tr><td>BR1294</td><td>Micro Motors</td></tr><tr><td>BR1593</td><td>Premier Motors</td></tr><tr><td>BR1712</td><td>San Motors</td></tr><tr><td>BR1728</td><td>Santa Matilde Motors</td></tr><tr><td>BR2409</td><td>Colman Automotive Building</td></tr><tr><td>BR8586</td><td>Oltcit Motors</td></tr><tr><td>BR0402</td><td>DAF Motors</td></tr><tr><td>BR0542</td><td>Facel Vega Motors</td></tr><tr><td>BR11646</td><td>Tornado Motors</td></tr><tr><td>BR1467</td><td>Pagani Motors</td></tr><tr><td>BR2321</td><td>Blankinship Motor Company Building</td></tr><tr><td>BR7026</td><td>Maruti Motors</td></tr><tr><td>BR0295</td><td>Cadillac Motors</td></tr><tr><td>BR0641</td><td>Ford India Motors</td></tr><tr><td>BR0715</td><td>Glas Motors</td></tr><tr><td>BR0975</td><td>Jeep Motors</td></tr><tr><td>BR1004</td><td>Kia Motors</td></tr><tr><td>BR1610</td><td>Proton Motors</td></tr><tr><td>BR1741</td><td>Saturn Motors</td></tr><tr><td>BR2053</td><td>Volvo Motors</td></tr><tr><td>BR2340</td><td>Bohn Motor Company Automobile Dealership</td></tr><tr><td>BR0042</td><td>Alpine Motors</td></tr><tr><td>BR0311</td><td>Checker Motors</td></tr><tr><td>BR0482</td><td>Dodge Motors</td></tr><tr><td>BR0870</td><td>Hyundai Motors</td></tr><tr><td>BR1362</td><td>Nash Motors</td></tr><tr><td>BR1571</td><td>Pontiac, Asüna Motors</td></tr><tr><td>BR2370</td><td>Casa de cadillac</td></tr><tr><td>BR2389</td><td>Claremore Auto Dealership</td></tr><tr><td>BR3966</td><td>FSO Motors</td></tr><tr><td>BR6846</td><td>Mahindra Motors</td></tr><tr><td>BR7806</td><td>Mini Motors</td></tr><tr><td>BR0420</td><td>Daihatsu Motors</td></tr><tr><td>BR0667</td><td>FSO Motors</td></tr><tr><td>BR0742</td><td>Gumpert Motors</td></tr><tr><td>BR0822</td><td>Honda India Motors</td></tr><tr><td>BR0981</td><td>Jensen Motors</td></tr><tr><td>BR1052</td><td>Lancia Motors</td></tr><tr><td>BR1194</td><td>Mastretta Motors</td></tr><tr><td>BR1620</td><td>Puma Motors</td></tr><tr><td>BR1761</td><td>Seat Motors</td></tr><tr><td>BR1925</td><td>Tazzari Motors</td></tr><tr><td>BR1933</td><td>Tesla Motors</td></tr><tr><td>BR2045</td><td>Volkswagen South Africa Motors</td></tr><tr><td>BR2469</td><td>Kindel Building</td></tr><tr><td>BR8706</td><td>Packard Motors</td></tr><tr><td>BR9306</td><td>Plymouth Motors</td></tr><tr><td>BR0015</td><td>Acura Motors</td></tr><tr><td>BR0217</td><td>Borgward (including Goliath and Lloyd) Motors</td></tr><tr><td>BR0283</td><td>Bytom Motors</td></tr><tr><td>BR1274</td><td>Messerschmitt Motors</td></tr><tr><td>BR1431</td><td>Oltcit Motors</td></tr><tr><td>BR1451</td><td>Packard Motors</td></tr><tr><td>BR1554</td><td>Plymouth Motors</td></tr><tr><td>BR2049</td><td>Volkswagen South Africa Motors</td></tr><tr><td>BR2088</td><td>Zastava Motors</td></tr><tr><td>BR2107</td><td>ZIL Motors</td></tr><tr><td>BR2305</td><td>Atlantic Motor Company</td></tr><tr><td>BR5586</td><td>Isotta Fraschini Motors</td></tr><tr><td>BR0290</td><td>Bytom Motors</td></tr><tr><td>BR0474</td><td>De Tomaso Motors</td></tr><tr><td>BR0940</td><td>Isotta Fraschini Motors</td></tr><tr><td>BR2202</td><td>Austin  Motors</td></tr><tr><td>BR6246</td><td>Lamborghini Motors</td></tr><tr><td>BR0179</td><td>Bentley Motors</td></tr><tr><td>BR0797</td><td>Hindustan Motors</td></tr><tr><td>BR1261</td><td>Merkur Motors</td></tr><tr><td>BR1575</td><td>Pontiac, Asüna Motors</td></tr><tr><td>BR2114</td><td>Audi Motors</td></tr><tr><td>BR2208</td><td>Austin  Motors</td></tr><tr><td>BR0087</td><td>Ariel Motors</td></tr><tr><td>BR0117</td><td>Asia Motors Motors</td></tr><tr><td>BR0181</td><td>Bitter Motors</td></tr><tr><td>BR0183</td><td>Bitter Motors</td></tr><tr><td>BR0464</td><td>DeSoto Motors</td></tr><tr><td>BR0633</td><td>Ford Europe Motors</td></tr><tr><td>BR8946</td><td>Panther Motors</td></tr><tr><td>BR0643</td><td>Ford India Motors</td></tr><tr><td>BR1086</td><td>Bitter Motors</td></tr><tr><td>BR1465</td><td>Pagani Motors</td></tr><tr><td>BR1489</td><td>Panoz Motors</td></tr><tr><td>BR1643</td><td>Renault Motors</td></tr><tr><td>BR1765</td><td>Seat Motors</td></tr><tr><td>BR0090</td><td>Ariel Motors</td></tr><tr><td>BR0487</td><td>Dodge Motors</td></tr><tr><td>BR1020</td><td>Koenigsegg Motors</td></tr><tr><td>BR1073</td><td>Lexus Motors</td></tr><tr><td>BR1102</td><td>Lotus Motors</td></tr><tr><td>BR12306</td><td>Volvo Motors</td></tr><tr><td>BR1682</td><td>SAIC Motor Motors</td></tr><tr><td>BR1702</td><td>Samsung Motors</td></tr><tr><td>BR1938</td><td>Tesla Motors</td></tr><tr><td>BR1958</td><td>Toyota Motors</td></tr><tr><td>BR2173</td><td>Lagonda  Motors</td></tr><tr><td>BR0379</td><td>Cizeta-Moroder Motors</td></tr><tr><td>BR0687</td><td>Geo Motors</td></tr><tr><td>BR0767</td><td>Heinkel Motors</td></tr><tr><td>BR14106</td><td>Cadillac Automobile Company Building</td></tr><tr><td>BR1454</td><td>Packard Motors</td></tr><tr><td>BR1642</td><td>Renault Motors</td></tr><tr><td>BR1652</td><td>Rivian Motors</td></tr><tr><td>BR2052</td><td>Volvo Motors</td></tr><tr><td>BR2157</td><td>Maybach  Motors</td></tr><tr><td>BR2182</td><td>MG  Motors</td></tr><tr><td>BR3666</td><td>Ford Australia Motors</td></tr><tr><td>BR0668</td><td>FSO Motors</td></tr><tr><td>BR0719</td><td>Glas Motors</td></tr><tr><td>BR1079</td><td>Lexus Motors</td></tr><tr><td>BR1299</td><td>Micro Motors</td></tr><tr><td>BR1685</td><td>SAIC Motor Motors</td></tr><tr><td>BR1720</td><td>San Motors</td></tr><tr><td>BR1729</td><td>Santa Matilde Motors</td></tr><tr><td>BR2079</td><td>Wiesmann Motors</td></tr><tr><td>BR2163</td><td>Izh  Motors</td></tr><tr><td>BR2414</td><td>H Street Playhouse</td></tr><tr><td>BR6966</td><td>Marlin Motors</td></tr><tr><td>BR0819</td><td>Honda Motors</td></tr><tr><td>BR1214</td><td>Mazda Motors</td></tr><tr><td>BR1911</td><td>Tatra Motors</td></tr><tr><td>BR2166</td><td>Citroën Motors</td></tr><tr><td>BR2175</td><td>Lagonda  Motors</td></tr><tr><td>BR2198</td><td>Morris  Motors</td></tr><tr><td>BR6126</td><td>KTM Motors</td></tr><tr><td>BR0400</td><td>Daewoo, Saehan, Chevrolet Korea Motors</td></tr><tr><td>BR0527</td><td>Eicher Polaris Motors</td></tr><tr><td>BR1103</td><td>Lotus Motors</td></tr><tr><td>BR13686</td><td>Herald Motors</td></tr><tr><td>BR1815</td><td>Skoda Motors</td></tr><tr><td>BR0414</td><td>Daihatsu Motors</td></tr><tr><td>BR0444</td><td>Delahaye Motors</td></tr><tr><td>BR0959</td><td>Iveco Motors</td></tr><tr><td>BR1058</td><td>Lancia Motors</td></tr><tr><td>BR1338</td><td>Monteverdi Motors</td></tr><tr><td>BR1388</td><td>Nissan Motors</td></tr><tr><td>BR1854</td><td>Standard-Triumph Motors</td></tr><tr><td>BR2270</td><td>Ramani Motors</td></tr><tr><td>BR2278</td><td>Deccan Motors</td></tr><tr><td>BR2287</td><td>Herald Motors</td></tr><tr><td>BR2324</td><td>Blankinship Motor Company Building</td></tr><tr><td>BR0280</td><td>Buick Motors</td></tr><tr><td>BR0631</td><td>Ford Europe Motors</td></tr><tr><td>BR0702</td><td>Ginetta Motors</td></tr><tr><td>BR0942</td><td>Isuzu Motors</td></tr><tr><td>BR1151</td><td>Marcos Motors</td></tr><tr><td>BR2121</td><td>DKW Motors</td></tr><tr><td>BR2174</td><td>Lagonda  Motors</td></tr><tr><td>BR2886</td><td>Dodge Motors</td></tr><tr><td>BR0213</td><td>Borgward (including Goliath and Lloyd) Motors</td></tr><tr><td>BR0680</td><td>GAZ Motors</td></tr><tr><td>BR1075</td><td>Lexus Motors</td></tr><tr><td>BR1207</td><td>Matra (including Deutsch-Bonnet, René Bonnet) Motors</td></tr><tr><td>BR1507</td><td>Peel Motors</td></tr><tr><td>BR2080</td><td>Wiesmann Motors</td></tr><tr><td>BR0454</td><td>DeLorean Motors</td></tr><tr><td>BR0974</td><td>Jeep Motors</td></tr><tr><td>BR1026</td><td>Bentley Motors</td></tr><tr><td>BR13566</td><td>Ramani Motors</td></tr><tr><td>BR1457</td><td>Packard Motors</td></tr><tr><td>BR1684</td><td>SAIC Motor Motors</td></tr><tr><td>BR2301</td><td>Atlantic Motor Company</td></tr><tr><td>BR2310</td><td>Atlantic Motor Company</td></tr><tr><td>BR2384</td><td>Claremore Auto Dealership</td></tr><tr><td>BR2454</td><td>Jones Motor Company</td></tr><tr><td>BR0186</td><td>Alfa Romeo Motors</td></tr><tr><td>BR0834</td><td>Hudson Motors</td></tr><tr><td>BR0904</td><td>Invicta Motors</td></tr><tr><td>BR0907</td><td>Invicta Motors</td></tr><tr><td>BR1200</td><td>Mastretta Motors</td></tr><tr><td>BR1889</td><td>Sunbeam Motors</td></tr><tr><td>BR2140</td><td>Horch Motors</td></tr><tr><td>BR2177</td><td>Lagonda  Motors</td></tr><tr><td>BR0810</td><td>Holden Motors</td></tr><tr><td>BR1530</td><td>Peugeot Motors</td></tr><tr><td>BR1638</td><td>Reliant Motors</td></tr><tr><td>BR1779</td><td>Shelby SuperCars Motors</td></tr><tr><td>BR1928</td><td>Tazzari Motors</td></tr><tr><td>BR1954</td><td>Toyota Motors</td></tr><tr><td>BR1998</td><td>UAZ Motors</td></tr><tr><td>BR2355</td><td>Cadillac Automobile Company Building</td></tr><tr><td>BR2359</td><td>Cadillac Automobile Company Building</td></tr><tr><td>BR0012</td><td>Acura Motors</td></tr><tr><td>BR0578</td><td>Fiat do Brasil Motors</td></tr><tr><td>BR0748</td><td>Gumpert Motors</td></tr><tr><td>BR1386</td><td>British Leyland Motors</td></tr><tr><td>BR1868</td><td>Studebaker Motors</td></tr><tr><td>BR1930</td><td>Tazzari Motors</td></tr><tr><td>BR0427</td><td>Daimler Motors</td></tr><tr><td>BR0924</td><td>Iso Motors</td></tr><tr><td>BR0949</td><td>Isuzu Motors</td></tr><tr><td>BR1001</td><td>Kia Motors</td></tr><tr><td>BR1157</td><td>Marcos Motors</td></tr><tr><td>BR1165</td><td>Marlin Motors</td></tr><tr><td>BR1188</td><td>Maserati Motors</td></tr><tr><td>BR1513</td><td>Perodua Motors</td></tr><tr><td>BR1751</td><td>Scion Motors</td></tr><tr><td>BR2029</td><td>Volkswagen Motors</td></tr><tr><td>BR2060</td><td>Volvo Motors</td></tr><tr><td>BR2137</td><td>Horch Motors</td></tr><tr><td>BR0403</td><td>DAF Motors</td></tr><tr><td>BR0645</td><td>Ford India Motors</td></tr><tr><td>BR0893</td><td>Innocenti Motors</td></tr><tr><td>BR1170</td><td>Marlin Motors</td></tr><tr><td>BR1371</td><td>Naza Motors</td></tr><tr><td>BR1858</td><td>Standard-Triumph Motors</td></tr><tr><td>BR2419</td><td>H Street Playhouse</td></tr><tr><td>BR3066</td><td>e.GO Mobile Motors</td></tr><tr><td>BR0061</td><td>AMC, Eagle Motors</td></tr><tr><td>BR0323</td><td>Chevrolet Motors</td></tr><tr><td>BR1475</td><td>Panhard Motors</td></tr><tr><td>BR1908</td><td>Tata Motors</td></tr><tr><td>BR2220</td><td>Riley  Motors</td></tr><tr><td>BR2286</td><td>Dacia Motors</td></tr><tr><td>BR2431</td><td>Hupmobile Building</td></tr><tr><td>BR0332</td><td>Chevrolet India Motors</td></tr><tr><td>BR0551</td><td>Ferrari Motors</td></tr><tr><td>BR0969</td><td>Jaguar Motors</td></tr><tr><td>BR1172</td><td>Maruti Motors</td></tr><tr><td>BR1203</td><td>Matra (including Deutsch-Bonnet, René Bonnet) Motors</td></tr><tr><td>BR1543</td><td>Piaggio Motors</td></tr><tr><td>BR1588</td><td>Porsche Motors</td></tr><tr><td>BR1800</td><td>Simca do Brasil Motors</td></tr><tr><td>BR1839</td><td>Spyker Motors</td></tr><tr><td>BR0221</td><td>Bristol Motors</td></tr><tr><td>BR0422</td><td>Daimler Motors</td></tr><tr><td>BR0450</td><td>Delahaye Motors</td></tr><tr><td>BR0669</td><td>FSO Motors</td></tr><tr><td>BR0712</td><td>Glas Motors</td></tr><tr><td>BR0804</td><td>Holden Motors</td></tr><tr><td>BR0844</td><td>Humber Motors</td></tr><tr><td>BR0970</td><td>Jaguar Motors</td></tr><tr><td>BR1092</td><td>Lincoln Motors</td></tr><tr><td>BR1184</td><td>Maserati Motors</td></tr><tr><td>BR1251</td><td>Mercury Motors</td></tr><tr><td>BR1287</td><td>Mia Motors</td></tr><tr><td>BR1582</td><td>Porsche Motors</td></tr><tr><td>BR1787</td><td>Simca Motors</td></tr><tr><td>BR2395</td><td>Clemens Automobile Company Building</td></tr><tr><td>BR0265</td><td>Bugatti Motors</td></tr><tr><td>BR0305</td><td>Caterham Motors</td></tr><tr><td>BR0860</td><td>Hummer Motors</td></tr><tr><td>BR1023</td><td>KTM Motors</td></tr><tr><td>BR1037</td><td>Lada Motors</td></tr><tr><td>BR10446</td><td>Saturn Motors</td></tr><tr><td>BR4386</td><td>GTA Spano Motors</td></tr><tr><td>BR0060</td><td>Alvis Motors</td></tr><tr><td>BR0123</td><td>Aston Martin Motors</td></tr><tr><td>BR0239</td><td>British Leyland Motors</td></tr><tr><td>BR0306</td><td>Alvis Motors</td></tr><tr><td>BR10026</td><td>Saab Motors</td></tr><tr><td>BR1217</td><td>Mazda Motors</td></tr><tr><td>BR1914</td><td>Tatra Motors</td></tr><tr><td>BR2113</td><td>Audi Motors</td></tr><tr><td>BR4626</td><td>Hennessey Motors</td></tr><tr><td>BR0381</td><td>Dacia Motors</td></tr><tr><td>BR0629</td><td>Ford do Brasil Motors</td></tr><tr><td>BR1060</td><td>Lancia Motors</td></tr><tr><td>BR1145</td><td>Mahindra Motors</td></tr><tr><td>BR1229</td><td>Mazzanti Motors</td></tr><tr><td>BR1252</td><td>Mercury Motors</td></tr><tr><td>BR1602</td><td>Proton Motors</td></tr><tr><td>BR1793</td><td>Simca do Brasil Motors</td></tr><tr><td>BR2130</td><td>DKW Motors</td></tr><tr><td>BR2411</td><td>H Street Playhouse</td></tr><tr><td>BR0215</td><td>Borgward (including Goliath and Lloyd) Motors</td></tr><tr><td>BR0329</td><td>Chevrolet Motors</td></tr><tr><td>BR0441</td><td>Delahaye Motors</td></tr><tr><td>BR1059</td><td>Lancia Motors</td></tr><tr><td>BR13386</td><td>Standard  Motors</td></tr><tr><td>BR1590</td><td>Porsche Motors</td></tr><tr><td>BR1647</td><td>Renault Motors</td></tr><tr><td>BR1777</td><td>Shelby SuperCars Motors</td></tr><tr><td>BR2040</td><td>Volkswagen do Brasil Motors</td></tr><tr><td>BR2164</td><td>Izh  Motors</td></tr><tr><td>BR0483</td><td>Dodge Motors</td></tr><tr><td>BR0739</td><td>GTA Spano Motors</td></tr><tr><td>BR0987</td><td>Jensen Motors</td></tr><tr><td>BR1129</td><td>LuAZ Motors</td></tr><tr><td>BR12126</td><td>Volkswagen Motors</td></tr><tr><td>BR1275</td><td>Messerschmitt Motors</td></tr><tr><td>BR1495</td><td>Panther Motors</td></tr><tr><td>BR1657</td><td>Rivian Motors</td></tr><tr><td>BR1686</td><td>Bytom Motors</td></tr><tr><td>BR0228</td><td>Bristol Motors</td></tr><tr><td>BR0272</td><td>Buick Motors</td></tr><tr><td>BR10386</td><td>Santana Motors</td></tr><tr><td>BR1080</td><td>Lexus Motors</td></tr><tr><td>BR1148</td><td>Mahindra Motors</td></tr><tr><td>BR1150</td><td>Mahindra Motors</td></tr><tr><td>BR1370</td><td>Nash Motors</td></tr><tr><td>BR1673</td><td>Saab Motors</td></tr><tr><td>BR0324</td><td>Chevrolet Motors</td></tr><tr><td>BR0815</td><td>Honda Motors</td></tr><tr><td>BR0985</td><td>Jensen Motors</td></tr><tr><td>BR1127</td><td>LuAZ Motors</td></tr><tr><td>BR12606</td><td>ZIL Motors</td></tr><tr><td>BR1655</td><td>Rivian Motors</td></tr><tr><td>BR1841</td><td>SsangYong Motors</td></tr><tr><td>BR2118</td><td>Audi Motors</td></tr><tr><td>BR2368</td><td>Casa de cadillac</td></tr><tr><td>BR0277</td><td>Buick Motors</td></tr><tr><td>BR0827</td><td>Honda India Motors</td></tr><tr><td>BR1365</td><td>Nash Motors</td></tr><tr><td>BR1784</td><td>Simca Motors</td></tr><tr><td>BR2190</td><td>MG  Motors</td></tr><tr><td>BR5226</td><td>IFA (including Trabant, Wartburg, Barkas) Motors</td></tr><tr><td>BR0188</td><td>Bitter Motors</td></tr><tr><td>BR0432</td><td>Datsun Motors</td></tr><tr><td>BR1701</td><td>Samsung Motors</td></tr><tr><td>BR2009</td><td>Vauxhall Motors</td></tr><tr><td>BR2030</td><td>Volkswagen Motors</td></tr><tr><td>BR2058</td><td>Volvo Motors</td></tr><tr><td>BR2271</td><td>Deccan Motors</td></tr><tr><td>BR2303</td><td>Atlantic Motor Company</td></tr><tr><td>BR2357</td><td>Cadillac Automobile Company Building</td></tr><tr><td>BR0003</td><td>AC Cars Motors</td></tr><tr><td>BR0050</td><td>Alpine Motors</td></tr><tr><td>BR0227</td><td>Bristol Motors</td></tr><tr><td>BR0521</td><td>Eicher Polaris Motors</td></tr><tr><td>BR0620</td><td>Ford Australia Motors</td></tr><tr><td>BR0623</td><td>Ford do Brasil Motors</td></tr><tr><td>BR0807</td><td>Holden Motors</td></tr><tr><td>BR1450</td><td>Opel Motors</td></tr><tr><td>BR1971</td><td>Turner Motors</td></tr><tr><td>BR1987</td><td>TVR Motors</td></tr><tr><td>BR2119</td><td>Audi Motors</td></tr><tr><td>BR0072</td><td>Anadol Motors</td></tr><tr><td>BR0078</td><td>Anadol Motors</td></tr><tr><td>BR0081</td><td>Ariel Motors</td></tr><tr><td>BR0118</td><td>Asia Motors Motors</td></tr><tr><td>BR0180</td><td>Bentley Motors</td></tr><tr><td>BR0203</td><td>Bond Motors</td></tr><tr><td>BR1138</td><td>Lynx Motors</td></tr><tr><td>BR1238</td><td>McLaren Motors</td></tr><tr><td>BR2346</td><td>Daewoo, Saehan, Chevrolet Korea Motors</td></tr><tr><td>BR6006</td><td>Kia Motors</td></tr><tr><td>BR0047</td><td>Alpine Motors</td></tr><tr><td>BR0253</td><td>Austin, Rover Motors</td></tr><tr><td>BR0601</td><td>Ford America Motors</td></tr><tr><td>BR0833</td><td>Hudson Motors</td></tr><tr><td>BR10806</td><td>Singer Motors</td></tr><tr><td>BR1158</td><td>Marcos Motors</td></tr><tr><td>BR1502</td><td>Peel Motors</td></tr><tr><td>BR1555</td><td>Plymouth Motors</td></tr><tr><td>BR1611</td><td>Puma Motors</td></tr><tr><td>BR1635</td><td>Reliant Motors</td></tr><tr><td>BR1852</td><td>Standard-Triumph Motors</td></tr><tr><td>BR1980</td><td>Turner Motors</td></tr><tr><td>BR2028</td><td>Volkswagen Motors</td></tr><tr><td>BR2229</td><td>Wolseley  Motors</td></tr><tr><td>BR2338</td><td>Bohn Motor Company Automobile Dealership</td></tr><tr><td>BR8286</td><td>Nissan Motors</td></tr><tr><td>BR0043</td><td>Alpine Motors</td></tr><tr><td>BR0194</td><td>BMW Motors</td></tr><tr><td>BR0695</td><td>Gilbern Motors</td></tr><tr><td>BR1028</td><td>KTM Motors</td></tr><tr><td>BR1178</td><td>Maruti Motors</td></tr><tr><td>BR1669</td><td>Rolls-Royce Motors</td></tr><tr><td>BR2330</td><td>Blankinship Motor Company Building</td></tr><tr><td>BR2358</td><td>Cadillac Automobile Company Building</td></tr><tr><td>BR0704</td><td>Ginetta Motors</td></tr><tr><td>BR0721</td><td>GMC Motors</td></tr><tr><td>BR0838</td><td>Hudson Motors</td></tr><tr><td>BR10146</td><td>Saleen Motors</td></tr><tr><td>BR1087</td><td>Ligier Motors</td></tr><tr><td>BR1266</td><td>Borgward (including Goliath and Lloyd) Motors</td></tr><tr><td>BR2331</td><td>Bohn Motor Company Automobile Dealership</td></tr><tr><td>BR2345</td><td>Buick Automobile Company Building</td></tr><tr><td>BR2347</td><td>Buick Automobile Company Building</td></tr><tr><td>BR0205</td><td>Bond Motors</td></tr><tr><td>BR0278</td><td>Buick Motors</td></tr><tr><td>BR0333</td><td>Chevrolet India Motors</td></tr><tr><td>BR0412</td><td>Daihatsu Motors</td></tr><tr><td>BR0460</td><td>DeLorean Motors</td></tr><tr><td>BR0520</td><td>e.GO Mobile Motors</td></tr><tr><td>BR0726</td><td>Aston Martin Motors</td></tr><tr><td>BR0837</td><td>Hudson Motors</td></tr><tr><td>BR0908</td><td>Invicta Motors</td></tr><tr><td>BR11286</td><td>Sunbeam Motors</td></tr><tr><td>BR1480</td><td>Panhard Motors</td></tr><tr><td>BR0165</td><td>Auverland Motors</td></tr><tr><td>BR0600</td><td>Fisker, Karma Motors</td></tr><tr><td>BR0979</td><td>Jeep Motors</td></tr><tr><td>BR1035</td><td>Lada Motors</td></tr><tr><td>BR1210</td><td>Matra (including Deutsch-Bonnet, René Bonnet) Motors</td></tr><tr><td>BR1264</td><td>Merkur Motors</td></tr><tr><td>BR1559</td><td>Plymouth Motors</td></tr><tr><td>BR1573</td><td>Pontiac, Asüna Motors</td></tr><tr><td>BR2450</td><td>Jennings Ford Automobile Dealership</td></tr><tr><td>BR0083</td><td>Ariel Motors</td></tr><tr><td>BR0161</td><td>Auverland Motors</td></tr><tr><td>BR0197</td><td>BMW Motors</td></tr><tr><td>BR0481</td><td>Dodge Motors</td></tr><tr><td>BR0567</td><td>Fiat Motors</td></tr><tr><td>BR0945</td><td>Isuzu Motors</td></tr><tr><td>BR11406</td><td>Tata Motors</td></tr><tr><td>BR1521</td><td>Peugeot Motors</td></tr><tr><td>BR1814</td><td>Skoda Motors</td></tr><tr><td>BR2007</td><td>Vauxhall Motors</td></tr><tr><td>BR2405</td><td>Colman Automotive Building</td></tr><tr><td>BR0655</td><td>Freightliner Motors</td></tr><tr><td>BR0964</td><td>Jaguar Motors</td></tr><tr><td>BR1013</td><td>Koenigsegg Motors</td></tr><tr><td>BR1834</td><td>Spyker Motors</td></tr><tr><td>BR1835</td><td>Spyker Motors</td></tr><tr><td>BR0200</td><td>BMW Motors</td></tr><tr><td>BR0240</td><td>British Leyland Motors</td></tr><tr><td>BR0657</td><td>Freightliner Motors</td></tr><tr><td>BR0665</td><td>FSO Motors</td></tr><tr><td>BR0698</td><td>Gilbern Motors</td></tr><tr><td>BR0741</td><td>Gumpert Motors</td></tr><tr><td>BR1113</td><td>LTI Motors</td></tr><tr><td>BR1198</td><td>Mastretta Motors</td></tr><tr><td>BR1253</td><td>Mercury Motors</td></tr><tr><td>BR1807</td><td>Singer Motors</td></tr><tr><td>BR1897</td><td>Suzuki Motors</td></tr><tr><td>BR1905</td><td>Tata Motors</td></tr><tr><td>BR2000</td><td>UAZ Motors</td></tr><tr><td>BR6366</td><td>Land Rover Motors</td></tr><tr><td>BR0055</td><td>Alvis Motors</td></tr><tr><td>BR0902</td><td>Invicta Motors</td></tr><tr><td>BR1110</td><td>Lotus Motors</td></tr><tr><td>BR1511</td><td>Perodua Motors</td></tr><tr><td>BR2152</td><td>Maybach  Motors</td></tr><tr><td>BR2444</td><td>Jennings Ford Automobile Dealership</td></tr><tr><td>BR0066</td><td>Acura Motors</td></tr><tr><td>BR0294</td><td>Cadillac Motors</td></tr><tr><td>BR0814</td><td>Honda Motors</td></tr><tr><td>BR0839</td><td>Hudson Motors</td></tr><tr><td>BR0873</td><td>IFA (including Trabant, Wartburg, Barkas) Motors</td></tr><tr><td>BR11826</td><td>Turner Motors</td></tr><tr><td>BR1189</td><td>Maserati Motors</td></tr><tr><td>BR1259</td><td>Mercury Motors</td></tr><tr><td>BR1808</td><td>Singer Motors</td></tr><tr><td>BR2004</td><td>Vauxhall Motors</td></tr><tr><td>BR2027</td><td>Volkswagen Motors</td></tr><tr><td>BR0317</td><td>Checker Motors</td></tr><tr><td>BR1333</td><td>Monteverdi Motors</td></tr><tr><td>BR1651</td><td>Rivian Motors</td></tr><tr><td>BR1803</td><td>Singer Motors</td></tr><tr><td>BR2103</td><td>ZIL Motors</td></tr><tr><td>BR2132</td><td>Horch Motors</td></tr><tr><td>BR2260</td><td>Das Motors</td></tr><tr><td>BR2350</td><td>Buick Automobile Company Building</td></tr><tr><td>BR2421</td><td>Howard Motor Company Building</td></tr><tr><td>BR0071</td><td>Anadol Motors</td></tr><tr><td>BR0160</td><td>Auto-Union Motors</td></tr><tr><td>BR0175</td><td>Bentley Motors</td></tr><tr><td>BR0413</td><td>Daihatsu Motors</td></tr><tr><td>BR0635</td><td>Ford Europe Motors</td></tr><tr><td>BR0693</td><td>Gilbern Motors</td></tr><tr><td>BR0734</td><td>GTA Spano Motors</td></tr><tr><td>BR1663</td><td>Rolls-Royce Motors</td></tr><tr><td>BR1874</td><td>Subaru Motors</td></tr><tr><td>BR2122</td><td>DKW Motors</td></tr><tr><td>BR8886</td><td>Panoz Motors</td></tr><tr><td>BR0192</td><td>BMW Motors</td></tr><tr><td>BR0255</td><td>Austin, Rover Motors</td></tr><tr><td>BR0637</td><td>Ford Europe Motors</td></tr><tr><td>BR0757</td><td>Healey Motors</td></tr><tr><td>BR0965</td><td>Jaguar Motors</td></tr><tr><td>BR1078</td><td>Lexus Motors</td></tr><tr><td>BR1262</td><td>Merkur Motors</td></tr><tr><td>BR1352</td><td>Moskwitch Motors</td></tr><tr><td>BR1448</td><td>Opel Motors</td></tr><tr><td>BR1631</td><td>Reliant Motors</td></tr><tr><td>BR1633</td><td>Reliant Motors</td></tr><tr><td>BR1665</td><td>Rolls-Royce Motors</td></tr><tr><td>BR2169</td><td>Izh  Motors</td></tr><tr><td>BR2272</td><td>Deccan Motors</td></tr><tr><td>BR2318</td><td>2008 NRHP-listed</td></tr><tr><td>BR1224</td><td>Mazzanti Motors</td></tr><tr><td>BR1339</td><td>Monteverdi Motors</td></tr><tr><td>BR1699</td><td>Saleen Motors</td></tr><tr><td>BR1739</td><td>Santana Motors</td></tr><tr><td>BR1972</td><td>Turner Motors</td></tr><tr><td>BR2439</td><td>Hupmobile Building</td></tr><tr><td>BR0052</td><td>Alvis Motors</td></tr><tr><td>BR0119</td><td>Asia Motors Motors</td></tr><tr><td>BR0723</td><td>GMC Motors</td></tr><tr><td>BR1167</td><td>Marlin Motors</td></tr><tr><td>BR1545</td><td>Piaggio Motors</td></tr><tr><td>BR2401</td><td>Colman Automotive Building</td></tr><tr><td>BR2586</td><td>Datsun Motors</td></tr><tr><td>BR0419</td><td>Daihatsu Motors</td></tr><tr><td>BR0867</td><td>Hyundai Motors</td></tr><tr><td>BR1770</td><td>Seat Motors</td></tr><tr><td>BR1824</td><td>Smart Motors</td></tr><tr><td>BR2348</td><td>Buick Automobile Company Building</td></tr><tr><td>BR0185</td><td>Bitter Motors</td></tr><tr><td>BR0455</td><td>DeLorean Motors</td></tr><tr><td>BR0692</td><td>Gilbern Motors</td></tr><tr><td>BR0790</td><td>Hillman Motors</td></tr><tr><td>BR0955</td><td>Iveco Motors</td></tr><tr><td>BR0978</td><td>Jeep Motors</td></tr><tr><td>BR1420</td><td>NSU Motors</td></tr><tr><td>BR1522</td><td>Peugeot Motors</td></tr><tr><td>BR1719</td><td>San Motors</td></tr><tr><td>BR2335</td><td>Bohn Motor Company Automobile Dealership</td></tr><tr><td>BR1499</td><td>Panther Motors</td></tr><tr><td>BR3906</td><td>Freightliner Motors</td></tr><tr><td>BR6186</td><td>Lada Motors</td></tr><tr><td>BR0299</td><td>Cadillac Motors</td></tr><tr><td>BR0438</td><td>Datsun Motors</td></tr><tr><td>BR1629</td><td>Ranger Motors</td></tr><tr><td>BR1941</td><td>Tornado Motors</td></tr><tr><td>BR2032</td><td>Volkswagen do Brasil Motors</td></tr><tr><td>BR2057</td><td>Volvo Motors</td></tr><tr><td>BR2241</td><td>Talbot  Motors</td></tr><tr><td>BR0191</td><td>BMW Motors</td></tr><tr><td>BR0537</td><td>Elva Motors</td></tr><tr><td>BR1623</td><td>Ranger Motors</td></tr><tr><td>BR2284</td><td>Herald Motors</td></tr><tr><td>BR0035</td><td>Alfa Romeo Motors</td></tr><tr><td>BR0785</td><td>Hillman Motors</td></tr><tr><td>BR0818</td><td>Honda Motors</td></tr><tr><td>BR1137</td><td>Lynx Motors</td></tr><tr><td>BR1146</td><td>BMW Motors</td></tr><tr><td>BR1759</td><td>Scion Motors</td></tr><tr><td>BR2375</td><td>Cass Motor Sales</td></tr><tr><td>BR3426</td><td>Fiat do Brasil Motors</td></tr><tr><td>BR0613</td><td>Ford Australia Motors</td></tr><tr><td>BR1205</td><td>Matra (including Deutsch-Bonnet, René Bonnet) Motors</td></tr><tr><td>BR1515</td><td>Perodua Motors</td></tr><tr><td>BR1618</td><td>Puma Motors</td></tr><tr><td>BR2766</td><td>DeSoto Motors</td></tr><tr><td>BR0127</td><td>Aston Martin Motors</td></tr><tr><td>BR1447</td><td>Opel Motors</td></tr><tr><td>BR1823</td><td>Smart Motors</td></tr><tr><td>BR2259</td><td>Das Motors</td></tr><tr><td>BR0199</td><td>BMW Motors</td></tr><tr><td>BR0201</td><td>Bond Motors</td></tr><tr><td>BR0237</td><td>British Leyland Motors</td></tr><tr><td>BR0493</td><td>Donkervoort Motors</td></tr><tr><td>BR1041</td><td>Lamborghini Motors</td></tr><tr><td>BR1485</td><td>Panoz Motors</td></tr><tr><td>BR1527</td><td>Peugeot Motors</td></tr><tr><td>BR2417</td><td>H Street Playhouse</td></tr><tr><td>BR7266</td><td>Mazda Motors</td></tr><tr><td>BR0128</td><td>Aston Martin Motors</td></tr><tr><td>BR0234</td><td>British Leyland Motors</td></tr><tr><td>BR1029</td><td>KTM Motors</td></tr><tr><td>BR1125</td><td>LuAZ Motors</td></tr><tr><td>BR1219</td><td>Mazda Motors</td></tr><tr><td>BR1421</td><td>Oldsmobile Motors</td></tr><tr><td>BR1523</td><td>Peugeot Motors</td></tr><tr><td>BR1764</td><td>Seat Motors</td></tr><tr><td>BR2195</td><td>Morris  Motors</td></tr><tr><td>BR2200</td><td>Morris  Motors</td></tr><tr><td>BR2317</td><td>2008 NRHP-listed</td></tr><tr><td>BR0028</td><td>Aixam-Mega (including Arola) Motors</td></tr><tr><td>BR0038</td><td>Alfa Romeo Motors</td></tr><tr><td>BR0872</td><td>IFA (including Trabant, Wartburg, Barkas) Motors</td></tr><tr><td>BR0898</td><td>Innocenti Motors</td></tr><tr><td>BR0912</td><td>Isdera Motors</td></tr><tr><td>BR1005</td><td>Kia Motors</td></tr><tr><td>BR1147</td><td>Mahindra Motors</td></tr><tr><td>BR1999</td><td>UAZ Motors</td></tr><tr><td>BR2023</td><td>Volkswagen Motors</td></tr><tr><td>BR2108</td><td>ZIL Motors</td></tr><tr><td>BR2341</td><td>Buick Automobile Company Building</td></tr><tr><td>BR2344</td><td>Buick Automobile Company Building</td></tr><tr><td>BR0008</td><td>AC Cars Motors</td></tr><tr><td>BR0445</td><td>Delahaye Motors</td></tr><tr><td>BR1493</td><td>Panther Motors</td></tr><tr><td>BR1754</td><td>Scion Motors</td></tr><tr><td>BR2059</td><td>Volvo Motors</td></tr><tr><td>BR0024</td><td>Aixam-Mega (including Arola) Motors</td></tr><tr><td>BR0524</td><td>Eicher Polaris Motors</td></tr><tr><td>BR1218</td><td>Mazda Motors</td></tr><tr><td>BR1482</td><td>Panoz Motors</td></tr><tr><td>BR1687</td><td>SAIC Motor Motors</td></tr><tr><td>BR1838</td><td>Spyker Motors</td></tr><tr><td>BR1902</td><td>Tata Motors</td></tr><tr><td>BR1977</td><td>Turner Motors</td></tr><tr><td>BR2201</td><td>Austin  Motors</td></tr><tr><td>BR2374</td><td>Cass Motor Sales</td></tr><tr><td>BR1175</td><td>Maruti Motors</td></tr><tr><td>BR1544</td><td>Piaggio Motors</td></tr><tr><td>BR1641</td><td>Renault Motors</td></tr><tr><td>BR0214</td><td>Borgward (including Goliath and Lloyd) Motors</td></tr><tr><td>BR0588</td><td>Fiat India Motors</td></tr><tr><td>BR1049</td><td>Lamborghini Motors</td></tr><tr><td>BR1727</td><td>Santa Matilde Motors</td></tr><tr><td>BR2105</td><td>ZIL Motors</td></tr><tr><td>BR0369</td><td>Citroën Motors</td></tr><tr><td>BR0555</td><td>Ferrari Motors</td></tr><tr><td>BR0615</td><td>Ford Australia Motors</td></tr><tr><td>BR0840</td><td>Hudson Motors</td></tr><tr><td>BR1121</td><td>LuAZ Motors</td></tr><tr><td>BR1314</td><td>Mitsubishi Motors</td></tr><tr><td>BR1563</td><td>Polestar Motors</td></tr><tr><td>BR2239</td><td>Standard  Motors</td></tr><tr><td>BR2339</td><td>Bohn Motor Company Automobile Dealership</td></tr><tr><td>BR2393</td><td>Clemens Automobile Company Building</td></tr></tbody></table></div>"
      ]
     },
     "metadata": {
      "application/vnd.databricks.v1+output": {
       "addedWidgets": {},
       "aggData": [],
       "aggError": "",
       "aggOverflow": false,
       "aggSchema": [],
       "aggSeriesLimitReached": false,
       "aggType": "",
       "arguments": {},
       "columnCustomDisplayInfos": {},
       "data": [
        [
         "BR0131",
         "Audi Motors"
        ],
        [
         "BR0760",
         "Healey Motors"
        ],
        [
         "BR0789",
         "Hillman Motors"
        ],
        [
         "BR0938",
         "Isotta Fraschini Motors"
        ],
        [
         "BR1040",
         "Lada Motors"
        ],
        [
         "BR1693",
         "Saleen Motors"
        ],
        [
         "BR1792",
         "Simca do Brasil Motors"
        ],
        [
         "BR1799",
         "Simca do Brasil Motors"
        ],
        [
         "BR1955",
         "Toyota Motors"
        ],
        [
         "BR1978",
         "Turner Motors"
        ],
        [
         "BR2068",
         "Westfield Motors"
        ],
        [
         "BR2332",
         "Bohn Motor Company Automobile Dealership"
        ],
        [
         "BR0151",
         "Auto-Union Motors"
        ],
        [
         "BR0409",
         "DAF Motors"
        ],
        [
         "BR0434",
         "Datsun Motors"
        ],
        [
         "BR0599",
         "Fisker, Karma Motors"
        ],
        [
         "BR0753",
         "Healey Motors"
        ],
        [
         "BR1143",
         "Mahindra Motors"
        ],
        [
         "BR12246",
         "Volkswagen South Africa Motors"
        ],
        [
         "BR1233",
         "McLaren Motors"
        ],
        [
         "BR1558",
         "Plymouth Motors"
        ],
        [
         "BR1795",
         "Simca do Brasil Motors"
        ],
        [
         "BR1847",
         "SsangYong Motors"
        ],
        [
         "BR1943",
         "Tornado Motors"
        ],
        [
         "BR2054",
         "Volvo Motors"
        ],
        [
         "BR2063",
         "Westfield Motors"
        ],
        [
         "BR0019",
         "Acura Motors"
        ],
        [
         "BR0145",
         "Autobianchi Motors"
        ],
        [
         "BR0913",
         "Isdera Motors"
        ],
        [
         "BR1340",
         "Monteverdi Motors"
        ],
        [
         "BR1630",
         "Ranger Motors"
        ],
        [
         "BR1865",
         "Studebaker Motors"
        ],
        [
         "BR2139",
         "Horch Motors"
        ],
        [
         "BR0274",
         "Buick Motors"
        ],
        [
         "BR0308",
         "Caterham Motors"
        ],
        [
         "BR0399",
         "Daewoo, Saehan, Chevrolet Korea Motors"
        ],
        [
         "BR0471",
         "De Tomaso Motors"
        ],
        [
         "BR0731",
         "GTA Spano Motors"
        ],
        [
         "BR0759",
         "Healey Motors"
        ],
        [
         "BR1383",
         "Nissan Motors"
        ],
        [
         "BR1664",
         "Rolls-Royce Motors"
        ],
        [
         "BR1769",
         "Seat Motors"
        ],
        [
         "BR2262",
         "Ramani Motors"
        ],
        [
         "BR2352",
         "Cadillac Automobile Company Building"
        ],
        [
         "BR0114",
         "Asia Motors Motors"
        ],
        [
         "BR0462",
         "DeSoto Motors"
        ],
        [
         "BR0699",
         "Gilbern Motors"
        ],
        [
         "BR0793",
         "Hindustan Motors"
        ],
        [
         "BR1479",
         "Panhard Motors"
        ],
        [
         "BR2275",
         "Deccan Motors"
        ],
        [
         "BR0138",
         "Audi Motors"
        ],
        [
         "BR0202",
         "Bond Motors"
        ],
        [
         "BR0700",
         "Gilbern Motors"
        ],
        [
         "BR0988",
         "Jensen Motors"
        ],
        [
         "BR9246",
         "Piaggio Motors"
        ],
        [
         "BR0095",
         "ARO Motors"
        ],
        [
         "BR0351",
         "Chrysler Europe Motors"
        ],
        [
         "BR0368",
         "Citroën Motors"
        ],
        [
         "BR0614",
         "Ford Australia Motors"
        ],
        [
         "BR1248",
         "Mercedes-Benz (including Maybach) Motors"
        ],
        [
         "BR1884",
         "Sunbeam Motors"
        ],
        [
         "BR2035",
         "Volkswagen do Brasil Motors"
        ],
        [
         "BR0070",
         "AMC, Eagle Motors"
        ],
        [
         "BR0251",
         "Austin, Rover Motors"
        ],
        [
         "BR0262",
         "Bugatti Motors"
        ],
        [
         "BR1243",
         "Mercedes-Benz (including Maybach) Motors"
        ],
        [
         "BR1289",
         "Mia Motors"
        ],
        [
         "BR1405",
         "Noble Motors"
        ],
        [
         "BR2033",
         "Volkswagen do Brasil Motors"
        ],
        [
         "BR2329",
         "Blankinship Motor Company Building"
        ],
        [
         "BR2385",
         "Claremore Auto Dealership"
        ],
        [
         "BR0130",
         "Aston Martin Motors"
        ],
        [
         "BR0891",
         "Innocenti Motors"
        ],
        [
         "BR1177",
         "Maruti Motors"
        ],
        [
         "BR1321",
         "Monica Motors"
        ],
        [
         "BR13626",
         "Deccan Motors"
        ],
        [
         "BR0064",
         "AMC, Eagle Motors"
        ],
        [
         "BR0673",
         "GAZ Motors"
        ],
        [
         "BR0685",
         "Geo Motors"
        ],
        [
         "BR0718",
         "Glas Motors"
        ],
        [
         "BR1298",
         "Micro Motors"
        ],
        [
         "BR1300",
         "Micro Motors"
        ],
        [
         "BR1347",
         "Morgan Motors"
        ],
        [
         "BR1373",
         "Naza Motors"
        ],
        [
         "BR2337",
         "Bohn Motor Company Automobile Dealership"
        ],
        [
         "BR0231",
         "British Leyland Motors"
        ],
        [
         "BR0895",
         "Innocenti Motors"
        ],
        [
         "BR1228",
         "Mazzanti Motors"
        ],
        [
         "BR1617",
         "Puma Motors"
        ],
        [
         "BR1637",
         "Reliant Motors"
        ],
        [
         "BR1680",
         "Saab Motors"
        ],
        [
         "BR1821",
         "Smart Motors"
        ],
        [
         "BR1940",
         "Tesla Motors"
        ],
        [
         "BR2391",
         "Clemens Automobile Company Building"
        ],
        [
         "BR2467",
         "Kindel Building"
        ],
        [
         "BR3186",
         "Elva Motors"
        ],
        [
         "BR5466",
         "Isdera Motors"
        ],
        [
         "BR9126",
         "Peugeot Motors"
        ],
        [
         "BR0104",
         "Artega Motors"
        ],
        [
         "BR0354",
         "Chrysler Europe Motors"
        ],
        [
         "BR0494",
         "Donkervoort Motors"
        ],
        [
         "BR0528",
         "Eicher Polaris Motors"
        ],
        [
         "BR1074",
         "Lexus Motors"
        ],
        [
         "BR1503",
         "Peel Motors"
        ],
        [
         "BR1718",
         "San Motors"
        ],
        [
         "BR1864",
         "Studebaker Motors"
        ],
        [
         "BR1993",
         "UAZ Motors"
        ],
        [
         "BR2217",
         "Riley  Motors"
        ],
        [
         "BR0682",
         "Geo Motors"
        ],
        [
         "BR0905",
         "Invicta Motors"
        ],
        [
         "BR10686",
         "Simca Motors"
        ],
        [
         "BR1325",
         "Monica Motors"
        ],
        [
         "BR1568",
         "Polestar Motors"
        ],
        [
         "BR1822",
         "Smart Motors"
        ],
        [
         "BR2154",
         "Maybach  Motors"
        ],
        [
         "BR0011",
         "Acura Motors"
        ],
        [
         "BR0115",
         "Asia Motors Motors"
        ],
        [
         "BR0223",
         "Bristol Motors"
        ],
        [
         "BR0490",
         "Dodge Motors"
        ],
        [
         "BR0625",
         "Ford do Brasil Motors"
        ],
        [
         "BR1111",
         "LTI Motors"
        ],
        [
         "BR1829",
         "Smart Motors"
        ],
        [
         "BR2277",
         "Deccan Motors"
        ],
        [
         "BR2369",
         "Casa de cadillac"
        ],
        [
         "BR6066",
         "Koenigsegg Motors"
        ],
        [
         "BR0512",
         "e.GO Mobile Motors"
        ],
        [
         "BR0584",
         "Fiat India Motors"
        ],
        [
         "BR1691",
         "Saleen Motors"
        ],
        [
         "BR1845",
         "SsangYong Motors"
        ],
        [
         "BR1932",
         "Tesla Motors"
        ],
        [
         "BR0360",
         "Chrysler Europe Motors"
        ],
        [
         "BR0388",
         "Dacia Motors"
        ],
        [
         "BR0486",
         "Ariel Motors"
        ],
        [
         "BR0811",
         "Honda Motors"
        ],
        [
         "BR1105",
         "Lotus Motors"
        ],
        [
         "BR1762",
         "Seat Motors"
        ],
        [
         "BR1768",
         "Seat Motors"
        ],
        [
         "BR1960",
         "Toyota Motors"
        ],
        [
         "BR2322",
         "Blankinship Motor Company Building"
        ],
        [
         "BR2412",
         "H Street Playhouse"
        ],
        [
         "BR2440",
         "Hupmobile Building"
        ],
        [
         "BR0058",
         "Alvis Motors"
        ],
        [
         "BR0447",
         "Delahaye Motors"
        ],
        [
         "BR0479",
         "De Tomaso Motors"
        ],
        [
         "BR0501",
         "Edsel Motors"
        ],
        [
         "BR0919",
         "Isdera Motors"
        ],
        [
         "BR1152",
         "Marcos Motors"
        ],
        [
         "BR2289",
         "Herald Motors"
        ],
        [
         "BR9426",
         "Pontiac, Asüna Motors"
        ],
        [
         "BR0027",
         "Aixam-Mega (including Arola) Motors"
        ],
        [
         "BR0411",
         "Daihatsu Motors"
        ],
        [
         "BR1140",
         "Lynx Motors"
        ],
        [
         "BR2087",
         "Zastava Motors"
        ],
        [
         "BR2155",
         "Maybach  Motors"
        ],
        [
         "BR2233",
         "Standard  Motors"
        ],
        [
         "BR5406",
         "Invicta Motors"
        ],
        [
         "BR0463",
         "DeSoto Motors"
        ],
        [
         "BR0606",
         "Artega Motors"
        ],
        [
         "BR0662",
         "FSO Motors"
        ],
        [
         "BR1180",
         "Maruti Motors"
        ],
        [
         "BR1380",
         "Naza Motors"
        ],
        [
         "BR13986",
         "Bohn Motor Company Automobile Dealership"
        ],
        [
         "BR1553",
         "Plymouth Motors"
        ],
        [
         "BR1789",
         "Simca Motors"
        ],
        [
         "BR1957",
         "Toyota Motors"
        ],
        [
         "BR2025",
         "Volkswagen Motors"
        ],
        [
         "BR2100",
         "ZAZ Motors"
        ],
        [
         "BR2378",
         "Cass Motor Sales"
        ],
        [
         "BR0089",
         "Ariel Motors"
        ],
        [
         "BR0608",
         "Ford America Motors"
        ],
        [
         "BR0941",
         "Isuzu Motors"
        ],
        [
         "BR1273",
         "Messerschmitt Motors"
        ],
        [
         "BR1860",
         "Standard-Triumph Motors"
        ],
        [
         "BR1888",
         "Sunbeam Motors"
        ],
        [
         "BR2142",
         "Wanderer Motors"
        ],
        [
         "BR2319",
         "2008 NRHP-listed"
        ],
        [
         "BR0264",
         "Bugatti Motors"
        ],
        [
         "BR0498",
         "Donkervoort Motors"
        ],
        [
         "BR0829",
         "Honda India Motors"
        ],
        [
         "BR0890",
         "Infiniti Motors"
        ],
        [
         "BR1044",
         "Lamborghini Motors"
        ],
        [
         "BR13746",
         "Zion Automobils"
        ],
        [
         "BR1398",
         "Nissan India Motors"
        ],
        [
         "BR1877",
         "Subaru Motors"
        ],
        [
         "BR1927",
         "Tazzari Motors"
        ],
        [
         "BR2410",
         "Colman Automotive Building"
        ],
        [
         "BR0534",
         "Elva Motors"
        ],
        [
         "BR1442",
         "Opel Motors"
        ],
        [
         "BR1722",
         "Santa Matilde Motors"
        ],
        [
         "BR1990",
         "TVR Motors"
        ],
        [
         "BR2070",
         "Westfield Motors"
        ],
        [
         "BR2204",
         "Austin  Motors"
        ],
        [
         "BR0204",
         "Bond Motors"
        ],
        [
         "BR0717",
         "Glas Motors"
        ],
        [
         "BR0947",
         "Isuzu Motors"
        ],
        [
         "BR0983",
         "Jensen Motors"
        ],
        [
         "BR1003",
         "Kia Motors"
        ],
        [
         "BR11706",
         "Toyota Motors"
        ],
        [
         "BR1232",
         "McLaren Motors"
        ],
        [
         "BR1688",
         "SAIC Motor Motors"
        ],
        [
         "BR1809",
         "Singer Motors"
        ],
        [
         "BR1968",
         "Toyota India Motors"
        ],
        [
         "BR2018",
         "Venturi Motors"
        ],
        [
         "BR2022",
         "Volkswagen Motors"
        ],
        [
         "BR2226",
         "Cizeta-Moroder Motors"
        ],
        [
         "BR0235",
         "British Leyland Motors"
        ],
        [
         "BR0634",
         "Ford Europe Motors"
        ],
        [
         "BR0889",
         "Infiniti Motors"
        ],
        [
         "BR1318",
         "Mitsubishi Motors"
        ],
        [
         "BR1626",
         "Buick Motors"
        ],
        [
         "BR2267",
         "Ramani Motors"
        ],
        [
         "BR0591",
         "Fisker, Karma Motors"
        ],
        [
         "BR0642",
         "Ford India Motors"
        ],
        [
         "BR0930",
         "Iso Motors"
        ],
        [
         "BR1027",
         "KTM Motors"
        ],
        [
         "BR1065",
         "Land Rover Motors"
        ],
        [
         "BR1382",
         "Nissan Motors"
        ],
        [
         "BR1749",
         "Saturn Motors"
        ],
        [
         "BR2433",
         "Hupmobile Building"
        ],
        [
         "BR8406",
         "Noble Motors"
        ],
        [
         "BR0040",
         "Alfa Romeo Motors"
        ],
        [
         "BR0218",
         "Borgward (including Goliath and Lloyd) Motors"
        ],
        [
         "BR0337",
         "Chevrolet India Motors"
        ],
        [
         "BR1162",
         "Marlin Motors"
        ],
        [
         "BR0082",
         "Ariel Motors"
        ],
        [
         "BR0164",
         "Auverland Motors"
        ],
        [
         "BR0598",
         "Fisker, Karma Motors"
        ],
        [
         "BR0735",
         "GTA Spano Motors"
        ],
        [
         "BR1063",
         "Land Rover Motors"
        ],
        [
         "BR1579",
         "Pontiac, Asüna Motors"
        ],
        [
         "BR2149",
         "Wanderer Motors"
        ],
        [
         "BR2168",
         "Izh  Motors"
        ],
        [
         "BR0279",
         "Buick Motors"
        ],
        [
         "BR0884",
         "Infiniti Motors"
        ],
        [
         "BR1048",
         "Lamborghini Motors"
        ],
        [
         "BR1094",
         "Lincoln Motors"
        ],
        [
         "BR1292",
         "Micro Motors"
        ],
        [
         "BR1323",
         "Monica Motors"
        ],
        [
         "BR1395",
         "Nissan India Motors"
        ],
        [
         "BR1424",
         "Oldsmobile Motors"
        ],
        [
         "BR1477",
         "Panhard Motors"
        ],
        [
         "BR1670",
         "Rolls-Royce Motors"
        ],
        [
         "BR1708",
         "Samsung Motors"
        ],
        [
         "BR2039",
         "Volkswagen do Brasil Motors"
        ],
        [
         "BR2404",
         "Colman Automotive Building"
        ],
        [
         "BR0270",
         "Bugatti Motors"
        ],
        [
         "BR0275",
         "Buick Motors"
        ],
        [
         "BR0378",
         "Cizeta-Moroder Motors"
        ],
        [
         "BR0405",
         "DAF Motors"
        ],
        [
         "BR0592",
         "Fisker, Karma Motors"
        ],
        [
         "BR0881",
         "Infiniti Motors"
        ],
        [
         "BR0963",
         "Jaguar Motors"
        ],
        [
         "BR1320",
         "Mitsubishi Motors"
        ],
        [
         "BR1531",
         "PGO Motors"
        ],
        [
         "BR1612",
         "Puma Motors"
        ],
        [
         "BR1873",
         "Subaru Motors"
        ],
        [
         "BR2077",
         "Wiesmann Motors"
        ],
        [
         "BR2143",
         "Wanderer Motors"
        ],
        [
         "BR2223",
         "Wolseley  Motors"
        ],
        [
         "BR0509",
         "Edsel Motors"
        ],
        [
         "BR1267",
         "Merkur Motors"
        ],
        [
         "BR2225",
         "Wolseley  Motors"
        ],
        [
         "BR0168",
         "Auverland Motors"
        ],
        [
         "BR0318",
         "Checker Motors"
        ],
        [
         "BR0362",
         "Citroën Motors"
        ],
        [
         "BR0562",
         "Fiat Motors"
        ],
        [
         "BR0738",
         "GTA Spano Motors"
        ],
        [
         "BR0805",
         "Holden Motors"
        ],
        [
         "BR0934",
         "Isotta Fraschini Motors"
        ],
        [
         "BR1051",
         "Lancia Motors"
        ],
        [
         "BR11466",
         "Tatra Motors"
        ],
        [
         "BR1192",
         "Mastretta Motors"
        ],
        [
         "BR1746",
         "Cadillac Motors"
        ],
        [
         "BR1830",
         "Smart Motors"
        ],
        [
         "BR2297",
         "Zion Automobils"
        ],
        [
         "BR8046",
         "Morgan Motors"
        ],
        [
         "BR0037",
         "Alfa Romeo Motors"
        ],
        [
         "BR0268",
         "Bugatti Motors"
        ],
        [
         "BR0367",
         "Citroën Motors"
        ],
        [
         "BR1212",
         "Mazda Motors"
        ],
        [
         "BR13806",
         "Atlantic Motor Company"
        ],
        [
         "BR1491",
         "Panther Motors"
        ],
        [
         "BR1750",
         "Saturn Motors"
        ],
        [
         "BR1820",
         "Skoda Motors"
        ],
        [
         "BR2037",
         "Volkswagen do Brasil Motors"
        ],
        [
         "BR2248",
         "Talbot  Motors"
        ],
        [
         "BR2280",
         "Deccan Motors"
        ],
        [
         "BR7926",
         "Monica Motors"
        ],
        [
         "BR1149",
         "Mahindra Motors"
        ],
        [
         "BR1449",
         "Opel Motors"
        ],
        [
         "BR6786",
         "Lynx Motors"
        ],
        [
         "BR0059",
         "Alvis Motors"
        ],
        [
         "BR0497",
         "Donkervoort Motors"
        ],
        [
         "BR0561",
         "Fiat Motors"
        ],
        [
         "BR0933",
         "Isotta Fraschini Motors"
        ],
        [
         "BR1164",
         "Marlin Motors"
        ],
        [
         "BR11946",
         "UAZ Motors"
        ],
        [
         "BR1399",
         "Nissan India Motors"
        ],
        [
         "BR1414",
         "NSU Motors"
        ],
        [
         "BR1935",
         "Tesla Motors"
        ],
        [
         "BR2210",
         "Austin  Motors"
        ],
        [
         "BR3306",
         "Ferrari Motors"
        ],
        [
         "BR3546",
         "Fisker, Karma Motors"
        ],
        [
         "BR0075",
         "Anadol Motors"
        ],
        [
         "BR0135",
         "Audi Motors"
        ],
        [
         "BR0163",
         "Auverland Motors"
        ],
        [
         "BR0491",
         "Donkervoort Motors"
        ],
        [
         "BR0647",
         "Ford India Motors"
        ],
        [
         "BR0765",
         "Heinkel Motors"
        ],
        [
         "BR10206",
         "Samsung Motors"
        ],
        [
         "BR1353",
         "Moskwitch Motors"
        ],
        [
         "BR1561",
         "Polestar Motors"
        ],
        [
         "BR1828",
         "Smart Motors"
        ],
        [
         "BR2062",
         "Westfield Motors"
        ],
        [
         "BR2084",
         "Zastava Motors"
        ],
        [
         "BR2383",
         "Claremore Auto Dealership"
        ],
        [
         "BR0451",
         "DeLorean Motors"
        ],
        [
         "BR0701",
         "Ginetta Motors"
        ],
        [
         "BR0786",
         "Audi Motors"
        ],
        [
         "BR1293",
         "Micro Motors"
        ],
        [
         "BR2191",
         "Morris  Motors"
        ],
        [
         "BR4146",
         "Gilbern Motors"
        ],
        [
         "BR0285",
         "Bytom Motors"
        ],
        [
         "BR0525",
         "Eicher Polaris Motors"
        ],
        [
         "BR0714",
         "Glas Motors"
        ],
        [
         "BR1452",
         "Packard Motors"
        ],
        [
         "BR1660",
         "Rivian Motors"
        ],
        [
         "BR2244",
         "Talbot  Motors"
        ],
        [
         "BR5646",
         "Isuzu Motors"
        ],
        [
         "BR0575",
         "Fiat do Brasil Motors"
        ],
        [
         "BR0803",
         "Holden Motors"
        ],
        [
         "BR1195",
         "Mastretta Motors"
        ],
        [
         "BR1279",
         "Messerschmitt Motors"
        ],
        [
         "BR1844",
         "SsangYong Motors"
        ],
        [
         "BR2221",
         "Wolseley  Motors"
        ],
        [
         "BR0553",
         "Ferrari Motors"
        ],
        [
         "BR0579",
         "Fiat do Brasil Motors"
        ],
        [
         "BR0841",
         "Humber Motors"
        ],
        [
         "BR1045",
         "Lamborghini Motors"
        ],
        [
         "BR1112",
         "LTI Motors"
        ],
        [
         "BR12186",
         "Volkswagen do Brasil Motors"
        ],
        [
         "BR12366",
         "Westfield Motors"
        ],
        [
         "BR1460",
         "Packard Motors"
        ],
        [
         "BR1597",
         "Premier Motors"
        ],
        [
         "BR2192",
         "Morris  Motors"
        ],
        [
         "BR0158",
         "Auto-Union Motors"
        ],
        [
         "BR0243",
         "Austin-Healey Motors"
        ],
        [
         "BR0298",
         "Cadillac Motors"
        ],
        [
         "BR0771",
         "Hennessey Motors"
        ],
        [
         "BR0857",
         "Hummer Motors"
        ],
        [
         "BR1155",
         "Marcos Motors"
        ],
        [
         "BR12786",
         "Horch Motors"
        ],
        [
         "BR12966",
         "Izh  Motors"
        ],
        [
         "BR2185",
         "MG  Motors"
        ],
        [
         "BR7446",
         "Mercedes-Benz (including Maybach) Motors"
        ],
        [
         "BR0172",
         "Bentley Motors"
        ],
        [
         "BR0392",
         "Daewoo, Saehan, Chevrolet Korea Motors"
        ],
        [
         "BR0943",
         "Isuzu Motors"
        ],
        [
         "BR1047",
         "Lamborghini Motors"
        ],
        [
         "BR14706",
         "Jones Motor Company"
        ],
        [
         "BR1598",
         "Premier Motors"
        ],
        [
         "BR1755",
         "Scion Motors"
        ],
        [
         "BR2005",
         "Vauxhall Motors"
        ],
        [
         "BR2188",
         "MG  Motors"
        ],
        [
         "BR0017",
         "Acura Motors"
        ],
        [
         "BR0651",
         "Freightliner Motors"
        ],
        [
         "BR0900",
         "Innocenti Motors"
        ],
        [
         "BR1288",
         "Mia Motors"
        ],
        [
         "BR1330",
         "Monica Motors"
        ],
        [
         "BR1390",
         "Nissan Motors"
        ],
        [
         "BR1862",
         "Studebaker Motors"
        ],
        [
         "BR1871",
         "Subaru Motors"
        ],
        [
         "BR1939",
         "Tesla Motors"
        ],
        [
         "BR1951",
         "Toyota Motors"
        ],
        [
         "BR2083",
         "Zastava Motors"
        ],
        [
         "BR2415",
         "H Street Playhouse"
        ],
        [
         "BR4086",
         "Geo Motors"
        ],
        [
         "BR0708",
         "Ginetta Motors"
        ],
        [
         "BR0801",
         "Holden Motors"
        ],
        [
         "BR1220",
         "Mazda Motors"
        ],
        [
         "BR1369",
         "Nash Motors"
        ],
        [
         "BR1384",
         "Nissan Motors"
        ],
        [
         "BR1464",
         "Pagani Motors"
        ],
        [
         "BR1778",
         "Shelby SuperCars Motors"
        ],
        [
         "BR2097",
         "ZAZ Motors"
        ],
        [
         "BR1438",
         "Oltcit Motors"
        ],
        [
         "BR1461",
         "Pagani Motors"
        ],
        [
         "BR1771",
         "Shelby SuperCars Motors"
        ],
        [
         "BR2445",
         "Jennings Ford Automobile Dealership"
        ],
        [
         "BR2449",
         "Jennings Ford Automobile Dealership"
        ],
        [
         "BR2706",
         "DeLorean Motors"
        ],
        [
         "BR0347",
         "Chrysler Motors"
        ],
        [
         "BR0353",
         "Chrysler Europe Motors"
        ],
        [
         "BR0604",
         "Ford America Motors"
        ],
        [
         "BR0770",
         "Heinkel Motors"
        ],
        [
         "BR1632",
         "Reliant Motors"
        ],
        [
         "BR2420",
         "H Street Playhouse"
        ],
        [
         "BR4986",
         "Hudson Motors"
        ],
        [
         "BR0980",
         "Jeep Motors"
        ],
        [
         "BR1861",
         "Studebaker Motors"
        ],
        [
         "BR1991",
         "UAZ Motors"
        ],
        [
         "BR2308",
         "Atlantic Motor Company"
        ],
        [
         "BR2452",
         "Jones Motor Company"
        ],
        [
         "BR6486",
         "Ligier Motors"
        ],
        [
         "BR0225",
         "Bristol Motors"
        ],
        [
         "BR0269",
         "Bugatti Motors"
        ],
        [
         "BR0300",
         "Cadillac Motors"
        ],
        [
         "BR0415",
         "Daihatsu Motors"
        ],
        [
         "BR0732",
         "GTA Spano Motors"
        ],
        [
         "BR0927",
         "Iso Motors"
        ],
        [
         "BR1608",
         "Proton Motors"
        ],
        [
         "BR1913",
         "Tatra Motors"
        ],
        [
         "BR1917",
         "Tatra Motors"
        ],
        [
         "BR2047",
         "Volkswagen South Africa Motors"
        ],
        [
         "BR2179",
         "Lagonda  Motors"
        ],
        [
         "BR2237",
         "Standard  Motors"
        ],
        [
         "BR2946",
         "Donkervoort Motors"
        ],
        [
         "BR0001",
         "AC Cars Motors"
        ],
        [
         "BR0018",
         "Acura Motors"
        ],
        [
         "BR0304",
         "Caterham Motors"
        ],
        [
         "BR0407",
         "DAF Motors"
        ],
        [
         "BR0960",
         "Iveco Motors"
        ],
        [
         "BR0989",
         "Jensen Motors"
        ],
        [
         "BR10326",
         "Santa Matilde Motors"
        ],
        [
         "BR1418",
         "NSU Motors"
        ],
        [
         "BR1600",
         "Premier Motors"
        ],
        [
         "BR1757",
         "Scion Motors"
        ],
        [
         "BR1931",
         "Tesla Motors"
        ],
        [
         "BR2072",
         "Wiesmann Motors"
        ],
        [
         "BR2117",
         "Audi Motors"
        ],
        [
         "BR7746",
         "Micro Motors"
        ],
        [
         "BR0013",
         "Acura Motors"
        ],
        [
         "BR0182",
         "Bitter Motors"
        ],
        [
         "BR0219",
         "Borgward (including Goliath and Lloyd) Motors"
        ],
        [
         "BR0252",
         "Austin, Rover Motors"
        ],
        [
         "BR0363",
         "Citroën Motors"
        ],
        [
         "BR0792",
         "Hindustan Motors"
        ],
        [
         "BR0877",
         "IFA (including Trabant, Wartburg, Barkas) Motors"
        ],
        [
         "BR0888",
         "Infiniti Motors"
        ],
        [
         "BR0972",
         "Jeep Motors"
        ],
        [
         "BR12006",
         "Vauxhall Motors"
        ],
        [
         "BR1547",
         "Piaggio Motors"
        ],
        [
         "BR2061",
         "Westfield Motors"
        ],
        [
         "BR2158",
         "Maybach  Motors"
        ],
        [
         "BR2252",
         "Das Motors"
        ],
        [
         "BR2377",
         "Cass Motor Sales"
        ],
        [
         "BR0505",
         "Edsel Motors"
        ],
        [
         "BR10986",
         "Spyker Motors"
        ],
        [
         "BR1351",
         "Moskwitch Motors"
        ],
        [
         "BR1549",
         "Piaggio Motors"
        ],
        [
         "BR1604",
         "Proton Motors"
        ],
        [
         "BR1677",
         "Saab Motors"
        ],
        [
         "BR1840",
         "Spyker Motors"
        ],
        [
         "BR1863",
         "Studebaker Motors"
        ],
        [
         "BR1919",
         "Tatra Motors"
        ],
        [
         "BR2147",
         "Wanderer Motors"
        ],
        [
         "BR2160",
         "Maybach  Motors"
        ],
        [
         "BR2293",
         "Zion Automobils"
        ],
        [
         "BR2406",
         "DAF Motors"
        ],
        [
         "BR8106",
         "Moskwitch Motors"
        ],
        [
         "BR0531",
         "Elva Motors"
        ],
        [
         "BR0691",
         "Gilbern Motors"
        ],
        [
         "BR0828",
         "Honda India Motors"
        ],
        [
         "BR10566",
         "Seat Motors"
        ],
        [
         "BR1067",
         "Land Rover Motors"
        ],
        [
         "BR1812",
         "Skoda Motors"
        ],
        [
         "BR1910",
         "Tata Motors"
        ],
        [
         "BR2291",
         "Zion Automobils"
        ],
        [
         "BR7866",
         "Mitsubishi Motors"
        ],
        [
         "BR1270",
         "Merkur Motors"
        ],
        [
         "BR13926",
         "Blankinship Motor Company Building"
        ],
        [
         "BR1984",
         "TVR Motors"
        ],
        [
         "BR2050",
         "Volkswagen South Africa Motors"
        ],
        [
         "BR2213",
         "Riley  Motors"
        ],
        [
         "BR2360",
         "Cadillac Automobile Company Building"
        ],
        [
         "BR2646",
         "Delahaye Motors"
        ],
        [
         "BR5046",
         "Humber Motors"
        ],
        [
         "BR0065",
         "AMC, Eagle Motors"
        ],
        [
         "BR0313",
         "Checker Motors"
        ],
        [
         "BR0393",
         "Daewoo, Saehan, Chevrolet Korea Motors"
        ],
        [
         "BR0802",
         "Holden Motors"
        ],
        [
         "BR1413",
         "NSU Motors"
        ],
        [
         "BR1681",
         "SAIC Motor Motors"
        ],
        [
         "BR1735",
         "Santana Motors"
        ],
        [
         "BR1752",
         "Scion Motors"
        ],
        [
         "BR2064",
         "Westfield Motors"
        ],
        [
         "BR2125",
         "DKW Motors"
        ],
        [
         "BR0189",
         "Bitter Motors"
        ],
        [
         "BR0513",
         "e.GO Mobile Motors"
        ],
        [
         "BR0544",
         "Facel Vega Motors"
        ],
        [
         "BR0775",
         "Hennessey Motors"
        ],
        [
         "BR1445",
         "Opel Motors"
        ],
        [
         "BR1654",
         "Rivian Motors"
        ],
        [
         "BR1743",
         "Saturn Motors"
        ],
        [
         "BR2046",
         "Chrysler Motors"
        ],
        [
         "BR2138",
         "Horch Motors"
        ],
        [
         "BR0006",
         "AC Cars Motors"
        ],
        [
         "BR0139",
         "Audi Motors"
        ],
        [
         "BR0649",
         "Ford India Motors"
        ],
        [
         "BR1050",
         "Lamborghini Motors"
        ],
        [
         "BR1071",
         "Lexus Motors"
        ],
        [
         "BR12486",
         "Zastava Motors"
        ],
        [
         "BR1307",
         "Mini Motors"
        ],
        [
         "BR1661",
         "Rolls-Royce Motors"
        ],
        [
         "BR1832",
         "Spyker Motors"
        ],
        [
         "BR1934",
         "Tesla Motors"
        ],
        [
         "BR2065",
         "Westfield Motors"
        ],
        [
         "BR2129",
         "DKW Motors"
        ],
        [
         "BR2441",
         "Jennings Ford Automobile Dealership"
        ],
        [
         "BR0153",
         "Auto-Union Motors"
        ],
        [
         "BR0968",
         "Jaguar Motors"
        ],
        [
         "BR11586",
         "Tesla Motors"
        ],
        [
         "BR1255",
         "Mercury Motors"
        ],
        [
         "BR1402",
         "Noble Motors"
        ],
        [
         "BR1965",
         "Toyota India Motors"
        ],
        [
         "BR1969",
         "Toyota India Motors"
        ],
        [
         "BR2085",
         "Zastava Motors"
        ],
        [
         "BR2288",
         "Herald Motors"
        ],
        [
         "BR5706",
         "Iveco Motors"
        ],
        [
         "BR0461",
         "DeSoto Motors"
        ],
        [
         "BR0568",
         "Fiat Motors"
        ],
        [
         "BR0666",
         "Asia Motors Motors"
        ],
        [
         "BR0773",
         "Hennessey Motors"
        ],
        [
         "BR0852",
         "Hummer Motors"
        ],
        [
         "BR1322",
         "Monica Motors"
        ],
        [
         "BR0032",
         "Alfa Romeo Motors"
        ],
        [
         "BR0212",
         "Borgward (including Goliath and Lloyd) Motors"
        ],
        [
         "BR0728",
         "GMC Motors"
        ],
        [
         "BR0861",
         "Hyundai Motors"
        ],
        [
         "BR0868",
         "Hyundai Motors"
        ],
        [
         "BR0966",
         "Auverland Motors"
        ],
        [
         "BR1182",
         "Maserati Motors"
        ],
        [
         "BR0762",
         "Heinkel Motors"
        ],
        [
         "BR13506",
         "Das Motors"
        ],
        [
         "BR14586",
         "Hupmobile Building"
        ],
        [
         "BR1628",
         "Ranger Motors"
        ],
        [
         "BR1658",
         "Rivian Motors"
        ],
        [
         "BR1711",
         "San Motors"
        ],
        [
         "BR1763",
         "Seat Motors"
        ],
        [
         "BR1989",
         "TVR Motors"
        ],
        [
         "BR2468",
         "Kindel Building"
        ],
        [
         "BR0031",
         "Alfa Romeo Motors"
        ],
        [
         "BR0121",
         "Aston Martin Motors"
        ],
        [
         "BR0171",
         "Bentley Motors"
        ],
        [
         "BR0500",
         "Donkervoort Motors"
        ],
        [
         "BR0638",
         "Ford Europe Motors"
        ],
        [
         "BR0650",
         "Ford India Motors"
        ],
        [
         "BR1017",
         "Koenigsegg Motors"
        ],
        [
         "BR10746",
         "Simca do Brasil Motors"
        ],
        [
         "BR1263",
         "Merkur Motors"
        ],
        [
         "BR1403",
         "Noble Motors"
        ],
        [
         "BR1947",
         "Tornado Motors"
        ],
        [
         "BR2447",
         "Jennings Ford Automobile Dealership"
        ],
        [
         "BR3246",
         "Facel Vega Motors"
        ],
        [
         "BR0169",
         "Auverland Motors"
        ],
        [
         "BR0517",
         "e.GO Mobile Motors"
        ],
        [
         "BR0911",
         "Isdera Motors"
        ],
        [
         "BR1197",
         "Mastretta Motors"
        ],
        [
         "BR1525",
         "Peugeot Motors"
        ],
        [
         "BR1529",
         "Peugeot Motors"
        ],
        [
         "BR1564",
         "Polestar Motors"
        ],
        [
         "BR1577",
         "Pontiac, Asüna Motors"
        ],
        [
         "BR1592",
         "Premier Motors"
        ],
        [
         "BR1855",
         "Standard-Triumph Motors"
        ],
        [
         "BR2150",
         "Wanderer Motors"
        ],
        [
         "BR0315",
         "Checker Motors"
        ],
        [
         "BR0408",
         "DAF Motors"
        ],
        [
         "BR0502",
         "Edsel Motors"
        ],
        [
         "BR0504",
         "Edsel Motors"
        ],
        [
         "BR0572",
         "Fiat do Brasil Motors"
        ],
        [
         "BR0617",
         "Ford Australia Motors"
        ],
        [
         "BR0794",
         "Hindustan Motors"
        ],
        [
         "BR0849",
         "Humber Motors"
        ],
        [
         "BR0958",
         "Iveco Motors"
        ],
        [
         "BR0995",
         "JPX Motors"
        ],
        [
         "BR13026",
         "Lagonda  Motors"
        ],
        [
         "BR1574",
         "Pontiac, Asüna Motors"
        ],
        [
         "BR1594",
         "Premier Motors"
        ],
        [
         "BR1731",
         "Santana Motors"
        ],
        [
         "BR1944",
         "Tornado Motors"
        ],
        [
         "BR2115",
         "Audi Motors"
        ],
        [
         "BR0125",
         "Aston Martin Motors"
        ],
        [
         "BR0297",
         "Cadillac Motors"
        ],
        [
         "BR0372",
         "Cizeta-Moroder Motors"
        ],
        [
         "BR0798",
         "Hindustan Motors"
        ],
        [
         "BR0939",
         "Isotta Fraschini Motors"
        ],
        [
         "BR1302",
         "Mini Motors"
        ],
        [
         "BR1377",
         "Naza Motors"
        ],
        [
         "BR14226",
         "Cass Motor Sales"
        ],
        [
         "BR14526",
         "Howard Motor Company Building"
        ],
        [
         "BR1463",
         "Pagani Motors"
        ],
        [
         "BR1473",
         "Panhard Motors"
        ],
        [
         "BR1952",
         "Toyota Motors"
        ],
        [
         "BR2021",
         "Volkswagen Motors"
        ],
        [
         "BR5886",
         "Jensen Motors"
        ],
        [
         "BR0053",
         "Alvis Motors"
        ],
        [
         "BR0054",
         "Alvis Motors"
        ],
        [
         "BR0514",
         "e.GO Mobile Motors"
        ],
        [
         "BR0744",
         "Gumpert Motors"
        ],
        [
         "BR1012",
         "Koenigsegg Motors"
        ],
        [
         "BR1159",
         "Marcos Motors"
        ],
        [
         "BR1444",
         "Opel Motors"
        ],
        [
         "BR1721",
         "Santa Matilde Motors"
        ],
        [
         "BR1753",
         "Scion Motors"
        ],
        [
         "BR2090",
         "Zastava Motors"
        ],
        [
         "BR2399",
         "Clemens Automobile Company Building"
        ],
        [
         "BR0140",
         "Audi Motors"
        ],
        [
         "BR0690",
         "Geo Motors"
        ],
        [
         "BR0922",
         "Iso Motors"
        ],
        [
         "BR1349",
         "Morgan Motors"
        ],
        [
         "BR1737",
         "Santana Motors"
        ],
        [
         "BR1949",
         "Tornado Motors"
        ],
        [
         "BR4806",
         "Holden Motors"
        ],
        [
         "BR5826",
         "Jeep Motors"
        ],
        [
         "BR8646",
         "Opel Motors"
        ],
        [
         "BR0352",
         "Chrysler Europe Motors"
        ],
        [
         "BR0458",
         "DeLorean Motors"
        ],
        [
         "BR0784",
         "Hillman Motors"
        ],
        [
         "BR1230",
         "Mazzanti Motors"
        ],
        [
         "BR1425",
         "Oldsmobile Motors"
        ],
        [
         "BR1967",
         "Toyota India Motors"
        ],
        [
         "BR2091",
         "ZAZ Motors"
        ],
        [
         "BR2429",
         "Howard Motor Company Building"
        ],
        [
         "BR5346",
         "Innocenti Motors"
        ],
        [
         "BR0144",
         "Autobianchi Motors"
        ],
        [
         "BR1098",
         "Lincoln Motors"
        ],
        [
         "BR1239",
         "McLaren Motors"
        ],
        [
         "BR1747",
         "Saturn Motors"
        ],
        [
         "BR1849",
         "SsangYong Motors"
        ],
        [
         "BR2464",
         "Kindel Building"
        ],
        [
         "BR9186",
         "PGO Motors"
        ],
        [
         "BR0068",
         "AMC, Eagle Motors"
        ],
        [
         "BR0291",
         "Cadillac Motors"
        ],
        [
         "BR0452",
         "DeLorean Motors"
        ],
        [
         "BR0672",
         "GAZ Motors"
        ],
        [
         "BR0688",
         "Geo Motors"
        ],
        [
         "BR0778",
         "Hennessey Motors"
        ],
        [
         "BR10506",
         "Scion Motors"
        ],
        [
         "BR1208",
         "Matra (including Deutsch-Bonnet, René Bonnet) Motors"
        ],
        [
         "BR1290",
         "Mia Motors"
        ],
        [
         "BR1343",
         "Morgan Motors"
        ],
        [
         "BR1541",
         "Piaggio Motors"
        ],
        [
         "BR1915",
         "Tatra Motors"
        ],
        [
         "BR2048",
         "Volkswagen South Africa Motors"
        ],
        [
         "BR2455",
         "Jones Motor Company"
        ],
        [
         "BR2470",
         "Kindel Building"
        ],
        [
         "BR0092",
         "ARO Motors"
        ],
        [
         "BR0111",
         "Asia Motors Motors"
        ],
        [
         "BR0383",
         "Dacia Motors"
        ],
        [
         "BR0423",
         "Daimler Motors"
        ],
        [
         "BR0713",
         "Glas Motors"
        ],
        [
         "BR0817",
         "Honda Motors"
        ],
        [
         "BR0928",
         "Iso Motors"
        ],
        [
         "BR0993",
         "JPX Motors"
        ],
        [
         "BR1061",
         "Land Rover Motors"
        ],
        [
         "BR1301",
         "Mini Motors"
        ],
        [
         "BR1605",
         "Proton Motors"
        ],
        [
         "BR2075",
         "Wiesmann Motors"
        ],
        [
         "BR2161",
         "Izh  Motors"
        ],
        [
         "BR2178",
         "Lagonda  Motors"
        ],
        [
         "BR0014",
         "Acura Motors"
        ],
        [
         "BR0232",
         "British Leyland Motors"
        ],
        [
         "BR0271",
         "Buick Motors"
        ],
        [
         "BR0559",
         "Ferrari Motors"
        ],
        [
         "BR0707",
         "Ginetta Motors"
        ],
        [
         "BR0722",
         "GMC Motors"
        ],
        [
         "BR0918",
         "Isdera Motors"
        ],
        [
         "BR1163",
         "Marlin Motors"
        ],
        [
         "BR1615",
         "Puma Motors"
        ],
        [
         "BR2123",
         "DKW Motors"
        ],
        [
         "BR2437",
         "Hupmobile Building"
        ],
        [
         "BR2443",
         "Jennings Ford Automobile Dealership"
        ],
        [
         "BR0101",
         "Artega Motors"
        ],
        [
         "BR0112",
         "Asia Motors Motors"
        ],
        [
         "BR0222",
         "Bristol Motors"
        ],
        [
         "BR0230",
         "Bristol Motors"
        ],
        [
         "BR1015",
         "Koenigsegg Motors"
        ],
        [
         "BR1141",
         "Mahindra Motors"
        ],
        [
         "BR1358",
         "Moskwitch Motors"
        ],
        [
         "BR1922",
         "Tazzari Motors"
        ],
        [
         "BR2402",
         "Colman Automotive Building"
        ],
        [
         "BR0552",
         "Ferrari Motors"
        ],
        [
         "BR0658",
         "Freightliner Motors"
        ],
        [
         "BR0859",
         "Hummer Motors"
        ],
        [
         "BR1310",
         "Mini Motors"
        ],
        [
         "BR1391",
         "Nissan India Motors"
        ],
        [
         "BR1714",
         "San Motors"
        ],
        [
         "BR1945",
         "Tornado Motors"
        ],
        [
         "BR2263",
         "Ramani Motors"
        ],
        [
         "BR0069",
         "AMC, Eagle Motors"
        ],
        [
         "BR0198",
         "BMW Motors"
        ],
        [
         "BR0621",
         "Ford do Brasil Motors"
        ],
        [
         "BR0997",
         "JPX Motors"
        ],
        [
         "BR1215",
         "Mazda Motors"
        ],
        [
         "BR1407",
         "Noble Motors"
        ],
        [
         "BR2024",
         "Volkswagen Motors"
        ],
        [
         "BR0863",
         "Hyundai Motors"
        ],
        [
         "BR0967",
         "Jaguar Motors"
        ],
        [
         "BR1412",
         "NSU Motors"
        ],
        [
         "BR1435",
         "Oltcit Motors"
        ],
        [
         "BR1710",
         "Samsung Motors"
        ],
        [
         "BR1929",
         "Tazzari Motors"
        ],
        [
         "BR2134",
         "Horch Motors"
        ],
        [
         "BR2230",
         "Wolseley  Motors"
        ],
        [
         "BR2295",
         "Zion Automobils"
        ],
        [
         "BR4446",
         "Gumpert Motors"
        ],
        [
         "BR0519",
         "e.GO Mobile Motors"
        ],
        [
         "BR0660",
         "Freightliner Motors"
        ],
        [
         "BR11106",
         "Standard-Triumph Motors"
        ],
        [
         "BR1404",
         "Noble Motors"
        ],
        [
         "BR1869",
         "Studebaker Motors"
        ],
        [
         "BR1880",
         "Subaru Motors"
        ],
        [
         "BR2071",
         "Wiesmann Motors"
        ],
        [
         "BR2232",
         "Standard  Motors"
        ],
        [
         "BR2427",
         "Howard Motor Company Building"
        ],
        [
         "BR4746",
         "Hindustan Motors"
        ],
        [
         "BR0044",
         "Alpine Motors"
        ],
        [
         "BR0539",
         "Elva Motors"
        ],
        [
         "BR1093",
         "Lincoln Motors"
        ],
        [
         "BR1241",
         "Mercedes-Benz (including Maybach) Motors"
        ],
        [
         "BR1408",
         "Noble Motors"
        ],
        [
         "BR14766",
         "Kindel Building"
        ],
        [
         "BR1689",
         "SAIC Motor Motors"
        ],
        [
         "BR1700",
         "Saleen Motors"
        ],
        [
         "BR2372",
         "Cass Motor Sales"
        ],
        [
         "BR0129",
         "Aston Martin Motors"
        ],
        [
         "BR0211",
         "Borgward (including Goliath and Lloyd) Motors"
        ],
        [
         "BR0321",
         "Chevrolet Motors"
        ],
        [
         "BR0433",
         "Datsun Motors"
        ],
        [
         "BR0607",
         "Ford America Motors"
        ],
        [
         "BR0764",
         "Heinkel Motors"
        ],
        [
         "BR0984",
         "Jensen Motors"
        ],
        [
         "BR2159",
         "Maybach  Motors"
        ],
        [
         "BR0009",
         "AC Cars Motors"
        ],
        [
         "BR0783",
         "Hillman Motors"
        ],
        [
         "BR0878",
         "IFA (including Trabant, Wartburg, Barkas) Motors"
        ],
        [
         "BR1483",
         "Panoz Motors"
        ],
        [
         "BR2171",
         "Lagonda  Motors"
        ],
        [
         "BR2323",
         "Blankinship Motor Company Building"
        ],
        [
         "BR2362",
         "Casa de cadillac"
        ],
        [
         "BR0254",
         "Austin, Rover Motors"
        ],
        [
         "BR0823",
         "Honda India Motors"
        ],
        [
         "BR14166",
         "Casa de cadillac"
        ],
        [
         "BR1540",
         "PGO Motors"
        ],
        [
         "BR1613",
         "Puma Motors"
        ],
        [
         "BR1892",
         "Suzuki Motors"
        ],
        [
         "BR1948",
         "Tornado Motors"
        ],
        [
         "BR1959",
         "Toyota Motors"
        ],
        [
         "BR2106",
         "Chrysler Europe Motors"
        ],
        [
         "BR7386",
         "McLaren Motors"
        ],
        [
         "BR0021",
         "Aixam-Mega (including Arola) Motors"
        ],
        [
         "BR0385",
         "Dacia Motors"
        ],
        [
         "BR1083",
         "Ligier Motors"
        ],
        [
         "BR1179",
         "Maruti Motors"
        ],
        [
         "BR1240",
         "McLaren Motors"
        ],
        [
         "BR14406",
         "Colman Automotive Building"
        ],
        [
         "BR2017",
         "Venturi Motors"
        ],
        [
         "BR2428",
         "Howard Motor Company Building"
        ],
        [
         "BR0195",
         "BMW Motors"
        ],
        [
         "BR0247",
         "Austin-Healey Motors"
        ],
        [
         "BR0709",
         "Ginetta Motors"
        ],
        [
         "BR0710",
         "Ginetta Motors"
        ],
        [
         "BR1671",
         "Saab Motors"
        ],
        [
         "BR2407",
         "Colman Automotive Building"
        ],
        [
         "BR0328",
         "Chevrolet Motors"
        ],
        [
         "BR0350",
         "Chrysler Motors"
        ],
        [
         "BR0395",
         "Daewoo, Saehan, Chevrolet Korea Motors"
        ],
        [
         "BR0581",
         "Fiat India Motors"
        ],
        [
         "BR0627",
         "Ford do Brasil Motors"
        ],
        [
         "BR0755",
         "Healey Motors"
        ],
        [
         "BR1117",
         "LTI Motors"
        ],
        [
         "BR1305",
         "Mini Motors"
        ],
        [
         "BR1332",
         "Monteverdi Motors"
        ],
        [
         "BR1378",
         "Naza Motors"
        ],
        [
         "BR2285",
         "Herald Motors"
        ],
        [
         "BR2353",
         "Cadillac Automobile Company Building"
        ],
        [
         "BR7686",
         "Mia Motors"
        ],
        [
         "BR0048",
         "Alpine Motors"
        ],
        [
         "BR0293",
         "Cadillac Motors"
        ],
        [
         "BR0301",
         "Caterham Motors"
        ],
        [
         "BR0429",
         "Daimler Motors"
        ],
        [
         "BR0585",
         "Fiat India Motors"
        ],
        [
         "BR0720",
         "Glas Motors"
        ],
        [
         "BR0787",
         "Hillman Motors"
        ],
        [
         "BR0871",
         "IFA (including Trabant, Wartburg, Barkas) Motors"
        ],
        [
         "BR1025",
         "KTM Motors"
        ],
        [
         "BR2095",
         "ZAZ Motors"
        ],
        [
         "BR2133",
         "Horch Motors"
        ],
        [
         "BR0005",
         "AC Cars Motors"
        ],
        [
         "BR0791",
         "Hindustan Motors"
        ],
        [
         "BR0846",
         "Autobianchi Motors"
        ],
        [
         "BR0883",
         "Infiniti Motors"
        ],
        [
         "BR1088",
         "Ligier Motors"
        ],
        [
         "BR1181",
         "Maserati Motors"
        ],
        [
         "BR1565",
         "Polestar Motors"
        ],
        [
         "BR2367",
         "Casa de cadillac"
        ],
        [
         "BR2380",
         "Cass Motor Sales"
        ],
        [
         "BR6546",
         "Lincoln Motors"
        ],
        [
         "BR9066",
         "Perodua Motors"
        ],
        [
         "BR0045",
         "Alpine Motors"
        ],
        [
         "BR1223",
         "Mazzanti Motors"
        ],
        [
         "BR12666",
         "Audi Motors"
        ],
        [
         "BR1364",
         "Nash Motors"
        ],
        [
         "BR1601",
         "Proton Motors"
        ],
        [
         "BR1878",
         "Subaru Motors"
        ],
        [
         "BR2042",
         "Volkswagen South Africa Motors"
        ],
        [
         "BR0473",
         "De Tomaso Motors"
        ],
        [
         "BR1053",
         "Lancia Motors"
        ],
        [
         "BR1244",
         "Mercedes-Benz (including Maybach) Motors"
        ],
        [
         "BR1785",
         "Simca Motors"
        ],
        [
         "BR2101",
         "ZIL Motors"
        ],
        [
         "BR2165",
         "Izh  Motors"
        ],
        [
         "BR7146",
         "Mastretta Motors"
        ],
        [
         "BR0126",
         "Aixam-Mega (including Arola) Motors"
        ],
        [
         "BR0359",
         "Chrysler Europe Motors"
        ],
        [
         "BR0611",
         "Ford Australia Motors"
        ],
        [
         "BR1104",
         "Lotus Motors"
        ],
        [
         "BR1174",
         "Maruti Motors"
        ],
        [
         "BR1277",
         "Messerschmitt Motors"
        ],
        [
         "BR1419",
         "NSU Motors"
        ],
        [
         "BR1510",
         "Peel Motors"
        ],
        [
         "BR1653",
         "Rivian Motors"
        ],
        [
         "BR1780",
         "Shelby SuperCars Motors"
        ],
        [
         "BR2135",
         "Horch Motors"
        ],
        [
         "BR2167",
         "Izh  Motors"
        ],
        [
         "BR2371",
         "Cass Motor Sales"
        ],
        [
         "BR3606",
         "Ford America Motors"
        ],
        [
         "BR0143",
         "Autobianchi Motors"
        ],
        [
         "BR1283",
         "Mia Motors"
        ],
        [
         "BR1328",
         "Monica Motors"
        ],
        [
         "BR1783",
         "Simca Motors"
        ],
        [
         "BR0727",
         "GMC Motors"
        ],
        [
         "BR0892",
         "Innocenti Motors"
        ],
        [
         "BR1123",
         "LuAZ Motors"
        ],
        [
         "BR12906",
         "Maybach  Motors"
        ],
        [
         "BR1690",
         "SAIC Motor Motors"
        ],
        [
         "BR1843",
         "SsangYong Motors"
        ],
        [
         "BR2067",
         "Westfield Motors"
        ],
        [
         "BR2099",
         "ZAZ Motors"
        ],
        [
         "BR0057",
         "Alvis Motors"
        ],
        [
         "BR0929",
         "Iso Motors"
        ],
        [
         "BR1842",
         "SsangYong Motors"
        ],
        [
         "BR0073",
         "Anadol Motors"
        ],
        [
         "BR0492",
         "Donkervoort Motors"
        ],
        [
         "BR0565",
         "Fiat Motors"
        ],
        [
         "BR0851",
         "Hummer Motors"
        ],
        [
         "BR1032",
         "Lada Motors"
        ],
        [
         "BR1190",
         "Maserati Motors"
        ],
        [
         "BR1410",
         "Noble Motors"
        ],
        [
         "BR1678",
         "Saab Motors"
        ],
        [
         "BR2082",
         "Zastava Motors"
        ],
        [
         "BR2124",
         "DKW Motors"
        ],
        [
         "BR2131",
         "Horch Motors"
        ],
        [
         "BR2247",
         "Talbot  Motors"
        ],
        [
         "BR2460",
         "Jones Motor Company"
        ],
        [
         "BR3786",
         "Ford Europe Motors"
        ],
        [
         "BR0080",
         "Anadol Motors"
        ],
        [
         "BR0085",
         "Ariel Motors"
        ],
        [
         "BR0220",
         "Borgward (including Goliath and Lloyd) Motors"
        ],
        [
         "BR0342",
         "Chrysler Motors"
        ],
        [
         "BR0624",
         "Ford do Brasil Motors"
        ],
        [
         "BR0730",
         "GMC Motors"
        ],
        [
         "BR0845",
         "Humber Motors"
        ],
        [
         "BR0935",
         "Isotta Fraschini Motors"
        ],
        [
         "BR1055",
         "Lancia Motors"
        ],
        [
         "BR1326",
         "Bristol Motors"
        ],
        [
         "BR1867",
         "Studebaker Motors"
        ],
        [
         "BR1895",
         "Suzuki Motors"
        ],
        [
         "BR2153",
         "Maybach  Motors"
        ],
        [
         "BR2184",
         "MG  Motors"
        ],
        [
         "BR2250",
         "Talbot  Motors"
        ],
        [
         "BR2282",
         "Herald Motors"
        ],
        [
         "BR6606",
         "Lotus Motors"
        ],
        [
         "BR0152",
         "Auto-Union Motors"
        ],
        [
         "BR0842",
         "Humber Motors"
        ],
        [
         "BR1291",
         "Micro Motors"
        ],
        [
         "BR2199",
         "Morris  Motors"
        ],
        [
         "BR2451",
         "Jones Motor Company"
        ],
        [
         "BR0029",
         "Aixam-Mega (including Arola) Motors"
        ],
        [
         "BR0033",
         "Alfa Romeo Motors"
        ],
        [
         "BR0229",
         "Bristol Motors"
        ],
        [
         "BR0457",
         "DeLorean Motors"
        ],
        [
         "BR0605",
         "Ford America Motors"
        ],
        [
         "BR0950",
         "Isuzu Motors"
        ],
        [
         "BR0990",
         "Jensen Motors"
        ],
        [
         "BR1585",
         "Porsche Motors"
        ],
        [
         "BR1672",
         "Saab Motors"
        ],
        [
         "BR4026",
         "GAZ Motors"
        ],
        [
         "BR0424",
         "Daimler Motors"
        ],
        [
         "BR0971",
         "Jeep Motors"
        ],
        [
         "BR1114",
         "LTI Motors"
        ],
        [
         "BR1258",
         "Mercury Motors"
        ],
        [
         "BR1488",
         "Panoz Motors"
        ],
        [
         "BR1679",
         "Saab Motors"
        ],
        [
         "BR2172",
         "Lagonda  Motors"
        ],
        [
         "BR2462",
         "Kindel Building"
        ],
        [
         "BR0094",
         "ARO Motors"
        ],
        [
         "BR0357",
         "Chrysler Europe Motors"
        ],
        [
         "BR0417",
         "Daihatsu Motors"
        ],
        [
         "BR0854",
         "Hummer Motors"
        ],
        [
         "BR1014",
         "Koenigsegg Motors"
        ],
        [
         "BR1245",
         "Mercedes-Benz (including Maybach) Motors"
        ],
        [
         "BR1295",
         "Micro Motors"
        ],
        [
         "BR1625",
         "Ranger Motors"
        ],
        [
         "BR1683",
         "SAIC Motor Motors"
        ],
        [
         "BR1742",
         "Saturn Motors"
        ],
        [
         "BR1827",
         "Smart Motors"
        ],
        [
         "BR1975",
         "Turner Motors"
        ],
        [
         "BR0120",
         "Asia Motors Motors"
        ],
        [
         "BR0382",
         "Dacia Motors"
        ],
        [
         "BR0470",
         "DeSoto Motors"
        ],
        [
         "BR1034",
         "Lada Motors"
        ],
        [
         "BR10626",
         "Shelby SuperCars Motors"
        ],
        [
         "BR1099",
         "Lincoln Motors"
        ],
        [
         "BR2351",
         "Cadillac Automobile Company Building"
        ],
        [
         "BR2394",
         "Clemens Automobile Company Building"
        ],
        [
         "BR0310",
         "Caterham Motors"
        ],
        [
         "BR0602",
         "Ford America Motors"
        ],
        [
         "BR0694",
         "Gilbern Motors"
        ],
        [
         "BR1668",
         "Rolls-Royce Motors"
        ],
        [
         "BR2148",
         "Wanderer Motors"
        ],
        [
         "BR2309",
         "Atlantic Motor Company"
        ],
        [
         "BR0546",
         "ARO Motors"
        ],
        [
         "BR0678",
         "GAZ Motors"
        ],
        [
         "BR1569",
         "Polestar Motors"
        ],
        [
         "BR1570",
         "Polestar Motors"
        ],
        [
         "BR1811",
         "Skoda Motors"
        ],
        [
         "BR1882",
         "Sunbeam Motors"
        ],
        [
         "BR1901",
         "Tata Motors"
        ],
        [
         "BR1937",
         "Tesla Motors"
        ],
        [
         "BR1988",
         "TVR Motors"
        ],
        [
         "BR2034",
         "Volkswagen do Brasil Motors"
        ],
        [
         "BR2334",
         "Bohn Motor Company Automobile Dealership"
        ],
        [
         "BR0074",
         "Anadol Motors"
        ],
        [
         "BR0103",
         "Artega Motors"
        ],
        [
         "BR0338",
         "Chevrolet India Motors"
        ],
        [
         "BR0418",
         "Daihatsu Motors"
        ],
        [
         "BR0435",
         "Datsun Motors"
        ],
        [
         "BR0533",
         "Elva Motors"
        ],
        [
         "BR0879",
         "IFA (including Trabant, Wartburg, Barkas) Motors"
        ],
        [
         "BR1512",
         "Perodua Motors"
        ],
        [
         "BR2234",
         "Standard  Motors"
        ],
        [
         "BR2245",
         "Talbot  Motors"
        ],
        [
         "BR2283",
         "Herald Motors"
        ],
        [
         "BR2438",
         "Hupmobile Building"
        ],
        [
         "BR8466",
         "NSU Motors"
        ],
        [
         "BR8766",
         "Pagani Motors"
        ],
        [
         "BR0961",
         "Jaguar Motors"
        ],
        [
         "BR1471",
         "Panhard Motors"
        ],
        [
         "BR1603",
         "Proton Motors"
        ],
        [
         "BR1879",
         "Subaru Motors"
        ],
        [
         "BR2211",
         "Riley  Motors"
        ],
        [
         "BR2320",
         "2008 NRHP-listed"
        ],
        [
         "BR0020",
         "Acura Motors"
        ],
        [
         "BR0339",
         "Chevrolet India Motors"
        ],
        [
         "BR0375",
         "Cizeta-Moroder Motors"
        ],
        [
         "BR0404",
         "DAF Motors"
        ],
        [
         "BR0752",
         "Healey Motors"
        ],
        [
         "BR1315",
         "Mitsubishi Motors"
        ],
        [
         "BR1392",
         "Nissan India Motors"
        ],
        [
         "BR1542",
         "Piaggio Motors"
        ],
        [
         "BR2302",
         "Atlantic Motor Company"
        ],
        [
         "BR0397",
         "Daewoo, Saehan, Chevrolet Korea Motors"
        ],
        [
         "BR0675",
         "GAZ Motors"
        ],
        [
         "BR11526",
         "Tazzari Motors"
        ],
        [
         "BR1619",
         "Puma Motors"
        ],
        [
         "BR1798",
         "Simca do Brasil Motors"
        ],
        [
         "BR1994",
         "UAZ Motors"
        ],
        [
         "BR2342",
         "Buick Automobile Company Building"
        ],
        [
         "BR7506",
         "Mercury Motors"
        ],
        [
         "BR0049",
         "Alpine Motors"
        ],
        [
         "BR0640",
         "Ford Europe Motors"
        ],
        [
         "BR0653",
         "Freightliner Motors"
        ],
        [
         "BR0897",
         "Innocenti Motors"
        ],
        [
         "BR1520",
         "Perodua Motors"
        ],
        [
         "BR1621",
         "Ranger Motors"
        ],
        [
         "BR2008",
         "Vauxhall Motors"
        ],
        [
         "BR2170",
         "Izh  Motors"
        ],
        [
         "BR2526",
         "Daimler Motors"
        ],
        [
         "BR3006",
         "Edsel Motors"
        ],
        [
         "BR8226",
         "Naza Motors"
        ],
        [
         "BR0170",
         "Auverland Motors"
        ],
        [
         "BR0843",
         "Humber Motors"
        ],
        [
         "BR1249",
         "Mercedes-Benz (including Maybach) Motors"
        ],
        [
         "BR1552",
         "Plymouth Motors"
        ],
        [
         "BR2258",
         "Das Motors"
        ],
        [
         "BR0084",
         "Ariel Motors"
        ],
        [
         "BR0610",
         "Ford America Motors"
        ],
        [
         "BR1077",
         "Lexus Motors"
        ],
        [
         "BR1101",
         "Lotus Motors"
        ],
        [
         "BR1107",
         "Lotus Motors"
        ],
        [
         "BR1209",
         "Matra (including Deutsch-Bonnet, René Bonnet) Motors"
        ],
        [
         "BR1235",
         "McLaren Motors"
        ],
        [
         "BR1417",
         "NSU Motors"
        ],
        [
         "BR1519",
         "Perodua Motors"
        ],
        [
         "BR1524",
         "Peugeot Motors"
        ],
        [
         "BR1640",
         "Reliant Motors"
        ],
        [
         "BR2110",
         "ZIL Motors"
        ],
        [
         "BR2307",
         "Atlantic Motor Company"
        ],
        [
         "BR2457",
         "Jones Motor Company"
        ],
        [
         "BR5106",
         "Hummer Motors"
        ],
        [
         "BR6306",
         "Lancia Motors"
        ],
        [
         "BR0108",
         "Artega Motors"
        ],
        [
         "BR0380",
         "Cizeta-Moroder Motors"
        ],
        [
         "BR0577",
         "Fiat do Brasil Motors"
        ],
        [
         "BR0812",
         "Honda Motors"
        ],
        [
         "BR0865",
         "Hyundai Motors"
        ],
        [
         "BR1202",
         "Matra (including Deutsch-Bonnet, René Bonnet) Motors"
        ],
        [
         "BR1504",
         "Peel Motors"
        ],
        [
         "BR1833",
         "Spyker Motors"
        ],
        [
         "BR2041",
         "Volkswagen South Africa Motors"
        ],
        [
         "BR2313",
         "2008 NRHP-listed"
        ],
        [
         "BR3726",
         "Ford do Brasil Motors"
        ],
        [
         "BR7326",
         "Mazzanti Motors"
        ],
        [
         "BR0334",
         "Chevrolet India Motors"
        ],
        [
         "BR0364",
         "Citroën Motors"
        ],
        [
         "BR0371",
         "Cizeta-Moroder Motors"
        ],
        [
         "BR0485",
         "Dodge Motors"
        ],
        [
         "BR0909",
         "Invicta Motors"
        ],
        [
         "BR0921",
         "Iso Motors"
        ],
        [
         "BR0267",
         "Bugatti Motors"
        ],
        [
         "BR0410",
         "DAF Motors"
        ],
        [
         "BR0469",
         "DeSoto Motors"
        ],
        [
         "BR0654",
         "Freightliner Motors"
        ],
        [
         "BR1528",
         "Peugeot Motors"
        ],
        [
         "BR2183",
         "MG  Motors"
        ],
        [
         "BR2264",
         "Ramani Motors"
        ],
        [
         "BR0041",
         "Alpine Motors"
        ],
        [
         "BR0122",
         "Aston Martin Motors"
        ],
        [
         "BR0349",
         "Chrysler Motors"
        ],
        [
         "BR0906",
         "Auto-Union Motors"
        ],
        [
         "BR0973",
         "Jeep Motors"
        ],
        [
         "BR1168",
         "Marlin Motors"
        ],
        [
         "BR1231",
         "McLaren Motors"
        ],
        [
         "BR1518",
         "Perodua Motors"
        ],
        [
         "BR1639",
         "Reliant Motors"
        ],
        [
         "BR2290",
         "Herald Motors"
        ],
        [
         "BR0302",
         "Caterham Motors"
        ],
        [
         "BR0468",
         "DeSoto Motors"
        ],
        [
         "BR0477",
         "De Tomaso Motors"
        ],
        [
         "BR0768",
         "Heinkel Motors"
        ],
        [
         "BR0824",
         "Honda India Motors"
        ],
        [
         "BR1008",
         "Kia Motors"
        ],
        [
         "BR1674",
         "Saab Motors"
        ],
        [
         "BR1697",
         "Saleen Motors"
        ],
        [
         "BR1715",
         "San Motors"
        ],
        [
         "BR1782",
         "Simca Motors"
        ],
        [
         "BR1797",
         "Simca do Brasil Motors"
        ],
        [
         "BR1924",
         "Tazzari Motors"
        ],
        [
         "BR4686",
         "Hillman Motors"
        ],
        [
         "BR8826",
         "Panhard Motors"
        ],
        [
         "BR0322",
         "Chevrolet Motors"
        ],
        [
         "BR0724",
         "GMC Motors"
        ],
        [
         "BR0994",
         "JPX Motors"
        ],
        [
         "BR1173",
         "Maruti Motors"
        ],
        [
         "BR1692",
         "Saleen Motors"
        ],
        [
         "BR1875",
         "Subaru Motors"
        ],
        [
         "BR0004",
         "AC Cars Motors"
        ],
        [
         "BR0067",
         "AMC, Eagle Motors"
        ],
        [
         "BR0459",
         "DeLorean Motors"
        ],
        [
         "BR0488",
         "Dodge Motors"
        ],
        [
         "BR0663",
         "FSO Motors"
        ],
        [
         "BR0711",
         "Glas Motors"
        ],
        [
         "BR0747",
         "Gumpert Motors"
        ],
        [
         "BR0894",
         "Innocenti Motors"
        ],
        [
         "BR1039",
         "Lada Motors"
        ],
        [
         "BR14046",
         "Buick Automobile Company Building"
        ],
        [
         "BR1440",
         "Oltcit Motors"
        ],
        [
         "BR1492",
         "Panther Motors"
        ],
        [
         "BR1557",
         "Plymouth Motors"
        ],
        [
         "BR2388",
         "Claremore Auto Dealership"
        ],
        [
         "BR0224",
         "Bristol Motors"
        ],
        [
         "BR1303",
         "Mini Motors"
        ],
        [
         "BR1304",
         "Mini Motors"
        ],
        [
         "BR13086",
         "MG  Motors"
        ],
        [
         "BR1567",
         "Polestar Motors"
        ],
        [
         "BR1659",
         "Rivian Motors"
        ],
        [
         "BR1725",
         "Santa Matilde Motors"
        ],
        [
         "BR2104",
         "ZIL Motors"
        ],
        [
         "BR6426",
         "Lexus Motors"
        ],
        [
         "BR0697",
         "Gilbern Motors"
        ],
        [
         "BR0781",
         "Hillman Motors"
        ],
        [
         "BR0931",
         "Isotta Fraschini Motors"
        ],
        [
         "BR1070",
         "Land Rover Motors"
        ],
        [
         "BR1130",
         "LuAZ Motors"
        ],
        [
         "BR1397",
         "Nissan India Motors"
        ],
        [
         "BR1595",
         "Premier Motors"
        ],
        [
         "BR1985",
         "TVR Motors"
        ],
        [
         "BR2011",
         "Venturi Motors"
        ],
        [
         "BR2089",
         "Zastava Motors"
        ],
        [
         "BR0484",
         "Dodge Motors"
        ],
        [
         "BR0899",
         "Innocenti Motors"
        ],
        [
         "BR1379",
         "Naza Motors"
        ],
        [
         "BR1903",
         "Tata Motors"
        ],
        [
         "BR0303",
         "Caterham Motors"
        ],
        [
         "BR0523",
         "Eicher Polaris Motors"
        ],
        [
         "BR0538",
         "Elva Motors"
        ],
        [
         "BR1363",
         "Nash Motors"
        ],
        [
         "BR1459",
         "Packard Motors"
        ],
        [
         "BR1837",
         "Spyker Motors"
        ],
        [
         "BR1918",
         "Tatra Motors"
        ],
        [
         "BR2281",
         "Herald Motors"
        ],
        [
         "BR0025",
         "Aixam-Mega (including Arola) Motors"
        ],
        [
         "BR1068",
         "Land Rover Motors"
        ],
        [
         "BR1135",
         "Lynx Motors"
        ],
        [
         "BR1560",
         "Plymouth Motors"
        ],
        [
         "BR1717",
         "San Motors"
        ],
        [
         "BR1923",
         "Tazzari Motors"
        ],
        [
         "BR1964",
         "Toyota India Motors"
        ],
        [
         "BR4266",
         "Glas Motors"
        ],
        [
         "BR0159",
         "Auto-Union Motors"
        ],
        [
         "BR0331",
         "Chevrolet India Motors"
        ],
        [
         "BR0681",
         "Geo Motors"
        ],
        [
         "BR0703",
         "Ginetta Motors"
        ],
        [
         "BR0832",
         "Hudson Motors"
        ],
        [
         "BR0880",
         "IFA (including Trabant, Wartburg, Barkas) Motors"
        ],
        [
         "BR0999",
         "JPX Motors"
        ],
        [
         "BR1974",
         "Turner Motors"
        ],
        [
         "BR2180",
         "Lagonda  Motors"
        ],
        [
         "BR0923",
         "Iso Motors"
        ],
        [
         "BR0953",
         "Iveco Motors"
        ],
        [
         "BR1498",
         "Panther Motors"
        ],
        [
         "BR1583",
         "Porsche Motors"
        ],
        [
         "BR1709",
         "Samsung Motors"
        ],
        [
         "BR1723",
         "Santa Matilde Motors"
        ],
        [
         "BR1920",
         "Tatra Motors"
        ],
        [
         "BR2222",
         "Wolseley  Motors"
        ],
        [
         "BR2231",
         "Standard  Motors"
        ],
        [
         "BR2273",
         "Deccan Motors"
        ],
        [
         "BR2327",
         "Blankinship Motor Company Building"
        ],
        [
         "BR0077",
         "Anadol Motors"
        ],
        [
         "BR0344",
         "Chrysler Motors"
        ],
        [
         "BR0774",
         "Hennessey Motors"
        ],
        [
         "BR0901",
         "Invicta Motors"
        ],
        [
         "BR1193",
         "Mastretta Motors"
        ],
        [
         "BR1199",
         "Mastretta Motors"
        ],
        [
         "BR1227",
         "Mazzanti Motors"
        ],
        [
         "BR1317",
         "Mitsubishi Motors"
        ],
        [
         "BR1428",
         "Oldsmobile Motors"
        ],
        [
         "BR1589",
         "Porsche Motors"
        ],
        [
         "BR1634",
         "Reliant Motors"
        ],
        [
         "BR1894",
         "Suzuki Motors"
        ],
        [
         "BR0387",
         "Dacia Motors"
        ],
        [
         "BR0426",
         "Anadol Motors"
        ],
        [
         "BR0573",
         "Fiat do Brasil Motors"
        ],
        [
         "BR1234",
         "McLaren Motors"
        ],
        [
         "BR1401",
         "Noble Motors"
        ],
        [
         "BR1578",
         "Pontiac, Asüna Motors"
        ],
        [
         "BR1788",
         "Simca Motors"
        ],
        [
         "BR1805",
         "Singer Motors"
        ],
        [
         "BR2144",
         "Wanderer Motors"
        ],
        [
         "BR2243",
         "Talbot  Motors"
        ],
        [
         "BR0154",
         "Auto-Union Motors"
        ],
        [
         "BR0193",
         "BMW Motors"
        ],
        [
         "BR0439",
         "Datsun Motors"
        ],
        [
         "BR0910",
         "Invicta Motors"
        ],
        [
         "BR1360",
         "Moskwitch Motors"
        ],
        [
         "BR1649",
         "Renault Motors"
        ],
        [
         "BR1804",
         "Singer Motors"
        ],
        [
         "BR1963",
         "Toyota India Motors"
        ],
        [
         "BR2019",
         "Venturi Motors"
        ],
        [
         "BR0098",
         "ARO Motors"
        ],
        [
         "BR0141",
         "Autobianchi Motors"
        ],
        [
         "BR0442",
         "Delahaye Motors"
        ],
        [
         "BR0590",
         "Fiat India Motors"
        ],
        [
         "BR10086",
         "SAIC Motor Motors"
        ],
        [
         "BR1043",
         "Lamborghini Motors"
        ],
        [
         "BR1222",
         "Mazzanti Motors"
        ],
        [
         "BR1393",
         "Nissan India Motors"
        ],
        [
         "BR2031",
         "Volkswagen do Brasil Motors"
        ],
        [
         "BR2187",
         "MG  Motors"
        ],
        [
         "BR2207",
         "Austin  Motors"
        ],
        [
         "BR2240",
         "Standard  Motors"
        ],
        [
         "BR2361",
         "Casa de cadillac"
        ],
        [
         "BR2392",
         "Clemens Automobile Company Building"
        ],
        [
         "BR5946",
         "JPX Motors"
        ],
        [
         "BR0208",
         "Bond Motors"
        ],
        [
         "BR0260",
         "Austin, Rover Motors"
        ],
        [
         "BR0309",
         "Caterham Motors"
        ],
        [
         "BR1128",
         "LuAZ Motors"
        ],
        [
         "BR1348",
         "Morgan Motors"
        ],
        [
         "BR1667",
         "Rolls-Royce Motors"
        ],
        [
         "BR2312",
         "2008 NRHP-listed"
        ],
        [
         "BR2423",
         "Howard Motor Company Building"
        ],
        [
         "BR4926",
         "Honda India Motors"
        ],
        [
         "BR0391",
         "Daewoo, Saehan, Chevrolet Korea Motors"
        ],
        [
         "BR0751",
         "Healey Motors"
        ],
        [
         "BR0769",
         "Heinkel Motors"
        ],
        [
         "BR0998",
         "JPX Motors"
        ],
        [
         "BR1183",
         "Maserati Motors"
        ],
        [
         "BR1313",
         "Mitsubishi Motors"
        ],
        [
         "BR1455",
         "Packard Motors"
        ],
        [
         "BR2463",
         "Kindel Building"
        ],
        [
         "BR4566",
         "Heinkel Motors"
        ],
        [
         "BR1108",
         "Lotus Motors"
        ],
        [
         "BR1204",
         "Matra (including Deutsch-Bonnet, René Bonnet) Motors"
        ],
        [
         "BR13326",
         "Wolseley  Motors"
        ],
        [
         "BR1372",
         "Naza Motors"
        ],
        [
         "BR1758",
         "Scion Motors"
        ],
        [
         "BR1887",
         "Sunbeam Motors"
        ],
        [
         "BR2214",
         "Riley  Motors"
        ],
        [
         "BR7986",
         "Monteverdi Motors"
        ],
        [
         "BR0515",
         "e.GO Mobile Motors"
        ],
        [
         "BR0661",
         "FSO Motors"
        ],
        [
         "BR1021",
         "KTM Motors"
        ],
        [
         "BR1268",
         "Merkur Motors"
        ],
        [
         "BR13266",
         "Riley  Motors"
        ],
        [
         "BR2151",
         "Maybach  Motors"
        ],
        [
         "BR2300",
         "Zion Automobils"
        ],
        [
         "BR2382",
         "Claremore Auto Dealership"
        ],
        [
         "BR0010",
         "AC Cars Motors"
        ],
        [
         "BR0051",
         "Alvis Motors"
        ],
        [
         "BR0341",
         "Chrysler Motors"
        ],
        [
         "BR0384",
         "Dacia Motors"
        ],
        [
         "BR0569",
         "Fiat Motors"
        ],
        [
         "BR14646",
         "Jennings Ford Automobile Dealership"
        ],
        [
         "BR1562",
         "Polestar Motors"
        ],
        [
         "BR1872",
         "Subaru Motors"
        ],
        [
         "BR2128",
         "DKW Motors"
        ],
        [
         "BR2197",
         "Morris  Motors"
        ],
        [
         "BR2253",
         "Das Motors"
        ],
        [
         "BR2315",
         "2008 NRHP-listed"
        ],
        [
         "BR0443",
         "Delahaye Motors"
        ],
        [
         "BR0925",
         "Iso Motors"
        ],
        [
         "BR1019",
         "Koenigsegg Motors"
        ],
        [
         "BR1411",
         "NSU Motors"
        ],
        [
         "BR1733",
         "Santana Motors"
        ],
        [
         "BR1745",
         "Saturn Motors"
        ],
        [
         "BR1962",
         "Toyota India Motors"
        ],
        [
         "BR2251",
         "Das Motors"
        ],
        [
         "BR0102",
         "Artega Motors"
        ],
        [
         "BR0745",
         "Gumpert Motors"
        ],
        [
         "BR0858",
         "Hummer Motors"
        ],
        [
         "BR0917",
         "Isdera Motors"
        ],
        [
         "BR1171",
         "Maruti Motors"
        ],
        [
         "BR1247",
         "Mercedes-Benz (including Maybach) Motors"
        ],
        [
         "BR1831",
         "Spyker Motors"
        ],
        [
         "BR2448",
         "Jennings Ford Automobile Dealership"
        ],
        [
         "BR0173",
         "Bentley Motors"
        ],
        [
         "BR0249",
         "Austin-Healey Motors"
        ],
        [
         "BR0619",
         "Ford Australia Motors"
        ],
        [
         "BR1118",
         "LTI Motors"
        ],
        [
         "BR1294",
         "Micro Motors"
        ],
        [
         "BR1593",
         "Premier Motors"
        ],
        [
         "BR1712",
         "San Motors"
        ],
        [
         "BR1728",
         "Santa Matilde Motors"
        ],
        [
         "BR2409",
         "Colman Automotive Building"
        ],
        [
         "BR8586",
         "Oltcit Motors"
        ],
        [
         "BR0402",
         "DAF Motors"
        ],
        [
         "BR0542",
         "Facel Vega Motors"
        ],
        [
         "BR11646",
         "Tornado Motors"
        ],
        [
         "BR1467",
         "Pagani Motors"
        ],
        [
         "BR2321",
         "Blankinship Motor Company Building"
        ],
        [
         "BR7026",
         "Maruti Motors"
        ],
        [
         "BR0295",
         "Cadillac Motors"
        ],
        [
         "BR0641",
         "Ford India Motors"
        ],
        [
         "BR0715",
         "Glas Motors"
        ],
        [
         "BR0975",
         "Jeep Motors"
        ],
        [
         "BR1004",
         "Kia Motors"
        ],
        [
         "BR1610",
         "Proton Motors"
        ],
        [
         "BR1741",
         "Saturn Motors"
        ],
        [
         "BR2053",
         "Volvo Motors"
        ],
        [
         "BR2340",
         "Bohn Motor Company Automobile Dealership"
        ],
        [
         "BR0042",
         "Alpine Motors"
        ],
        [
         "BR0311",
         "Checker Motors"
        ],
        [
         "BR0482",
         "Dodge Motors"
        ],
        [
         "BR0870",
         "Hyundai Motors"
        ],
        [
         "BR1362",
         "Nash Motors"
        ],
        [
         "BR1571",
         "Pontiac, Asüna Motors"
        ],
        [
         "BR2370",
         "Casa de cadillac"
        ],
        [
         "BR2389",
         "Claremore Auto Dealership"
        ],
        [
         "BR3966",
         "FSO Motors"
        ],
        [
         "BR6846",
         "Mahindra Motors"
        ],
        [
         "BR7806",
         "Mini Motors"
        ],
        [
         "BR0420",
         "Daihatsu Motors"
        ],
        [
         "BR0667",
         "FSO Motors"
        ],
        [
         "BR0742",
         "Gumpert Motors"
        ],
        [
         "BR0822",
         "Honda India Motors"
        ],
        [
         "BR0981",
         "Jensen Motors"
        ],
        [
         "BR1052",
         "Lancia Motors"
        ],
        [
         "BR1194",
         "Mastretta Motors"
        ],
        [
         "BR1620",
         "Puma Motors"
        ],
        [
         "BR1761",
         "Seat Motors"
        ],
        [
         "BR1925",
         "Tazzari Motors"
        ],
        [
         "BR1933",
         "Tesla Motors"
        ],
        [
         "BR2045",
         "Volkswagen South Africa Motors"
        ],
        [
         "BR2469",
         "Kindel Building"
        ],
        [
         "BR8706",
         "Packard Motors"
        ],
        [
         "BR9306",
         "Plymouth Motors"
        ],
        [
         "BR0015",
         "Acura Motors"
        ],
        [
         "BR0217",
         "Borgward (including Goliath and Lloyd) Motors"
        ],
        [
         "BR0283",
         "Bytom Motors"
        ],
        [
         "BR1274",
         "Messerschmitt Motors"
        ],
        [
         "BR1431",
         "Oltcit Motors"
        ],
        [
         "BR1451",
         "Packard Motors"
        ],
        [
         "BR1554",
         "Plymouth Motors"
        ],
        [
         "BR2049",
         "Volkswagen South Africa Motors"
        ],
        [
         "BR2088",
         "Zastava Motors"
        ],
        [
         "BR2107",
         "ZIL Motors"
        ],
        [
         "BR2305",
         "Atlantic Motor Company"
        ],
        [
         "BR5586",
         "Isotta Fraschini Motors"
        ],
        [
         "BR0290",
         "Bytom Motors"
        ],
        [
         "BR0474",
         "De Tomaso Motors"
        ],
        [
         "BR0940",
         "Isotta Fraschini Motors"
        ],
        [
         "BR2202",
         "Austin  Motors"
        ],
        [
         "BR6246",
         "Lamborghini Motors"
        ],
        [
         "BR0179",
         "Bentley Motors"
        ],
        [
         "BR0797",
         "Hindustan Motors"
        ],
        [
         "BR1261",
         "Merkur Motors"
        ],
        [
         "BR1575",
         "Pontiac, Asüna Motors"
        ],
        [
         "BR2114",
         "Audi Motors"
        ],
        [
         "BR2208",
         "Austin  Motors"
        ],
        [
         "BR0087",
         "Ariel Motors"
        ],
        [
         "BR0117",
         "Asia Motors Motors"
        ],
        [
         "BR0181",
         "Bitter Motors"
        ],
        [
         "BR0183",
         "Bitter Motors"
        ],
        [
         "BR0464",
         "DeSoto Motors"
        ],
        [
         "BR0633",
         "Ford Europe Motors"
        ],
        [
         "BR8946",
         "Panther Motors"
        ],
        [
         "BR0643",
         "Ford India Motors"
        ],
        [
         "BR1086",
         "Bitter Motors"
        ],
        [
         "BR1465",
         "Pagani Motors"
        ],
        [
         "BR1489",
         "Panoz Motors"
        ],
        [
         "BR1643",
         "Renault Motors"
        ],
        [
         "BR1765",
         "Seat Motors"
        ],
        [
         "BR0090",
         "Ariel Motors"
        ],
        [
         "BR0487",
         "Dodge Motors"
        ],
        [
         "BR1020",
         "Koenigsegg Motors"
        ],
        [
         "BR1073",
         "Lexus Motors"
        ],
        [
         "BR1102",
         "Lotus Motors"
        ],
        [
         "BR12306",
         "Volvo Motors"
        ],
        [
         "BR1682",
         "SAIC Motor Motors"
        ],
        [
         "BR1702",
         "Samsung Motors"
        ],
        [
         "BR1938",
         "Tesla Motors"
        ],
        [
         "BR1958",
         "Toyota Motors"
        ],
        [
         "BR2173",
         "Lagonda  Motors"
        ],
        [
         "BR0379",
         "Cizeta-Moroder Motors"
        ],
        [
         "BR0687",
         "Geo Motors"
        ],
        [
         "BR0767",
         "Heinkel Motors"
        ],
        [
         "BR14106",
         "Cadillac Automobile Company Building"
        ],
        [
         "BR1454",
         "Packard Motors"
        ],
        [
         "BR1642",
         "Renault Motors"
        ],
        [
         "BR1652",
         "Rivian Motors"
        ],
        [
         "BR2052",
         "Volvo Motors"
        ],
        [
         "BR2157",
         "Maybach  Motors"
        ],
        [
         "BR2182",
         "MG  Motors"
        ],
        [
         "BR3666",
         "Ford Australia Motors"
        ],
        [
         "BR0668",
         "FSO Motors"
        ],
        [
         "BR0719",
         "Glas Motors"
        ],
        [
         "BR1079",
         "Lexus Motors"
        ],
        [
         "BR1299",
         "Micro Motors"
        ],
        [
         "BR1685",
         "SAIC Motor Motors"
        ],
        [
         "BR1720",
         "San Motors"
        ],
        [
         "BR1729",
         "Santa Matilde Motors"
        ],
        [
         "BR2079",
         "Wiesmann Motors"
        ],
        [
         "BR2163",
         "Izh  Motors"
        ],
        [
         "BR2414",
         "H Street Playhouse"
        ],
        [
         "BR6966",
         "Marlin Motors"
        ],
        [
         "BR0819",
         "Honda Motors"
        ],
        [
         "BR1214",
         "Mazda Motors"
        ],
        [
         "BR1911",
         "Tatra Motors"
        ],
        [
         "BR2166",
         "Citroën Motors"
        ],
        [
         "BR2175",
         "Lagonda  Motors"
        ],
        [
         "BR2198",
         "Morris  Motors"
        ],
        [
         "BR6126",
         "KTM Motors"
        ],
        [
         "BR0400",
         "Daewoo, Saehan, Chevrolet Korea Motors"
        ],
        [
         "BR0527",
         "Eicher Polaris Motors"
        ],
        [
         "BR1103",
         "Lotus Motors"
        ],
        [
         "BR13686",
         "Herald Motors"
        ],
        [
         "BR1815",
         "Skoda Motors"
        ],
        [
         "BR0414",
         "Daihatsu Motors"
        ],
        [
         "BR0444",
         "Delahaye Motors"
        ],
        [
         "BR0959",
         "Iveco Motors"
        ],
        [
         "BR1058",
         "Lancia Motors"
        ],
        [
         "BR1338",
         "Monteverdi Motors"
        ],
        [
         "BR1388",
         "Nissan Motors"
        ],
        [
         "BR1854",
         "Standard-Triumph Motors"
        ],
        [
         "BR2270",
         "Ramani Motors"
        ],
        [
         "BR2278",
         "Deccan Motors"
        ],
        [
         "BR2287",
         "Herald Motors"
        ],
        [
         "BR2324",
         "Blankinship Motor Company Building"
        ],
        [
         "BR0280",
         "Buick Motors"
        ],
        [
         "BR0631",
         "Ford Europe Motors"
        ],
        [
         "BR0702",
         "Ginetta Motors"
        ],
        [
         "BR0942",
         "Isuzu Motors"
        ],
        [
         "BR1151",
         "Marcos Motors"
        ],
        [
         "BR2121",
         "DKW Motors"
        ],
        [
         "BR2174",
         "Lagonda  Motors"
        ],
        [
         "BR2886",
         "Dodge Motors"
        ],
        [
         "BR0213",
         "Borgward (including Goliath and Lloyd) Motors"
        ],
        [
         "BR0680",
         "GAZ Motors"
        ],
        [
         "BR1075",
         "Lexus Motors"
        ],
        [
         "BR1207",
         "Matra (including Deutsch-Bonnet, René Bonnet) Motors"
        ],
        [
         "BR1507",
         "Peel Motors"
        ],
        [
         "BR2080",
         "Wiesmann Motors"
        ],
        [
         "BR0454",
         "DeLorean Motors"
        ],
        [
         "BR0974",
         "Jeep Motors"
        ],
        [
         "BR1026",
         "Bentley Motors"
        ],
        [
         "BR13566",
         "Ramani Motors"
        ],
        [
         "BR1457",
         "Packard Motors"
        ],
        [
         "BR1684",
         "SAIC Motor Motors"
        ],
        [
         "BR2301",
         "Atlantic Motor Company"
        ],
        [
         "BR2310",
         "Atlantic Motor Company"
        ],
        [
         "BR2384",
         "Claremore Auto Dealership"
        ],
        [
         "BR2454",
         "Jones Motor Company"
        ],
        [
         "BR0186",
         "Alfa Romeo Motors"
        ],
        [
         "BR0834",
         "Hudson Motors"
        ],
        [
         "BR0904",
         "Invicta Motors"
        ],
        [
         "BR0907",
         "Invicta Motors"
        ],
        [
         "BR1200",
         "Mastretta Motors"
        ],
        [
         "BR1889",
         "Sunbeam Motors"
        ],
        [
         "BR2140",
         "Horch Motors"
        ],
        [
         "BR2177",
         "Lagonda  Motors"
        ],
        [
         "BR0810",
         "Holden Motors"
        ],
        [
         "BR1530",
         "Peugeot Motors"
        ],
        [
         "BR1638",
         "Reliant Motors"
        ],
        [
         "BR1779",
         "Shelby SuperCars Motors"
        ],
        [
         "BR1928",
         "Tazzari Motors"
        ],
        [
         "BR1954",
         "Toyota Motors"
        ],
        [
         "BR1998",
         "UAZ Motors"
        ],
        [
         "BR2355",
         "Cadillac Automobile Company Building"
        ],
        [
         "BR2359",
         "Cadillac Automobile Company Building"
        ],
        [
         "BR0012",
         "Acura Motors"
        ],
        [
         "BR0578",
         "Fiat do Brasil Motors"
        ],
        [
         "BR0748",
         "Gumpert Motors"
        ],
        [
         "BR1386",
         "British Leyland Motors"
        ],
        [
         "BR1868",
         "Studebaker Motors"
        ],
        [
         "BR1930",
         "Tazzari Motors"
        ],
        [
         "BR0427",
         "Daimler Motors"
        ],
        [
         "BR0924",
         "Iso Motors"
        ],
        [
         "BR0949",
         "Isuzu Motors"
        ],
        [
         "BR1001",
         "Kia Motors"
        ],
        [
         "BR1157",
         "Marcos Motors"
        ],
        [
         "BR1165",
         "Marlin Motors"
        ],
        [
         "BR1188",
         "Maserati Motors"
        ],
        [
         "BR1513",
         "Perodua Motors"
        ],
        [
         "BR1751",
         "Scion Motors"
        ],
        [
         "BR2029",
         "Volkswagen Motors"
        ],
        [
         "BR2060",
         "Volvo Motors"
        ],
        [
         "BR2137",
         "Horch Motors"
        ],
        [
         "BR0403",
         "DAF Motors"
        ],
        [
         "BR0645",
         "Ford India Motors"
        ],
        [
         "BR0893",
         "Innocenti Motors"
        ],
        [
         "BR1170",
         "Marlin Motors"
        ],
        [
         "BR1371",
         "Naza Motors"
        ],
        [
         "BR1858",
         "Standard-Triumph Motors"
        ],
        [
         "BR2419",
         "H Street Playhouse"
        ],
        [
         "BR3066",
         "e.GO Mobile Motors"
        ],
        [
         "BR0061",
         "AMC, Eagle Motors"
        ],
        [
         "BR0323",
         "Chevrolet Motors"
        ],
        [
         "BR1475",
         "Panhard Motors"
        ],
        [
         "BR1908",
         "Tata Motors"
        ],
        [
         "BR2220",
         "Riley  Motors"
        ],
        [
         "BR2286",
         "Dacia Motors"
        ],
        [
         "BR2431",
         "Hupmobile Building"
        ],
        [
         "BR0332",
         "Chevrolet India Motors"
        ],
        [
         "BR0551",
         "Ferrari Motors"
        ],
        [
         "BR0969",
         "Jaguar Motors"
        ],
        [
         "BR1172",
         "Maruti Motors"
        ],
        [
         "BR1203",
         "Matra (including Deutsch-Bonnet, René Bonnet) Motors"
        ],
        [
         "BR1543",
         "Piaggio Motors"
        ],
        [
         "BR1588",
         "Porsche Motors"
        ],
        [
         "BR1800",
         "Simca do Brasil Motors"
        ],
        [
         "BR1839",
         "Spyker Motors"
        ],
        [
         "BR0221",
         "Bristol Motors"
        ],
        [
         "BR0422",
         "Daimler Motors"
        ],
        [
         "BR0450",
         "Delahaye Motors"
        ],
        [
         "BR0669",
         "FSO Motors"
        ],
        [
         "BR0712",
         "Glas Motors"
        ],
        [
         "BR0804",
         "Holden Motors"
        ],
        [
         "BR0844",
         "Humber Motors"
        ],
        [
         "BR0970",
         "Jaguar Motors"
        ],
        [
         "BR1092",
         "Lincoln Motors"
        ],
        [
         "BR1184",
         "Maserati Motors"
        ],
        [
         "BR1251",
         "Mercury Motors"
        ],
        [
         "BR1287",
         "Mia Motors"
        ],
        [
         "BR1582",
         "Porsche Motors"
        ],
        [
         "BR1787",
         "Simca Motors"
        ],
        [
         "BR2395",
         "Clemens Automobile Company Building"
        ],
        [
         "BR0265",
         "Bugatti Motors"
        ],
        [
         "BR0305",
         "Caterham Motors"
        ],
        [
         "BR0860",
         "Hummer Motors"
        ],
        [
         "BR1023",
         "KTM Motors"
        ],
        [
         "BR1037",
         "Lada Motors"
        ],
        [
         "BR10446",
         "Saturn Motors"
        ],
        [
         "BR4386",
         "GTA Spano Motors"
        ],
        [
         "BR0060",
         "Alvis Motors"
        ],
        [
         "BR0123",
         "Aston Martin Motors"
        ],
        [
         "BR0239",
         "British Leyland Motors"
        ],
        [
         "BR0306",
         "Alvis Motors"
        ],
        [
         "BR10026",
         "Saab Motors"
        ],
        [
         "BR1217",
         "Mazda Motors"
        ],
        [
         "BR1914",
         "Tatra Motors"
        ],
        [
         "BR2113",
         "Audi Motors"
        ],
        [
         "BR4626",
         "Hennessey Motors"
        ],
        [
         "BR0381",
         "Dacia Motors"
        ],
        [
         "BR0629",
         "Ford do Brasil Motors"
        ],
        [
         "BR1060",
         "Lancia Motors"
        ],
        [
         "BR1145",
         "Mahindra Motors"
        ],
        [
         "BR1229",
         "Mazzanti Motors"
        ],
        [
         "BR1252",
         "Mercury Motors"
        ],
        [
         "BR1602",
         "Proton Motors"
        ],
        [
         "BR1793",
         "Simca do Brasil Motors"
        ],
        [
         "BR2130",
         "DKW Motors"
        ],
        [
         "BR2411",
         "H Street Playhouse"
        ],
        [
         "BR0215",
         "Borgward (including Goliath and Lloyd) Motors"
        ],
        [
         "BR0329",
         "Chevrolet Motors"
        ],
        [
         "BR0441",
         "Delahaye Motors"
        ],
        [
         "BR1059",
         "Lancia Motors"
        ],
        [
         "BR13386",
         "Standard  Motors"
        ],
        [
         "BR1590",
         "Porsche Motors"
        ],
        [
         "BR1647",
         "Renault Motors"
        ],
        [
         "BR1777",
         "Shelby SuperCars Motors"
        ],
        [
         "BR2040",
         "Volkswagen do Brasil Motors"
        ],
        [
         "BR2164",
         "Izh  Motors"
        ],
        [
         "BR0483",
         "Dodge Motors"
        ],
        [
         "BR0739",
         "GTA Spano Motors"
        ],
        [
         "BR0987",
         "Jensen Motors"
        ],
        [
         "BR1129",
         "LuAZ Motors"
        ],
        [
         "BR12126",
         "Volkswagen Motors"
        ],
        [
         "BR1275",
         "Messerschmitt Motors"
        ],
        [
         "BR1495",
         "Panther Motors"
        ],
        [
         "BR1657",
         "Rivian Motors"
        ],
        [
         "BR1686",
         "Bytom Motors"
        ],
        [
         "BR0228",
         "Bristol Motors"
        ],
        [
         "BR0272",
         "Buick Motors"
        ],
        [
         "BR10386",
         "Santana Motors"
        ],
        [
         "BR1080",
         "Lexus Motors"
        ],
        [
         "BR1148",
         "Mahindra Motors"
        ],
        [
         "BR1150",
         "Mahindra Motors"
        ],
        [
         "BR1370",
         "Nash Motors"
        ],
        [
         "BR1673",
         "Saab Motors"
        ],
        [
         "BR0324",
         "Chevrolet Motors"
        ],
        [
         "BR0815",
         "Honda Motors"
        ],
        [
         "BR0985",
         "Jensen Motors"
        ],
        [
         "BR1127",
         "LuAZ Motors"
        ],
        [
         "BR12606",
         "ZIL Motors"
        ],
        [
         "BR1655",
         "Rivian Motors"
        ],
        [
         "BR1841",
         "SsangYong Motors"
        ],
        [
         "BR2118",
         "Audi Motors"
        ],
        [
         "BR2368",
         "Casa de cadillac"
        ],
        [
         "BR0277",
         "Buick Motors"
        ],
        [
         "BR0827",
         "Honda India Motors"
        ],
        [
         "BR1365",
         "Nash Motors"
        ],
        [
         "BR1784",
         "Simca Motors"
        ],
        [
         "BR2190",
         "MG  Motors"
        ],
        [
         "BR5226",
         "IFA (including Trabant, Wartburg, Barkas) Motors"
        ],
        [
         "BR0188",
         "Bitter Motors"
        ],
        [
         "BR0432",
         "Datsun Motors"
        ],
        [
         "BR1701",
         "Samsung Motors"
        ],
        [
         "BR2009",
         "Vauxhall Motors"
        ],
        [
         "BR2030",
         "Volkswagen Motors"
        ],
        [
         "BR2058",
         "Volvo Motors"
        ],
        [
         "BR2271",
         "Deccan Motors"
        ],
        [
         "BR2303",
         "Atlantic Motor Company"
        ],
        [
         "BR2357",
         "Cadillac Automobile Company Building"
        ],
        [
         "BR0003",
         "AC Cars Motors"
        ],
        [
         "BR0050",
         "Alpine Motors"
        ],
        [
         "BR0227",
         "Bristol Motors"
        ],
        [
         "BR0521",
         "Eicher Polaris Motors"
        ],
        [
         "BR0620",
         "Ford Australia Motors"
        ],
        [
         "BR0623",
         "Ford do Brasil Motors"
        ],
        [
         "BR0807",
         "Holden Motors"
        ],
        [
         "BR1450",
         "Opel Motors"
        ],
        [
         "BR1971",
         "Turner Motors"
        ],
        [
         "BR1987",
         "TVR Motors"
        ],
        [
         "BR2119",
         "Audi Motors"
        ],
        [
         "BR0072",
         "Anadol Motors"
        ],
        [
         "BR0078",
         "Anadol Motors"
        ],
        [
         "BR0081",
         "Ariel Motors"
        ],
        [
         "BR0118",
         "Asia Motors Motors"
        ],
        [
         "BR0180",
         "Bentley Motors"
        ],
        [
         "BR0203",
         "Bond Motors"
        ],
        [
         "BR1138",
         "Lynx Motors"
        ],
        [
         "BR1238",
         "McLaren Motors"
        ],
        [
         "BR2346",
         "Daewoo, Saehan, Chevrolet Korea Motors"
        ],
        [
         "BR6006",
         "Kia Motors"
        ],
        [
         "BR0047",
         "Alpine Motors"
        ],
        [
         "BR0253",
         "Austin, Rover Motors"
        ],
        [
         "BR0601",
         "Ford America Motors"
        ],
        [
         "BR0833",
         "Hudson Motors"
        ],
        [
         "BR10806",
         "Singer Motors"
        ],
        [
         "BR1158",
         "Marcos Motors"
        ],
        [
         "BR1502",
         "Peel Motors"
        ],
        [
         "BR1555",
         "Plymouth Motors"
        ],
        [
         "BR1611",
         "Puma Motors"
        ],
        [
         "BR1635",
         "Reliant Motors"
        ],
        [
         "BR1852",
         "Standard-Triumph Motors"
        ],
        [
         "BR1980",
         "Turner Motors"
        ],
        [
         "BR2028",
         "Volkswagen Motors"
        ],
        [
         "BR2229",
         "Wolseley  Motors"
        ],
        [
         "BR2338",
         "Bohn Motor Company Automobile Dealership"
        ],
        [
         "BR8286",
         "Nissan Motors"
        ],
        [
         "BR0043",
         "Alpine Motors"
        ],
        [
         "BR0194",
         "BMW Motors"
        ],
        [
         "BR0695",
         "Gilbern Motors"
        ],
        [
         "BR1028",
         "KTM Motors"
        ],
        [
         "BR1178",
         "Maruti Motors"
        ],
        [
         "BR1669",
         "Rolls-Royce Motors"
        ],
        [
         "BR2330",
         "Blankinship Motor Company Building"
        ],
        [
         "BR2358",
         "Cadillac Automobile Company Building"
        ],
        [
         "BR0704",
         "Ginetta Motors"
        ],
        [
         "BR0721",
         "GMC Motors"
        ],
        [
         "BR0838",
         "Hudson Motors"
        ],
        [
         "BR10146",
         "Saleen Motors"
        ],
        [
         "BR1087",
         "Ligier Motors"
        ],
        [
         "BR1266",
         "Borgward (including Goliath and Lloyd) Motors"
        ],
        [
         "BR2331",
         "Bohn Motor Company Automobile Dealership"
        ],
        [
         "BR2345",
         "Buick Automobile Company Building"
        ],
        [
         "BR2347",
         "Buick Automobile Company Building"
        ],
        [
         "BR0205",
         "Bond Motors"
        ],
        [
         "BR0278",
         "Buick Motors"
        ],
        [
         "BR0333",
         "Chevrolet India Motors"
        ],
        [
         "BR0412",
         "Daihatsu Motors"
        ],
        [
         "BR0460",
         "DeLorean Motors"
        ],
        [
         "BR0520",
         "e.GO Mobile Motors"
        ],
        [
         "BR0726",
         "Aston Martin Motors"
        ],
        [
         "BR0837",
         "Hudson Motors"
        ],
        [
         "BR0908",
         "Invicta Motors"
        ],
        [
         "BR11286",
         "Sunbeam Motors"
        ],
        [
         "BR1480",
         "Panhard Motors"
        ],
        [
         "BR0165",
         "Auverland Motors"
        ],
        [
         "BR0600",
         "Fisker, Karma Motors"
        ],
        [
         "BR0979",
         "Jeep Motors"
        ],
        [
         "BR1035",
         "Lada Motors"
        ],
        [
         "BR1210",
         "Matra (including Deutsch-Bonnet, René Bonnet) Motors"
        ],
        [
         "BR1264",
         "Merkur Motors"
        ],
        [
         "BR1559",
         "Plymouth Motors"
        ],
        [
         "BR1573",
         "Pontiac, Asüna Motors"
        ],
        [
         "BR2450",
         "Jennings Ford Automobile Dealership"
        ],
        [
         "BR0083",
         "Ariel Motors"
        ],
        [
         "BR0161",
         "Auverland Motors"
        ],
        [
         "BR0197",
         "BMW Motors"
        ],
        [
         "BR0481",
         "Dodge Motors"
        ],
        [
         "BR0567",
         "Fiat Motors"
        ],
        [
         "BR0945",
         "Isuzu Motors"
        ],
        [
         "BR11406",
         "Tata Motors"
        ],
        [
         "BR1521",
         "Peugeot Motors"
        ],
        [
         "BR1814",
         "Skoda Motors"
        ],
        [
         "BR2007",
         "Vauxhall Motors"
        ],
        [
         "BR2405",
         "Colman Automotive Building"
        ],
        [
         "BR0655",
         "Freightliner Motors"
        ],
        [
         "BR0964",
         "Jaguar Motors"
        ],
        [
         "BR1013",
         "Koenigsegg Motors"
        ],
        [
         "BR1834",
         "Spyker Motors"
        ],
        [
         "BR1835",
         "Spyker Motors"
        ],
        [
         "BR0200",
         "BMW Motors"
        ],
        [
         "BR0240",
         "British Leyland Motors"
        ],
        [
         "BR0657",
         "Freightliner Motors"
        ],
        [
         "BR0665",
         "FSO Motors"
        ],
        [
         "BR0698",
         "Gilbern Motors"
        ],
        [
         "BR0741",
         "Gumpert Motors"
        ],
        [
         "BR1113",
         "LTI Motors"
        ],
        [
         "BR1198",
         "Mastretta Motors"
        ],
        [
         "BR1253",
         "Mercury Motors"
        ],
        [
         "BR1807",
         "Singer Motors"
        ],
        [
         "BR1897",
         "Suzuki Motors"
        ],
        [
         "BR1905",
         "Tata Motors"
        ],
        [
         "BR2000",
         "UAZ Motors"
        ],
        [
         "BR6366",
         "Land Rover Motors"
        ],
        [
         "BR0055",
         "Alvis Motors"
        ],
        [
         "BR0902",
         "Invicta Motors"
        ],
        [
         "BR1110",
         "Lotus Motors"
        ],
        [
         "BR1511",
         "Perodua Motors"
        ],
        [
         "BR2152",
         "Maybach  Motors"
        ],
        [
         "BR2444",
         "Jennings Ford Automobile Dealership"
        ],
        [
         "BR0066",
         "Acura Motors"
        ],
        [
         "BR0294",
         "Cadillac Motors"
        ],
        [
         "BR0814",
         "Honda Motors"
        ],
        [
         "BR0839",
         "Hudson Motors"
        ],
        [
         "BR0873",
         "IFA (including Trabant, Wartburg, Barkas) Motors"
        ],
        [
         "BR11826",
         "Turner Motors"
        ],
        [
         "BR1189",
         "Maserati Motors"
        ],
        [
         "BR1259",
         "Mercury Motors"
        ],
        [
         "BR1808",
         "Singer Motors"
        ],
        [
         "BR2004",
         "Vauxhall Motors"
        ],
        [
         "BR2027",
         "Volkswagen Motors"
        ],
        [
         "BR0317",
         "Checker Motors"
        ],
        [
         "BR1333",
         "Monteverdi Motors"
        ],
        [
         "BR1651",
         "Rivian Motors"
        ],
        [
         "BR1803",
         "Singer Motors"
        ],
        [
         "BR2103",
         "ZIL Motors"
        ],
        [
         "BR2132",
         "Horch Motors"
        ],
        [
         "BR2260",
         "Das Motors"
        ],
        [
         "BR2350",
         "Buick Automobile Company Building"
        ],
        [
         "BR2421",
         "Howard Motor Company Building"
        ],
        [
         "BR0071",
         "Anadol Motors"
        ],
        [
         "BR0160",
         "Auto-Union Motors"
        ],
        [
         "BR0175",
         "Bentley Motors"
        ],
        [
         "BR0413",
         "Daihatsu Motors"
        ],
        [
         "BR0635",
         "Ford Europe Motors"
        ],
        [
         "BR0693",
         "Gilbern Motors"
        ],
        [
         "BR0734",
         "GTA Spano Motors"
        ],
        [
         "BR1663",
         "Rolls-Royce Motors"
        ],
        [
         "BR1874",
         "Subaru Motors"
        ],
        [
         "BR2122",
         "DKW Motors"
        ],
        [
         "BR8886",
         "Panoz Motors"
        ],
        [
         "BR0192",
         "BMW Motors"
        ],
        [
         "BR0255",
         "Austin, Rover Motors"
        ],
        [
         "BR0637",
         "Ford Europe Motors"
        ],
        [
         "BR0757",
         "Healey Motors"
        ],
        [
         "BR0965",
         "Jaguar Motors"
        ],
        [
         "BR1078",
         "Lexus Motors"
        ],
        [
         "BR1262",
         "Merkur Motors"
        ],
        [
         "BR1352",
         "Moskwitch Motors"
        ],
        [
         "BR1448",
         "Opel Motors"
        ],
        [
         "BR1631",
         "Reliant Motors"
        ],
        [
         "BR1633",
         "Reliant Motors"
        ],
        [
         "BR1665",
         "Rolls-Royce Motors"
        ],
        [
         "BR2169",
         "Izh  Motors"
        ],
        [
         "BR2272",
         "Deccan Motors"
        ],
        [
         "BR2318",
         "2008 NRHP-listed"
        ],
        [
         "BR1224",
         "Mazzanti Motors"
        ],
        [
         "BR1339",
         "Monteverdi Motors"
        ],
        [
         "BR1699",
         "Saleen Motors"
        ],
        [
         "BR1739",
         "Santana Motors"
        ],
        [
         "BR1972",
         "Turner Motors"
        ],
        [
         "BR2439",
         "Hupmobile Building"
        ],
        [
         "BR0052",
         "Alvis Motors"
        ],
        [
         "BR0119",
         "Asia Motors Motors"
        ],
        [
         "BR0723",
         "GMC Motors"
        ],
        [
         "BR1167",
         "Marlin Motors"
        ],
        [
         "BR1545",
         "Piaggio Motors"
        ],
        [
         "BR2401",
         "Colman Automotive Building"
        ],
        [
         "BR2586",
         "Datsun Motors"
        ],
        [
         "BR0419",
         "Daihatsu Motors"
        ],
        [
         "BR0867",
         "Hyundai Motors"
        ],
        [
         "BR1770",
         "Seat Motors"
        ],
        [
         "BR1824",
         "Smart Motors"
        ],
        [
         "BR2348",
         "Buick Automobile Company Building"
        ],
        [
         "BR0185",
         "Bitter Motors"
        ],
        [
         "BR0455",
         "DeLorean Motors"
        ],
        [
         "BR0692",
         "Gilbern Motors"
        ],
        [
         "BR0790",
         "Hillman Motors"
        ],
        [
         "BR0955",
         "Iveco Motors"
        ],
        [
         "BR0978",
         "Jeep Motors"
        ],
        [
         "BR1420",
         "NSU Motors"
        ],
        [
         "BR1522",
         "Peugeot Motors"
        ],
        [
         "BR1719",
         "San Motors"
        ],
        [
         "BR2335",
         "Bohn Motor Company Automobile Dealership"
        ],
        [
         "BR1499",
         "Panther Motors"
        ],
        [
         "BR3906",
         "Freightliner Motors"
        ],
        [
         "BR6186",
         "Lada Motors"
        ],
        [
         "BR0299",
         "Cadillac Motors"
        ],
        [
         "BR0438",
         "Datsun Motors"
        ],
        [
         "BR1629",
         "Ranger Motors"
        ],
        [
         "BR1941",
         "Tornado Motors"
        ],
        [
         "BR2032",
         "Volkswagen do Brasil Motors"
        ],
        [
         "BR2057",
         "Volvo Motors"
        ],
        [
         "BR2241",
         "Talbot  Motors"
        ],
        [
         "BR0191",
         "BMW Motors"
        ],
        [
         "BR0537",
         "Elva Motors"
        ],
        [
         "BR1623",
         "Ranger Motors"
        ],
        [
         "BR2284",
         "Herald Motors"
        ],
        [
         "BR0035",
         "Alfa Romeo Motors"
        ],
        [
         "BR0785",
         "Hillman Motors"
        ],
        [
         "BR0818",
         "Honda Motors"
        ],
        [
         "BR1137",
         "Lynx Motors"
        ],
        [
         "BR1146",
         "BMW Motors"
        ],
        [
         "BR1759",
         "Scion Motors"
        ],
        [
         "BR2375",
         "Cass Motor Sales"
        ],
        [
         "BR3426",
         "Fiat do Brasil Motors"
        ],
        [
         "BR0613",
         "Ford Australia Motors"
        ],
        [
         "BR1205",
         "Matra (including Deutsch-Bonnet, René Bonnet) Motors"
        ],
        [
         "BR1515",
         "Perodua Motors"
        ],
        [
         "BR1618",
         "Puma Motors"
        ],
        [
         "BR2766",
         "DeSoto Motors"
        ],
        [
         "BR0127",
         "Aston Martin Motors"
        ],
        [
         "BR1447",
         "Opel Motors"
        ],
        [
         "BR1823",
         "Smart Motors"
        ],
        [
         "BR2259",
         "Das Motors"
        ],
        [
         "BR0199",
         "BMW Motors"
        ],
        [
         "BR0201",
         "Bond Motors"
        ],
        [
         "BR0237",
         "British Leyland Motors"
        ],
        [
         "BR0493",
         "Donkervoort Motors"
        ],
        [
         "BR1041",
         "Lamborghini Motors"
        ],
        [
         "BR1485",
         "Panoz Motors"
        ],
        [
         "BR1527",
         "Peugeot Motors"
        ],
        [
         "BR2417",
         "H Street Playhouse"
        ],
        [
         "BR7266",
         "Mazda Motors"
        ],
        [
         "BR0128",
         "Aston Martin Motors"
        ],
        [
         "BR0234",
         "British Leyland Motors"
        ],
        [
         "BR1029",
         "KTM Motors"
        ],
        [
         "BR1125",
         "LuAZ Motors"
        ],
        [
         "BR1219",
         "Mazda Motors"
        ],
        [
         "BR1421",
         "Oldsmobile Motors"
        ],
        [
         "BR1523",
         "Peugeot Motors"
        ],
        [
         "BR1764",
         "Seat Motors"
        ],
        [
         "BR2195",
         "Morris  Motors"
        ],
        [
         "BR2200",
         "Morris  Motors"
        ],
        [
         "BR2317",
         "2008 NRHP-listed"
        ],
        [
         "BR0028",
         "Aixam-Mega (including Arola) Motors"
        ],
        [
         "BR0038",
         "Alfa Romeo Motors"
        ],
        [
         "BR0872",
         "IFA (including Trabant, Wartburg, Barkas) Motors"
        ],
        [
         "BR0898",
         "Innocenti Motors"
        ],
        [
         "BR0912",
         "Isdera Motors"
        ],
        [
         "BR1005",
         "Kia Motors"
        ],
        [
         "BR1147",
         "Mahindra Motors"
        ],
        [
         "BR1999",
         "UAZ Motors"
        ],
        [
         "BR2023",
         "Volkswagen Motors"
        ],
        [
         "BR2108",
         "ZIL Motors"
        ],
        [
         "BR2341",
         "Buick Automobile Company Building"
        ],
        [
         "BR2344",
         "Buick Automobile Company Building"
        ],
        [
         "BR0008",
         "AC Cars Motors"
        ],
        [
         "BR0445",
         "Delahaye Motors"
        ],
        [
         "BR1493",
         "Panther Motors"
        ],
        [
         "BR1754",
         "Scion Motors"
        ],
        [
         "BR2059",
         "Volvo Motors"
        ],
        [
         "BR0024",
         "Aixam-Mega (including Arola) Motors"
        ],
        [
         "BR0524",
         "Eicher Polaris Motors"
        ],
        [
         "BR1218",
         "Mazda Motors"
        ],
        [
         "BR1482",
         "Panoz Motors"
        ],
        [
         "BR1687",
         "SAIC Motor Motors"
        ],
        [
         "BR1838",
         "Spyker Motors"
        ],
        [
         "BR1902",
         "Tata Motors"
        ],
        [
         "BR1977",
         "Turner Motors"
        ],
        [
         "BR2201",
         "Austin  Motors"
        ],
        [
         "BR2374",
         "Cass Motor Sales"
        ],
        [
         "BR1175",
         "Maruti Motors"
        ],
        [
         "BR1544",
         "Piaggio Motors"
        ],
        [
         "BR1641",
         "Renault Motors"
        ],
        [
         "BR0214",
         "Borgward (including Goliath and Lloyd) Motors"
        ],
        [
         "BR0588",
         "Fiat India Motors"
        ],
        [
         "BR1049",
         "Lamborghini Motors"
        ],
        [
         "BR1727",
         "Santa Matilde Motors"
        ],
        [
         "BR2105",
         "ZIL Motors"
        ],
        [
         "BR0369",
         "Citroën Motors"
        ],
        [
         "BR0555",
         "Ferrari Motors"
        ],
        [
         "BR0615",
         "Ford Australia Motors"
        ],
        [
         "BR0840",
         "Hudson Motors"
        ],
        [
         "BR1121",
         "LuAZ Motors"
        ],
        [
         "BR1314",
         "Mitsubishi Motors"
        ],
        [
         "BR1563",
         "Polestar Motors"
        ],
        [
         "BR2239",
         "Standard  Motors"
        ],
        [
         "BR2339",
         "Bohn Motor Company Automobile Dealership"
        ],
        [
         "BR2393",
         "Clemens Automobile Company Building"
        ]
       ],
       "datasetInfos": [],
       "dbfsResultPath": null,
       "isJsonSchema": true,
       "metadata": {},
       "overflow": false,
       "plotOptions": {
        "customPlotOptions": {},
        "displayType": "table",
        "pivotAggregation": null,
        "pivotColumns": null,
        "xColumns": null,
        "yColumns": null
       },
       "removedWidgets": [],
       "schema": [
        {
         "metadata": "{}",
         "name": "Branch_ID",
         "type": "\"string\""
        },
        {
         "metadata": "{}",
         "name": "BranchName",
         "type": "\"string\""
        }
       ],
       "type": "table"
      }
     },
     "output_type": "display_data"
    }
   ],
   "source": [
    "df_dim_model_src.display()"
   ]
  },
  {
   "cell_type": "markdown",
   "metadata": {
    "application/vnd.databricks.v1+cell": {
     "cellMetadata": {},
     "inputWidgets": {},
     "nuid": "0015b4df-b101-4217-be08-10c02df0a26d",
     "showTitle": false,
     "tableResultSettingsMap": {},
     "title": ""
    }
   },
   "source": [
    "**Dimension table for Initial and Incremental load**"
   ]
  },
  {
   "cell_type": "code",
   "execution_count": 0,
   "metadata": {
    "application/vnd.databricks.v1+cell": {
     "cellMetadata": {
      "byteLimit": 2048000,
      "implicitDf": true,
      "rowLimit": 10000
     },
     "inputWidgets": {},
     "nuid": "8a2adc4b-047a-49d5-bb64-267a6db2f6b7",
     "showTitle": false,
     "tableResultSettingsMap": {},
     "title": ""
    }
   },
   "outputs": [],
   "source": [
    "if spark.catalog.tableExists('cars_catalog.gold.dim_dealer'):\n",
    "    df_dim_model_tgt = spark.sql('''\n",
    "                                SELECT Dealer_ID, DealerName, dim_Dealer_Key \n",
    "                                FROM cars_catalog.gold.dim_dealer\n",
    "                                ''')\n",
    "\n",
    "else:\n",
    "    df_dim_model_tgt = spark.sql('''\n",
    "                                SELECT Dealer_ID, DealerName, 1 AS dim_Dealer_Key \n",
    "                                FROM PARQUET.`abfss://silver@carssalesprojectdl.dfs.core.windows.net/carssales`\n",
    "                                WHERE 1=0\n",
    "                                ''')"
   ]
  },
  {
   "cell_type": "code",
   "execution_count": 0,
   "metadata": {
    "application/vnd.databricks.v1+cell": {
     "cellMetadata": {
      "byteLimit": 2048000,
      "rowLimit": 10000
     },
     "inputWidgets": {},
     "nuid": "7df2879c-a72b-400b-adc2-df4791d815e6",
     "showTitle": false,
     "tableResultSettingsMap": {},
     "title": ""
    }
   },
   "outputs": [
    {
     "output_type": "display_data",
     "data": {
      "text/html": [
       "<style scoped>\n",
       "  .table-result-container {\n",
       "    max-height: 300px;\n",
       "    overflow: auto;\n",
       "  }\n",
       "  table, th, td {\n",
       "    border: 1px solid black;\n",
       "    border-collapse: collapse;\n",
       "  }\n",
       "  th, td {\n",
       "    padding: 5px;\n",
       "  }\n",
       "  th {\n",
       "    text-align: left;\n",
       "  }\n",
       "</style><div class='table-result-container'><table class='table-result'><thead style='background-color: white'><tr><th>Dealer_ID</th><th>DealerName</th><th>dim_Dealer_Key</th></tr></thead><tbody></tbody></table></div>"
      ]
     },
     "metadata": {
      "application/vnd.databricks.v1+output": {
       "addedWidgets": {},
       "aggData": [],
       "aggError": "",
       "aggOverflow": false,
       "aggSchema": [],
       "aggSeriesLimitReached": false,
       "aggType": "",
       "arguments": {},
       "columnCustomDisplayInfos": {},
       "data": [],
       "datasetInfos": [],
       "dbfsResultPath": null,
       "isJsonSchema": true,
       "metadata": {},
       "overflow": false,
       "plotOptions": {
        "customPlotOptions": {},
        "displayType": "table",
        "pivotAggregation": null,
        "pivotColumns": null,
        "xColumns": null,
        "yColumns": null
       },
       "removedWidgets": [],
       "schema": [
        {
         "metadata": "{}",
         "name": "Dealer_ID",
         "type": "\"string\""
        },
        {
         "metadata": "{}",
         "name": "DealerName",
         "type": "\"string\""
        },
        {
         "metadata": "{}",
         "name": "dim_Dealer_Key",
         "type": "\"integer\""
        }
       ],
       "type": "table"
      }
     },
     "output_type": "display_data"
    }
   ],
   "source": [
    "df_dim_model_tgt.display()"
   ]
  },
  {
   "cell_type": "markdown",
   "metadata": {
    "application/vnd.databricks.v1+cell": {
     "cellMetadata": {},
     "inputWidgets": {},
     "nuid": "fede9141-83e0-4bb8-86c7-1ba37340ae0f",
     "showTitle": false,
     "tableResultSettingsMap": {},
     "title": ""
    }
   },
   "source": [
    "**DF filters - Old and New**"
   ]
  },
  {
   "cell_type": "code",
   "execution_count": 0,
   "metadata": {
    "application/vnd.databricks.v1+cell": {
     "cellMetadata": {
      "byteLimit": 2048000,
      "rowLimit": 10000
     },
     "inputWidgets": {},
     "nuid": "9d006455-d455-4042-8b64-ed6b8239a7c0",
     "showTitle": false,
     "tableResultSettingsMap": {},
     "title": ""
    }
   },
   "outputs": [],
   "source": [
    "df_filter = df_dim_model_src.join(df_dim_model_tgt, df_dim_model_src['Dealer_ID'] == df_dim_model_tgt['Dealer_ID'], 'left').select(df_dim_model_src['Dealer_ID'],  df_dim_model_src['DealerName'], df_dim_model_tgt['dim_Dealer_Key'])"
   ]
  },
  {
   "cell_type": "code",
   "execution_count": 0,
   "metadata": {
    "application/vnd.databricks.v1+cell": {
     "cellMetadata": {
      "byteLimit": 2048000,
      "rowLimit": 10000
     },
     "inputWidgets": {},
     "nuid": "5e7aac0d-bd91-4063-8348-3af8ea0dce94",
     "showTitle": false,
     "tableResultSettingsMap": {},
     "title": ""
    }
   },
   "outputs": [
    {
     "output_type": "display_data",
     "data": {
      "text/html": [
       "<style scoped>\n",
       "  .table-result-container {\n",
       "    max-height: 300px;\n",
       "    overflow: auto;\n",
       "  }\n",
       "  table, th, td {\n",
       "    border: 1px solid black;\n",
       "    border-collapse: collapse;\n",
       "  }\n",
       "  th, td {\n",
       "    padding: 5px;\n",
       "  }\n",
       "  th {\n",
       "    text-align: left;\n",
       "  }\n",
       "</style><div class='table-result-container'><table class='table-result'><thead style='background-color: white'><tr><th>Dealer_ID</th><th>DealerName</th><th>dim_Dealer_Key</th></tr></thead><tbody><tr><td>DLR0058</td><td>Fiat do Brasil Motors</td><td>null</td></tr><tr><td>DLR0107</td><td>Land Rover Motors</td><td>null</td></tr><tr><td>DLR0129</td><td>Mia Motors</td><td>null</td></tr><tr><td>DLR0111</td><td>Lotus Motors</td><td>null</td></tr><tr><td>DLR0085</td><td>Humber Motors</td><td>null</td></tr><tr><td>DLR0001</td><td>AC Cars Motors</td><td>null</td></tr><tr><td>DLR0218</td><td>Lagonda  Motors</td><td>null</td></tr><tr><td>DLR0082</td><td>Honda Motors</td><td>null</td></tr><tr><td>DLR0063</td><td>Ford do Brasil Motors</td><td>null</td></tr><tr><td>DLR0193</td><td>Tazzari Motors</td><td>null</td></tr><tr><td>DLR0134</td><td>Monteverdi Motors</td><td>null</td></tr><tr><td>DLR0199</td><td>TVR Motors</td><td>null</td></tr><tr><td>DLR0254</td><td>AMC, Eagle Motors</td><td>null</td></tr><tr><td>DLR0094</td><td>Isotta Fraschini Motors</td><td>null</td></tr><tr><td>DLR0236</td><td>Cadillac Automobile Company Building</td><td>null</td></tr><tr><td>DLR0201</td><td>Vauxhall Motors</td><td>null</td></tr><tr><td>DLR0175</td><td>Saturn Motors</td><td>null</td></tr><tr><td>DLR0226</td><td>Das Motors</td><td>null</td></tr><tr><td>DLR0207</td><td>Westfield Motors</td><td>null</td></tr><tr><td>DLR0035</td><td>Chrysler Motors</td><td>null</td></tr><tr><td>DLR0151</td><td>Peel Motors</td><td>null</td></tr><tr><td>DLR0156</td><td>Plymouth Motors</td><td>null</td></tr><tr><td>DLR0216</td><td>Maybach  Motors</td><td>null</td></tr><tr><td>DLR0259</td><td>Asia Motors Motors</td><td>null</td></tr><tr><td>DLR0037</td><td>Citroën Motors</td><td>null</td></tr><tr><td>DLR0074</td><td>GTA Spano Motors</td><td>null</td></tr><tr><td>DLR0150</td><td>Panther Motors</td><td>null</td></tr><tr><td>DLR0135</td><td>Morgan Motors</td><td>null</td></tr><tr><td>DLR0073</td><td>GMC Motors</td><td>null</td></tr><tr><td>DLR0260</td><td>Aston Martin Motors</td><td>null</td></tr><tr><td>DLR0153</td><td>Peugeot Motors</td><td>null</td></tr><tr><td>DLR0124</td><td>McLaren Motors</td><td>null</td></tr><tr><td>DLR0121</td><td>Matra (including Deutsch-Bonnet, René Bonnet) Motors</td><td>null</td></tr><tr><td>DLR0211</td><td>ZIL Motors</td><td>null</td></tr><tr><td>DLR0066</td><td>Freightliner Motors</td><td>null</td></tr><tr><td>DLR0110</td><td>Lincoln Motors</td><td>null</td></tr><tr><td>DLR0143</td><td>Oldsmobile Motors</td><td>null</td></tr><tr><td>DLR0167</td><td>Rolls-Royce Motors</td><td>null</td></tr><tr><td>DLR0048</td><td>De Tomaso Motors</td><td>null</td></tr><tr><td>DLR0008</td><td>Anadol Motors</td><td>null</td></tr><tr><td>DLR0128</td><td>Messerschmitt Motors</td><td>null</td></tr><tr><td>DLR0177</td><td>Seat Motors</td><td>null</td></tr><tr><td>DLR0181</td><td>Singer Motors</td><td>null</td></tr><tr><td>DLR0079</td><td>Hillman Motors</td><td>null</td></tr><tr><td>DLR0072</td><td>Glas Motors</td><td>null</td></tr><tr><td>DLR0248</td><td>AC Cars Motors</td><td>null</td></tr><tr><td>DLR0052</td><td>e.GO Mobile Motors</td><td>null</td></tr><tr><td>DLR0197</td><td>Toyota India Motors</td><td>null</td></tr><tr><td>DLR0080</td><td>Hindustan Motors</td><td>null</td></tr><tr><td>DLR0164</td><td>Reliant Motors</td><td>null</td></tr><tr><td>DLR0029</td><td>Bytom Motors</td><td>null</td></tr><tr><td>DLR0195</td><td>Tornado Motors</td><td>null</td></tr><tr><td>DLR0005</td><td>Alpine Motors</td><td>null</td></tr><tr><td>DLR0007</td><td>AMC, Eagle Motors</td><td>null</td></tr><tr><td>DLR0078</td><td>Hennessey Motors</td><td>null</td></tr><tr><td>DLR0247</td><td>Kindel Building</td><td>null</td></tr><tr><td>DLR0065</td><td>Ford India Motors</td><td>null</td></tr><tr><td>DLR0174</td><td>Santana Motors</td><td>null</td></tr><tr><td>DLR0022</td><td>Borgward (including Goliath and Lloyd) Motors</td><td>null</td></tr><tr><td>DLR0116</td><td>Marcos Motors</td><td>null</td></tr><tr><td>DLR0257</td><td>ARO Motors</td><td>null</td></tr><tr><td>DLR0172</td><td>San Motors</td><td>null</td></tr><tr><td>DLR0061</td><td>Ford America Motors</td><td>null</td></tr><tr><td>DLR0240</td><td>Clemens Automobile Company Building</td><td>null</td></tr><tr><td>DLR0103</td><td>KTM Motors</td><td>null</td></tr><tr><td>DLR0096</td><td>Iveco Motors</td><td>null</td></tr><tr><td>DLR0198</td><td>Turner Motors</td><td>null</td></tr><tr><td>DLR0137</td><td>Nash Motors</td><td>null</td></tr><tr><td>DLR0202</td><td>Venturi Motors</td><td>null</td></tr><tr><td>DLR0125</td><td>Mercedes-Benz (including Maybach) Motors</td><td>null</td></tr><tr><td>DLR0089</td><td>Infiniti Motors</td><td>null</td></tr><tr><td>DLR0266</td><td>Bitter Motors</td><td>null</td></tr><tr><td>DLR0148</td><td>Panhard Motors</td><td>null</td></tr><tr><td>DLR0142</td><td>NSU Motors</td><td>null</td></tr><tr><td>DLR0227</td><td>Ramani Motors</td><td>null</td></tr><tr><td>DLR0206</td><td>Volvo Motors</td><td>null</td></tr><tr><td>DLR0179</td><td>Simca Motors</td><td>null</td></tr><tr><td>DLR0059</td><td>Fiat India Motors</td><td>null</td></tr><tr><td>DLR0092</td><td>Isdera Motors</td><td>null</td></tr><tr><td>DLR0018</td><td>Bentley Motors</td><td>null</td></tr><tr><td>DLR0115</td><td>Mahindra Motors</td><td>null</td></tr><tr><td>DLR0169</td><td>SAIC Motor Motors</td><td>null</td></tr><tr><td>DLR0212</td><td>null</td><td>null</td></tr><tr><td>DLR0192</td><td>Tatra Motors</td><td>null</td></tr><tr><td>DLR0186</td><td>Standard-Triumph Motors</td><td>null</td></tr><tr><td>DLR0021</td><td>Bond Motors</td><td>null</td></tr><tr><td>DLR0147</td><td>Pagani Motors</td><td>null</td></tr><tr><td>DLR0098</td><td>Jeep Motors</td><td>null</td></tr><tr><td>DLR0209</td><td>Zastava Motors</td><td>null</td></tr><tr><td>DLR0166</td><td>Rivian Motors</td><td>null</td></tr><tr><td>DLR0250</td><td>Aixam-Mega (including Arola) Motors</td><td>null</td></tr><tr><td>DLR0220</td><td>Morris  Motors</td><td>null</td></tr><tr><td>DLR0183</td><td>Smart Motors</td><td>null</td></tr><tr><td>DLR0102</td><td>Koenigsegg Motors</td><td>null</td></tr><tr><td>DLR0188</td><td>Subaru Motors</td><td>null</td></tr><tr><td>DLR0155</td><td>Piaggio Motors</td><td>null</td></tr><tr><td>DLR0050</td><td>Donkervoort Motors</td><td>null</td></tr><tr><td>DLR0252</td><td>Alpine Motors</td><td>null</td></tr><tr><td>DLR0184</td><td>Spyker Motors</td><td>null</td></tr><tr><td>DLR0267</td><td>BMW Motors</td><td>null</td></tr><tr><td>DLR0091</td><td>Invicta Motors</td><td>null</td></tr><tr><td>DLR0262</td><td>Autobianchi Motors</td><td>null</td></tr><tr><td>DLR0249</td><td>Acura Motors</td><td>null</td></tr><tr><td>DLR0208</td><td>Wiesmann Motors</td><td>null</td></tr><tr><td>DLR0114</td><td>Lynx Motors</td><td>null</td></tr><tr><td>DLR0204</td><td>Volkswagen do Brasil Motors</td><td>null</td></tr><tr><td>DLR0200</td><td>UAZ Motors</td><td>null</td></tr><tr><td>DLR0163</td><td>Ranger Motors</td><td>null</td></tr><tr><td>DLR0223</td><td>Wolseley  Motors</td><td>null</td></tr><tr><td>DLR0044</td><td>null</td><td>null</td></tr><tr><td>DLR0231</td><td>Atlantic Motor Company</td><td>null</td></tr><tr><td>DLR0034</td><td>Chevrolet India Motors</td><td>null</td></tr><tr><td>DLR0126</td><td>Mercury Motors</td><td>null</td></tr><tr><td>DLR0046</td><td>DeLorean Motors</td><td>null</td></tr><tr><td>DLR0130</td><td>Micro Motors</td><td>null</td></tr><tr><td>DLR0210</td><td>ZAZ Motors</td><td>null</td></tr><tr><td>DLR0136</td><td>Moskwitch Motors</td><td>null</td></tr><tr><td>DLR0222</td><td>Riley  Motors</td><td>null</td></tr><tr><td>DLR0017</td><td>Auverland Motors</td><td>null</td></tr><tr><td>DLR0182</td><td>Skoda Motors</td><td>null</td></tr><tr><td>DLR0152</td><td>Perodua Motors</td><td>null</td></tr><tr><td>DLR0071</td><td>Ginetta Motors</td><td>null</td></tr><tr><td>DLR0161</td><td>Proton Motors</td><td>null</td></tr><tr><td>DLR0246</td><td>Jones Motor Company</td><td>null</td></tr><tr><td>DLR0020</td><td>BMW Motors</td><td>null</td></tr><tr><td>DLR0076</td><td>Healey Motors</td><td>null</td></tr><tr><td>DLR0237</td><td>Casa de cadillac</td><td>null</td></tr><tr><td>DLR0131</td><td>Mini Motors</td><td>null</td></tr><tr><td>DLR0112</td><td>LTI Motors</td><td>null</td></tr><tr><td>DLR0213</td><td>DKW Motors</td><td>null</td></tr><tr><td>DLR0040</td><td>Daewoo, Saehan, Chevrolet Korea Motors</td><td>null</td></tr><tr><td>DLR0187</td><td>Studebaker Motors</td><td>null</td></tr><tr><td>DLR0251</td><td>Alfa Romeo Motors</td><td>null</td></tr><tr><td>DLR0154</td><td>PGO Motors</td><td>null</td></tr><tr><td>DLR0119</td><td>Maserati Motors</td><td>null</td></tr><tr><td>DLR0013</td><td>Aston Martin Motors</td><td>null</td></tr><tr><td>DLR0087</td><td>Hyundai Motors</td><td>null</td></tr><tr><td>DLR0056</td><td>Ferrari Motors</td><td>null</td></tr><tr><td>DLR0033</td><td>Chevrolet Motors</td><td>null</td></tr><tr><td>DLR0042</td><td>Daihatsu Motors</td><td>null</td></tr><tr><td>DLR0229</td><td>Herald Motors</td><td>null</td></tr><tr><td>DLR0070</td><td>Gilbern Motors</td><td>null</td></tr><tr><td>DLR0191</td><td>Tata Motors</td><td>null</td></tr><tr><td>DLR0203</td><td>Volkswagen Motors</td><td>null</td></tr><tr><td>DLR0100</td><td>JPX Motors</td><td>null</td></tr><tr><td>DLR0047</td><td>DeSoto Motors</td><td>null</td></tr><tr><td>DLR0214</td><td>Horch Motors</td><td>null</td></tr><tr><td>DLR0171</td><td>Samsung Motors</td><td>null</td></tr><tr><td>DLR0045</td><td>Delahaye Motors</td><td>null</td></tr><tr><td>DLR0264</td><td>Auverland Motors</td><td>null</td></tr><tr><td>DLR0162</td><td>Puma Motors</td><td>null</td></tr><tr><td>DLR0159</td><td>Porsche Motors</td><td>null</td></tr><tr><td>DLR0146</td><td>Packard Motors</td><td>null</td></tr><tr><td>DLR0261</td><td>Audi Motors</td><td>null</td></tr><tr><td>DLR0032</td><td>Checker Motors</td><td>null</td></tr><tr><td>DLR0009</td><td>Ariel Motors</td><td>null</td></tr><tr><td>DLR0225</td><td>Talbot  Motors</td><td>null</td></tr><tr><td>DLR0221</td><td>Austin  Motors</td><td>null</td></tr><tr><td>DLR0075</td><td>Gumpert Motors</td><td>null</td></tr><tr><td>DLR0069</td><td>Geo Motors</td><td>null</td></tr><tr><td>DLR0104</td><td>Lada Motors</td><td>null</td></tr><tr><td>DLR0039</td><td>Dacia Motors</td><td>null</td></tr><tr><td>DLR0245</td><td>Jennings Ford Automobile Dealership</td><td>null</td></tr><tr><td>DLR0238</td><td>Cass Motor Sales</td><td>null</td></tr><tr><td>DLR0064</td><td>Ford Europe Motors</td><td>null</td></tr><tr><td>DLR0109</td><td>Ligier Motors</td><td>null</td></tr><tr><td>DLR0144</td><td>null</td><td>null</td></tr><tr><td>DLR0176</td><td>Scion Motors</td><td>null</td></tr><tr><td>DLR0255</td><td>Anadol Motors</td><td>null</td></tr><tr><td>DLR0138</td><td>Naza Motors</td><td>null</td></tr><tr><td>DLR0003</td><td>Aixam-Mega (including Arola) Motors</td><td>null</td></tr><tr><td>DLR0265</td><td>Bentley Motors</td><td>null</td></tr><tr><td>DLR0217</td><td>Izh  Motors</td><td>null</td></tr><tr><td>DLR0185</td><td>SsangYong Motors</td><td>null</td></tr><tr><td>DLR0019</td><td>Bitter Motors</td><td>null</td></tr><tr><td>DLR0165</td><td>Renault Motors</td><td>null</td></tr><tr><td>DLR0108</td><td>Lexus Motors</td><td>null</td></tr><tr><td>DLR0117</td><td>Marlin Motors</td><td>null</td></tr><tr><td>DLR0118</td><td>Maruti Motors</td><td>null</td></tr><tr><td>DLR0027</td><td>Bugatti Motors</td><td>null</td></tr><tr><td>DLR0139</td><td>Nissan Motors</td><td>null</td></tr><tr><td>DLR0088</td><td>IFA (including Trabant, Wartburg, Barkas) Motors</td><td>null</td></tr><tr><td>DLR0051</td><td>Edsel Motors</td><td>null</td></tr><tr><td>DLR0010</td><td>ARO Motors</td><td>null</td></tr><tr><td>DLR0006</td><td>Alvis Motors</td><td>null</td></tr><tr><td>DLR0180</td><td>Simca do Brasil Motors</td><td>null</td></tr><tr><td>DLR0253</td><td>Alvis Motors</td><td>null</td></tr><tr><td>DLR0230</td><td>Zion Automobils</td><td>null</td></tr><tr><td>DLR0190</td><td>Suzuki Motors</td><td>null</td></tr><tr><td>DLR0232</td><td>2008 NRHP-listed</td><td>null</td></tr><tr><td>DLR0030</td><td>Cadillac Motors</td><td>null</td></tr><tr><td>DLR0215</td><td>Wanderer Motors</td><td>null</td></tr><tr><td>DLR0016</td><td>Auto-Union Motors</td><td>null</td></tr><tr><td>DLR0160</td><td>Premier Motors</td><td>null</td></tr><tr><td>DLR0025</td><td>Austin-Healey Motors</td><td>null</td></tr><tr><td>DLR0239</td><td>Claremore Auto Dealership</td><td>null</td></tr><tr><td>DLR0228</td><td>Deccan Motors</td><td>null</td></tr><tr><td>DLR0189</td><td>Sunbeam Motors</td><td>null</td></tr><tr><td>DLR0263</td><td>Auto-Union Motors</td><td>null</td></tr><tr><td>DLR0132</td><td>Mitsubishi Motors</td><td>null</td></tr><tr><td>DLR0244</td><td>Hupmobile Building</td><td>null</td></tr><tr><td>DLR0068</td><td>GAZ Motors</td><td>null</td></tr><tr><td>DLR0053</td><td>Eicher Polaris Motors</td><td>null</td></tr><tr><td>DLR0002</td><td>Acura Motors</td><td>null</td></tr><tr><td>DLR0194</td><td>Tesla Motors</td><td>null</td></tr><tr><td>DLR0233</td><td>Blankinship Motor Company Building</td><td>null</td></tr><tr><td>DLR0014</td><td>Audi Motors</td><td>null</td></tr><tr><td>DLR0093</td><td>Iso Motors</td><td>null</td></tr><tr><td>DLR0205</td><td>Volkswagen South Africa Motors</td><td>null</td></tr><tr><td>DLR0141</td><td>Noble Motors</td><td>null</td></tr><tr><td>DLR0140</td><td>Nissan India Motors</td><td>null</td></tr><tr><td>DLR0101</td><td>Kia Motors</td><td>null</td></tr><tr><td>DLR0234</td><td>Bohn Motor Company Automobile Dealership</td><td>null</td></tr><tr><td>DLR0235</td><td>Buick Automobile Company Building</td><td>null</td></tr><tr><td>DLR0256</td><td>Ariel Motors</td><td>null</td></tr><tr><td>DLR0004</td><td>Alfa Romeo Motors</td><td>null</td></tr><tr><td>DLR0084</td><td>Hudson Motors</td><td>null</td></tr><tr><td>DLR0133</td><td>Monica Motors</td><td>null</td></tr><tr><td>DLR0062</td><td>Ford Australia Motors</td><td>null</td></tr><tr><td>DLR0038</td><td>Cizeta-Moroder Motors</td><td>null</td></tr><tr><td>DLR0049</td><td>Dodge Motors</td><td>null</td></tr><tr><td>DLR0055</td><td>Facel Vega Motors</td><td>null</td></tr><tr><td>DLR0170</td><td>Saleen Motors</td><td>null</td></tr><tr><td>DLR0242</td><td>H Street Playhouse</td><td>null</td></tr><tr><td>DLR0243</td><td>Howard Motor Company Building</td><td>null</td></tr><tr><td>DLR0224</td><td>Standard  Motors</td><td>null</td></tr><tr><td>DLR0077</td><td>Heinkel Motors</td><td>null</td></tr><tr><td>DLR0031</td><td>Caterham Motors</td><td>null</td></tr><tr><td>DLR0127</td><td>Merkur Motors</td><td>null</td></tr><tr><td>DLR0043</td><td>Daimler Motors</td><td>null</td></tr><tr><td>DLR0168</td><td>Saab Motors</td><td>null</td></tr><tr><td>DLR0083</td><td>Honda India Motors</td><td>null</td></tr><tr><td>DLR0099</td><td>Jensen Motors</td><td>null</td></tr><tr><td>DLR0090</td><td>null</td><td>null</td></tr><tr><td>DLR0173</td><td>Santa Matilde Motors</td><td>null</td></tr><tr><td>DLR0067</td><td>FSO Motors</td><td>null</td></tr><tr><td>DLR0113</td><td>LuAZ Motors</td><td>null</td></tr><tr><td>DLR0011</td><td>Artega Motors</td><td>null</td></tr><tr><td>DLR0157</td><td>Polestar Motors</td><td>null</td></tr><tr><td>DLR0258</td><td>null</td><td>null</td></tr><tr><td>DLR0086</td><td>Hummer Motors</td><td>null</td></tr><tr><td>DLR0054</td><td>Elva Motors</td><td>null</td></tr><tr><td>DLR0178</td><td>Shelby SuperCars Motors</td><td>null</td></tr><tr><td>DLR0023</td><td>Bristol Motors</td><td>null</td></tr><tr><td>DLR0026</td><td>Austin, Rover Motors</td><td>null</td></tr><tr><td>DLR0219</td><td>MG  Motors</td><td>null</td></tr><tr><td>DLR0120</td><td>Mastretta Motors</td><td>null</td></tr><tr><td>DLR0028</td><td>Buick Motors</td><td>null</td></tr><tr><td>DLR0057</td><td>Fiat Motors</td><td>null</td></tr><tr><td>DLR0041</td><td>DAF Motors</td><td>null</td></tr><tr><td>DLR0095</td><td>Isuzu Motors</td><td>null</td></tr><tr><td>DLR0123</td><td>Mazzanti Motors</td><td>null</td></tr><tr><td>DLR0036</td><td>Chrysler Europe Motors</td><td>null</td></tr><tr><td>DLR0149</td><td>Panoz Motors</td><td>null</td></tr><tr><td>DLR0145</td><td>Opel Motors</td><td>null</td></tr><tr><td>DLR0105</td><td>Lamborghini Motors</td><td>null</td></tr><tr><td>DLR0097</td><td>Jaguar Motors</td><td>null</td></tr><tr><td>DLR0196</td><td>Toyota Motors</td><td>null</td></tr><tr><td>DLR0024</td><td>British Leyland Motors</td><td>null</td></tr><tr><td>DLR0241</td><td>Colman Automotive Building</td><td>null</td></tr><tr><td>DLR0012</td><td>Asia Motors Motors</td><td>null</td></tr><tr><td>DLR0122</td><td>Mazda Motors</td><td>null</td></tr><tr><td>DLR0060</td><td>Fisker, Karma Motors</td><td>null</td></tr><tr><td>DLR0106</td><td>Lancia Motors</td><td>null</td></tr><tr><td>DLR0158</td><td>Pontiac, Asüna Motors</td><td>null</td></tr><tr><td>DLR0015</td><td>Autobianchi Motors</td><td>null</td></tr><tr><td>DLR0081</td><td>Holden Motors</td><td>null</td></tr></tbody></table></div>"
      ]
     },
     "metadata": {
      "application/vnd.databricks.v1+output": {
       "addedWidgets": {},
       "aggData": [],
       "aggError": "",
       "aggOverflow": false,
       "aggSchema": [],
       "aggSeriesLimitReached": false,
       "aggType": "",
       "arguments": {},
       "columnCustomDisplayInfos": {},
       "data": [
        [
         "DLR0058",
         "Fiat do Brasil Motors",
         null
        ],
        [
         "DLR0107",
         "Land Rover Motors",
         null
        ],
        [
         "DLR0129",
         "Mia Motors",
         null
        ],
        [
         "DLR0111",
         "Lotus Motors",
         null
        ],
        [
         "DLR0085",
         "Humber Motors",
         null
        ],
        [
         "DLR0001",
         "AC Cars Motors",
         null
        ],
        [
         "DLR0218",
         "Lagonda  Motors",
         null
        ],
        [
         "DLR0082",
         "Honda Motors",
         null
        ],
        [
         "DLR0063",
         "Ford do Brasil Motors",
         null
        ],
        [
         "DLR0193",
         "Tazzari Motors",
         null
        ],
        [
         "DLR0134",
         "Monteverdi Motors",
         null
        ],
        [
         "DLR0199",
         "TVR Motors",
         null
        ],
        [
         "DLR0254",
         "AMC, Eagle Motors",
         null
        ],
        [
         "DLR0094",
         "Isotta Fraschini Motors",
         null
        ],
        [
         "DLR0236",
         "Cadillac Automobile Company Building",
         null
        ],
        [
         "DLR0201",
         "Vauxhall Motors",
         null
        ],
        [
         "DLR0175",
         "Saturn Motors",
         null
        ],
        [
         "DLR0226",
         "Das Motors",
         null
        ],
        [
         "DLR0207",
         "Westfield Motors",
         null
        ],
        [
         "DLR0035",
         "Chrysler Motors",
         null
        ],
        [
         "DLR0151",
         "Peel Motors",
         null
        ],
        [
         "DLR0156",
         "Plymouth Motors",
         null
        ],
        [
         "DLR0216",
         "Maybach  Motors",
         null
        ],
        [
         "DLR0259",
         "Asia Motors Motors",
         null
        ],
        [
         "DLR0037",
         "Citroën Motors",
         null
        ],
        [
         "DLR0074",
         "GTA Spano Motors",
         null
        ],
        [
         "DLR0150",
         "Panther Motors",
         null
        ],
        [
         "DLR0135",
         "Morgan Motors",
         null
        ],
        [
         "DLR0073",
         "GMC Motors",
         null
        ],
        [
         "DLR0260",
         "Aston Martin Motors",
         null
        ],
        [
         "DLR0153",
         "Peugeot Motors",
         null
        ],
        [
         "DLR0124",
         "McLaren Motors",
         null
        ],
        [
         "DLR0121",
         "Matra (including Deutsch-Bonnet, René Bonnet) Motors",
         null
        ],
        [
         "DLR0211",
         "ZIL Motors",
         null
        ],
        [
         "DLR0066",
         "Freightliner Motors",
         null
        ],
        [
         "DLR0110",
         "Lincoln Motors",
         null
        ],
        [
         "DLR0143",
         "Oldsmobile Motors",
         null
        ],
        [
         "DLR0167",
         "Rolls-Royce Motors",
         null
        ],
        [
         "DLR0048",
         "De Tomaso Motors",
         null
        ],
        [
         "DLR0008",
         "Anadol Motors",
         null
        ],
        [
         "DLR0128",
         "Messerschmitt Motors",
         null
        ],
        [
         "DLR0177",
         "Seat Motors",
         null
        ],
        [
         "DLR0181",
         "Singer Motors",
         null
        ],
        [
         "DLR0079",
         "Hillman Motors",
         null
        ],
        [
         "DLR0072",
         "Glas Motors",
         null
        ],
        [
         "DLR0248",
         "AC Cars Motors",
         null
        ],
        [
         "DLR0052",
         "e.GO Mobile Motors",
         null
        ],
        [
         "DLR0197",
         "Toyota India Motors",
         null
        ],
        [
         "DLR0080",
         "Hindustan Motors",
         null
        ],
        [
         "DLR0164",
         "Reliant Motors",
         null
        ],
        [
         "DLR0029",
         "Bytom Motors",
         null
        ],
        [
         "DLR0195",
         "Tornado Motors",
         null
        ],
        [
         "DLR0005",
         "Alpine Motors",
         null
        ],
        [
         "DLR0007",
         "AMC, Eagle Motors",
         null
        ],
        [
         "DLR0078",
         "Hennessey Motors",
         null
        ],
        [
         "DLR0247",
         "Kindel Building",
         null
        ],
        [
         "DLR0065",
         "Ford India Motors",
         null
        ],
        [
         "DLR0174",
         "Santana Motors",
         null
        ],
        [
         "DLR0022",
         "Borgward (including Goliath and Lloyd) Motors",
         null
        ],
        [
         "DLR0116",
         "Marcos Motors",
         null
        ],
        [
         "DLR0257",
         "ARO Motors",
         null
        ],
        [
         "DLR0172",
         "San Motors",
         null
        ],
        [
         "DLR0061",
         "Ford America Motors",
         null
        ],
        [
         "DLR0240",
         "Clemens Automobile Company Building",
         null
        ],
        [
         "DLR0103",
         "KTM Motors",
         null
        ],
        [
         "DLR0096",
         "Iveco Motors",
         null
        ],
        [
         "DLR0198",
         "Turner Motors",
         null
        ],
        [
         "DLR0137",
         "Nash Motors",
         null
        ],
        [
         "DLR0202",
         "Venturi Motors",
         null
        ],
        [
         "DLR0125",
         "Mercedes-Benz (including Maybach) Motors",
         null
        ],
        [
         "DLR0089",
         "Infiniti Motors",
         null
        ],
        [
         "DLR0266",
         "Bitter Motors",
         null
        ],
        [
         "DLR0148",
         "Panhard Motors",
         null
        ],
        [
         "DLR0142",
         "NSU Motors",
         null
        ],
        [
         "DLR0227",
         "Ramani Motors",
         null
        ],
        [
         "DLR0206",
         "Volvo Motors",
         null
        ],
        [
         "DLR0179",
         "Simca Motors",
         null
        ],
        [
         "DLR0059",
         "Fiat India Motors",
         null
        ],
        [
         "DLR0092",
         "Isdera Motors",
         null
        ],
        [
         "DLR0018",
         "Bentley Motors",
         null
        ],
        [
         "DLR0115",
         "Mahindra Motors",
         null
        ],
        [
         "DLR0169",
         "SAIC Motor Motors",
         null
        ],
        [
         "DLR0212",
         null,
         null
        ],
        [
         "DLR0192",
         "Tatra Motors",
         null
        ],
        [
         "DLR0186",
         "Standard-Triumph Motors",
         null
        ],
        [
         "DLR0021",
         "Bond Motors",
         null
        ],
        [
         "DLR0147",
         "Pagani Motors",
         null
        ],
        [
         "DLR0098",
         "Jeep Motors",
         null
        ],
        [
         "DLR0209",
         "Zastava Motors",
         null
        ],
        [
         "DLR0166",
         "Rivian Motors",
         null
        ],
        [
         "DLR0250",
         "Aixam-Mega (including Arola) Motors",
         null
        ],
        [
         "DLR0220",
         "Morris  Motors",
         null
        ],
        [
         "DLR0183",
         "Smart Motors",
         null
        ],
        [
         "DLR0102",
         "Koenigsegg Motors",
         null
        ],
        [
         "DLR0188",
         "Subaru Motors",
         null
        ],
        [
         "DLR0155",
         "Piaggio Motors",
         null
        ],
        [
         "DLR0050",
         "Donkervoort Motors",
         null
        ],
        [
         "DLR0252",
         "Alpine Motors",
         null
        ],
        [
         "DLR0184",
         "Spyker Motors",
         null
        ],
        [
         "DLR0267",
         "BMW Motors",
         null
        ],
        [
         "DLR0091",
         "Invicta Motors",
         null
        ],
        [
         "DLR0262",
         "Autobianchi Motors",
         null
        ],
        [
         "DLR0249",
         "Acura Motors",
         null
        ],
        [
         "DLR0208",
         "Wiesmann Motors",
         null
        ],
        [
         "DLR0114",
         "Lynx Motors",
         null
        ],
        [
         "DLR0204",
         "Volkswagen do Brasil Motors",
         null
        ],
        [
         "DLR0200",
         "UAZ Motors",
         null
        ],
        [
         "DLR0163",
         "Ranger Motors",
         null
        ],
        [
         "DLR0223",
         "Wolseley  Motors",
         null
        ],
        [
         "DLR0044",
         null,
         null
        ],
        [
         "DLR0231",
         "Atlantic Motor Company",
         null
        ],
        [
         "DLR0034",
         "Chevrolet India Motors",
         null
        ],
        [
         "DLR0126",
         "Mercury Motors",
         null
        ],
        [
         "DLR0046",
         "DeLorean Motors",
         null
        ],
        [
         "DLR0130",
         "Micro Motors",
         null
        ],
        [
         "DLR0210",
         "ZAZ Motors",
         null
        ],
        [
         "DLR0136",
         "Moskwitch Motors",
         null
        ],
        [
         "DLR0222",
         "Riley  Motors",
         null
        ],
        [
         "DLR0017",
         "Auverland Motors",
         null
        ],
        [
         "DLR0182",
         "Skoda Motors",
         null
        ],
        [
         "DLR0152",
         "Perodua Motors",
         null
        ],
        [
         "DLR0071",
         "Ginetta Motors",
         null
        ],
        [
         "DLR0161",
         "Proton Motors",
         null
        ],
        [
         "DLR0246",
         "Jones Motor Company",
         null
        ],
        [
         "DLR0020",
         "BMW Motors",
         null
        ],
        [
         "DLR0076",
         "Healey Motors",
         null
        ],
        [
         "DLR0237",
         "Casa de cadillac",
         null
        ],
        [
         "DLR0131",
         "Mini Motors",
         null
        ],
        [
         "DLR0112",
         "LTI Motors",
         null
        ],
        [
         "DLR0213",
         "DKW Motors",
         null
        ],
        [
         "DLR0040",
         "Daewoo, Saehan, Chevrolet Korea Motors",
         null
        ],
        [
         "DLR0187",
         "Studebaker Motors",
         null
        ],
        [
         "DLR0251",
         "Alfa Romeo Motors",
         null
        ],
        [
         "DLR0154",
         "PGO Motors",
         null
        ],
        [
         "DLR0119",
         "Maserati Motors",
         null
        ],
        [
         "DLR0013",
         "Aston Martin Motors",
         null
        ],
        [
         "DLR0087",
         "Hyundai Motors",
         null
        ],
        [
         "DLR0056",
         "Ferrari Motors",
         null
        ],
        [
         "DLR0033",
         "Chevrolet Motors",
         null
        ],
        [
         "DLR0042",
         "Daihatsu Motors",
         null
        ],
        [
         "DLR0229",
         "Herald Motors",
         null
        ],
        [
         "DLR0070",
         "Gilbern Motors",
         null
        ],
        [
         "DLR0191",
         "Tata Motors",
         null
        ],
        [
         "DLR0203",
         "Volkswagen Motors",
         null
        ],
        [
         "DLR0100",
         "JPX Motors",
         null
        ],
        [
         "DLR0047",
         "DeSoto Motors",
         null
        ],
        [
         "DLR0214",
         "Horch Motors",
         null
        ],
        [
         "DLR0171",
         "Samsung Motors",
         null
        ],
        [
         "DLR0045",
         "Delahaye Motors",
         null
        ],
        [
         "DLR0264",
         "Auverland Motors",
         null
        ],
        [
         "DLR0162",
         "Puma Motors",
         null
        ],
        [
         "DLR0159",
         "Porsche Motors",
         null
        ],
        [
         "DLR0146",
         "Packard Motors",
         null
        ],
        [
         "DLR0261",
         "Audi Motors",
         null
        ],
        [
         "DLR0032",
         "Checker Motors",
         null
        ],
        [
         "DLR0009",
         "Ariel Motors",
         null
        ],
        [
         "DLR0225",
         "Talbot  Motors",
         null
        ],
        [
         "DLR0221",
         "Austin  Motors",
         null
        ],
        [
         "DLR0075",
         "Gumpert Motors",
         null
        ],
        [
         "DLR0069",
         "Geo Motors",
         null
        ],
        [
         "DLR0104",
         "Lada Motors",
         null
        ],
        [
         "DLR0039",
         "Dacia Motors",
         null
        ],
        [
         "DLR0245",
         "Jennings Ford Automobile Dealership",
         null
        ],
        [
         "DLR0238",
         "Cass Motor Sales",
         null
        ],
        [
         "DLR0064",
         "Ford Europe Motors",
         null
        ],
        [
         "DLR0109",
         "Ligier Motors",
         null
        ],
        [
         "DLR0144",
         null,
         null
        ],
        [
         "DLR0176",
         "Scion Motors",
         null
        ],
        [
         "DLR0255",
         "Anadol Motors",
         null
        ],
        [
         "DLR0138",
         "Naza Motors",
         null
        ],
        [
         "DLR0003",
         "Aixam-Mega (including Arola) Motors",
         null
        ],
        [
         "DLR0265",
         "Bentley Motors",
         null
        ],
        [
         "DLR0217",
         "Izh  Motors",
         null
        ],
        [
         "DLR0185",
         "SsangYong Motors",
         null
        ],
        [
         "DLR0019",
         "Bitter Motors",
         null
        ],
        [
         "DLR0165",
         "Renault Motors",
         null
        ],
        [
         "DLR0108",
         "Lexus Motors",
         null
        ],
        [
         "DLR0117",
         "Marlin Motors",
         null
        ],
        [
         "DLR0118",
         "Maruti Motors",
         null
        ],
        [
         "DLR0027",
         "Bugatti Motors",
         null
        ],
        [
         "DLR0139",
         "Nissan Motors",
         null
        ],
        [
         "DLR0088",
         "IFA (including Trabant, Wartburg, Barkas) Motors",
         null
        ],
        [
         "DLR0051",
         "Edsel Motors",
         null
        ],
        [
         "DLR0010",
         "ARO Motors",
         null
        ],
        [
         "DLR0006",
         "Alvis Motors",
         null
        ],
        [
         "DLR0180",
         "Simca do Brasil Motors",
         null
        ],
        [
         "DLR0253",
         "Alvis Motors",
         null
        ],
        [
         "DLR0230",
         "Zion Automobils",
         null
        ],
        [
         "DLR0190",
         "Suzuki Motors",
         null
        ],
        [
         "DLR0232",
         "2008 NRHP-listed",
         null
        ],
        [
         "DLR0030",
         "Cadillac Motors",
         null
        ],
        [
         "DLR0215",
         "Wanderer Motors",
         null
        ],
        [
         "DLR0016",
         "Auto-Union Motors",
         null
        ],
        [
         "DLR0160",
         "Premier Motors",
         null
        ],
        [
         "DLR0025",
         "Austin-Healey Motors",
         null
        ],
        [
         "DLR0239",
         "Claremore Auto Dealership",
         null
        ],
        [
         "DLR0228",
         "Deccan Motors",
         null
        ],
        [
         "DLR0189",
         "Sunbeam Motors",
         null
        ],
        [
         "DLR0263",
         "Auto-Union Motors",
         null
        ],
        [
         "DLR0132",
         "Mitsubishi Motors",
         null
        ],
        [
         "DLR0244",
         "Hupmobile Building",
         null
        ],
        [
         "DLR0068",
         "GAZ Motors",
         null
        ],
        [
         "DLR0053",
         "Eicher Polaris Motors",
         null
        ],
        [
         "DLR0002",
         "Acura Motors",
         null
        ],
        [
         "DLR0194",
         "Tesla Motors",
         null
        ],
        [
         "DLR0233",
         "Blankinship Motor Company Building",
         null
        ],
        [
         "DLR0014",
         "Audi Motors",
         null
        ],
        [
         "DLR0093",
         "Iso Motors",
         null
        ],
        [
         "DLR0205",
         "Volkswagen South Africa Motors",
         null
        ],
        [
         "DLR0141",
         "Noble Motors",
         null
        ],
        [
         "DLR0140",
         "Nissan India Motors",
         null
        ],
        [
         "DLR0101",
         "Kia Motors",
         null
        ],
        [
         "DLR0234",
         "Bohn Motor Company Automobile Dealership",
         null
        ],
        [
         "DLR0235",
         "Buick Automobile Company Building",
         null
        ],
        [
         "DLR0256",
         "Ariel Motors",
         null
        ],
        [
         "DLR0004",
         "Alfa Romeo Motors",
         null
        ],
        [
         "DLR0084",
         "Hudson Motors",
         null
        ],
        [
         "DLR0133",
         "Monica Motors",
         null
        ],
        [
         "DLR0062",
         "Ford Australia Motors",
         null
        ],
        [
         "DLR0038",
         "Cizeta-Moroder Motors",
         null
        ],
        [
         "DLR0049",
         "Dodge Motors",
         null
        ],
        [
         "DLR0055",
         "Facel Vega Motors",
         null
        ],
        [
         "DLR0170",
         "Saleen Motors",
         null
        ],
        [
         "DLR0242",
         "H Street Playhouse",
         null
        ],
        [
         "DLR0243",
         "Howard Motor Company Building",
         null
        ],
        [
         "DLR0224",
         "Standard  Motors",
         null
        ],
        [
         "DLR0077",
         "Heinkel Motors",
         null
        ],
        [
         "DLR0031",
         "Caterham Motors",
         null
        ],
        [
         "DLR0127",
         "Merkur Motors",
         null
        ],
        [
         "DLR0043",
         "Daimler Motors",
         null
        ],
        [
         "DLR0168",
         "Saab Motors",
         null
        ],
        [
         "DLR0083",
         "Honda India Motors",
         null
        ],
        [
         "DLR0099",
         "Jensen Motors",
         null
        ],
        [
         "DLR0090",
         null,
         null
        ],
        [
         "DLR0173",
         "Santa Matilde Motors",
         null
        ],
        [
         "DLR0067",
         "FSO Motors",
         null
        ],
        [
         "DLR0113",
         "LuAZ Motors",
         null
        ],
        [
         "DLR0011",
         "Artega Motors",
         null
        ],
        [
         "DLR0157",
         "Polestar Motors",
         null
        ],
        [
         "DLR0258",
         null,
         null
        ],
        [
         "DLR0086",
         "Hummer Motors",
         null
        ],
        [
         "DLR0054",
         "Elva Motors",
         null
        ],
        [
         "DLR0178",
         "Shelby SuperCars Motors",
         null
        ],
        [
         "DLR0023",
         "Bristol Motors",
         null
        ],
        [
         "DLR0026",
         "Austin, Rover Motors",
         null
        ],
        [
         "DLR0219",
         "MG  Motors",
         null
        ],
        [
         "DLR0120",
         "Mastretta Motors",
         null
        ],
        [
         "DLR0028",
         "Buick Motors",
         null
        ],
        [
         "DLR0057",
         "Fiat Motors",
         null
        ],
        [
         "DLR0041",
         "DAF Motors",
         null
        ],
        [
         "DLR0095",
         "Isuzu Motors",
         null
        ],
        [
         "DLR0123",
         "Mazzanti Motors",
         null
        ],
        [
         "DLR0036",
         "Chrysler Europe Motors",
         null
        ],
        [
         "DLR0149",
         "Panoz Motors",
         null
        ],
        [
         "DLR0145",
         "Opel Motors",
         null
        ],
        [
         "DLR0105",
         "Lamborghini Motors",
         null
        ],
        [
         "DLR0097",
         "Jaguar Motors",
         null
        ],
        [
         "DLR0196",
         "Toyota Motors",
         null
        ],
        [
         "DLR0024",
         "British Leyland Motors",
         null
        ],
        [
         "DLR0241",
         "Colman Automotive Building",
         null
        ],
        [
         "DLR0012",
         "Asia Motors Motors",
         null
        ],
        [
         "DLR0122",
         "Mazda Motors",
         null
        ],
        [
         "DLR0060",
         "Fisker, Karma Motors",
         null
        ],
        [
         "DLR0106",
         "Lancia Motors",
         null
        ],
        [
         "DLR0158",
         "Pontiac, Asüna Motors",
         null
        ],
        [
         "DLR0015",
         "Autobianchi Motors",
         null
        ],
        [
         "DLR0081",
         "Holden Motors",
         null
        ]
       ],
       "datasetInfos": [],
       "dbfsResultPath": null,
       "isJsonSchema": true,
       "metadata": {},
       "overflow": false,
       "plotOptions": {
        "customPlotOptions": {},
        "displayType": "table",
        "pivotAggregation": null,
        "pivotColumns": null,
        "xColumns": null,
        "yColumns": null
       },
       "removedWidgets": [],
       "schema": [
        {
         "metadata": "{}",
         "name": "Dealer_ID",
         "type": "\"string\""
        },
        {
         "metadata": "{}",
         "name": "DealerName",
         "type": "\"string\""
        },
        {
         "metadata": "{}",
         "name": "dim_Dealer_Key",
         "type": "\"integer\""
        }
       ],
       "type": "table"
      }
     },
     "output_type": "display_data"
    }
   ],
   "source": [
    "df_filter.display()"
   ]
  },
  {
   "cell_type": "code",
   "execution_count": 0,
   "metadata": {
    "application/vnd.databricks.v1+cell": {
     "cellMetadata": {
      "byteLimit": 2048000,
      "rowLimit": 10000
     },
     "inputWidgets": {},
     "nuid": "667cd533-9865-46a2-85fe-b287a1195a33",
     "showTitle": false,
     "tableResultSettingsMap": {},
     "title": ""
    }
   },
   "outputs": [],
   "source": [
    "df_filter_old = df_filter.filter(col('dim_Dealer_key').isNotNull())"
   ]
  },
  {
   "cell_type": "code",
   "execution_count": 0,
   "metadata": {
    "application/vnd.databricks.v1+cell": {
     "cellMetadata": {
      "byteLimit": 2048000,
      "rowLimit": 10000
     },
     "inputWidgets": {},
     "nuid": "ae62a0fa-e065-45b8-84f2-d168e1fd32a0",
     "showTitle": false,
     "tableResultSettingsMap": {},
     "title": ""
    }
   },
   "outputs": [
    {
     "output_type": "display_data",
     "data": {
      "text/html": [
       "<style scoped>\n",
       "  .table-result-container {\n",
       "    max-height: 300px;\n",
       "    overflow: auto;\n",
       "  }\n",
       "  table, th, td {\n",
       "    border: 1px solid black;\n",
       "    border-collapse: collapse;\n",
       "  }\n",
       "  th, td {\n",
       "    padding: 5px;\n",
       "  }\n",
       "  th {\n",
       "    text-align: left;\n",
       "  }\n",
       "</style><div class='table-result-container'><table class='table-result'><thead style='background-color: white'><tr><th>Dealer_ID</th><th>DealerName</th><th>dim_Dealer_Key</th></tr></thead><tbody></tbody></table></div>"
      ]
     },
     "metadata": {
      "application/vnd.databricks.v1+output": {
       "addedWidgets": {},
       "aggData": [],
       "aggError": "",
       "aggOverflow": false,
       "aggSchema": [],
       "aggSeriesLimitReached": false,
       "aggType": "",
       "arguments": {},
       "columnCustomDisplayInfos": {},
       "data": [],
       "datasetInfos": [],
       "dbfsResultPath": null,
       "isJsonSchema": true,
       "metadata": {},
       "overflow": false,
       "plotOptions": {
        "customPlotOptions": {},
        "displayType": "table",
        "pivotAggregation": null,
        "pivotColumns": null,
        "xColumns": null,
        "yColumns": null
       },
       "removedWidgets": [],
       "schema": [
        {
         "metadata": "{}",
         "name": "Dealer_ID",
         "type": "\"string\""
        },
        {
         "metadata": "{}",
         "name": "DealerName",
         "type": "\"string\""
        },
        {
         "metadata": "{}",
         "name": "dim_Dealer_Key",
         "type": "\"integer\""
        }
       ],
       "type": "table"
      }
     },
     "output_type": "display_data"
    }
   ],
   "source": [
    "df_filter_old.display()"
   ]
  },
  {
   "cell_type": "code",
   "execution_count": 0,
   "metadata": {
    "application/vnd.databricks.v1+cell": {
     "cellMetadata": {
      "byteLimit": 2048000,
      "rowLimit": 10000
     },
     "inputWidgets": {},
     "nuid": "3e7529b2-f21d-46f1-88a9-4988ed7d019a",
     "showTitle": false,
     "tableResultSettingsMap": {},
     "title": ""
    }
   },
   "outputs": [],
   "source": [
    "df_filter_new = df_filter.filter(col('dim_Dealer_Key').isNull())"
   ]
  },
  {
   "cell_type": "code",
   "execution_count": 0,
   "metadata": {
    "application/vnd.databricks.v1+cell": {
     "cellMetadata": {
      "byteLimit": 2048000,
      "rowLimit": 10000
     },
     "inputWidgets": {},
     "nuid": "83b42c09-2e96-46eb-a8b7-55ca18cf55c1",
     "showTitle": false,
     "tableResultSettingsMap": {},
     "title": ""
    }
   },
   "outputs": [
    {
     "output_type": "execute_result",
     "data": {
      "text/plain": [
       "267"
      ]
     },
     "execution_count": 15,
     "metadata": {},
     "output_type": "execute_result"
    }
   ],
   "source": [
    "df_filter_new.count()"
   ]
  },
  {
   "cell_type": "markdown",
   "metadata": {
    "application/vnd.databricks.v1+cell": {
     "cellMetadata": {},
     "inputWidgets": {},
     "nuid": "01de7e9f-88da-49bc-a496-f8c68d8d06e6",
     "showTitle": false,
     "tableResultSettingsMap": {},
     "title": ""
    }
   },
   "source": [
    "**Create Surrogate Key**"
   ]
  },
  {
   "cell_type": "code",
   "execution_count": 0,
   "metadata": {
    "application/vnd.databricks.v1+cell": {
     "cellMetadata": {
      "byteLimit": 2048000,
      "implicitDf": true,
      "rowLimit": 10000
     },
     "inputWidgets": {},
     "nuid": "b1146cb7-2753-4515-97d2-467c71b6dbee",
     "showTitle": false,
     "tableResultSettingsMap": {},
     "title": ""
    }
   },
   "outputs": [],
   "source": [
    "if incremental_flag == '0':\n",
    "    max_value = 1\n",
    "else:\n",
    "    max_value = spark.sql(\"SELECT MAX(dim_Dealer_Key) FROM cars_catalog.gold.dim_dealer\").collect()[0][0]+1"
   ]
  },
  {
   "cell_type": "code",
   "execution_count": 0,
   "metadata": {
    "application/vnd.databricks.v1+cell": {
     "cellMetadata": {
      "byteLimit": 2048000,
      "rowLimit": 10000
     },
     "inputWidgets": {},
     "nuid": "2ce5dfa7-76a5-4d36-904c-941fbce716fc",
     "showTitle": false,
     "tableResultSettingsMap": {},
     "title": ""
    }
   },
   "outputs": [],
   "source": [
    "df_filter_new = df_filter_new.withColumn('dim_dealer_Key', max_value + monotonically_increasing_id())"
   ]
  },
  {
   "cell_type": "code",
   "execution_count": 0,
   "metadata": {
    "application/vnd.databricks.v1+cell": {
     "cellMetadata": {
      "byteLimit": 2048000,
      "rowLimit": 10000
     },
     "inputWidgets": {},
     "nuid": "949f7597-6642-41c2-a41d-e1d04bae1041",
     "showTitle": false,
     "tableResultSettingsMap": {},
     "title": ""
    }
   },
   "outputs": [
    {
     "output_type": "display_data",
     "data": {
      "text/html": [
       "<style scoped>\n",
       "  .table-result-container {\n",
       "    max-height: 300px;\n",
       "    overflow: auto;\n",
       "  }\n",
       "  table, th, td {\n",
       "    border: 1px solid black;\n",
       "    border-collapse: collapse;\n",
       "  }\n",
       "  th, td {\n",
       "    padding: 5px;\n",
       "  }\n",
       "  th {\n",
       "    text-align: left;\n",
       "  }\n",
       "</style><div class='table-result-container'><table class='table-result'><thead style='background-color: white'><tr><th>Dealer_ID</th><th>DealerName</th><th>dim_dealer_Key</th></tr></thead><tbody><tr><td>DLR0058</td><td>Fiat do Brasil Motors</td><td>1</td></tr><tr><td>DLR0107</td><td>Land Rover Motors</td><td>2</td></tr><tr><td>DLR0129</td><td>Mia Motors</td><td>3</td></tr><tr><td>DLR0111</td><td>Lotus Motors</td><td>4</td></tr><tr><td>DLR0085</td><td>Humber Motors</td><td>5</td></tr><tr><td>DLR0001</td><td>AC Cars Motors</td><td>6</td></tr><tr><td>DLR0218</td><td>Lagonda  Motors</td><td>7</td></tr><tr><td>DLR0082</td><td>Honda Motors</td><td>8</td></tr><tr><td>DLR0063</td><td>Ford do Brasil Motors</td><td>9</td></tr><tr><td>DLR0193</td><td>Tazzari Motors</td><td>10</td></tr><tr><td>DLR0134</td><td>Monteverdi Motors</td><td>11</td></tr><tr><td>DLR0199</td><td>TVR Motors</td><td>12</td></tr><tr><td>DLR0254</td><td>AMC, Eagle Motors</td><td>13</td></tr><tr><td>DLR0094</td><td>Isotta Fraschini Motors</td><td>14</td></tr><tr><td>DLR0236</td><td>Cadillac Automobile Company Building</td><td>15</td></tr><tr><td>DLR0201</td><td>Vauxhall Motors</td><td>16</td></tr><tr><td>DLR0175</td><td>Saturn Motors</td><td>17</td></tr><tr><td>DLR0226</td><td>Das Motors</td><td>18</td></tr><tr><td>DLR0207</td><td>Westfield Motors</td><td>19</td></tr><tr><td>DLR0035</td><td>Chrysler Motors</td><td>20</td></tr><tr><td>DLR0151</td><td>Peel Motors</td><td>21</td></tr><tr><td>DLR0156</td><td>Plymouth Motors</td><td>22</td></tr><tr><td>DLR0216</td><td>Maybach  Motors</td><td>23</td></tr><tr><td>DLR0259</td><td>Asia Motors Motors</td><td>24</td></tr><tr><td>DLR0037</td><td>Citroën Motors</td><td>25</td></tr><tr><td>DLR0074</td><td>GTA Spano Motors</td><td>26</td></tr><tr><td>DLR0150</td><td>Panther Motors</td><td>27</td></tr><tr><td>DLR0135</td><td>Morgan Motors</td><td>28</td></tr><tr><td>DLR0073</td><td>GMC Motors</td><td>29</td></tr><tr><td>DLR0260</td><td>Aston Martin Motors</td><td>30</td></tr><tr><td>DLR0153</td><td>Peugeot Motors</td><td>31</td></tr><tr><td>DLR0124</td><td>McLaren Motors</td><td>32</td></tr><tr><td>DLR0121</td><td>Matra (including Deutsch-Bonnet, René Bonnet) Motors</td><td>33</td></tr><tr><td>DLR0211</td><td>ZIL Motors</td><td>34</td></tr><tr><td>DLR0066</td><td>Freightliner Motors</td><td>35</td></tr><tr><td>DLR0110</td><td>Lincoln Motors</td><td>36</td></tr><tr><td>DLR0143</td><td>Oldsmobile Motors</td><td>37</td></tr><tr><td>DLR0167</td><td>Rolls-Royce Motors</td><td>38</td></tr><tr><td>DLR0048</td><td>De Tomaso Motors</td><td>39</td></tr><tr><td>DLR0008</td><td>Anadol Motors</td><td>40</td></tr><tr><td>DLR0128</td><td>Messerschmitt Motors</td><td>41</td></tr><tr><td>DLR0177</td><td>Seat Motors</td><td>42</td></tr><tr><td>DLR0181</td><td>Singer Motors</td><td>43</td></tr><tr><td>DLR0079</td><td>Hillman Motors</td><td>44</td></tr><tr><td>DLR0072</td><td>Glas Motors</td><td>45</td></tr><tr><td>DLR0248</td><td>AC Cars Motors</td><td>46</td></tr><tr><td>DLR0052</td><td>e.GO Mobile Motors</td><td>47</td></tr><tr><td>DLR0197</td><td>Toyota India Motors</td><td>48</td></tr><tr><td>DLR0080</td><td>Hindustan Motors</td><td>49</td></tr><tr><td>DLR0164</td><td>Reliant Motors</td><td>50</td></tr><tr><td>DLR0029</td><td>Bytom Motors</td><td>51</td></tr><tr><td>DLR0195</td><td>Tornado Motors</td><td>52</td></tr><tr><td>DLR0005</td><td>Alpine Motors</td><td>53</td></tr><tr><td>DLR0007</td><td>AMC, Eagle Motors</td><td>54</td></tr><tr><td>DLR0078</td><td>Hennessey Motors</td><td>55</td></tr><tr><td>DLR0247</td><td>Kindel Building</td><td>56</td></tr><tr><td>DLR0065</td><td>Ford India Motors</td><td>57</td></tr><tr><td>DLR0174</td><td>Santana Motors</td><td>58</td></tr><tr><td>DLR0022</td><td>Borgward (including Goliath and Lloyd) Motors</td><td>59</td></tr><tr><td>DLR0116</td><td>Marcos Motors</td><td>60</td></tr><tr><td>DLR0257</td><td>ARO Motors</td><td>61</td></tr><tr><td>DLR0172</td><td>San Motors</td><td>62</td></tr><tr><td>DLR0061</td><td>Ford America Motors</td><td>63</td></tr><tr><td>DLR0240</td><td>Clemens Automobile Company Building</td><td>64</td></tr><tr><td>DLR0103</td><td>KTM Motors</td><td>65</td></tr><tr><td>DLR0096</td><td>Iveco Motors</td><td>66</td></tr><tr><td>DLR0198</td><td>Turner Motors</td><td>67</td></tr><tr><td>DLR0137</td><td>Nash Motors</td><td>68</td></tr><tr><td>DLR0202</td><td>Venturi Motors</td><td>69</td></tr><tr><td>DLR0125</td><td>Mercedes-Benz (including Maybach) Motors</td><td>70</td></tr><tr><td>DLR0089</td><td>Infiniti Motors</td><td>71</td></tr><tr><td>DLR0266</td><td>Bitter Motors</td><td>72</td></tr><tr><td>DLR0148</td><td>Panhard Motors</td><td>73</td></tr><tr><td>DLR0142</td><td>NSU Motors</td><td>74</td></tr><tr><td>DLR0227</td><td>Ramani Motors</td><td>75</td></tr><tr><td>DLR0206</td><td>Volvo Motors</td><td>76</td></tr><tr><td>DLR0179</td><td>Simca Motors</td><td>77</td></tr><tr><td>DLR0059</td><td>Fiat India Motors</td><td>78</td></tr><tr><td>DLR0092</td><td>Isdera Motors</td><td>79</td></tr><tr><td>DLR0018</td><td>Bentley Motors</td><td>80</td></tr><tr><td>DLR0115</td><td>Mahindra Motors</td><td>81</td></tr><tr><td>DLR0169</td><td>SAIC Motor Motors</td><td>82</td></tr><tr><td>DLR0212</td><td>null</td><td>83</td></tr><tr><td>DLR0192</td><td>Tatra Motors</td><td>84</td></tr><tr><td>DLR0186</td><td>Standard-Triumph Motors</td><td>85</td></tr><tr><td>DLR0021</td><td>Bond Motors</td><td>86</td></tr><tr><td>DLR0147</td><td>Pagani Motors</td><td>87</td></tr><tr><td>DLR0098</td><td>Jeep Motors</td><td>88</td></tr><tr><td>DLR0209</td><td>Zastava Motors</td><td>89</td></tr><tr><td>DLR0166</td><td>Rivian Motors</td><td>90</td></tr><tr><td>DLR0250</td><td>Aixam-Mega (including Arola) Motors</td><td>91</td></tr><tr><td>DLR0220</td><td>Morris  Motors</td><td>92</td></tr><tr><td>DLR0183</td><td>Smart Motors</td><td>93</td></tr><tr><td>DLR0102</td><td>Koenigsegg Motors</td><td>94</td></tr><tr><td>DLR0188</td><td>Subaru Motors</td><td>95</td></tr><tr><td>DLR0155</td><td>Piaggio Motors</td><td>96</td></tr><tr><td>DLR0050</td><td>Donkervoort Motors</td><td>97</td></tr><tr><td>DLR0252</td><td>Alpine Motors</td><td>98</td></tr><tr><td>DLR0184</td><td>Spyker Motors</td><td>99</td></tr><tr><td>DLR0267</td><td>BMW Motors</td><td>100</td></tr><tr><td>DLR0091</td><td>Invicta Motors</td><td>101</td></tr><tr><td>DLR0262</td><td>Autobianchi Motors</td><td>102</td></tr><tr><td>DLR0249</td><td>Acura Motors</td><td>103</td></tr><tr><td>DLR0208</td><td>Wiesmann Motors</td><td>104</td></tr><tr><td>DLR0114</td><td>Lynx Motors</td><td>105</td></tr><tr><td>DLR0204</td><td>Volkswagen do Brasil Motors</td><td>106</td></tr><tr><td>DLR0200</td><td>UAZ Motors</td><td>107</td></tr><tr><td>DLR0163</td><td>Ranger Motors</td><td>108</td></tr><tr><td>DLR0223</td><td>Wolseley  Motors</td><td>109</td></tr><tr><td>DLR0044</td><td>null</td><td>110</td></tr><tr><td>DLR0231</td><td>Atlantic Motor Company</td><td>111</td></tr><tr><td>DLR0034</td><td>Chevrolet India Motors</td><td>112</td></tr><tr><td>DLR0126</td><td>Mercury Motors</td><td>113</td></tr><tr><td>DLR0046</td><td>DeLorean Motors</td><td>114</td></tr><tr><td>DLR0130</td><td>Micro Motors</td><td>115</td></tr><tr><td>DLR0210</td><td>ZAZ Motors</td><td>116</td></tr><tr><td>DLR0136</td><td>Moskwitch Motors</td><td>117</td></tr><tr><td>DLR0222</td><td>Riley  Motors</td><td>118</td></tr><tr><td>DLR0017</td><td>Auverland Motors</td><td>119</td></tr><tr><td>DLR0182</td><td>Skoda Motors</td><td>120</td></tr><tr><td>DLR0152</td><td>Perodua Motors</td><td>121</td></tr><tr><td>DLR0071</td><td>Ginetta Motors</td><td>122</td></tr><tr><td>DLR0161</td><td>Proton Motors</td><td>123</td></tr><tr><td>DLR0246</td><td>Jones Motor Company</td><td>124</td></tr><tr><td>DLR0020</td><td>BMW Motors</td><td>125</td></tr><tr><td>DLR0076</td><td>Healey Motors</td><td>126</td></tr><tr><td>DLR0237</td><td>Casa de cadillac</td><td>127</td></tr><tr><td>DLR0131</td><td>Mini Motors</td><td>128</td></tr><tr><td>DLR0112</td><td>LTI Motors</td><td>129</td></tr><tr><td>DLR0213</td><td>DKW Motors</td><td>130</td></tr><tr><td>DLR0040</td><td>Daewoo, Saehan, Chevrolet Korea Motors</td><td>131</td></tr><tr><td>DLR0187</td><td>Studebaker Motors</td><td>132</td></tr><tr><td>DLR0251</td><td>Alfa Romeo Motors</td><td>133</td></tr><tr><td>DLR0154</td><td>PGO Motors</td><td>134</td></tr><tr><td>DLR0119</td><td>Maserati Motors</td><td>135</td></tr><tr><td>DLR0013</td><td>Aston Martin Motors</td><td>136</td></tr><tr><td>DLR0087</td><td>Hyundai Motors</td><td>137</td></tr><tr><td>DLR0056</td><td>Ferrari Motors</td><td>138</td></tr><tr><td>DLR0033</td><td>Chevrolet Motors</td><td>139</td></tr><tr><td>DLR0042</td><td>Daihatsu Motors</td><td>140</td></tr><tr><td>DLR0229</td><td>Herald Motors</td><td>141</td></tr><tr><td>DLR0070</td><td>Gilbern Motors</td><td>142</td></tr><tr><td>DLR0191</td><td>Tata Motors</td><td>143</td></tr><tr><td>DLR0203</td><td>Volkswagen Motors</td><td>144</td></tr><tr><td>DLR0100</td><td>JPX Motors</td><td>145</td></tr><tr><td>DLR0047</td><td>DeSoto Motors</td><td>146</td></tr><tr><td>DLR0214</td><td>Horch Motors</td><td>147</td></tr><tr><td>DLR0171</td><td>Samsung Motors</td><td>148</td></tr><tr><td>DLR0045</td><td>Delahaye Motors</td><td>149</td></tr><tr><td>DLR0264</td><td>Auverland Motors</td><td>150</td></tr><tr><td>DLR0162</td><td>Puma Motors</td><td>151</td></tr><tr><td>DLR0159</td><td>Porsche Motors</td><td>152</td></tr><tr><td>DLR0146</td><td>Packard Motors</td><td>153</td></tr><tr><td>DLR0261</td><td>Audi Motors</td><td>154</td></tr><tr><td>DLR0032</td><td>Checker Motors</td><td>155</td></tr><tr><td>DLR0009</td><td>Ariel Motors</td><td>156</td></tr><tr><td>DLR0225</td><td>Talbot  Motors</td><td>157</td></tr><tr><td>DLR0221</td><td>Austin  Motors</td><td>158</td></tr><tr><td>DLR0075</td><td>Gumpert Motors</td><td>159</td></tr><tr><td>DLR0069</td><td>Geo Motors</td><td>160</td></tr><tr><td>DLR0104</td><td>Lada Motors</td><td>161</td></tr><tr><td>DLR0039</td><td>Dacia Motors</td><td>162</td></tr><tr><td>DLR0245</td><td>Jennings Ford Automobile Dealership</td><td>163</td></tr><tr><td>DLR0238</td><td>Cass Motor Sales</td><td>164</td></tr><tr><td>DLR0064</td><td>Ford Europe Motors</td><td>165</td></tr><tr><td>DLR0109</td><td>Ligier Motors</td><td>166</td></tr><tr><td>DLR0144</td><td>null</td><td>167</td></tr><tr><td>DLR0176</td><td>Scion Motors</td><td>168</td></tr><tr><td>DLR0255</td><td>Anadol Motors</td><td>169</td></tr><tr><td>DLR0138</td><td>Naza Motors</td><td>170</td></tr><tr><td>DLR0003</td><td>Aixam-Mega (including Arola) Motors</td><td>171</td></tr><tr><td>DLR0265</td><td>Bentley Motors</td><td>172</td></tr><tr><td>DLR0217</td><td>Izh  Motors</td><td>173</td></tr><tr><td>DLR0185</td><td>SsangYong Motors</td><td>174</td></tr><tr><td>DLR0019</td><td>Bitter Motors</td><td>175</td></tr><tr><td>DLR0165</td><td>Renault Motors</td><td>176</td></tr><tr><td>DLR0108</td><td>Lexus Motors</td><td>177</td></tr><tr><td>DLR0117</td><td>Marlin Motors</td><td>178</td></tr><tr><td>DLR0118</td><td>Maruti Motors</td><td>179</td></tr><tr><td>DLR0027</td><td>Bugatti Motors</td><td>180</td></tr><tr><td>DLR0139</td><td>Nissan Motors</td><td>181</td></tr><tr><td>DLR0088</td><td>IFA (including Trabant, Wartburg, Barkas) Motors</td><td>182</td></tr><tr><td>DLR0051</td><td>Edsel Motors</td><td>183</td></tr><tr><td>DLR0010</td><td>ARO Motors</td><td>184</td></tr><tr><td>DLR0006</td><td>Alvis Motors</td><td>185</td></tr><tr><td>DLR0180</td><td>Simca do Brasil Motors</td><td>186</td></tr><tr><td>DLR0253</td><td>Alvis Motors</td><td>187</td></tr><tr><td>DLR0230</td><td>Zion Automobils</td><td>188</td></tr><tr><td>DLR0190</td><td>Suzuki Motors</td><td>189</td></tr><tr><td>DLR0232</td><td>2008 NRHP-listed</td><td>190</td></tr><tr><td>DLR0030</td><td>Cadillac Motors</td><td>191</td></tr><tr><td>DLR0215</td><td>Wanderer Motors</td><td>192</td></tr><tr><td>DLR0016</td><td>Auto-Union Motors</td><td>193</td></tr><tr><td>DLR0160</td><td>Premier Motors</td><td>194</td></tr><tr><td>DLR0025</td><td>Austin-Healey Motors</td><td>195</td></tr><tr><td>DLR0239</td><td>Claremore Auto Dealership</td><td>196</td></tr><tr><td>DLR0228</td><td>Deccan Motors</td><td>197</td></tr><tr><td>DLR0189</td><td>Sunbeam Motors</td><td>198</td></tr><tr><td>DLR0263</td><td>Auto-Union Motors</td><td>199</td></tr><tr><td>DLR0132</td><td>Mitsubishi Motors</td><td>200</td></tr><tr><td>DLR0244</td><td>Hupmobile Building</td><td>201</td></tr><tr><td>DLR0068</td><td>GAZ Motors</td><td>202</td></tr><tr><td>DLR0053</td><td>Eicher Polaris Motors</td><td>203</td></tr><tr><td>DLR0002</td><td>Acura Motors</td><td>204</td></tr><tr><td>DLR0194</td><td>Tesla Motors</td><td>205</td></tr><tr><td>DLR0233</td><td>Blankinship Motor Company Building</td><td>206</td></tr><tr><td>DLR0014</td><td>Audi Motors</td><td>207</td></tr><tr><td>DLR0093</td><td>Iso Motors</td><td>208</td></tr><tr><td>DLR0205</td><td>Volkswagen South Africa Motors</td><td>209</td></tr><tr><td>DLR0141</td><td>Noble Motors</td><td>210</td></tr><tr><td>DLR0140</td><td>Nissan India Motors</td><td>211</td></tr><tr><td>DLR0101</td><td>Kia Motors</td><td>212</td></tr><tr><td>DLR0234</td><td>Bohn Motor Company Automobile Dealership</td><td>213</td></tr><tr><td>DLR0235</td><td>Buick Automobile Company Building</td><td>214</td></tr><tr><td>DLR0256</td><td>Ariel Motors</td><td>215</td></tr><tr><td>DLR0004</td><td>Alfa Romeo Motors</td><td>216</td></tr><tr><td>DLR0084</td><td>Hudson Motors</td><td>217</td></tr><tr><td>DLR0133</td><td>Monica Motors</td><td>218</td></tr><tr><td>DLR0062</td><td>Ford Australia Motors</td><td>219</td></tr><tr><td>DLR0038</td><td>Cizeta-Moroder Motors</td><td>220</td></tr><tr><td>DLR0049</td><td>Dodge Motors</td><td>221</td></tr><tr><td>DLR0055</td><td>Facel Vega Motors</td><td>222</td></tr><tr><td>DLR0170</td><td>Saleen Motors</td><td>223</td></tr><tr><td>DLR0242</td><td>H Street Playhouse</td><td>224</td></tr><tr><td>DLR0243</td><td>Howard Motor Company Building</td><td>225</td></tr><tr><td>DLR0224</td><td>Standard  Motors</td><td>226</td></tr><tr><td>DLR0077</td><td>Heinkel Motors</td><td>227</td></tr><tr><td>DLR0031</td><td>Caterham Motors</td><td>228</td></tr><tr><td>DLR0127</td><td>Merkur Motors</td><td>229</td></tr><tr><td>DLR0043</td><td>Daimler Motors</td><td>230</td></tr><tr><td>DLR0168</td><td>Saab Motors</td><td>231</td></tr><tr><td>DLR0083</td><td>Honda India Motors</td><td>232</td></tr><tr><td>DLR0099</td><td>Jensen Motors</td><td>233</td></tr><tr><td>DLR0090</td><td>null</td><td>234</td></tr><tr><td>DLR0173</td><td>Santa Matilde Motors</td><td>235</td></tr><tr><td>DLR0067</td><td>FSO Motors</td><td>236</td></tr><tr><td>DLR0113</td><td>LuAZ Motors</td><td>237</td></tr><tr><td>DLR0011</td><td>Artega Motors</td><td>238</td></tr><tr><td>DLR0157</td><td>Polestar Motors</td><td>239</td></tr><tr><td>DLR0258</td><td>null</td><td>240</td></tr><tr><td>DLR0086</td><td>Hummer Motors</td><td>241</td></tr><tr><td>DLR0054</td><td>Elva Motors</td><td>242</td></tr><tr><td>DLR0178</td><td>Shelby SuperCars Motors</td><td>243</td></tr><tr><td>DLR0023</td><td>Bristol Motors</td><td>244</td></tr><tr><td>DLR0026</td><td>Austin, Rover Motors</td><td>245</td></tr><tr><td>DLR0219</td><td>MG  Motors</td><td>246</td></tr><tr><td>DLR0120</td><td>Mastretta Motors</td><td>247</td></tr><tr><td>DLR0028</td><td>Buick Motors</td><td>248</td></tr><tr><td>DLR0057</td><td>Fiat Motors</td><td>249</td></tr><tr><td>DLR0041</td><td>DAF Motors</td><td>250</td></tr><tr><td>DLR0095</td><td>Isuzu Motors</td><td>251</td></tr><tr><td>DLR0123</td><td>Mazzanti Motors</td><td>252</td></tr><tr><td>DLR0036</td><td>Chrysler Europe Motors</td><td>253</td></tr><tr><td>DLR0149</td><td>Panoz Motors</td><td>254</td></tr><tr><td>DLR0145</td><td>Opel Motors</td><td>255</td></tr><tr><td>DLR0105</td><td>Lamborghini Motors</td><td>256</td></tr><tr><td>DLR0097</td><td>Jaguar Motors</td><td>257</td></tr><tr><td>DLR0196</td><td>Toyota Motors</td><td>258</td></tr><tr><td>DLR0024</td><td>British Leyland Motors</td><td>259</td></tr><tr><td>DLR0241</td><td>Colman Automotive Building</td><td>260</td></tr><tr><td>DLR0012</td><td>Asia Motors Motors</td><td>261</td></tr><tr><td>DLR0122</td><td>Mazda Motors</td><td>262</td></tr><tr><td>DLR0060</td><td>Fisker, Karma Motors</td><td>263</td></tr><tr><td>DLR0106</td><td>Lancia Motors</td><td>264</td></tr><tr><td>DLR0158</td><td>Pontiac, Asüna Motors</td><td>265</td></tr><tr><td>DLR0015</td><td>Autobianchi Motors</td><td>266</td></tr><tr><td>DLR0081</td><td>Holden Motors</td><td>267</td></tr></tbody></table></div>"
      ]
     },
     "metadata": {
      "application/vnd.databricks.v1+output": {
       "addedWidgets": {},
       "aggData": [],
       "aggError": "",
       "aggOverflow": false,
       "aggSchema": [],
       "aggSeriesLimitReached": false,
       "aggType": "",
       "arguments": {},
       "columnCustomDisplayInfos": {},
       "data": [
        [
         "DLR0058",
         "Fiat do Brasil Motors",
         1
        ],
        [
         "DLR0107",
         "Land Rover Motors",
         2
        ],
        [
         "DLR0129",
         "Mia Motors",
         3
        ],
        [
         "DLR0111",
         "Lotus Motors",
         4
        ],
        [
         "DLR0085",
         "Humber Motors",
         5
        ],
        [
         "DLR0001",
         "AC Cars Motors",
         6
        ],
        [
         "DLR0218",
         "Lagonda  Motors",
         7
        ],
        [
         "DLR0082",
         "Honda Motors",
         8
        ],
        [
         "DLR0063",
         "Ford do Brasil Motors",
         9
        ],
        [
         "DLR0193",
         "Tazzari Motors",
         10
        ],
        [
         "DLR0134",
         "Monteverdi Motors",
         11
        ],
        [
         "DLR0199",
         "TVR Motors",
         12
        ],
        [
         "DLR0254",
         "AMC, Eagle Motors",
         13
        ],
        [
         "DLR0094",
         "Isotta Fraschini Motors",
         14
        ],
        [
         "DLR0236",
         "Cadillac Automobile Company Building",
         15
        ],
        [
         "DLR0201",
         "Vauxhall Motors",
         16
        ],
        [
         "DLR0175",
         "Saturn Motors",
         17
        ],
        [
         "DLR0226",
         "Das Motors",
         18
        ],
        [
         "DLR0207",
         "Westfield Motors",
         19
        ],
        [
         "DLR0035",
         "Chrysler Motors",
         20
        ],
        [
         "DLR0151",
         "Peel Motors",
         21
        ],
        [
         "DLR0156",
         "Plymouth Motors",
         22
        ],
        [
         "DLR0216",
         "Maybach  Motors",
         23
        ],
        [
         "DLR0259",
         "Asia Motors Motors",
         24
        ],
        [
         "DLR0037",
         "Citroën Motors",
         25
        ],
        [
         "DLR0074",
         "GTA Spano Motors",
         26
        ],
        [
         "DLR0150",
         "Panther Motors",
         27
        ],
        [
         "DLR0135",
         "Morgan Motors",
         28
        ],
        [
         "DLR0073",
         "GMC Motors",
         29
        ],
        [
         "DLR0260",
         "Aston Martin Motors",
         30
        ],
        [
         "DLR0153",
         "Peugeot Motors",
         31
        ],
        [
         "DLR0124",
         "McLaren Motors",
         32
        ],
        [
         "DLR0121",
         "Matra (including Deutsch-Bonnet, René Bonnet) Motors",
         33
        ],
        [
         "DLR0211",
         "ZIL Motors",
         34
        ],
        [
         "DLR0066",
         "Freightliner Motors",
         35
        ],
        [
         "DLR0110",
         "Lincoln Motors",
         36
        ],
        [
         "DLR0143",
         "Oldsmobile Motors",
         37
        ],
        [
         "DLR0167",
         "Rolls-Royce Motors",
         38
        ],
        [
         "DLR0048",
         "De Tomaso Motors",
         39
        ],
        [
         "DLR0008",
         "Anadol Motors",
         40
        ],
        [
         "DLR0128",
         "Messerschmitt Motors",
         41
        ],
        [
         "DLR0177",
         "Seat Motors",
         42
        ],
        [
         "DLR0181",
         "Singer Motors",
         43
        ],
        [
         "DLR0079",
         "Hillman Motors",
         44
        ],
        [
         "DLR0072",
         "Glas Motors",
         45
        ],
        [
         "DLR0248",
         "AC Cars Motors",
         46
        ],
        [
         "DLR0052",
         "e.GO Mobile Motors",
         47
        ],
        [
         "DLR0197",
         "Toyota India Motors",
         48
        ],
        [
         "DLR0080",
         "Hindustan Motors",
         49
        ],
        [
         "DLR0164",
         "Reliant Motors",
         50
        ],
        [
         "DLR0029",
         "Bytom Motors",
         51
        ],
        [
         "DLR0195",
         "Tornado Motors",
         52
        ],
        [
         "DLR0005",
         "Alpine Motors",
         53
        ],
        [
         "DLR0007",
         "AMC, Eagle Motors",
         54
        ],
        [
         "DLR0078",
         "Hennessey Motors",
         55
        ],
        [
         "DLR0247",
         "Kindel Building",
         56
        ],
        [
         "DLR0065",
         "Ford India Motors",
         57
        ],
        [
         "DLR0174",
         "Santana Motors",
         58
        ],
        [
         "DLR0022",
         "Borgward (including Goliath and Lloyd) Motors",
         59
        ],
        [
         "DLR0116",
         "Marcos Motors",
         60
        ],
        [
         "DLR0257",
         "ARO Motors",
         61
        ],
        [
         "DLR0172",
         "San Motors",
         62
        ],
        [
         "DLR0061",
         "Ford America Motors",
         63
        ],
        [
         "DLR0240",
         "Clemens Automobile Company Building",
         64
        ],
        [
         "DLR0103",
         "KTM Motors",
         65
        ],
        [
         "DLR0096",
         "Iveco Motors",
         66
        ],
        [
         "DLR0198",
         "Turner Motors",
         67
        ],
        [
         "DLR0137",
         "Nash Motors",
         68
        ],
        [
         "DLR0202",
         "Venturi Motors",
         69
        ],
        [
         "DLR0125",
         "Mercedes-Benz (including Maybach) Motors",
         70
        ],
        [
         "DLR0089",
         "Infiniti Motors",
         71
        ],
        [
         "DLR0266",
         "Bitter Motors",
         72
        ],
        [
         "DLR0148",
         "Panhard Motors",
         73
        ],
        [
         "DLR0142",
         "NSU Motors",
         74
        ],
        [
         "DLR0227",
         "Ramani Motors",
         75
        ],
        [
         "DLR0206",
         "Volvo Motors",
         76
        ],
        [
         "DLR0179",
         "Simca Motors",
         77
        ],
        [
         "DLR0059",
         "Fiat India Motors",
         78
        ],
        [
         "DLR0092",
         "Isdera Motors",
         79
        ],
        [
         "DLR0018",
         "Bentley Motors",
         80
        ],
        [
         "DLR0115",
         "Mahindra Motors",
         81
        ],
        [
         "DLR0169",
         "SAIC Motor Motors",
         82
        ],
        [
         "DLR0212",
         null,
         83
        ],
        [
         "DLR0192",
         "Tatra Motors",
         84
        ],
        [
         "DLR0186",
         "Standard-Triumph Motors",
         85
        ],
        [
         "DLR0021",
         "Bond Motors",
         86
        ],
        [
         "DLR0147",
         "Pagani Motors",
         87
        ],
        [
         "DLR0098",
         "Jeep Motors",
         88
        ],
        [
         "DLR0209",
         "Zastava Motors",
         89
        ],
        [
         "DLR0166",
         "Rivian Motors",
         90
        ],
        [
         "DLR0250",
         "Aixam-Mega (including Arola) Motors",
         91
        ],
        [
         "DLR0220",
         "Morris  Motors",
         92
        ],
        [
         "DLR0183",
         "Smart Motors",
         93
        ],
        [
         "DLR0102",
         "Koenigsegg Motors",
         94
        ],
        [
         "DLR0188",
         "Subaru Motors",
         95
        ],
        [
         "DLR0155",
         "Piaggio Motors",
         96
        ],
        [
         "DLR0050",
         "Donkervoort Motors",
         97
        ],
        [
         "DLR0252",
         "Alpine Motors",
         98
        ],
        [
         "DLR0184",
         "Spyker Motors",
         99
        ],
        [
         "DLR0267",
         "BMW Motors",
         100
        ],
        [
         "DLR0091",
         "Invicta Motors",
         101
        ],
        [
         "DLR0262",
         "Autobianchi Motors",
         102
        ],
        [
         "DLR0249",
         "Acura Motors",
         103
        ],
        [
         "DLR0208",
         "Wiesmann Motors",
         104
        ],
        [
         "DLR0114",
         "Lynx Motors",
         105
        ],
        [
         "DLR0204",
         "Volkswagen do Brasil Motors",
         106
        ],
        [
         "DLR0200",
         "UAZ Motors",
         107
        ],
        [
         "DLR0163",
         "Ranger Motors",
         108
        ],
        [
         "DLR0223",
         "Wolseley  Motors",
         109
        ],
        [
         "DLR0044",
         null,
         110
        ],
        [
         "DLR0231",
         "Atlantic Motor Company",
         111
        ],
        [
         "DLR0034",
         "Chevrolet India Motors",
         112
        ],
        [
         "DLR0126",
         "Mercury Motors",
         113
        ],
        [
         "DLR0046",
         "DeLorean Motors",
         114
        ],
        [
         "DLR0130",
         "Micro Motors",
         115
        ],
        [
         "DLR0210",
         "ZAZ Motors",
         116
        ],
        [
         "DLR0136",
         "Moskwitch Motors",
         117
        ],
        [
         "DLR0222",
         "Riley  Motors",
         118
        ],
        [
         "DLR0017",
         "Auverland Motors",
         119
        ],
        [
         "DLR0182",
         "Skoda Motors",
         120
        ],
        [
         "DLR0152",
         "Perodua Motors",
         121
        ],
        [
         "DLR0071",
         "Ginetta Motors",
         122
        ],
        [
         "DLR0161",
         "Proton Motors",
         123
        ],
        [
         "DLR0246",
         "Jones Motor Company",
         124
        ],
        [
         "DLR0020",
         "BMW Motors",
         125
        ],
        [
         "DLR0076",
         "Healey Motors",
         126
        ],
        [
         "DLR0237",
         "Casa de cadillac",
         127
        ],
        [
         "DLR0131",
         "Mini Motors",
         128
        ],
        [
         "DLR0112",
         "LTI Motors",
         129
        ],
        [
         "DLR0213",
         "DKW Motors",
         130
        ],
        [
         "DLR0040",
         "Daewoo, Saehan, Chevrolet Korea Motors",
         131
        ],
        [
         "DLR0187",
         "Studebaker Motors",
         132
        ],
        [
         "DLR0251",
         "Alfa Romeo Motors",
         133
        ],
        [
         "DLR0154",
         "PGO Motors",
         134
        ],
        [
         "DLR0119",
         "Maserati Motors",
         135
        ],
        [
         "DLR0013",
         "Aston Martin Motors",
         136
        ],
        [
         "DLR0087",
         "Hyundai Motors",
         137
        ],
        [
         "DLR0056",
         "Ferrari Motors",
         138
        ],
        [
         "DLR0033",
         "Chevrolet Motors",
         139
        ],
        [
         "DLR0042",
         "Daihatsu Motors",
         140
        ],
        [
         "DLR0229",
         "Herald Motors",
         141
        ],
        [
         "DLR0070",
         "Gilbern Motors",
         142
        ],
        [
         "DLR0191",
         "Tata Motors",
         143
        ],
        [
         "DLR0203",
         "Volkswagen Motors",
         144
        ],
        [
         "DLR0100",
         "JPX Motors",
         145
        ],
        [
         "DLR0047",
         "DeSoto Motors",
         146
        ],
        [
         "DLR0214",
         "Horch Motors",
         147
        ],
        [
         "DLR0171",
         "Samsung Motors",
         148
        ],
        [
         "DLR0045",
         "Delahaye Motors",
         149
        ],
        [
         "DLR0264",
         "Auverland Motors",
         150
        ],
        [
         "DLR0162",
         "Puma Motors",
         151
        ],
        [
         "DLR0159",
         "Porsche Motors",
         152
        ],
        [
         "DLR0146",
         "Packard Motors",
         153
        ],
        [
         "DLR0261",
         "Audi Motors",
         154
        ],
        [
         "DLR0032",
         "Checker Motors",
         155
        ],
        [
         "DLR0009",
         "Ariel Motors",
         156
        ],
        [
         "DLR0225",
         "Talbot  Motors",
         157
        ],
        [
         "DLR0221",
         "Austin  Motors",
         158
        ],
        [
         "DLR0075",
         "Gumpert Motors",
         159
        ],
        [
         "DLR0069",
         "Geo Motors",
         160
        ],
        [
         "DLR0104",
         "Lada Motors",
         161
        ],
        [
         "DLR0039",
         "Dacia Motors",
         162
        ],
        [
         "DLR0245",
         "Jennings Ford Automobile Dealership",
         163
        ],
        [
         "DLR0238",
         "Cass Motor Sales",
         164
        ],
        [
         "DLR0064",
         "Ford Europe Motors",
         165
        ],
        [
         "DLR0109",
         "Ligier Motors",
         166
        ],
        [
         "DLR0144",
         null,
         167
        ],
        [
         "DLR0176",
         "Scion Motors",
         168
        ],
        [
         "DLR0255",
         "Anadol Motors",
         169
        ],
        [
         "DLR0138",
         "Naza Motors",
         170
        ],
        [
         "DLR0003",
         "Aixam-Mega (including Arola) Motors",
         171
        ],
        [
         "DLR0265",
         "Bentley Motors",
         172
        ],
        [
         "DLR0217",
         "Izh  Motors",
         173
        ],
        [
         "DLR0185",
         "SsangYong Motors",
         174
        ],
        [
         "DLR0019",
         "Bitter Motors",
         175
        ],
        [
         "DLR0165",
         "Renault Motors",
         176
        ],
        [
         "DLR0108",
         "Lexus Motors",
         177
        ],
        [
         "DLR0117",
         "Marlin Motors",
         178
        ],
        [
         "DLR0118",
         "Maruti Motors",
         179
        ],
        [
         "DLR0027",
         "Bugatti Motors",
         180
        ],
        [
         "DLR0139",
         "Nissan Motors",
         181
        ],
        [
         "DLR0088",
         "IFA (including Trabant, Wartburg, Barkas) Motors",
         182
        ],
        [
         "DLR0051",
         "Edsel Motors",
         183
        ],
        [
         "DLR0010",
         "ARO Motors",
         184
        ],
        [
         "DLR0006",
         "Alvis Motors",
         185
        ],
        [
         "DLR0180",
         "Simca do Brasil Motors",
         186
        ],
        [
         "DLR0253",
         "Alvis Motors",
         187
        ],
        [
         "DLR0230",
         "Zion Automobils",
         188
        ],
        [
         "DLR0190",
         "Suzuki Motors",
         189
        ],
        [
         "DLR0232",
         "2008 NRHP-listed",
         190
        ],
        [
         "DLR0030",
         "Cadillac Motors",
         191
        ],
        [
         "DLR0215",
         "Wanderer Motors",
         192
        ],
        [
         "DLR0016",
         "Auto-Union Motors",
         193
        ],
        [
         "DLR0160",
         "Premier Motors",
         194
        ],
        [
         "DLR0025",
         "Austin-Healey Motors",
         195
        ],
        [
         "DLR0239",
         "Claremore Auto Dealership",
         196
        ],
        [
         "DLR0228",
         "Deccan Motors",
         197
        ],
        [
         "DLR0189",
         "Sunbeam Motors",
         198
        ],
        [
         "DLR0263",
         "Auto-Union Motors",
         199
        ],
        [
         "DLR0132",
         "Mitsubishi Motors",
         200
        ],
        [
         "DLR0244",
         "Hupmobile Building",
         201
        ],
        [
         "DLR0068",
         "GAZ Motors",
         202
        ],
        [
         "DLR0053",
         "Eicher Polaris Motors",
         203
        ],
        [
         "DLR0002",
         "Acura Motors",
         204
        ],
        [
         "DLR0194",
         "Tesla Motors",
         205
        ],
        [
         "DLR0233",
         "Blankinship Motor Company Building",
         206
        ],
        [
         "DLR0014",
         "Audi Motors",
         207
        ],
        [
         "DLR0093",
         "Iso Motors",
         208
        ],
        [
         "DLR0205",
         "Volkswagen South Africa Motors",
         209
        ],
        [
         "DLR0141",
         "Noble Motors",
         210
        ],
        [
         "DLR0140",
         "Nissan India Motors",
         211
        ],
        [
         "DLR0101",
         "Kia Motors",
         212
        ],
        [
         "DLR0234",
         "Bohn Motor Company Automobile Dealership",
         213
        ],
        [
         "DLR0235",
         "Buick Automobile Company Building",
         214
        ],
        [
         "DLR0256",
         "Ariel Motors",
         215
        ],
        [
         "DLR0004",
         "Alfa Romeo Motors",
         216
        ],
        [
         "DLR0084",
         "Hudson Motors",
         217
        ],
        [
         "DLR0133",
         "Monica Motors",
         218
        ],
        [
         "DLR0062",
         "Ford Australia Motors",
         219
        ],
        [
         "DLR0038",
         "Cizeta-Moroder Motors",
         220
        ],
        [
         "DLR0049",
         "Dodge Motors",
         221
        ],
        [
         "DLR0055",
         "Facel Vega Motors",
         222
        ],
        [
         "DLR0170",
         "Saleen Motors",
         223
        ],
        [
         "DLR0242",
         "H Street Playhouse",
         224
        ],
        [
         "DLR0243",
         "Howard Motor Company Building",
         225
        ],
        [
         "DLR0224",
         "Standard  Motors",
         226
        ],
        [
         "DLR0077",
         "Heinkel Motors",
         227
        ],
        [
         "DLR0031",
         "Caterham Motors",
         228
        ],
        [
         "DLR0127",
         "Merkur Motors",
         229
        ],
        [
         "DLR0043",
         "Daimler Motors",
         230
        ],
        [
         "DLR0168",
         "Saab Motors",
         231
        ],
        [
         "DLR0083",
         "Honda India Motors",
         232
        ],
        [
         "DLR0099",
         "Jensen Motors",
         233
        ],
        [
         "DLR0090",
         null,
         234
        ],
        [
         "DLR0173",
         "Santa Matilde Motors",
         235
        ],
        [
         "DLR0067",
         "FSO Motors",
         236
        ],
        [
         "DLR0113",
         "LuAZ Motors",
         237
        ],
        [
         "DLR0011",
         "Artega Motors",
         238
        ],
        [
         "DLR0157",
         "Polestar Motors",
         239
        ],
        [
         "DLR0258",
         null,
         240
        ],
        [
         "DLR0086",
         "Hummer Motors",
         241
        ],
        [
         "DLR0054",
         "Elva Motors",
         242
        ],
        [
         "DLR0178",
         "Shelby SuperCars Motors",
         243
        ],
        [
         "DLR0023",
         "Bristol Motors",
         244
        ],
        [
         "DLR0026",
         "Austin, Rover Motors",
         245
        ],
        [
         "DLR0219",
         "MG  Motors",
         246
        ],
        [
         "DLR0120",
         "Mastretta Motors",
         247
        ],
        [
         "DLR0028",
         "Buick Motors",
         248
        ],
        [
         "DLR0057",
         "Fiat Motors",
         249
        ],
        [
         "DLR0041",
         "DAF Motors",
         250
        ],
        [
         "DLR0095",
         "Isuzu Motors",
         251
        ],
        [
         "DLR0123",
         "Mazzanti Motors",
         252
        ],
        [
         "DLR0036",
         "Chrysler Europe Motors",
         253
        ],
        [
         "DLR0149",
         "Panoz Motors",
         254
        ],
        [
         "DLR0145",
         "Opel Motors",
         255
        ],
        [
         "DLR0105",
         "Lamborghini Motors",
         256
        ],
        [
         "DLR0097",
         "Jaguar Motors",
         257
        ],
        [
         "DLR0196",
         "Toyota Motors",
         258
        ],
        [
         "DLR0024",
         "British Leyland Motors",
         259
        ],
        [
         "DLR0241",
         "Colman Automotive Building",
         260
        ],
        [
         "DLR0012",
         "Asia Motors Motors",
         261
        ],
        [
         "DLR0122",
         "Mazda Motors",
         262
        ],
        [
         "DLR0060",
         "Fisker, Karma Motors",
         263
        ],
        [
         "DLR0106",
         "Lancia Motors",
         264
        ],
        [
         "DLR0158",
         "Pontiac, Asüna Motors",
         265
        ],
        [
         "DLR0015",
         "Autobianchi Motors",
         266
        ],
        [
         "DLR0081",
         "Holden Motors",
         267
        ]
       ],
       "datasetInfos": [],
       "dbfsResultPath": null,
       "isJsonSchema": true,
       "metadata": {},
       "overflow": false,
       "plotOptions": {
        "customPlotOptions": {},
        "displayType": "table",
        "pivotAggregation": null,
        "pivotColumns": null,
        "xColumns": null,
        "yColumns": null
       },
       "removedWidgets": [],
       "schema": [
        {
         "metadata": "{}",
         "name": "Dealer_ID",
         "type": "\"string\""
        },
        {
         "metadata": "{}",
         "name": "DealerName",
         "type": "\"string\""
        },
        {
         "metadata": "{}",
         "name": "dim_dealer_Key",
         "type": "\"long\""
        }
       ],
       "type": "table"
      }
     },
     "output_type": "display_data"
    }
   ],
   "source": [
    "df_filter_new.display()"
   ]
  },
  {
   "cell_type": "code",
   "execution_count": 0,
   "metadata": {
    "application/vnd.databricks.v1+cell": {
     "cellMetadata": {
      "byteLimit": 2048000,
      "rowLimit": 10000
     },
     "inputWidgets": {},
     "nuid": "208167b5-73d5-4d9b-9069-d9b147a074a3",
     "showTitle": false,
     "tableResultSettingsMap": {},
     "title": ""
    }
   },
   "outputs": [],
   "source": [
    "df_final = df_filter_old.union(df_filter_new)"
   ]
  },
  {
   "cell_type": "code",
   "execution_count": 0,
   "metadata": {
    "application/vnd.databricks.v1+cell": {
     "cellMetadata": {
      "byteLimit": 2048000,
      "rowLimit": 10000
     },
     "inputWidgets": {},
     "nuid": "8772eca2-7e1c-401a-8e0d-1c1ed44bc2d1",
     "showTitle": false,
     "tableResultSettingsMap": {},
     "title": ""
    }
   },
   "outputs": [
    {
     "output_type": "display_data",
     "data": {
      "text/html": [
       "<style scoped>\n",
       "  .table-result-container {\n",
       "    max-height: 300px;\n",
       "    overflow: auto;\n",
       "  }\n",
       "  table, th, td {\n",
       "    border: 1px solid black;\n",
       "    border-collapse: collapse;\n",
       "  }\n",
       "  th, td {\n",
       "    padding: 5px;\n",
       "  }\n",
       "  th {\n",
       "    text-align: left;\n",
       "  }\n",
       "</style><div class='table-result-container'><table class='table-result'><thead style='background-color: white'><tr><th>Dealer_ID</th><th>DealerName</th><th>dim_Dealer_Key</th></tr></thead><tbody><tr><td>DLR0058</td><td>Fiat do Brasil Motors</td><td>1</td></tr><tr><td>DLR0107</td><td>Land Rover Motors</td><td>2</td></tr><tr><td>DLR0129</td><td>Mia Motors</td><td>3</td></tr><tr><td>DLR0111</td><td>Lotus Motors</td><td>4</td></tr><tr><td>DLR0085</td><td>Humber Motors</td><td>5</td></tr><tr><td>DLR0001</td><td>AC Cars Motors</td><td>6</td></tr><tr><td>DLR0218</td><td>Lagonda  Motors</td><td>7</td></tr><tr><td>DLR0082</td><td>Honda Motors</td><td>8</td></tr><tr><td>DLR0063</td><td>Ford do Brasil Motors</td><td>9</td></tr><tr><td>DLR0193</td><td>Tazzari Motors</td><td>10</td></tr><tr><td>DLR0134</td><td>Monteverdi Motors</td><td>11</td></tr><tr><td>DLR0199</td><td>TVR Motors</td><td>12</td></tr><tr><td>DLR0254</td><td>AMC, Eagle Motors</td><td>13</td></tr><tr><td>DLR0094</td><td>Isotta Fraschini Motors</td><td>14</td></tr><tr><td>DLR0236</td><td>Cadillac Automobile Company Building</td><td>15</td></tr><tr><td>DLR0201</td><td>Vauxhall Motors</td><td>16</td></tr><tr><td>DLR0175</td><td>Saturn Motors</td><td>17</td></tr><tr><td>DLR0226</td><td>Das Motors</td><td>18</td></tr><tr><td>DLR0207</td><td>Westfield Motors</td><td>19</td></tr><tr><td>DLR0035</td><td>Chrysler Motors</td><td>20</td></tr><tr><td>DLR0151</td><td>Peel Motors</td><td>21</td></tr><tr><td>DLR0156</td><td>Plymouth Motors</td><td>22</td></tr><tr><td>DLR0216</td><td>Maybach  Motors</td><td>23</td></tr><tr><td>DLR0259</td><td>Asia Motors Motors</td><td>24</td></tr><tr><td>DLR0037</td><td>Citroën Motors</td><td>25</td></tr><tr><td>DLR0074</td><td>GTA Spano Motors</td><td>26</td></tr><tr><td>DLR0150</td><td>Panther Motors</td><td>27</td></tr><tr><td>DLR0135</td><td>Morgan Motors</td><td>28</td></tr><tr><td>DLR0073</td><td>GMC Motors</td><td>29</td></tr><tr><td>DLR0260</td><td>Aston Martin Motors</td><td>30</td></tr><tr><td>DLR0153</td><td>Peugeot Motors</td><td>31</td></tr><tr><td>DLR0124</td><td>McLaren Motors</td><td>32</td></tr><tr><td>DLR0121</td><td>Matra (including Deutsch-Bonnet, René Bonnet) Motors</td><td>33</td></tr><tr><td>DLR0211</td><td>ZIL Motors</td><td>34</td></tr><tr><td>DLR0066</td><td>Freightliner Motors</td><td>35</td></tr><tr><td>DLR0110</td><td>Lincoln Motors</td><td>36</td></tr><tr><td>DLR0143</td><td>Oldsmobile Motors</td><td>37</td></tr><tr><td>DLR0167</td><td>Rolls-Royce Motors</td><td>38</td></tr><tr><td>DLR0048</td><td>De Tomaso Motors</td><td>39</td></tr><tr><td>DLR0008</td><td>Anadol Motors</td><td>40</td></tr><tr><td>DLR0128</td><td>Messerschmitt Motors</td><td>41</td></tr><tr><td>DLR0177</td><td>Seat Motors</td><td>42</td></tr><tr><td>DLR0181</td><td>Singer Motors</td><td>43</td></tr><tr><td>DLR0079</td><td>Hillman Motors</td><td>44</td></tr><tr><td>DLR0072</td><td>Glas Motors</td><td>45</td></tr><tr><td>DLR0248</td><td>AC Cars Motors</td><td>46</td></tr><tr><td>DLR0052</td><td>e.GO Mobile Motors</td><td>47</td></tr><tr><td>DLR0197</td><td>Toyota India Motors</td><td>48</td></tr><tr><td>DLR0080</td><td>Hindustan Motors</td><td>49</td></tr><tr><td>DLR0164</td><td>Reliant Motors</td><td>50</td></tr><tr><td>DLR0029</td><td>Bytom Motors</td><td>51</td></tr><tr><td>DLR0195</td><td>Tornado Motors</td><td>52</td></tr><tr><td>DLR0005</td><td>Alpine Motors</td><td>53</td></tr><tr><td>DLR0007</td><td>AMC, Eagle Motors</td><td>54</td></tr><tr><td>DLR0078</td><td>Hennessey Motors</td><td>55</td></tr><tr><td>DLR0247</td><td>Kindel Building</td><td>56</td></tr><tr><td>DLR0065</td><td>Ford India Motors</td><td>57</td></tr><tr><td>DLR0174</td><td>Santana Motors</td><td>58</td></tr><tr><td>DLR0022</td><td>Borgward (including Goliath and Lloyd) Motors</td><td>59</td></tr><tr><td>DLR0116</td><td>Marcos Motors</td><td>60</td></tr><tr><td>DLR0257</td><td>ARO Motors</td><td>61</td></tr><tr><td>DLR0172</td><td>San Motors</td><td>62</td></tr><tr><td>DLR0061</td><td>Ford America Motors</td><td>63</td></tr><tr><td>DLR0240</td><td>Clemens Automobile Company Building</td><td>64</td></tr><tr><td>DLR0103</td><td>KTM Motors</td><td>65</td></tr><tr><td>DLR0096</td><td>Iveco Motors</td><td>66</td></tr><tr><td>DLR0198</td><td>Turner Motors</td><td>67</td></tr><tr><td>DLR0137</td><td>Nash Motors</td><td>68</td></tr><tr><td>DLR0202</td><td>Venturi Motors</td><td>69</td></tr><tr><td>DLR0125</td><td>Mercedes-Benz (including Maybach) Motors</td><td>70</td></tr><tr><td>DLR0089</td><td>Infiniti Motors</td><td>71</td></tr><tr><td>DLR0266</td><td>Bitter Motors</td><td>72</td></tr><tr><td>DLR0148</td><td>Panhard Motors</td><td>73</td></tr><tr><td>DLR0142</td><td>NSU Motors</td><td>74</td></tr><tr><td>DLR0227</td><td>Ramani Motors</td><td>75</td></tr><tr><td>DLR0206</td><td>Volvo Motors</td><td>76</td></tr><tr><td>DLR0179</td><td>Simca Motors</td><td>77</td></tr><tr><td>DLR0059</td><td>Fiat India Motors</td><td>78</td></tr><tr><td>DLR0092</td><td>Isdera Motors</td><td>79</td></tr><tr><td>DLR0018</td><td>Bentley Motors</td><td>80</td></tr><tr><td>DLR0115</td><td>Mahindra Motors</td><td>81</td></tr><tr><td>DLR0169</td><td>SAIC Motor Motors</td><td>82</td></tr><tr><td>DLR0212</td><td>null</td><td>83</td></tr><tr><td>DLR0192</td><td>Tatra Motors</td><td>84</td></tr><tr><td>DLR0186</td><td>Standard-Triumph Motors</td><td>85</td></tr><tr><td>DLR0021</td><td>Bond Motors</td><td>86</td></tr><tr><td>DLR0147</td><td>Pagani Motors</td><td>87</td></tr><tr><td>DLR0098</td><td>Jeep Motors</td><td>88</td></tr><tr><td>DLR0209</td><td>Zastava Motors</td><td>89</td></tr><tr><td>DLR0166</td><td>Rivian Motors</td><td>90</td></tr><tr><td>DLR0250</td><td>Aixam-Mega (including Arola) Motors</td><td>91</td></tr><tr><td>DLR0220</td><td>Morris  Motors</td><td>92</td></tr><tr><td>DLR0183</td><td>Smart Motors</td><td>93</td></tr><tr><td>DLR0102</td><td>Koenigsegg Motors</td><td>94</td></tr><tr><td>DLR0188</td><td>Subaru Motors</td><td>95</td></tr><tr><td>DLR0155</td><td>Piaggio Motors</td><td>96</td></tr><tr><td>DLR0050</td><td>Donkervoort Motors</td><td>97</td></tr><tr><td>DLR0252</td><td>Alpine Motors</td><td>98</td></tr><tr><td>DLR0184</td><td>Spyker Motors</td><td>99</td></tr><tr><td>DLR0267</td><td>BMW Motors</td><td>100</td></tr><tr><td>DLR0091</td><td>Invicta Motors</td><td>101</td></tr><tr><td>DLR0262</td><td>Autobianchi Motors</td><td>102</td></tr><tr><td>DLR0249</td><td>Acura Motors</td><td>103</td></tr><tr><td>DLR0208</td><td>Wiesmann Motors</td><td>104</td></tr><tr><td>DLR0114</td><td>Lynx Motors</td><td>105</td></tr><tr><td>DLR0204</td><td>Volkswagen do Brasil Motors</td><td>106</td></tr><tr><td>DLR0200</td><td>UAZ Motors</td><td>107</td></tr><tr><td>DLR0163</td><td>Ranger Motors</td><td>108</td></tr><tr><td>DLR0223</td><td>Wolseley  Motors</td><td>109</td></tr><tr><td>DLR0044</td><td>null</td><td>110</td></tr><tr><td>DLR0231</td><td>Atlantic Motor Company</td><td>111</td></tr><tr><td>DLR0034</td><td>Chevrolet India Motors</td><td>112</td></tr><tr><td>DLR0126</td><td>Mercury Motors</td><td>113</td></tr><tr><td>DLR0046</td><td>DeLorean Motors</td><td>114</td></tr><tr><td>DLR0130</td><td>Micro Motors</td><td>115</td></tr><tr><td>DLR0210</td><td>ZAZ Motors</td><td>116</td></tr><tr><td>DLR0136</td><td>Moskwitch Motors</td><td>117</td></tr><tr><td>DLR0222</td><td>Riley  Motors</td><td>118</td></tr><tr><td>DLR0017</td><td>Auverland Motors</td><td>119</td></tr><tr><td>DLR0182</td><td>Skoda Motors</td><td>120</td></tr><tr><td>DLR0152</td><td>Perodua Motors</td><td>121</td></tr><tr><td>DLR0071</td><td>Ginetta Motors</td><td>122</td></tr><tr><td>DLR0161</td><td>Proton Motors</td><td>123</td></tr><tr><td>DLR0246</td><td>Jones Motor Company</td><td>124</td></tr><tr><td>DLR0020</td><td>BMW Motors</td><td>125</td></tr><tr><td>DLR0076</td><td>Healey Motors</td><td>126</td></tr><tr><td>DLR0237</td><td>Casa de cadillac</td><td>127</td></tr><tr><td>DLR0131</td><td>Mini Motors</td><td>128</td></tr><tr><td>DLR0112</td><td>LTI Motors</td><td>129</td></tr><tr><td>DLR0213</td><td>DKW Motors</td><td>130</td></tr><tr><td>DLR0040</td><td>Daewoo, Saehan, Chevrolet Korea Motors</td><td>131</td></tr><tr><td>DLR0187</td><td>Studebaker Motors</td><td>132</td></tr><tr><td>DLR0251</td><td>Alfa Romeo Motors</td><td>133</td></tr><tr><td>DLR0154</td><td>PGO Motors</td><td>134</td></tr><tr><td>DLR0119</td><td>Maserati Motors</td><td>135</td></tr><tr><td>DLR0013</td><td>Aston Martin Motors</td><td>136</td></tr><tr><td>DLR0087</td><td>Hyundai Motors</td><td>137</td></tr><tr><td>DLR0056</td><td>Ferrari Motors</td><td>138</td></tr><tr><td>DLR0033</td><td>Chevrolet Motors</td><td>139</td></tr><tr><td>DLR0042</td><td>Daihatsu Motors</td><td>140</td></tr><tr><td>DLR0229</td><td>Herald Motors</td><td>141</td></tr><tr><td>DLR0070</td><td>Gilbern Motors</td><td>142</td></tr><tr><td>DLR0191</td><td>Tata Motors</td><td>143</td></tr><tr><td>DLR0203</td><td>Volkswagen Motors</td><td>144</td></tr><tr><td>DLR0100</td><td>JPX Motors</td><td>145</td></tr><tr><td>DLR0047</td><td>DeSoto Motors</td><td>146</td></tr><tr><td>DLR0214</td><td>Horch Motors</td><td>147</td></tr><tr><td>DLR0171</td><td>Samsung Motors</td><td>148</td></tr><tr><td>DLR0045</td><td>Delahaye Motors</td><td>149</td></tr><tr><td>DLR0264</td><td>Auverland Motors</td><td>150</td></tr><tr><td>DLR0162</td><td>Puma Motors</td><td>151</td></tr><tr><td>DLR0159</td><td>Porsche Motors</td><td>152</td></tr><tr><td>DLR0146</td><td>Packard Motors</td><td>153</td></tr><tr><td>DLR0261</td><td>Audi Motors</td><td>154</td></tr><tr><td>DLR0032</td><td>Checker Motors</td><td>155</td></tr><tr><td>DLR0009</td><td>Ariel Motors</td><td>156</td></tr><tr><td>DLR0225</td><td>Talbot  Motors</td><td>157</td></tr><tr><td>DLR0221</td><td>Austin  Motors</td><td>158</td></tr><tr><td>DLR0075</td><td>Gumpert Motors</td><td>159</td></tr><tr><td>DLR0069</td><td>Geo Motors</td><td>160</td></tr><tr><td>DLR0104</td><td>Lada Motors</td><td>161</td></tr><tr><td>DLR0039</td><td>Dacia Motors</td><td>162</td></tr><tr><td>DLR0245</td><td>Jennings Ford Automobile Dealership</td><td>163</td></tr><tr><td>DLR0238</td><td>Cass Motor Sales</td><td>164</td></tr><tr><td>DLR0064</td><td>Ford Europe Motors</td><td>165</td></tr><tr><td>DLR0109</td><td>Ligier Motors</td><td>166</td></tr><tr><td>DLR0144</td><td>null</td><td>167</td></tr><tr><td>DLR0176</td><td>Scion Motors</td><td>168</td></tr><tr><td>DLR0255</td><td>Anadol Motors</td><td>169</td></tr><tr><td>DLR0138</td><td>Naza Motors</td><td>170</td></tr><tr><td>DLR0003</td><td>Aixam-Mega (including Arola) Motors</td><td>171</td></tr><tr><td>DLR0265</td><td>Bentley Motors</td><td>172</td></tr><tr><td>DLR0217</td><td>Izh  Motors</td><td>173</td></tr><tr><td>DLR0185</td><td>SsangYong Motors</td><td>174</td></tr><tr><td>DLR0019</td><td>Bitter Motors</td><td>175</td></tr><tr><td>DLR0165</td><td>Renault Motors</td><td>176</td></tr><tr><td>DLR0108</td><td>Lexus Motors</td><td>177</td></tr><tr><td>DLR0117</td><td>Marlin Motors</td><td>178</td></tr><tr><td>DLR0118</td><td>Maruti Motors</td><td>179</td></tr><tr><td>DLR0027</td><td>Bugatti Motors</td><td>180</td></tr><tr><td>DLR0139</td><td>Nissan Motors</td><td>181</td></tr><tr><td>DLR0088</td><td>IFA (including Trabant, Wartburg, Barkas) Motors</td><td>182</td></tr><tr><td>DLR0051</td><td>Edsel Motors</td><td>183</td></tr><tr><td>DLR0010</td><td>ARO Motors</td><td>184</td></tr><tr><td>DLR0006</td><td>Alvis Motors</td><td>185</td></tr><tr><td>DLR0180</td><td>Simca do Brasil Motors</td><td>186</td></tr><tr><td>DLR0253</td><td>Alvis Motors</td><td>187</td></tr><tr><td>DLR0230</td><td>Zion Automobils</td><td>188</td></tr><tr><td>DLR0190</td><td>Suzuki Motors</td><td>189</td></tr><tr><td>DLR0232</td><td>2008 NRHP-listed</td><td>190</td></tr><tr><td>DLR0030</td><td>Cadillac Motors</td><td>191</td></tr><tr><td>DLR0215</td><td>Wanderer Motors</td><td>192</td></tr><tr><td>DLR0016</td><td>Auto-Union Motors</td><td>193</td></tr><tr><td>DLR0160</td><td>Premier Motors</td><td>194</td></tr><tr><td>DLR0025</td><td>Austin-Healey Motors</td><td>195</td></tr><tr><td>DLR0239</td><td>Claremore Auto Dealership</td><td>196</td></tr><tr><td>DLR0228</td><td>Deccan Motors</td><td>197</td></tr><tr><td>DLR0189</td><td>Sunbeam Motors</td><td>198</td></tr><tr><td>DLR0263</td><td>Auto-Union Motors</td><td>199</td></tr><tr><td>DLR0132</td><td>Mitsubishi Motors</td><td>200</td></tr><tr><td>DLR0244</td><td>Hupmobile Building</td><td>201</td></tr><tr><td>DLR0068</td><td>GAZ Motors</td><td>202</td></tr><tr><td>DLR0053</td><td>Eicher Polaris Motors</td><td>203</td></tr><tr><td>DLR0002</td><td>Acura Motors</td><td>204</td></tr><tr><td>DLR0194</td><td>Tesla Motors</td><td>205</td></tr><tr><td>DLR0233</td><td>Blankinship Motor Company Building</td><td>206</td></tr><tr><td>DLR0014</td><td>Audi Motors</td><td>207</td></tr><tr><td>DLR0093</td><td>Iso Motors</td><td>208</td></tr><tr><td>DLR0205</td><td>Volkswagen South Africa Motors</td><td>209</td></tr><tr><td>DLR0141</td><td>Noble Motors</td><td>210</td></tr><tr><td>DLR0140</td><td>Nissan India Motors</td><td>211</td></tr><tr><td>DLR0101</td><td>Kia Motors</td><td>212</td></tr><tr><td>DLR0234</td><td>Bohn Motor Company Automobile Dealership</td><td>213</td></tr><tr><td>DLR0235</td><td>Buick Automobile Company Building</td><td>214</td></tr><tr><td>DLR0256</td><td>Ariel Motors</td><td>215</td></tr><tr><td>DLR0004</td><td>Alfa Romeo Motors</td><td>216</td></tr><tr><td>DLR0084</td><td>Hudson Motors</td><td>217</td></tr><tr><td>DLR0133</td><td>Monica Motors</td><td>218</td></tr><tr><td>DLR0062</td><td>Ford Australia Motors</td><td>219</td></tr><tr><td>DLR0038</td><td>Cizeta-Moroder Motors</td><td>220</td></tr><tr><td>DLR0049</td><td>Dodge Motors</td><td>221</td></tr><tr><td>DLR0055</td><td>Facel Vega Motors</td><td>222</td></tr><tr><td>DLR0170</td><td>Saleen Motors</td><td>223</td></tr><tr><td>DLR0242</td><td>H Street Playhouse</td><td>224</td></tr><tr><td>DLR0243</td><td>Howard Motor Company Building</td><td>225</td></tr><tr><td>DLR0224</td><td>Standard  Motors</td><td>226</td></tr><tr><td>DLR0077</td><td>Heinkel Motors</td><td>227</td></tr><tr><td>DLR0031</td><td>Caterham Motors</td><td>228</td></tr><tr><td>DLR0127</td><td>Merkur Motors</td><td>229</td></tr><tr><td>DLR0043</td><td>Daimler Motors</td><td>230</td></tr><tr><td>DLR0168</td><td>Saab Motors</td><td>231</td></tr><tr><td>DLR0083</td><td>Honda India Motors</td><td>232</td></tr><tr><td>DLR0099</td><td>Jensen Motors</td><td>233</td></tr><tr><td>DLR0090</td><td>null</td><td>234</td></tr><tr><td>DLR0173</td><td>Santa Matilde Motors</td><td>235</td></tr><tr><td>DLR0067</td><td>FSO Motors</td><td>236</td></tr><tr><td>DLR0113</td><td>LuAZ Motors</td><td>237</td></tr><tr><td>DLR0011</td><td>Artega Motors</td><td>238</td></tr><tr><td>DLR0157</td><td>Polestar Motors</td><td>239</td></tr><tr><td>DLR0258</td><td>null</td><td>240</td></tr><tr><td>DLR0086</td><td>Hummer Motors</td><td>241</td></tr><tr><td>DLR0054</td><td>Elva Motors</td><td>242</td></tr><tr><td>DLR0178</td><td>Shelby SuperCars Motors</td><td>243</td></tr><tr><td>DLR0023</td><td>Bristol Motors</td><td>244</td></tr><tr><td>DLR0026</td><td>Austin, Rover Motors</td><td>245</td></tr><tr><td>DLR0219</td><td>MG  Motors</td><td>246</td></tr><tr><td>DLR0120</td><td>Mastretta Motors</td><td>247</td></tr><tr><td>DLR0028</td><td>Buick Motors</td><td>248</td></tr><tr><td>DLR0057</td><td>Fiat Motors</td><td>249</td></tr><tr><td>DLR0041</td><td>DAF Motors</td><td>250</td></tr><tr><td>DLR0095</td><td>Isuzu Motors</td><td>251</td></tr><tr><td>DLR0123</td><td>Mazzanti Motors</td><td>252</td></tr><tr><td>DLR0036</td><td>Chrysler Europe Motors</td><td>253</td></tr><tr><td>DLR0149</td><td>Panoz Motors</td><td>254</td></tr><tr><td>DLR0145</td><td>Opel Motors</td><td>255</td></tr><tr><td>DLR0105</td><td>Lamborghini Motors</td><td>256</td></tr><tr><td>DLR0097</td><td>Jaguar Motors</td><td>257</td></tr><tr><td>DLR0196</td><td>Toyota Motors</td><td>258</td></tr><tr><td>DLR0024</td><td>British Leyland Motors</td><td>259</td></tr><tr><td>DLR0241</td><td>Colman Automotive Building</td><td>260</td></tr><tr><td>DLR0012</td><td>Asia Motors Motors</td><td>261</td></tr><tr><td>DLR0122</td><td>Mazda Motors</td><td>262</td></tr><tr><td>DLR0060</td><td>Fisker, Karma Motors</td><td>263</td></tr><tr><td>DLR0106</td><td>Lancia Motors</td><td>264</td></tr><tr><td>DLR0158</td><td>Pontiac, Asüna Motors</td><td>265</td></tr><tr><td>DLR0015</td><td>Autobianchi Motors</td><td>266</td></tr><tr><td>DLR0081</td><td>Holden Motors</td><td>267</td></tr></tbody></table></div>"
      ]
     },
     "metadata": {
      "application/vnd.databricks.v1+output": {
       "addedWidgets": {},
       "aggData": [],
       "aggError": "",
       "aggOverflow": false,
       "aggSchema": [],
       "aggSeriesLimitReached": false,
       "aggType": "",
       "arguments": {},
       "columnCustomDisplayInfos": {},
       "data": [
        [
         "DLR0058",
         "Fiat do Brasil Motors",
         1
        ],
        [
         "DLR0107",
         "Land Rover Motors",
         2
        ],
        [
         "DLR0129",
         "Mia Motors",
         3
        ],
        [
         "DLR0111",
         "Lotus Motors",
         4
        ],
        [
         "DLR0085",
         "Humber Motors",
         5
        ],
        [
         "DLR0001",
         "AC Cars Motors",
         6
        ],
        [
         "DLR0218",
         "Lagonda  Motors",
         7
        ],
        [
         "DLR0082",
         "Honda Motors",
         8
        ],
        [
         "DLR0063",
         "Ford do Brasil Motors",
         9
        ],
        [
         "DLR0193",
         "Tazzari Motors",
         10
        ],
        [
         "DLR0134",
         "Monteverdi Motors",
         11
        ],
        [
         "DLR0199",
         "TVR Motors",
         12
        ],
        [
         "DLR0254",
         "AMC, Eagle Motors",
         13
        ],
        [
         "DLR0094",
         "Isotta Fraschini Motors",
         14
        ],
        [
         "DLR0236",
         "Cadillac Automobile Company Building",
         15
        ],
        [
         "DLR0201",
         "Vauxhall Motors",
         16
        ],
        [
         "DLR0175",
         "Saturn Motors",
         17
        ],
        [
         "DLR0226",
         "Das Motors",
         18
        ],
        [
         "DLR0207",
         "Westfield Motors",
         19
        ],
        [
         "DLR0035",
         "Chrysler Motors",
         20
        ],
        [
         "DLR0151",
         "Peel Motors",
         21
        ],
        [
         "DLR0156",
         "Plymouth Motors",
         22
        ],
        [
         "DLR0216",
         "Maybach  Motors",
         23
        ],
        [
         "DLR0259",
         "Asia Motors Motors",
         24
        ],
        [
         "DLR0037",
         "Citroën Motors",
         25
        ],
        [
         "DLR0074",
         "GTA Spano Motors",
         26
        ],
        [
         "DLR0150",
         "Panther Motors",
         27
        ],
        [
         "DLR0135",
         "Morgan Motors",
         28
        ],
        [
         "DLR0073",
         "GMC Motors",
         29
        ],
        [
         "DLR0260",
         "Aston Martin Motors",
         30
        ],
        [
         "DLR0153",
         "Peugeot Motors",
         31
        ],
        [
         "DLR0124",
         "McLaren Motors",
         32
        ],
        [
         "DLR0121",
         "Matra (including Deutsch-Bonnet, René Bonnet) Motors",
         33
        ],
        [
         "DLR0211",
         "ZIL Motors",
         34
        ],
        [
         "DLR0066",
         "Freightliner Motors",
         35
        ],
        [
         "DLR0110",
         "Lincoln Motors",
         36
        ],
        [
         "DLR0143",
         "Oldsmobile Motors",
         37
        ],
        [
         "DLR0167",
         "Rolls-Royce Motors",
         38
        ],
        [
         "DLR0048",
         "De Tomaso Motors",
         39
        ],
        [
         "DLR0008",
         "Anadol Motors",
         40
        ],
        [
         "DLR0128",
         "Messerschmitt Motors",
         41
        ],
        [
         "DLR0177",
         "Seat Motors",
         42
        ],
        [
         "DLR0181",
         "Singer Motors",
         43
        ],
        [
         "DLR0079",
         "Hillman Motors",
         44
        ],
        [
         "DLR0072",
         "Glas Motors",
         45
        ],
        [
         "DLR0248",
         "AC Cars Motors",
         46
        ],
        [
         "DLR0052",
         "e.GO Mobile Motors",
         47
        ],
        [
         "DLR0197",
         "Toyota India Motors",
         48
        ],
        [
         "DLR0080",
         "Hindustan Motors",
         49
        ],
        [
         "DLR0164",
         "Reliant Motors",
         50
        ],
        [
         "DLR0029",
         "Bytom Motors",
         51
        ],
        [
         "DLR0195",
         "Tornado Motors",
         52
        ],
        [
         "DLR0005",
         "Alpine Motors",
         53
        ],
        [
         "DLR0007",
         "AMC, Eagle Motors",
         54
        ],
        [
         "DLR0078",
         "Hennessey Motors",
         55
        ],
        [
         "DLR0247",
         "Kindel Building",
         56
        ],
        [
         "DLR0065",
         "Ford India Motors",
         57
        ],
        [
         "DLR0174",
         "Santana Motors",
         58
        ],
        [
         "DLR0022",
         "Borgward (including Goliath and Lloyd) Motors",
         59
        ],
        [
         "DLR0116",
         "Marcos Motors",
         60
        ],
        [
         "DLR0257",
         "ARO Motors",
         61
        ],
        [
         "DLR0172",
         "San Motors",
         62
        ],
        [
         "DLR0061",
         "Ford America Motors",
         63
        ],
        [
         "DLR0240",
         "Clemens Automobile Company Building",
         64
        ],
        [
         "DLR0103",
         "KTM Motors",
         65
        ],
        [
         "DLR0096",
         "Iveco Motors",
         66
        ],
        [
         "DLR0198",
         "Turner Motors",
         67
        ],
        [
         "DLR0137",
         "Nash Motors",
         68
        ],
        [
         "DLR0202",
         "Venturi Motors",
         69
        ],
        [
         "DLR0125",
         "Mercedes-Benz (including Maybach) Motors",
         70
        ],
        [
         "DLR0089",
         "Infiniti Motors",
         71
        ],
        [
         "DLR0266",
         "Bitter Motors",
         72
        ],
        [
         "DLR0148",
         "Panhard Motors",
         73
        ],
        [
         "DLR0142",
         "NSU Motors",
         74
        ],
        [
         "DLR0227",
         "Ramani Motors",
         75
        ],
        [
         "DLR0206",
         "Volvo Motors",
         76
        ],
        [
         "DLR0179",
         "Simca Motors",
         77
        ],
        [
         "DLR0059",
         "Fiat India Motors",
         78
        ],
        [
         "DLR0092",
         "Isdera Motors",
         79
        ],
        [
         "DLR0018",
         "Bentley Motors",
         80
        ],
        [
         "DLR0115",
         "Mahindra Motors",
         81
        ],
        [
         "DLR0169",
         "SAIC Motor Motors",
         82
        ],
        [
         "DLR0212",
         null,
         83
        ],
        [
         "DLR0192",
         "Tatra Motors",
         84
        ],
        [
         "DLR0186",
         "Standard-Triumph Motors",
         85
        ],
        [
         "DLR0021",
         "Bond Motors",
         86
        ],
        [
         "DLR0147",
         "Pagani Motors",
         87
        ],
        [
         "DLR0098",
         "Jeep Motors",
         88
        ],
        [
         "DLR0209",
         "Zastava Motors",
         89
        ],
        [
         "DLR0166",
         "Rivian Motors",
         90
        ],
        [
         "DLR0250",
         "Aixam-Mega (including Arola) Motors",
         91
        ],
        [
         "DLR0220",
         "Morris  Motors",
         92
        ],
        [
         "DLR0183",
         "Smart Motors",
         93
        ],
        [
         "DLR0102",
         "Koenigsegg Motors",
         94
        ],
        [
         "DLR0188",
         "Subaru Motors",
         95
        ],
        [
         "DLR0155",
         "Piaggio Motors",
         96
        ],
        [
         "DLR0050",
         "Donkervoort Motors",
         97
        ],
        [
         "DLR0252",
         "Alpine Motors",
         98
        ],
        [
         "DLR0184",
         "Spyker Motors",
         99
        ],
        [
         "DLR0267",
         "BMW Motors",
         100
        ],
        [
         "DLR0091",
         "Invicta Motors",
         101
        ],
        [
         "DLR0262",
         "Autobianchi Motors",
         102
        ],
        [
         "DLR0249",
         "Acura Motors",
         103
        ],
        [
         "DLR0208",
         "Wiesmann Motors",
         104
        ],
        [
         "DLR0114",
         "Lynx Motors",
         105
        ],
        [
         "DLR0204",
         "Volkswagen do Brasil Motors",
         106
        ],
        [
         "DLR0200",
         "UAZ Motors",
         107
        ],
        [
         "DLR0163",
         "Ranger Motors",
         108
        ],
        [
         "DLR0223",
         "Wolseley  Motors",
         109
        ],
        [
         "DLR0044",
         null,
         110
        ],
        [
         "DLR0231",
         "Atlantic Motor Company",
         111
        ],
        [
         "DLR0034",
         "Chevrolet India Motors",
         112
        ],
        [
         "DLR0126",
         "Mercury Motors",
         113
        ],
        [
         "DLR0046",
         "DeLorean Motors",
         114
        ],
        [
         "DLR0130",
         "Micro Motors",
         115
        ],
        [
         "DLR0210",
         "ZAZ Motors",
         116
        ],
        [
         "DLR0136",
         "Moskwitch Motors",
         117
        ],
        [
         "DLR0222",
         "Riley  Motors",
         118
        ],
        [
         "DLR0017",
         "Auverland Motors",
         119
        ],
        [
         "DLR0182",
         "Skoda Motors",
         120
        ],
        [
         "DLR0152",
         "Perodua Motors",
         121
        ],
        [
         "DLR0071",
         "Ginetta Motors",
         122
        ],
        [
         "DLR0161",
         "Proton Motors",
         123
        ],
        [
         "DLR0246",
         "Jones Motor Company",
         124
        ],
        [
         "DLR0020",
         "BMW Motors",
         125
        ],
        [
         "DLR0076",
         "Healey Motors",
         126
        ],
        [
         "DLR0237",
         "Casa de cadillac",
         127
        ],
        [
         "DLR0131",
         "Mini Motors",
         128
        ],
        [
         "DLR0112",
         "LTI Motors",
         129
        ],
        [
         "DLR0213",
         "DKW Motors",
         130
        ],
        [
         "DLR0040",
         "Daewoo, Saehan, Chevrolet Korea Motors",
         131
        ],
        [
         "DLR0187",
         "Studebaker Motors",
         132
        ],
        [
         "DLR0251",
         "Alfa Romeo Motors",
         133
        ],
        [
         "DLR0154",
         "PGO Motors",
         134
        ],
        [
         "DLR0119",
         "Maserati Motors",
         135
        ],
        [
         "DLR0013",
         "Aston Martin Motors",
         136
        ],
        [
         "DLR0087",
         "Hyundai Motors",
         137
        ],
        [
         "DLR0056",
         "Ferrari Motors",
         138
        ],
        [
         "DLR0033",
         "Chevrolet Motors",
         139
        ],
        [
         "DLR0042",
         "Daihatsu Motors",
         140
        ],
        [
         "DLR0229",
         "Herald Motors",
         141
        ],
        [
         "DLR0070",
         "Gilbern Motors",
         142
        ],
        [
         "DLR0191",
         "Tata Motors",
         143
        ],
        [
         "DLR0203",
         "Volkswagen Motors",
         144
        ],
        [
         "DLR0100",
         "JPX Motors",
         145
        ],
        [
         "DLR0047",
         "DeSoto Motors",
         146
        ],
        [
         "DLR0214",
         "Horch Motors",
         147
        ],
        [
         "DLR0171",
         "Samsung Motors",
         148
        ],
        [
         "DLR0045",
         "Delahaye Motors",
         149
        ],
        [
         "DLR0264",
         "Auverland Motors",
         150
        ],
        [
         "DLR0162",
         "Puma Motors",
         151
        ],
        [
         "DLR0159",
         "Porsche Motors",
         152
        ],
        [
         "DLR0146",
         "Packard Motors",
         153
        ],
        [
         "DLR0261",
         "Audi Motors",
         154
        ],
        [
         "DLR0032",
         "Checker Motors",
         155
        ],
        [
         "DLR0009",
         "Ariel Motors",
         156
        ],
        [
         "DLR0225",
         "Talbot  Motors",
         157
        ],
        [
         "DLR0221",
         "Austin  Motors",
         158
        ],
        [
         "DLR0075",
         "Gumpert Motors",
         159
        ],
        [
         "DLR0069",
         "Geo Motors",
         160
        ],
        [
         "DLR0104",
         "Lada Motors",
         161
        ],
        [
         "DLR0039",
         "Dacia Motors",
         162
        ],
        [
         "DLR0245",
         "Jennings Ford Automobile Dealership",
         163
        ],
        [
         "DLR0238",
         "Cass Motor Sales",
         164
        ],
        [
         "DLR0064",
         "Ford Europe Motors",
         165
        ],
        [
         "DLR0109",
         "Ligier Motors",
         166
        ],
        [
         "DLR0144",
         null,
         167
        ],
        [
         "DLR0176",
         "Scion Motors",
         168
        ],
        [
         "DLR0255",
         "Anadol Motors",
         169
        ],
        [
         "DLR0138",
         "Naza Motors",
         170
        ],
        [
         "DLR0003",
         "Aixam-Mega (including Arola) Motors",
         171
        ],
        [
         "DLR0265",
         "Bentley Motors",
         172
        ],
        [
         "DLR0217",
         "Izh  Motors",
         173
        ],
        [
         "DLR0185",
         "SsangYong Motors",
         174
        ],
        [
         "DLR0019",
         "Bitter Motors",
         175
        ],
        [
         "DLR0165",
         "Renault Motors",
         176
        ],
        [
         "DLR0108",
         "Lexus Motors",
         177
        ],
        [
         "DLR0117",
         "Marlin Motors",
         178
        ],
        [
         "DLR0118",
         "Maruti Motors",
         179
        ],
        [
         "DLR0027",
         "Bugatti Motors",
         180
        ],
        [
         "DLR0139",
         "Nissan Motors",
         181
        ],
        [
         "DLR0088",
         "IFA (including Trabant, Wartburg, Barkas) Motors",
         182
        ],
        [
         "DLR0051",
         "Edsel Motors",
         183
        ],
        [
         "DLR0010",
         "ARO Motors",
         184
        ],
        [
         "DLR0006",
         "Alvis Motors",
         185
        ],
        [
         "DLR0180",
         "Simca do Brasil Motors",
         186
        ],
        [
         "DLR0253",
         "Alvis Motors",
         187
        ],
        [
         "DLR0230",
         "Zion Automobils",
         188
        ],
        [
         "DLR0190",
         "Suzuki Motors",
         189
        ],
        [
         "DLR0232",
         "2008 NRHP-listed",
         190
        ],
        [
         "DLR0030",
         "Cadillac Motors",
         191
        ],
        [
         "DLR0215",
         "Wanderer Motors",
         192
        ],
        [
         "DLR0016",
         "Auto-Union Motors",
         193
        ],
        [
         "DLR0160",
         "Premier Motors",
         194
        ],
        [
         "DLR0025",
         "Austin-Healey Motors",
         195
        ],
        [
         "DLR0239",
         "Claremore Auto Dealership",
         196
        ],
        [
         "DLR0228",
         "Deccan Motors",
         197
        ],
        [
         "DLR0189",
         "Sunbeam Motors",
         198
        ],
        [
         "DLR0263",
         "Auto-Union Motors",
         199
        ],
        [
         "DLR0132",
         "Mitsubishi Motors",
         200
        ],
        [
         "DLR0244",
         "Hupmobile Building",
         201
        ],
        [
         "DLR0068",
         "GAZ Motors",
         202
        ],
        [
         "DLR0053",
         "Eicher Polaris Motors",
         203
        ],
        [
         "DLR0002",
         "Acura Motors",
         204
        ],
        [
         "DLR0194",
         "Tesla Motors",
         205
        ],
        [
         "DLR0233",
         "Blankinship Motor Company Building",
         206
        ],
        [
         "DLR0014",
         "Audi Motors",
         207
        ],
        [
         "DLR0093",
         "Iso Motors",
         208
        ],
        [
         "DLR0205",
         "Volkswagen South Africa Motors",
         209
        ],
        [
         "DLR0141",
         "Noble Motors",
         210
        ],
        [
         "DLR0140",
         "Nissan India Motors",
         211
        ],
        [
         "DLR0101",
         "Kia Motors",
         212
        ],
        [
         "DLR0234",
         "Bohn Motor Company Automobile Dealership",
         213
        ],
        [
         "DLR0235",
         "Buick Automobile Company Building",
         214
        ],
        [
         "DLR0256",
         "Ariel Motors",
         215
        ],
        [
         "DLR0004",
         "Alfa Romeo Motors",
         216
        ],
        [
         "DLR0084",
         "Hudson Motors",
         217
        ],
        [
         "DLR0133",
         "Monica Motors",
         218
        ],
        [
         "DLR0062",
         "Ford Australia Motors",
         219
        ],
        [
         "DLR0038",
         "Cizeta-Moroder Motors",
         220
        ],
        [
         "DLR0049",
         "Dodge Motors",
         221
        ],
        [
         "DLR0055",
         "Facel Vega Motors",
         222
        ],
        [
         "DLR0170",
         "Saleen Motors",
         223
        ],
        [
         "DLR0242",
         "H Street Playhouse",
         224
        ],
        [
         "DLR0243",
         "Howard Motor Company Building",
         225
        ],
        [
         "DLR0224",
         "Standard  Motors",
         226
        ],
        [
         "DLR0077",
         "Heinkel Motors",
         227
        ],
        [
         "DLR0031",
         "Caterham Motors",
         228
        ],
        [
         "DLR0127",
         "Merkur Motors",
         229
        ],
        [
         "DLR0043",
         "Daimler Motors",
         230
        ],
        [
         "DLR0168",
         "Saab Motors",
         231
        ],
        [
         "DLR0083",
         "Honda India Motors",
         232
        ],
        [
         "DLR0099",
         "Jensen Motors",
         233
        ],
        [
         "DLR0090",
         null,
         234
        ],
        [
         "DLR0173",
         "Santa Matilde Motors",
         235
        ],
        [
         "DLR0067",
         "FSO Motors",
         236
        ],
        [
         "DLR0113",
         "LuAZ Motors",
         237
        ],
        [
         "DLR0011",
         "Artega Motors",
         238
        ],
        [
         "DLR0157",
         "Polestar Motors",
         239
        ],
        [
         "DLR0258",
         null,
         240
        ],
        [
         "DLR0086",
         "Hummer Motors",
         241
        ],
        [
         "DLR0054",
         "Elva Motors",
         242
        ],
        [
         "DLR0178",
         "Shelby SuperCars Motors",
         243
        ],
        [
         "DLR0023",
         "Bristol Motors",
         244
        ],
        [
         "DLR0026",
         "Austin, Rover Motors",
         245
        ],
        [
         "DLR0219",
         "MG  Motors",
         246
        ],
        [
         "DLR0120",
         "Mastretta Motors",
         247
        ],
        [
         "DLR0028",
         "Buick Motors",
         248
        ],
        [
         "DLR0057",
         "Fiat Motors",
         249
        ],
        [
         "DLR0041",
         "DAF Motors",
         250
        ],
        [
         "DLR0095",
         "Isuzu Motors",
         251
        ],
        [
         "DLR0123",
         "Mazzanti Motors",
         252
        ],
        [
         "DLR0036",
         "Chrysler Europe Motors",
         253
        ],
        [
         "DLR0149",
         "Panoz Motors",
         254
        ],
        [
         "DLR0145",
         "Opel Motors",
         255
        ],
        [
         "DLR0105",
         "Lamborghini Motors",
         256
        ],
        [
         "DLR0097",
         "Jaguar Motors",
         257
        ],
        [
         "DLR0196",
         "Toyota Motors",
         258
        ],
        [
         "DLR0024",
         "British Leyland Motors",
         259
        ],
        [
         "DLR0241",
         "Colman Automotive Building",
         260
        ],
        [
         "DLR0012",
         "Asia Motors Motors",
         261
        ],
        [
         "DLR0122",
         "Mazda Motors",
         262
        ],
        [
         "DLR0060",
         "Fisker, Karma Motors",
         263
        ],
        [
         "DLR0106",
         "Lancia Motors",
         264
        ],
        [
         "DLR0158",
         "Pontiac, Asüna Motors",
         265
        ],
        [
         "DLR0015",
         "Autobianchi Motors",
         266
        ],
        [
         "DLR0081",
         "Holden Motors",
         267
        ]
       ],
       "datasetInfos": [],
       "dbfsResultPath": null,
       "isJsonSchema": true,
       "metadata": {},
       "overflow": false,
       "plotOptions": {
        "customPlotOptions": {},
        "displayType": "table",
        "pivotAggregation": null,
        "pivotColumns": null,
        "xColumns": null,
        "yColumns": null
       },
       "removedWidgets": [],
       "schema": [
        {
         "metadata": "{}",
         "name": "Dealer_ID",
         "type": "\"string\""
        },
        {
         "metadata": "{}",
         "name": "DealerName",
         "type": "\"string\""
        },
        {
         "metadata": "{}",
         "name": "dim_Dealer_Key",
         "type": "\"long\""
        }
       ],
       "type": "table"
      }
     },
     "output_type": "display_data"
    }
   ],
   "source": [
    "df_final.display()"
   ]
  },
  {
   "cell_type": "markdown",
   "metadata": {
    "application/vnd.databricks.v1+cell": {
     "cellMetadata": {},
     "inputWidgets": {},
     "nuid": "46fd5b93-2d94-4f66-8295-733419d59157",
     "showTitle": false,
     "tableResultSettingsMap": {},
     "title": ""
    }
   },
   "source": [
    "# SCD - Type-1 (Upsert)"
   ]
  },
  {
   "cell_type": "code",
   "execution_count": 0,
   "metadata": {
    "application/vnd.databricks.v1+cell": {
     "cellMetadata": {
      "byteLimit": 2048000,
      "rowLimit": 10000
     },
     "inputWidgets": {},
     "nuid": "ccc78bba-5f34-4195-8ba0-2b5a1a8860c8",
     "showTitle": false,
     "tableResultSettingsMap": {},
     "title": ""
    }
   },
   "outputs": [],
   "source": [
    "from delta.tables import DeltaTable"
   ]
  },
  {
   "cell_type": "code",
   "execution_count": 0,
   "metadata": {
    "application/vnd.databricks.v1+cell": {
     "cellMetadata": {
      "byteLimit": 2048000,
      "rowLimit": 10000
     },
     "inputWidgets": {},
     "nuid": "5d85f229-137b-40d7-9c72-9656c9eb4b87",
     "showTitle": false,
     "tableResultSettingsMap": {},
     "title": ""
    }
   },
   "outputs": [],
   "source": [
    "# Incremental Run\n",
    "if spark.catalog.tableExists('cars_catalog.gold.dim_dealer'):\n",
    "   delta_tbl = DeltaTable.forPath(spark, 'abfss://gold@carssalesprojectdl.dfs.core.windows.net/dim_dealer')\n",
    "\n",
    "   delta_tbl.alias('trg').merge(df_final.alias('src'), 'trg.dim_Dealer_key == src.dim_Dealer_Key')\\\n",
    "                        .whenMatchedUpdateAll()\\\n",
    "                        .whenNotMatchedInsertAll()\\\n",
    "                        .execute()\n",
    "\n",
    "# Initial Run\n",
    "else:\n",
    "    df_final.write.format('delta')\\\n",
    "            .mode('overwrite')\\\n",
    "            .option('path', 'abfss://gold@carssalesprojectdl.dfs.core.windows.net/dim_dealer')\\\n",
    "            .saveAsTable('cars_catalog.gold.dim_dealer')"
   ]
  },
  {
   "cell_type": "code",
   "execution_count": 0,
   "metadata": {
    "application/vnd.databricks.v1+cell": {
     "cellMetadata": {
      "byteLimit": 2048000,
      "implicitDf": true,
      "rowLimit": 10000
     },
     "inputWidgets": {},
     "nuid": "f9cb2e40-e905-4ffe-bfeb-cadad27b5dfe",
     "showTitle": false,
     "tableResultSettingsMap": {},
     "title": ""
    }
   },
   "outputs": [
    {
     "output_type": "display_data",
     "data": {
      "text/html": [
       "<style scoped>\n",
       "  .table-result-container {\n",
       "    max-height: 300px;\n",
       "    overflow: auto;\n",
       "  }\n",
       "  table, th, td {\n",
       "    border: 1px solid black;\n",
       "    border-collapse: collapse;\n",
       "  }\n",
       "  th, td {\n",
       "    padding: 5px;\n",
       "  }\n",
       "  th {\n",
       "    text-align: left;\n",
       "  }\n",
       "</style><div class='table-result-container'><table class='table-result'><thead style='background-color: white'><tr><th>Dealer_ID</th><th>DealerName</th><th>dim_Dealer_Key</th></tr></thead><tbody><tr><td>DLR0058</td><td>Fiat do Brasil Motors</td><td>1</td></tr><tr><td>DLR0107</td><td>Land Rover Motors</td><td>2</td></tr><tr><td>DLR0129</td><td>Mia Motors</td><td>3</td></tr><tr><td>DLR0111</td><td>Lotus Motors</td><td>4</td></tr><tr><td>DLR0085</td><td>Humber Motors</td><td>5</td></tr><tr><td>DLR0001</td><td>AC Cars Motors</td><td>6</td></tr><tr><td>DLR0218</td><td>Lagonda  Motors</td><td>7</td></tr><tr><td>DLR0082</td><td>Honda Motors</td><td>8</td></tr><tr><td>DLR0063</td><td>Ford do Brasil Motors</td><td>9</td></tr><tr><td>DLR0193</td><td>Tazzari Motors</td><td>10</td></tr><tr><td>DLR0134</td><td>Monteverdi Motors</td><td>11</td></tr><tr><td>DLR0199</td><td>TVR Motors</td><td>12</td></tr><tr><td>DLR0254</td><td>AMC, Eagle Motors</td><td>13</td></tr><tr><td>DLR0094</td><td>Isotta Fraschini Motors</td><td>14</td></tr><tr><td>DLR0236</td><td>Cadillac Automobile Company Building</td><td>15</td></tr><tr><td>DLR0201</td><td>Vauxhall Motors</td><td>16</td></tr><tr><td>DLR0175</td><td>Saturn Motors</td><td>17</td></tr><tr><td>DLR0226</td><td>Das Motors</td><td>18</td></tr><tr><td>DLR0207</td><td>Westfield Motors</td><td>19</td></tr><tr><td>DLR0035</td><td>Chrysler Motors</td><td>20</td></tr><tr><td>DLR0151</td><td>Peel Motors</td><td>21</td></tr><tr><td>DLR0156</td><td>Plymouth Motors</td><td>22</td></tr><tr><td>DLR0216</td><td>Maybach  Motors</td><td>23</td></tr><tr><td>DLR0259</td><td>Asia Motors Motors</td><td>24</td></tr><tr><td>DLR0037</td><td>Citroën Motors</td><td>25</td></tr><tr><td>DLR0074</td><td>GTA Spano Motors</td><td>26</td></tr><tr><td>DLR0150</td><td>Panther Motors</td><td>27</td></tr><tr><td>DLR0135</td><td>Morgan Motors</td><td>28</td></tr><tr><td>DLR0073</td><td>GMC Motors</td><td>29</td></tr><tr><td>DLR0260</td><td>Aston Martin Motors</td><td>30</td></tr><tr><td>DLR0153</td><td>Peugeot Motors</td><td>31</td></tr><tr><td>DLR0124</td><td>McLaren Motors</td><td>32</td></tr><tr><td>DLR0121</td><td>Matra (including Deutsch-Bonnet, René Bonnet) Motors</td><td>33</td></tr><tr><td>DLR0211</td><td>ZIL Motors</td><td>34</td></tr><tr><td>DLR0066</td><td>Freightliner Motors</td><td>35</td></tr><tr><td>DLR0110</td><td>Lincoln Motors</td><td>36</td></tr><tr><td>DLR0143</td><td>Oldsmobile Motors</td><td>37</td></tr><tr><td>DLR0167</td><td>Rolls-Royce Motors</td><td>38</td></tr><tr><td>DLR0048</td><td>De Tomaso Motors</td><td>39</td></tr><tr><td>DLR0008</td><td>Anadol Motors</td><td>40</td></tr><tr><td>DLR0128</td><td>Messerschmitt Motors</td><td>41</td></tr><tr><td>DLR0177</td><td>Seat Motors</td><td>42</td></tr><tr><td>DLR0181</td><td>Singer Motors</td><td>43</td></tr><tr><td>DLR0079</td><td>Hillman Motors</td><td>44</td></tr><tr><td>DLR0072</td><td>Glas Motors</td><td>45</td></tr><tr><td>DLR0248</td><td>AC Cars Motors</td><td>46</td></tr><tr><td>DLR0052</td><td>e.GO Mobile Motors</td><td>47</td></tr><tr><td>DLR0197</td><td>Toyota India Motors</td><td>48</td></tr><tr><td>DLR0080</td><td>Hindustan Motors</td><td>49</td></tr><tr><td>DLR0164</td><td>Reliant Motors</td><td>50</td></tr><tr><td>DLR0029</td><td>Bytom Motors</td><td>51</td></tr><tr><td>DLR0195</td><td>Tornado Motors</td><td>52</td></tr><tr><td>DLR0005</td><td>Alpine Motors</td><td>53</td></tr><tr><td>DLR0007</td><td>AMC, Eagle Motors</td><td>54</td></tr><tr><td>DLR0078</td><td>Hennessey Motors</td><td>55</td></tr><tr><td>DLR0247</td><td>Kindel Building</td><td>56</td></tr><tr><td>DLR0065</td><td>Ford India Motors</td><td>57</td></tr><tr><td>DLR0174</td><td>Santana Motors</td><td>58</td></tr><tr><td>DLR0022</td><td>Borgward (including Goliath and Lloyd) Motors</td><td>59</td></tr><tr><td>DLR0116</td><td>Marcos Motors</td><td>60</td></tr><tr><td>DLR0257</td><td>ARO Motors</td><td>61</td></tr><tr><td>DLR0172</td><td>San Motors</td><td>62</td></tr><tr><td>DLR0061</td><td>Ford America Motors</td><td>63</td></tr><tr><td>DLR0240</td><td>Clemens Automobile Company Building</td><td>64</td></tr><tr><td>DLR0103</td><td>KTM Motors</td><td>65</td></tr><tr><td>DLR0096</td><td>Iveco Motors</td><td>66</td></tr><tr><td>DLR0198</td><td>Turner Motors</td><td>67</td></tr><tr><td>DLR0137</td><td>Nash Motors</td><td>68</td></tr><tr><td>DLR0202</td><td>Venturi Motors</td><td>69</td></tr><tr><td>DLR0125</td><td>Mercedes-Benz (including Maybach) Motors</td><td>70</td></tr><tr><td>DLR0089</td><td>Infiniti Motors</td><td>71</td></tr><tr><td>DLR0266</td><td>Bitter Motors</td><td>72</td></tr><tr><td>DLR0148</td><td>Panhard Motors</td><td>73</td></tr><tr><td>DLR0142</td><td>NSU Motors</td><td>74</td></tr><tr><td>DLR0227</td><td>Ramani Motors</td><td>75</td></tr><tr><td>DLR0206</td><td>Volvo Motors</td><td>76</td></tr><tr><td>DLR0179</td><td>Simca Motors</td><td>77</td></tr><tr><td>DLR0059</td><td>Fiat India Motors</td><td>78</td></tr><tr><td>DLR0092</td><td>Isdera Motors</td><td>79</td></tr><tr><td>DLR0018</td><td>Bentley Motors</td><td>80</td></tr><tr><td>DLR0115</td><td>Mahindra Motors</td><td>81</td></tr><tr><td>DLR0169</td><td>SAIC Motor Motors</td><td>82</td></tr><tr><td>DLR0212</td><td>null</td><td>83</td></tr><tr><td>DLR0192</td><td>Tatra Motors</td><td>84</td></tr><tr><td>DLR0186</td><td>Standard-Triumph Motors</td><td>85</td></tr><tr><td>DLR0021</td><td>Bond Motors</td><td>86</td></tr><tr><td>DLR0147</td><td>Pagani Motors</td><td>87</td></tr><tr><td>DLR0098</td><td>Jeep Motors</td><td>88</td></tr><tr><td>DLR0209</td><td>Zastava Motors</td><td>89</td></tr><tr><td>DLR0166</td><td>Rivian Motors</td><td>90</td></tr><tr><td>DLR0250</td><td>Aixam-Mega (including Arola) Motors</td><td>91</td></tr><tr><td>DLR0220</td><td>Morris  Motors</td><td>92</td></tr><tr><td>DLR0183</td><td>Smart Motors</td><td>93</td></tr><tr><td>DLR0102</td><td>Koenigsegg Motors</td><td>94</td></tr><tr><td>DLR0188</td><td>Subaru Motors</td><td>95</td></tr><tr><td>DLR0155</td><td>Piaggio Motors</td><td>96</td></tr><tr><td>DLR0050</td><td>Donkervoort Motors</td><td>97</td></tr><tr><td>DLR0252</td><td>Alpine Motors</td><td>98</td></tr><tr><td>DLR0184</td><td>Spyker Motors</td><td>99</td></tr><tr><td>DLR0267</td><td>BMW Motors</td><td>100</td></tr><tr><td>DLR0091</td><td>Invicta Motors</td><td>101</td></tr><tr><td>DLR0262</td><td>Autobianchi Motors</td><td>102</td></tr><tr><td>DLR0249</td><td>Acura Motors</td><td>103</td></tr><tr><td>DLR0208</td><td>Wiesmann Motors</td><td>104</td></tr><tr><td>DLR0114</td><td>Lynx Motors</td><td>105</td></tr><tr><td>DLR0204</td><td>Volkswagen do Brasil Motors</td><td>106</td></tr><tr><td>DLR0200</td><td>UAZ Motors</td><td>107</td></tr><tr><td>DLR0163</td><td>Ranger Motors</td><td>108</td></tr><tr><td>DLR0223</td><td>Wolseley  Motors</td><td>109</td></tr><tr><td>DLR0044</td><td>null</td><td>110</td></tr><tr><td>DLR0231</td><td>Atlantic Motor Company</td><td>111</td></tr><tr><td>DLR0034</td><td>Chevrolet India Motors</td><td>112</td></tr><tr><td>DLR0126</td><td>Mercury Motors</td><td>113</td></tr><tr><td>DLR0046</td><td>DeLorean Motors</td><td>114</td></tr><tr><td>DLR0130</td><td>Micro Motors</td><td>115</td></tr><tr><td>DLR0210</td><td>ZAZ Motors</td><td>116</td></tr><tr><td>DLR0136</td><td>Moskwitch Motors</td><td>117</td></tr><tr><td>DLR0222</td><td>Riley  Motors</td><td>118</td></tr><tr><td>DLR0017</td><td>Auverland Motors</td><td>119</td></tr><tr><td>DLR0182</td><td>Skoda Motors</td><td>120</td></tr><tr><td>DLR0152</td><td>Perodua Motors</td><td>121</td></tr><tr><td>DLR0071</td><td>Ginetta Motors</td><td>122</td></tr><tr><td>DLR0161</td><td>Proton Motors</td><td>123</td></tr><tr><td>DLR0246</td><td>Jones Motor Company</td><td>124</td></tr><tr><td>DLR0020</td><td>BMW Motors</td><td>125</td></tr><tr><td>DLR0076</td><td>Healey Motors</td><td>126</td></tr><tr><td>DLR0237</td><td>Casa de cadillac</td><td>127</td></tr><tr><td>DLR0131</td><td>Mini Motors</td><td>128</td></tr><tr><td>DLR0112</td><td>LTI Motors</td><td>129</td></tr><tr><td>DLR0213</td><td>DKW Motors</td><td>130</td></tr><tr><td>DLR0040</td><td>Daewoo, Saehan, Chevrolet Korea Motors</td><td>131</td></tr><tr><td>DLR0187</td><td>Studebaker Motors</td><td>132</td></tr><tr><td>DLR0251</td><td>Alfa Romeo Motors</td><td>133</td></tr><tr><td>DLR0154</td><td>PGO Motors</td><td>134</td></tr><tr><td>DLR0119</td><td>Maserati Motors</td><td>135</td></tr><tr><td>DLR0013</td><td>Aston Martin Motors</td><td>136</td></tr><tr><td>DLR0087</td><td>Hyundai Motors</td><td>137</td></tr><tr><td>DLR0056</td><td>Ferrari Motors</td><td>138</td></tr><tr><td>DLR0033</td><td>Chevrolet Motors</td><td>139</td></tr><tr><td>DLR0042</td><td>Daihatsu Motors</td><td>140</td></tr><tr><td>DLR0229</td><td>Herald Motors</td><td>141</td></tr><tr><td>DLR0070</td><td>Gilbern Motors</td><td>142</td></tr><tr><td>DLR0191</td><td>Tata Motors</td><td>143</td></tr><tr><td>DLR0203</td><td>Volkswagen Motors</td><td>144</td></tr><tr><td>DLR0100</td><td>JPX Motors</td><td>145</td></tr><tr><td>DLR0047</td><td>DeSoto Motors</td><td>146</td></tr><tr><td>DLR0214</td><td>Horch Motors</td><td>147</td></tr><tr><td>DLR0171</td><td>Samsung Motors</td><td>148</td></tr><tr><td>DLR0045</td><td>Delahaye Motors</td><td>149</td></tr><tr><td>DLR0264</td><td>Auverland Motors</td><td>150</td></tr><tr><td>DLR0162</td><td>Puma Motors</td><td>151</td></tr><tr><td>DLR0159</td><td>Porsche Motors</td><td>152</td></tr><tr><td>DLR0146</td><td>Packard Motors</td><td>153</td></tr><tr><td>DLR0261</td><td>Audi Motors</td><td>154</td></tr><tr><td>DLR0032</td><td>Checker Motors</td><td>155</td></tr><tr><td>DLR0009</td><td>Ariel Motors</td><td>156</td></tr><tr><td>DLR0225</td><td>Talbot  Motors</td><td>157</td></tr><tr><td>DLR0221</td><td>Austin  Motors</td><td>158</td></tr><tr><td>DLR0075</td><td>Gumpert Motors</td><td>159</td></tr><tr><td>DLR0069</td><td>Geo Motors</td><td>160</td></tr><tr><td>DLR0104</td><td>Lada Motors</td><td>161</td></tr><tr><td>DLR0039</td><td>Dacia Motors</td><td>162</td></tr><tr><td>DLR0245</td><td>Jennings Ford Automobile Dealership</td><td>163</td></tr><tr><td>DLR0238</td><td>Cass Motor Sales</td><td>164</td></tr><tr><td>DLR0064</td><td>Ford Europe Motors</td><td>165</td></tr><tr><td>DLR0109</td><td>Ligier Motors</td><td>166</td></tr><tr><td>DLR0144</td><td>null</td><td>167</td></tr><tr><td>DLR0176</td><td>Scion Motors</td><td>168</td></tr><tr><td>DLR0255</td><td>Anadol Motors</td><td>169</td></tr><tr><td>DLR0138</td><td>Naza Motors</td><td>170</td></tr><tr><td>DLR0003</td><td>Aixam-Mega (including Arola) Motors</td><td>171</td></tr><tr><td>DLR0265</td><td>Bentley Motors</td><td>172</td></tr><tr><td>DLR0217</td><td>Izh  Motors</td><td>173</td></tr><tr><td>DLR0185</td><td>SsangYong Motors</td><td>174</td></tr><tr><td>DLR0019</td><td>Bitter Motors</td><td>175</td></tr><tr><td>DLR0165</td><td>Renault Motors</td><td>176</td></tr><tr><td>DLR0108</td><td>Lexus Motors</td><td>177</td></tr><tr><td>DLR0117</td><td>Marlin Motors</td><td>178</td></tr><tr><td>DLR0118</td><td>Maruti Motors</td><td>179</td></tr><tr><td>DLR0027</td><td>Bugatti Motors</td><td>180</td></tr><tr><td>DLR0139</td><td>Nissan Motors</td><td>181</td></tr><tr><td>DLR0088</td><td>IFA (including Trabant, Wartburg, Barkas) Motors</td><td>182</td></tr><tr><td>DLR0051</td><td>Edsel Motors</td><td>183</td></tr><tr><td>DLR0010</td><td>ARO Motors</td><td>184</td></tr><tr><td>DLR0006</td><td>Alvis Motors</td><td>185</td></tr><tr><td>DLR0180</td><td>Simca do Brasil Motors</td><td>186</td></tr><tr><td>DLR0253</td><td>Alvis Motors</td><td>187</td></tr><tr><td>DLR0230</td><td>Zion Automobils</td><td>188</td></tr><tr><td>DLR0190</td><td>Suzuki Motors</td><td>189</td></tr><tr><td>DLR0232</td><td>2008 NRHP-listed</td><td>190</td></tr><tr><td>DLR0030</td><td>Cadillac Motors</td><td>191</td></tr><tr><td>DLR0215</td><td>Wanderer Motors</td><td>192</td></tr><tr><td>DLR0016</td><td>Auto-Union Motors</td><td>193</td></tr><tr><td>DLR0160</td><td>Premier Motors</td><td>194</td></tr><tr><td>DLR0025</td><td>Austin-Healey Motors</td><td>195</td></tr><tr><td>DLR0239</td><td>Claremore Auto Dealership</td><td>196</td></tr><tr><td>DLR0228</td><td>Deccan Motors</td><td>197</td></tr><tr><td>DLR0189</td><td>Sunbeam Motors</td><td>198</td></tr><tr><td>DLR0263</td><td>Auto-Union Motors</td><td>199</td></tr><tr><td>DLR0132</td><td>Mitsubishi Motors</td><td>200</td></tr><tr><td>DLR0244</td><td>Hupmobile Building</td><td>201</td></tr><tr><td>DLR0068</td><td>GAZ Motors</td><td>202</td></tr><tr><td>DLR0053</td><td>Eicher Polaris Motors</td><td>203</td></tr><tr><td>DLR0002</td><td>Acura Motors</td><td>204</td></tr><tr><td>DLR0194</td><td>Tesla Motors</td><td>205</td></tr><tr><td>DLR0233</td><td>Blankinship Motor Company Building</td><td>206</td></tr><tr><td>DLR0014</td><td>Audi Motors</td><td>207</td></tr><tr><td>DLR0093</td><td>Iso Motors</td><td>208</td></tr><tr><td>DLR0205</td><td>Volkswagen South Africa Motors</td><td>209</td></tr><tr><td>DLR0141</td><td>Noble Motors</td><td>210</td></tr><tr><td>DLR0140</td><td>Nissan India Motors</td><td>211</td></tr><tr><td>DLR0101</td><td>Kia Motors</td><td>212</td></tr><tr><td>DLR0234</td><td>Bohn Motor Company Automobile Dealership</td><td>213</td></tr><tr><td>DLR0235</td><td>Buick Automobile Company Building</td><td>214</td></tr><tr><td>DLR0256</td><td>Ariel Motors</td><td>215</td></tr><tr><td>DLR0004</td><td>Alfa Romeo Motors</td><td>216</td></tr><tr><td>DLR0084</td><td>Hudson Motors</td><td>217</td></tr><tr><td>DLR0133</td><td>Monica Motors</td><td>218</td></tr><tr><td>DLR0062</td><td>Ford Australia Motors</td><td>219</td></tr><tr><td>DLR0038</td><td>Cizeta-Moroder Motors</td><td>220</td></tr><tr><td>DLR0049</td><td>Dodge Motors</td><td>221</td></tr><tr><td>DLR0055</td><td>Facel Vega Motors</td><td>222</td></tr><tr><td>DLR0170</td><td>Saleen Motors</td><td>223</td></tr><tr><td>DLR0242</td><td>H Street Playhouse</td><td>224</td></tr><tr><td>DLR0243</td><td>Howard Motor Company Building</td><td>225</td></tr><tr><td>DLR0224</td><td>Standard  Motors</td><td>226</td></tr><tr><td>DLR0077</td><td>Heinkel Motors</td><td>227</td></tr><tr><td>DLR0031</td><td>Caterham Motors</td><td>228</td></tr><tr><td>DLR0127</td><td>Merkur Motors</td><td>229</td></tr><tr><td>DLR0043</td><td>Daimler Motors</td><td>230</td></tr><tr><td>DLR0168</td><td>Saab Motors</td><td>231</td></tr><tr><td>DLR0083</td><td>Honda India Motors</td><td>232</td></tr><tr><td>DLR0099</td><td>Jensen Motors</td><td>233</td></tr><tr><td>DLR0090</td><td>null</td><td>234</td></tr><tr><td>DLR0173</td><td>Santa Matilde Motors</td><td>235</td></tr><tr><td>DLR0067</td><td>FSO Motors</td><td>236</td></tr><tr><td>DLR0113</td><td>LuAZ Motors</td><td>237</td></tr><tr><td>DLR0011</td><td>Artega Motors</td><td>238</td></tr><tr><td>DLR0157</td><td>Polestar Motors</td><td>239</td></tr><tr><td>DLR0258</td><td>null</td><td>240</td></tr><tr><td>DLR0086</td><td>Hummer Motors</td><td>241</td></tr><tr><td>DLR0054</td><td>Elva Motors</td><td>242</td></tr><tr><td>DLR0178</td><td>Shelby SuperCars Motors</td><td>243</td></tr><tr><td>DLR0023</td><td>Bristol Motors</td><td>244</td></tr><tr><td>DLR0026</td><td>Austin, Rover Motors</td><td>245</td></tr><tr><td>DLR0219</td><td>MG  Motors</td><td>246</td></tr><tr><td>DLR0120</td><td>Mastretta Motors</td><td>247</td></tr><tr><td>DLR0028</td><td>Buick Motors</td><td>248</td></tr><tr><td>DLR0057</td><td>Fiat Motors</td><td>249</td></tr><tr><td>DLR0041</td><td>DAF Motors</td><td>250</td></tr><tr><td>DLR0095</td><td>Isuzu Motors</td><td>251</td></tr><tr><td>DLR0123</td><td>Mazzanti Motors</td><td>252</td></tr><tr><td>DLR0036</td><td>Chrysler Europe Motors</td><td>253</td></tr><tr><td>DLR0149</td><td>Panoz Motors</td><td>254</td></tr><tr><td>DLR0145</td><td>Opel Motors</td><td>255</td></tr><tr><td>DLR0105</td><td>Lamborghini Motors</td><td>256</td></tr><tr><td>DLR0097</td><td>Jaguar Motors</td><td>257</td></tr><tr><td>DLR0196</td><td>Toyota Motors</td><td>258</td></tr><tr><td>DLR0024</td><td>British Leyland Motors</td><td>259</td></tr><tr><td>DLR0241</td><td>Colman Automotive Building</td><td>260</td></tr><tr><td>DLR0012</td><td>Asia Motors Motors</td><td>261</td></tr><tr><td>DLR0122</td><td>Mazda Motors</td><td>262</td></tr><tr><td>DLR0060</td><td>Fisker, Karma Motors</td><td>263</td></tr><tr><td>DLR0106</td><td>Lancia Motors</td><td>264</td></tr><tr><td>DLR0158</td><td>Pontiac, Asüna Motors</td><td>265</td></tr><tr><td>DLR0015</td><td>Autobianchi Motors</td><td>266</td></tr><tr><td>DLR0081</td><td>Holden Motors</td><td>267</td></tr></tbody></table></div>"
      ]
     },
     "metadata": {
      "application/vnd.databricks.v1+output": {
       "addedWidgets": {},
       "aggData": [],
       "aggError": "",
       "aggOverflow": false,
       "aggSchema": [],
       "aggSeriesLimitReached": false,
       "aggType": "",
       "arguments": {},
       "columnCustomDisplayInfos": {},
       "data": [
        [
         "DLR0058",
         "Fiat do Brasil Motors",
         1
        ],
        [
         "DLR0107",
         "Land Rover Motors",
         2
        ],
        [
         "DLR0129",
         "Mia Motors",
         3
        ],
        [
         "DLR0111",
         "Lotus Motors",
         4
        ],
        [
         "DLR0085",
         "Humber Motors",
         5
        ],
        [
         "DLR0001",
         "AC Cars Motors",
         6
        ],
        [
         "DLR0218",
         "Lagonda  Motors",
         7
        ],
        [
         "DLR0082",
         "Honda Motors",
         8
        ],
        [
         "DLR0063",
         "Ford do Brasil Motors",
         9
        ],
        [
         "DLR0193",
         "Tazzari Motors",
         10
        ],
        [
         "DLR0134",
         "Monteverdi Motors",
         11
        ],
        [
         "DLR0199",
         "TVR Motors",
         12
        ],
        [
         "DLR0254",
         "AMC, Eagle Motors",
         13
        ],
        [
         "DLR0094",
         "Isotta Fraschini Motors",
         14
        ],
        [
         "DLR0236",
         "Cadillac Automobile Company Building",
         15
        ],
        [
         "DLR0201",
         "Vauxhall Motors",
         16
        ],
        [
         "DLR0175",
         "Saturn Motors",
         17
        ],
        [
         "DLR0226",
         "Das Motors",
         18
        ],
        [
         "DLR0207",
         "Westfield Motors",
         19
        ],
        [
         "DLR0035",
         "Chrysler Motors",
         20
        ],
        [
         "DLR0151",
         "Peel Motors",
         21
        ],
        [
         "DLR0156",
         "Plymouth Motors",
         22
        ],
        [
         "DLR0216",
         "Maybach  Motors",
         23
        ],
        [
         "DLR0259",
         "Asia Motors Motors",
         24
        ],
        [
         "DLR0037",
         "Citroën Motors",
         25
        ],
        [
         "DLR0074",
         "GTA Spano Motors",
         26
        ],
        [
         "DLR0150",
         "Panther Motors",
         27
        ],
        [
         "DLR0135",
         "Morgan Motors",
         28
        ],
        [
         "DLR0073",
         "GMC Motors",
         29
        ],
        [
         "DLR0260",
         "Aston Martin Motors",
         30
        ],
        [
         "DLR0153",
         "Peugeot Motors",
         31
        ],
        [
         "DLR0124",
         "McLaren Motors",
         32
        ],
        [
         "DLR0121",
         "Matra (including Deutsch-Bonnet, René Bonnet) Motors",
         33
        ],
        [
         "DLR0211",
         "ZIL Motors",
         34
        ],
        [
         "DLR0066",
         "Freightliner Motors",
         35
        ],
        [
         "DLR0110",
         "Lincoln Motors",
         36
        ],
        [
         "DLR0143",
         "Oldsmobile Motors",
         37
        ],
        [
         "DLR0167",
         "Rolls-Royce Motors",
         38
        ],
        [
         "DLR0048",
         "De Tomaso Motors",
         39
        ],
        [
         "DLR0008",
         "Anadol Motors",
         40
        ],
        [
         "DLR0128",
         "Messerschmitt Motors",
         41
        ],
        [
         "DLR0177",
         "Seat Motors",
         42
        ],
        [
         "DLR0181",
         "Singer Motors",
         43
        ],
        [
         "DLR0079",
         "Hillman Motors",
         44
        ],
        [
         "DLR0072",
         "Glas Motors",
         45
        ],
        [
         "DLR0248",
         "AC Cars Motors",
         46
        ],
        [
         "DLR0052",
         "e.GO Mobile Motors",
         47
        ],
        [
         "DLR0197",
         "Toyota India Motors",
         48
        ],
        [
         "DLR0080",
         "Hindustan Motors",
         49
        ],
        [
         "DLR0164",
         "Reliant Motors",
         50
        ],
        [
         "DLR0029",
         "Bytom Motors",
         51
        ],
        [
         "DLR0195",
         "Tornado Motors",
         52
        ],
        [
         "DLR0005",
         "Alpine Motors",
         53
        ],
        [
         "DLR0007",
         "AMC, Eagle Motors",
         54
        ],
        [
         "DLR0078",
         "Hennessey Motors",
         55
        ],
        [
         "DLR0247",
         "Kindel Building",
         56
        ],
        [
         "DLR0065",
         "Ford India Motors",
         57
        ],
        [
         "DLR0174",
         "Santana Motors",
         58
        ],
        [
         "DLR0022",
         "Borgward (including Goliath and Lloyd) Motors",
         59
        ],
        [
         "DLR0116",
         "Marcos Motors",
         60
        ],
        [
         "DLR0257",
         "ARO Motors",
         61
        ],
        [
         "DLR0172",
         "San Motors",
         62
        ],
        [
         "DLR0061",
         "Ford America Motors",
         63
        ],
        [
         "DLR0240",
         "Clemens Automobile Company Building",
         64
        ],
        [
         "DLR0103",
         "KTM Motors",
         65
        ],
        [
         "DLR0096",
         "Iveco Motors",
         66
        ],
        [
         "DLR0198",
         "Turner Motors",
         67
        ],
        [
         "DLR0137",
         "Nash Motors",
         68
        ],
        [
         "DLR0202",
         "Venturi Motors",
         69
        ],
        [
         "DLR0125",
         "Mercedes-Benz (including Maybach) Motors",
         70
        ],
        [
         "DLR0089",
         "Infiniti Motors",
         71
        ],
        [
         "DLR0266",
         "Bitter Motors",
         72
        ],
        [
         "DLR0148",
         "Panhard Motors",
         73
        ],
        [
         "DLR0142",
         "NSU Motors",
         74
        ],
        [
         "DLR0227",
         "Ramani Motors",
         75
        ],
        [
         "DLR0206",
         "Volvo Motors",
         76
        ],
        [
         "DLR0179",
         "Simca Motors",
         77
        ],
        [
         "DLR0059",
         "Fiat India Motors",
         78
        ],
        [
         "DLR0092",
         "Isdera Motors",
         79
        ],
        [
         "DLR0018",
         "Bentley Motors",
         80
        ],
        [
         "DLR0115",
         "Mahindra Motors",
         81
        ],
        [
         "DLR0169",
         "SAIC Motor Motors",
         82
        ],
        [
         "DLR0212",
         null,
         83
        ],
        [
         "DLR0192",
         "Tatra Motors",
         84
        ],
        [
         "DLR0186",
         "Standard-Triumph Motors",
         85
        ],
        [
         "DLR0021",
         "Bond Motors",
         86
        ],
        [
         "DLR0147",
         "Pagani Motors",
         87
        ],
        [
         "DLR0098",
         "Jeep Motors",
         88
        ],
        [
         "DLR0209",
         "Zastava Motors",
         89
        ],
        [
         "DLR0166",
         "Rivian Motors",
         90
        ],
        [
         "DLR0250",
         "Aixam-Mega (including Arola) Motors",
         91
        ],
        [
         "DLR0220",
         "Morris  Motors",
         92
        ],
        [
         "DLR0183",
         "Smart Motors",
         93
        ],
        [
         "DLR0102",
         "Koenigsegg Motors",
         94
        ],
        [
         "DLR0188",
         "Subaru Motors",
         95
        ],
        [
         "DLR0155",
         "Piaggio Motors",
         96
        ],
        [
         "DLR0050",
         "Donkervoort Motors",
         97
        ],
        [
         "DLR0252",
         "Alpine Motors",
         98
        ],
        [
         "DLR0184",
         "Spyker Motors",
         99
        ],
        [
         "DLR0267",
         "BMW Motors",
         100
        ],
        [
         "DLR0091",
         "Invicta Motors",
         101
        ],
        [
         "DLR0262",
         "Autobianchi Motors",
         102
        ],
        [
         "DLR0249",
         "Acura Motors",
         103
        ],
        [
         "DLR0208",
         "Wiesmann Motors",
         104
        ],
        [
         "DLR0114",
         "Lynx Motors",
         105
        ],
        [
         "DLR0204",
         "Volkswagen do Brasil Motors",
         106
        ],
        [
         "DLR0200",
         "UAZ Motors",
         107
        ],
        [
         "DLR0163",
         "Ranger Motors",
         108
        ],
        [
         "DLR0223",
         "Wolseley  Motors",
         109
        ],
        [
         "DLR0044",
         null,
         110
        ],
        [
         "DLR0231",
         "Atlantic Motor Company",
         111
        ],
        [
         "DLR0034",
         "Chevrolet India Motors",
         112
        ],
        [
         "DLR0126",
         "Mercury Motors",
         113
        ],
        [
         "DLR0046",
         "DeLorean Motors",
         114
        ],
        [
         "DLR0130",
         "Micro Motors",
         115
        ],
        [
         "DLR0210",
         "ZAZ Motors",
         116
        ],
        [
         "DLR0136",
         "Moskwitch Motors",
         117
        ],
        [
         "DLR0222",
         "Riley  Motors",
         118
        ],
        [
         "DLR0017",
         "Auverland Motors",
         119
        ],
        [
         "DLR0182",
         "Skoda Motors",
         120
        ],
        [
         "DLR0152",
         "Perodua Motors",
         121
        ],
        [
         "DLR0071",
         "Ginetta Motors",
         122
        ],
        [
         "DLR0161",
         "Proton Motors",
         123
        ],
        [
         "DLR0246",
         "Jones Motor Company",
         124
        ],
        [
         "DLR0020",
         "BMW Motors",
         125
        ],
        [
         "DLR0076",
         "Healey Motors",
         126
        ],
        [
         "DLR0237",
         "Casa de cadillac",
         127
        ],
        [
         "DLR0131",
         "Mini Motors",
         128
        ],
        [
         "DLR0112",
         "LTI Motors",
         129
        ],
        [
         "DLR0213",
         "DKW Motors",
         130
        ],
        [
         "DLR0040",
         "Daewoo, Saehan, Chevrolet Korea Motors",
         131
        ],
        [
         "DLR0187",
         "Studebaker Motors",
         132
        ],
        [
         "DLR0251",
         "Alfa Romeo Motors",
         133
        ],
        [
         "DLR0154",
         "PGO Motors",
         134
        ],
        [
         "DLR0119",
         "Maserati Motors",
         135
        ],
        [
         "DLR0013",
         "Aston Martin Motors",
         136
        ],
        [
         "DLR0087",
         "Hyundai Motors",
         137
        ],
        [
         "DLR0056",
         "Ferrari Motors",
         138
        ],
        [
         "DLR0033",
         "Chevrolet Motors",
         139
        ],
        [
         "DLR0042",
         "Daihatsu Motors",
         140
        ],
        [
         "DLR0229",
         "Herald Motors",
         141
        ],
        [
         "DLR0070",
         "Gilbern Motors",
         142
        ],
        [
         "DLR0191",
         "Tata Motors",
         143
        ],
        [
         "DLR0203",
         "Volkswagen Motors",
         144
        ],
        [
         "DLR0100",
         "JPX Motors",
         145
        ],
        [
         "DLR0047",
         "DeSoto Motors",
         146
        ],
        [
         "DLR0214",
         "Horch Motors",
         147
        ],
        [
         "DLR0171",
         "Samsung Motors",
         148
        ],
        [
         "DLR0045",
         "Delahaye Motors",
         149
        ],
        [
         "DLR0264",
         "Auverland Motors",
         150
        ],
        [
         "DLR0162",
         "Puma Motors",
         151
        ],
        [
         "DLR0159",
         "Porsche Motors",
         152
        ],
        [
         "DLR0146",
         "Packard Motors",
         153
        ],
        [
         "DLR0261",
         "Audi Motors",
         154
        ],
        [
         "DLR0032",
         "Checker Motors",
         155
        ],
        [
         "DLR0009",
         "Ariel Motors",
         156
        ],
        [
         "DLR0225",
         "Talbot  Motors",
         157
        ],
        [
         "DLR0221",
         "Austin  Motors",
         158
        ],
        [
         "DLR0075",
         "Gumpert Motors",
         159
        ],
        [
         "DLR0069",
         "Geo Motors",
         160
        ],
        [
         "DLR0104",
         "Lada Motors",
         161
        ],
        [
         "DLR0039",
         "Dacia Motors",
         162
        ],
        [
         "DLR0245",
         "Jennings Ford Automobile Dealership",
         163
        ],
        [
         "DLR0238",
         "Cass Motor Sales",
         164
        ],
        [
         "DLR0064",
         "Ford Europe Motors",
         165
        ],
        [
         "DLR0109",
         "Ligier Motors",
         166
        ],
        [
         "DLR0144",
         null,
         167
        ],
        [
         "DLR0176",
         "Scion Motors",
         168
        ],
        [
         "DLR0255",
         "Anadol Motors",
         169
        ],
        [
         "DLR0138",
         "Naza Motors",
         170
        ],
        [
         "DLR0003",
         "Aixam-Mega (including Arola) Motors",
         171
        ],
        [
         "DLR0265",
         "Bentley Motors",
         172
        ],
        [
         "DLR0217",
         "Izh  Motors",
         173
        ],
        [
         "DLR0185",
         "SsangYong Motors",
         174
        ],
        [
         "DLR0019",
         "Bitter Motors",
         175
        ],
        [
         "DLR0165",
         "Renault Motors",
         176
        ],
        [
         "DLR0108",
         "Lexus Motors",
         177
        ],
        [
         "DLR0117",
         "Marlin Motors",
         178
        ],
        [
         "DLR0118",
         "Maruti Motors",
         179
        ],
        [
         "DLR0027",
         "Bugatti Motors",
         180
        ],
        [
         "DLR0139",
         "Nissan Motors",
         181
        ],
        [
         "DLR0088",
         "IFA (including Trabant, Wartburg, Barkas) Motors",
         182
        ],
        [
         "DLR0051",
         "Edsel Motors",
         183
        ],
        [
         "DLR0010",
         "ARO Motors",
         184
        ],
        [
         "DLR0006",
         "Alvis Motors",
         185
        ],
        [
         "DLR0180",
         "Simca do Brasil Motors",
         186
        ],
        [
         "DLR0253",
         "Alvis Motors",
         187
        ],
        [
         "DLR0230",
         "Zion Automobils",
         188
        ],
        [
         "DLR0190",
         "Suzuki Motors",
         189
        ],
        [
         "DLR0232",
         "2008 NRHP-listed",
         190
        ],
        [
         "DLR0030",
         "Cadillac Motors",
         191
        ],
        [
         "DLR0215",
         "Wanderer Motors",
         192
        ],
        [
         "DLR0016",
         "Auto-Union Motors",
         193
        ],
        [
         "DLR0160",
         "Premier Motors",
         194
        ],
        [
         "DLR0025",
         "Austin-Healey Motors",
         195
        ],
        [
         "DLR0239",
         "Claremore Auto Dealership",
         196
        ],
        [
         "DLR0228",
         "Deccan Motors",
         197
        ],
        [
         "DLR0189",
         "Sunbeam Motors",
         198
        ],
        [
         "DLR0263",
         "Auto-Union Motors",
         199
        ],
        [
         "DLR0132",
         "Mitsubishi Motors",
         200
        ],
        [
         "DLR0244",
         "Hupmobile Building",
         201
        ],
        [
         "DLR0068",
         "GAZ Motors",
         202
        ],
        [
         "DLR0053",
         "Eicher Polaris Motors",
         203
        ],
        [
         "DLR0002",
         "Acura Motors",
         204
        ],
        [
         "DLR0194",
         "Tesla Motors",
         205
        ],
        [
         "DLR0233",
         "Blankinship Motor Company Building",
         206
        ],
        [
         "DLR0014",
         "Audi Motors",
         207
        ],
        [
         "DLR0093",
         "Iso Motors",
         208
        ],
        [
         "DLR0205",
         "Volkswagen South Africa Motors",
         209
        ],
        [
         "DLR0141",
         "Noble Motors",
         210
        ],
        [
         "DLR0140",
         "Nissan India Motors",
         211
        ],
        [
         "DLR0101",
         "Kia Motors",
         212
        ],
        [
         "DLR0234",
         "Bohn Motor Company Automobile Dealership",
         213
        ],
        [
         "DLR0235",
         "Buick Automobile Company Building",
         214
        ],
        [
         "DLR0256",
         "Ariel Motors",
         215
        ],
        [
         "DLR0004",
         "Alfa Romeo Motors",
         216
        ],
        [
         "DLR0084",
         "Hudson Motors",
         217
        ],
        [
         "DLR0133",
         "Monica Motors",
         218
        ],
        [
         "DLR0062",
         "Ford Australia Motors",
         219
        ],
        [
         "DLR0038",
         "Cizeta-Moroder Motors",
         220
        ],
        [
         "DLR0049",
         "Dodge Motors",
         221
        ],
        [
         "DLR0055",
         "Facel Vega Motors",
         222
        ],
        [
         "DLR0170",
         "Saleen Motors",
         223
        ],
        [
         "DLR0242",
         "H Street Playhouse",
         224
        ],
        [
         "DLR0243",
         "Howard Motor Company Building",
         225
        ],
        [
         "DLR0224",
         "Standard  Motors",
         226
        ],
        [
         "DLR0077",
         "Heinkel Motors",
         227
        ],
        [
         "DLR0031",
         "Caterham Motors",
         228
        ],
        [
         "DLR0127",
         "Merkur Motors",
         229
        ],
        [
         "DLR0043",
         "Daimler Motors",
         230
        ],
        [
         "DLR0168",
         "Saab Motors",
         231
        ],
        [
         "DLR0083",
         "Honda India Motors",
         232
        ],
        [
         "DLR0099",
         "Jensen Motors",
         233
        ],
        [
         "DLR0090",
         null,
         234
        ],
        [
         "DLR0173",
         "Santa Matilde Motors",
         235
        ],
        [
         "DLR0067",
         "FSO Motors",
         236
        ],
        [
         "DLR0113",
         "LuAZ Motors",
         237
        ],
        [
         "DLR0011",
         "Artega Motors",
         238
        ],
        [
         "DLR0157",
         "Polestar Motors",
         239
        ],
        [
         "DLR0258",
         null,
         240
        ],
        [
         "DLR0086",
         "Hummer Motors",
         241
        ],
        [
         "DLR0054",
         "Elva Motors",
         242
        ],
        [
         "DLR0178",
         "Shelby SuperCars Motors",
         243
        ],
        [
         "DLR0023",
         "Bristol Motors",
         244
        ],
        [
         "DLR0026",
         "Austin, Rover Motors",
         245
        ],
        [
         "DLR0219",
         "MG  Motors",
         246
        ],
        [
         "DLR0120",
         "Mastretta Motors",
         247
        ],
        [
         "DLR0028",
         "Buick Motors",
         248
        ],
        [
         "DLR0057",
         "Fiat Motors",
         249
        ],
        [
         "DLR0041",
         "DAF Motors",
         250
        ],
        [
         "DLR0095",
         "Isuzu Motors",
         251
        ],
        [
         "DLR0123",
         "Mazzanti Motors",
         252
        ],
        [
         "DLR0036",
         "Chrysler Europe Motors",
         253
        ],
        [
         "DLR0149",
         "Panoz Motors",
         254
        ],
        [
         "DLR0145",
         "Opel Motors",
         255
        ],
        [
         "DLR0105",
         "Lamborghini Motors",
         256
        ],
        [
         "DLR0097",
         "Jaguar Motors",
         257
        ],
        [
         "DLR0196",
         "Toyota Motors",
         258
        ],
        [
         "DLR0024",
         "British Leyland Motors",
         259
        ],
        [
         "DLR0241",
         "Colman Automotive Building",
         260
        ],
        [
         "DLR0012",
         "Asia Motors Motors",
         261
        ],
        [
         "DLR0122",
         "Mazda Motors",
         262
        ],
        [
         "DLR0060",
         "Fisker, Karma Motors",
         263
        ],
        [
         "DLR0106",
         "Lancia Motors",
         264
        ],
        [
         "DLR0158",
         "Pontiac, Asüna Motors",
         265
        ],
        [
         "DLR0015",
         "Autobianchi Motors",
         266
        ],
        [
         "DLR0081",
         "Holden Motors",
         267
        ]
       ],
       "datasetInfos": [],
       "dbfsResultPath": null,
       "isJsonSchema": true,
       "metadata": {
        "createTempViewForImplicitDf": true,
        "dataframeName": "_sqldf",
        "executionCount": 25
       },
       "overflow": false,
       "plotOptions": {
        "customPlotOptions": {},
        "displayType": "table",
        "pivotAggregation": null,
        "pivotColumns": null,
        "xColumns": null,
        "yColumns": null
       },
       "removedWidgets": [],
       "schema": [
        {
         "metadata": "{}",
         "name": "Dealer_ID",
         "type": "\"string\""
        },
        {
         "metadata": "{}",
         "name": "DealerName",
         "type": "\"string\""
        },
        {
         "metadata": "{}",
         "name": "dim_Dealer_Key",
         "type": "\"long\""
        }
       ],
       "type": "table"
      }
     },
     "output_type": "display_data"
    }
   ],
   "source": [
    "%sql\n",
    "SELECT * FROM cars_catalog.gold.dim_dealer"
   ]
  }
 ],
 "metadata": {
  "application/vnd.databricks.v1+notebook": {
   "computePreferences": null,
   "dashboards": [],
   "environmentMetadata": {
    "base_environment": "",
    "client": "1"
   },
   "language": "python",
   "notebookMetadata": {
    "mostRecentlyExecutedCommandWithImplicitDF": {
     "commandId": 3497488285762365,
     "dataframes": [
      "_sqldf"
     ]
    },
    "pythonIndentUnit": 4
   },
   "notebookName": "Gold _Dim_Dealer",
   "widgets": {
    "Incremental_flag": {
     "currentValue": "0",
     "nuid": "8921a822-a798-42bf-9332-d31ee2d6368f",
     "typedWidgetInfo": {
      "autoCreated": false,
      "defaultValue": "0",
      "label": null,
      "name": "Incremental_flag",
      "options": {
       "widgetDisplayType": "Text",
       "validationRegex": null
      },
      "parameterDataType": "String"
     },
     "widgetInfo": {
      "widgetType": "text",
      "defaultValue": "0",
      "label": null,
      "name": "Incremental_flag",
      "options": {
       "widgetType": "text",
       "autoCreated": null,
       "validationRegex": null
      }
     }
    }
   }
  },
  "language_info": {
   "name": "python"
  }
 },
 "nbformat": 4,
 "nbformat_minor": 0
}